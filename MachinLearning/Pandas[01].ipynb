{
 "cells": [
  {
   "cell_type": "markdown",
   "metadata": {},
   "source": [
    "### Pandas\n",
    "- Series and Dataframe\n",
    "- 분석을 위한 전처리"
   ]
  },
  {
   "cell_type": "code",
   "execution_count": 9,
   "metadata": {},
   "outputs": [],
   "source": [
    "import numpy as np\n",
    "import pandas as pd\n",
    "import matplotlib.pyplot as plt\n",
    "\n",
    "import warnings\n",
    "warnings.filterwarnings(action=\"ignore\")"
   ]
  },
  {
   "cell_type": "markdown",
   "metadata": {},
   "source": [
    "### Series 클래스\n",
    "- 넘파이 1차원 배열과 비슷\n",
    "- series = index + value"
   ]
  },
  {
   "cell_type": "code",
   "execution_count": 5,
   "metadata": {},
   "outputs": [
    {
     "name": "stdout",
     "output_type": "stream",
     "text": [
      "[1 2 3 4 'ruby']\n",
      "object\n"
     ]
    }
   ],
   "source": [
    "# numpy vector\n",
    "ary = np.array([1,2,3,4,'ruby'], dtype=np.object)\n",
    "print(ary)\n",
    "print(ary.dtype)"
   ]
  },
  {
   "cell_type": "code",
   "execution_count": 13,
   "metadata": {},
   "outputs": [
    {
     "name": "stdout",
     "output_type": "stream",
     "text": [
      "0       1\n",
      "1       2\n",
      "2       3\n",
      "3       4\n",
      "4    ruby\n",
      "dtype: object\n",
      "[1 2 3 4 'ruby']\n",
      "<class 'numpy.ndarray'>\n",
      "RangeIndex(start=0, stop=5, step=1)\n",
      "<class 'pandas.core.indexes.range.RangeIndex'>\n"
     ]
    }
   ],
   "source": [
    "# pandas series\n",
    "ary = pd.Series([1,2,3,4,'ruby'], dtype=np.object)\n",
    "print(ary)\n",
    "print(ary.values)\n",
    "print(type(ary.values))\n",
    "print(ary.index)\n",
    "print(type(ary.index))"
   ]
  },
  {
   "cell_type": "code",
   "execution_count": 21,
   "metadata": {},
   "outputs": [],
   "source": [
    "def seriesInfo(ary) :\n",
    "    print('index + value : \\n', ary)\n",
    "    print('value : ', ary.values)\n",
    "    print('value type : ', type(ary.values))\n",
    "    print('index : ', ary.index)\n",
    "    print('index type : ', type(ary.index))"
   ]
  },
  {
   "cell_type": "markdown",
   "metadata": {},
   "source": [
    "- 인덱스의 라벨은 정수, 문자, 날짜, 시간으로 변경 가능"
   ]
  },
  {
   "cell_type": "code",
   "execution_count": 22,
   "metadata": {},
   "outputs": [],
   "source": [
    "ary = pd.Series([1,2,3,4,5], dtype=np.int32, index=['강남','서초','방배','동작','사당'])"
   ]
  },
  {
   "cell_type": "code",
   "execution_count": 23,
   "metadata": {},
   "outputs": [
    {
     "name": "stdout",
     "output_type": "stream",
     "text": [
      "index + value : \n",
      " 강남    1\n",
      "서초    2\n",
      "방배    3\n",
      "동작    4\n",
      "사당    5\n",
      "dtype: int32\n",
      "value :  [1 2 3 4 5]\n",
      "value type :  <class 'numpy.ndarray'>\n",
      "index :  Index(['강남', '서초', '방배', '동작', '사당'], dtype='object')\n",
      "index type :  <class 'pandas.core.indexes.base.Index'>\n"
     ]
    }
   ],
   "source": [
    "seriesInfo(ary)"
   ]
  },
  {
   "cell_type": "code",
   "execution_count": 24,
   "metadata": {},
   "outputs": [
    {
     "name": "stdout",
     "output_type": "stream",
     "text": [
      "index + value : \n",
      " 구별\n",
      "강남    1\n",
      "서초    2\n",
      "방배    3\n",
      "동작    4\n",
      "사당    5\n",
      "dtype: int32\n",
      "value :  [1 2 3 4 5]\n",
      "value type :  <class 'numpy.ndarray'>\n",
      "index :  Index(['강남', '서초', '방배', '동작', '사당'], dtype='object', name='구별')\n",
      "index type :  <class 'pandas.core.indexes.base.Index'>\n"
     ]
    }
   ],
   "source": [
    "# head추가\n",
    "ary.index.name='구별'\n",
    "seriesInfo(ary)"
   ]
  },
  {
   "cell_type": "code",
   "execution_count": 27,
   "metadata": {},
   "outputs": [
    {
     "name": "stdout",
     "output_type": "stream",
     "text": [
      "2\n",
      "구별\n",
      "강남    1\n",
      "방배    3\n",
      "dtype: int32\n"
     ]
    }
   ],
   "source": [
    "# 두개 이상의 인덱스 [[]]\n",
    "print(ary['서초'])\n",
    "print(ary[['강남', '방배']])"
   ]
  },
  {
   "cell_type": "code",
   "execution_count": 28,
   "metadata": {},
   "outputs": [
    {
     "name": "stdout",
     "output_type": "stream",
     "text": [
      "idx : 강남, value : 1\n",
      "idx : 서초, value : 2\n",
      "idx : 방배, value : 3\n",
      "idx : 동작, value : 4\n",
      "idx : 사당, value : 5\n"
     ]
    }
   ],
   "source": [
    "# index, values 모두 가져올 때\n",
    "for idx, value in ary.items():\n",
    "    print('idx : {}, value : {}'.format(idx, value))"
   ]
  },
  {
   "cell_type": "code",
   "execution_count": 29,
   "metadata": {},
   "outputs": [
    {
     "name": "stdout",
     "output_type": "stream",
     "text": [
      "idx : 강남\n",
      "idx : 서초\n",
      "idx : 방배\n",
      "idx : 동작\n",
      "idx : 사당\n"
     ]
    }
   ],
   "source": [
    "# index만 가져올 때\n",
    "for idx in ary.keys():\n",
    "    print('idx : {}'.format(idx))"
   ]
  },
  {
   "cell_type": "code",
   "execution_count": 36,
   "metadata": {},
   "outputs": [
    {
     "name": "stdout",
     "output_type": "stream",
     "text": [
      "value : 1.0\n",
      "value : 2.0\n",
      "value : 4.0\n"
     ]
    }
   ],
   "source": [
    "# value만 가져올 때\n",
    "for value in ary.values:\n",
    "    print('value : {}'.format(value))"
   ]
  },
  {
   "cell_type": "code",
   "execution_count": 31,
   "metadata": {},
   "outputs": [
    {
     "name": "stdout",
     "output_type": "stream",
     "text": [
      "index + value : \n",
      " 0    10\n",
      "1    12\n",
      "2    14\n",
      "3    16\n",
      "4    18\n",
      "5    20\n",
      "dtype: int64\n",
      "value :  [10 12 14 16 18 20]\n",
      "value type :  <class 'numpy.ndarray'>\n",
      "index :  RangeIndex(start=0, stop=6, step=1)\n",
      "index type :  <class 'pandas.core.indexes.range.RangeIndex'>\n"
     ]
    }
   ],
   "source": [
    "ary = pd.Series(range(10, 21,2))\n",
    "seriesInfo(ary)"
   ]
  },
  {
   "cell_type": "code",
   "execution_count": 37,
   "metadata": {},
   "outputs": [
    {
     "name": "stdout",
     "output_type": "stream",
     "text": [
      "index + value : \n",
      " c     1.0\n",
      "b     5.0\n",
      "a    -8.0\n",
      "k    10.0\n",
      "dtype: float64\n",
      "value :  [ 1.  5. -8. 10.]\n",
      "value type :  <class 'numpy.ndarray'>\n",
      "index :  Index(['c', 'b', 'a', 'k'], dtype='object')\n",
      "index type :  <class 'pandas.core.indexes.base.Index'>\n"
     ]
    }
   ],
   "source": [
    "# dict형태로 series만들기\n",
    "ary = pd.Series({'c' : 1, 'b' : 5, 'a' : -8, 'k' : 10}, dtype=np.float64)\n",
    "seriesInfo(ary)"
   ]
  },
  {
   "cell_type": "code",
   "execution_count": 38,
   "metadata": {},
   "outputs": [
    {
     "data": {
      "text/plain": [
       "c     10.0\n",
       "b     50.0\n",
       "a    -80.0\n",
       "k    100.0\n",
       "dtype: float64"
      ]
     },
     "execution_count": 38,
     "metadata": {},
     "output_type": "execute_result"
    }
   ],
   "source": [
    "# 연산이 되더라도 index는 변함없음\n",
    "ary*10"
   ]
  },
  {
   "cell_type": "markdown",
   "metadata": {},
   "source": [
    "- fancy indexing & boolean indexing"
   ]
  },
  {
   "cell_type": "code",
   "execution_count": 41,
   "metadata": {},
   "outputs": [
    {
     "name": "stdout",
     "output_type": "stream",
     "text": [
      "fancy [0,2] indexing : \n",
      "c    1.0\n",
      "a   -8.0\n",
      "dtype: float64\n"
     ]
    }
   ],
   "source": [
    "print('fancy [0,2] indexing : \\n{}'.format(ary[[0,2]]))"
   ]
  },
  {
   "cell_type": "code",
   "execution_count": 46,
   "metadata": {},
   "outputs": [
    {
     "name": "stdout",
     "output_type": "stream",
     "text": [
      "boolean ary % 2 == 0 :\n",
      "a    -8.0\n",
      "k    10.0\n",
      "dtype: float64\n"
     ]
    }
   ],
   "source": [
    "# 2의 배수\n",
    "print('boolean ary % 2 == 0 :\\n{}'.format(ary[ary % 2 == 0]))"
   ]
  },
  {
   "cell_type": "markdown",
   "metadata": {},
   "source": [
    "### 시간, 날짜 불러오기"
   ]
  },
  {
   "cell_type": "code",
   "execution_count": 54,
   "metadata": {},
   "outputs": [],
   "source": [
    "from datetime import date, datetime, timedelta\n",
    "from dateutil.parser import parse"
   ]
  },
  {
   "cell_type": "code",
   "execution_count": 56,
   "metadata": {},
   "outputs": [
    {
     "name": "stdout",
     "output_type": "stream",
     "text": [
      "2020-02-25\n",
      "2020-02-26\n"
     ]
    }
   ],
   "source": [
    "strDate = date(2020,2,25)\n",
    "print(strDate)\n",
    "print(strDate + timedelta(days=1))"
   ]
  },
  {
   "cell_type": "code",
   "execution_count": 66,
   "metadata": {},
   "outputs": [
    {
     "name": "stdout",
     "output_type": "stream",
     "text": [
      "index + value : \n",
      " 2020-02-25    43\n",
      "2020-02-26    54\n",
      "2020-02-27    53\n",
      "2020-02-28    35\n",
      "2020-02-29    47\n",
      "2020-03-01    42\n",
      "2020-03-02    50\n",
      "2020-03-03    52\n",
      "2020-03-04    48\n",
      "2020-03-05    57\n",
      "dtype: int64\n",
      "value :  [43 54 53 35 47 42 50 52 48 57]\n",
      "value type :  <class 'numpy.ndarray'>\n",
      "index :  Index([2020-02-25, 2020-02-26, 2020-02-27, 2020-02-28, 2020-02-29, 2020-03-01,\n",
      "       2020-03-02, 2020-03-03, 2020-03-04, 2020-03-05],\n",
      "      dtype='object')\n",
      "index type :  <class 'pandas.core.indexes.base.Index'>\n"
     ]
    }
   ],
   "source": [
    "# 평균이 50이고 편차가 5인 정규분포 데이터를 10일간 만들기\n",
    "fac01 = pd.Series([int(x) for x in np.random.normal(50, 5, (10))], index=[strDate + timedelta(days=day) for day in range(10)])\n",
    "seriesInfo(fac01)"
   ]
  },
  {
   "cell_type": "code",
   "execution_count": 65,
   "metadata": {},
   "outputs": [
    {
     "name": "stdout",
     "output_type": "stream",
     "text": [
      "index + value : \n",
      " 2020-02-25    60\n",
      "2020-02-26    82\n",
      "2020-02-27    47\n",
      "2020-02-28    79\n",
      "2020-02-29    67\n",
      "2020-03-01    65\n",
      "2020-03-02    68\n",
      "2020-03-03    78\n",
      "2020-03-04    71\n",
      "2020-03-05    76\n",
      "dtype: int64\n",
      "value :  [60 82 47 79 67 65 68 78 71 76]\n",
      "value type :  <class 'numpy.ndarray'>\n",
      "index :  Index([2020-02-25, 2020-02-26, 2020-02-27, 2020-02-28, 2020-02-29, 2020-03-01,\n",
      "       2020-03-02, 2020-03-03, 2020-03-04, 2020-03-05],\n",
      "      dtype='object')\n",
      "index type :  <class 'pandas.core.indexes.base.Index'>\n"
     ]
    }
   ],
   "source": [
    "# 평균이 70이고 편차가 8인 정규분포 데이터를 10일간 만들기\n",
    "fac02 = pd.Series([int(x) for x in np.random.normal(70, 8, (10))], index=[strDate + timedelta(days=day) for day in range(10)])\n",
    "seriesInfo(fac02)"
   ]
  },
  {
   "cell_type": "code",
   "execution_count": 67,
   "metadata": {},
   "outputs": [
    {
     "data": {
      "text/plain": [
       "2020-02-25    103\n",
       "2020-02-26    136\n",
       "2020-02-27    100\n",
       "2020-02-28    114\n",
       "2020-02-29    114\n",
       "2020-03-01    107\n",
       "2020-03-02    118\n",
       "2020-03-03    130\n",
       "2020-03-04    119\n",
       "2020-03-05    133\n",
       "dtype: int64"
      ]
     },
     "execution_count": 67,
     "metadata": {},
     "output_type": "execute_result"
    }
   ],
   "source": [
    "fac01 + fac02"
   ]
  },
  {
   "cell_type": "code",
   "execution_count": 70,
   "metadata": {},
   "outputs": [
    {
     "name": "stdout",
     "output_type": "stream",
     "text": [
      "{datetime.date(2020, 2, 26), datetime.date(2020, 3, 4), datetime.date(2020, 2, 25), datetime.date(2020, 3, 5), datetime.date(2020, 2, 29), datetime.date(2020, 3, 2), datetime.date(2020, 2, 28), datetime.date(2020, 2, 27), datetime.date(2020, 3, 3), datetime.date(2020, 3, 1)}\n",
      "[datetime.date(2020, 2, 25), datetime.date(2020, 2, 26), datetime.date(2020, 2, 27), datetime.date(2020, 2, 28), datetime.date(2020, 2, 29), datetime.date(2020, 3, 1), datetime.date(2020, 3, 2), datetime.date(2020, 3, 3), datetime.date(2020, 3, 4), datetime.date(2020, 3, 5)]\n"
     ]
    }
   ],
   "source": [
    "# casting\n",
    "print(set(fac01.index))\n",
    "print(list(fac01.index))"
   ]
  },
  {
   "cell_type": "code",
   "execution_count": 71,
   "metadata": {},
   "outputs": [
    {
     "name": "stdout",
     "output_type": "stream",
     "text": [
      "2020-02-25\n",
      "2020-02-26\n",
      "2020-02-27\n",
      "2020-02-28\n",
      "2020-02-29\n",
      "2020-03-01\n",
      "2020-03-02\n",
      "2020-03-03\n",
      "2020-03-04\n",
      "2020-03-05\n"
     ]
    }
   ],
   "source": [
    "for idx in fac01.index :\n",
    "    print(idx)"
   ]
  },
  {
   "cell_type": "markdown",
   "metadata": {},
   "source": [
    "- Dataframe"
   ]
  },
  {
   "cell_type": "code",
   "execution_count": null,
   "metadata": {},
   "outputs": [],
   "source": [
    "# 영화진흥위원회에서 제공되는 일일 Box office 순위\n",
    "movie_url = \"http://www.kobis.or.kr/kobisopenapi/webservice/rest/boxoffice/searchDailyBoxOfficeList.json?key=430156241533f1d058c603178cc3ca0e&targetDt=20210225\""
   ]
  },
  {
   "cell_type": "code",
   "execution_count": null,
   "metadata": {},
   "outputs": [],
   "source": []
  },
  {
   "cell_type": "code",
   "execution_count": null,
   "metadata": {},
   "outputs": [],
   "source": []
  },
  {
   "cell_type": "code",
   "execution_count": null,
   "metadata": {},
   "outputs": [],
   "source": []
  },
  {
   "cell_type": "code",
   "execution_count": null,
   "metadata": {},
   "outputs": [],
   "source": []
  }
 ],
 "metadata": {
  "kernelspec": {
   "display_name": "Python 3",
   "language": "python",
   "name": "python3"
  },
  "language_info": {
   "codemirror_mode": {
    "name": "ipython",
    "version": 3
   },
   "file_extension": ".py",
   "mimetype": "text/x-python",
   "name": "python",
   "nbconvert_exporter": "python",
   "pygments_lexer": "ipython3",
   "version": "3.8.5"
  }
 },
 "nbformat": 4,
 "nbformat_minor": 4
}
