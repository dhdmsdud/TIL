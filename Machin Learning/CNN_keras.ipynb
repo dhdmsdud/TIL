{
  "nbformat": 4,
  "nbformat_minor": 0,
  "metadata": {
    "colab": {
      "name": "CNN_keras.ipynb",
      "provenance": [],
      "authorship_tag": "ABX9TyNPCKeVUr8k+kGj3Felhl+e",
      "include_colab_link": true
    },
    "kernelspec": {
      "name": "python3",
      "display_name": "Python 3"
    },
    "language_info": {
      "name": "python"
    },
    "accelerator": "GPU"
  },
  "cells": [
    {
      "cell_type": "markdown",
      "metadata": {
        "id": "view-in-github",
        "colab_type": "text"
      },
      "source": [
        "<a href=\"https://colab.research.google.com/github/dhdmsdud/TIL/blob/master/CNN_keras.ipynb\" target=\"_parent\"><img src=\"https://colab.research.google.com/assets/colab-badge.svg\" alt=\"Open In Colab\"/></a>"
      ]
    },
    {
      "cell_type": "code",
      "metadata": {
        "id": "2fOzwqUa_xxN"
      },
      "source": [
        "from tensorflow.keras.models     import Sequential, Model\n",
        "from tensorflow.keras.layers     import Activation , Dense , BatchNormalization , Dropout ,Flatten, Conv2D, MaxPooling2D , AveragePooling2D , GlobalMaxPooling2D , ZeroPadding2D , Input\n",
        "from tensorflow.keras.optimizers import SGD , Adam , RMSprop\n",
        "from tensorflow.keras.utils      import plot_model , to_categorical\n",
        "from tensorflow.keras.callbacks  import EarlyStopping , ModelCheckpoint\n",
        "\n",
        "from tensorflow.keras.wrappers.scikit_learn import KerasClassifier\n",
        "\n",
        "\n",
        "from sklearn.model_selection     import train_test_split\n",
        "from sklearn.preprocessing       import StandardScaler , MinMaxScaler , LabelEncoder\n",
        "from sklearn.model_selection     import KFold\n",
        "from sklearn.ensemble            import VotingClassifier\n",
        "from sklearn.metrics             import accuracy_score\n",
        "\n",
        "\n",
        "\n",
        "import matplotlib.pyplot as plt\n",
        "\n",
        "import pandas  as pd\n",
        "import numpy   as np\n",
        "import seaborn as sns\n",
        "\n",
        "\n",
        "# dataset\n",
        "from tensorflow.keras.datasets   import cifar10 , mnist\n",
        "\n",
        "# from tensorflow.keras.datasets.mnist import load_data\n",
        "# from tensorflow.keras.datasets.fashion_mnist import load_data\n",
        "# from sklearn.datasets            import load_breast_cancer\n",
        "\n",
        "from sklearn.datasets            import load_digits\n"
      ],
      "execution_count": 1,
      "outputs": []
    },
    {
      "cell_type": "markdown",
      "metadata": {
        "id": "OidmEmUG4R_d"
      },
      "source": [
        "### CNN(Convolutional Neural Networks) : 합성곱 신경망\n",
        "- 픽셀로 이루어진 이미지(R,G,B) --> 3개의 채널로 만들어진 3차원\n",
        "- 0으로 가까워지면 흰색, 255로 가까워지면 검은색"
      ]
    },
    {
      "cell_type": "markdown",
      "metadata": {
        "id": "tbZl1CdBCU1p"
      },
      "source": [
        "### CIFAR10"
      ]
    },
    {
      "cell_type": "code",
      "metadata": {
        "colab": {
          "base_uri": "https://localhost:8080/"
        },
        "id": "2AR0ttOt_uzB",
        "outputId": "a4a947c5-390a-41aa-dc75-55b98d2d7f76"
      },
      "source": [
        "(X_train, y_train), (X_test, y_test) = cifar10.load_data()"
      ],
      "execution_count": 2,
      "outputs": [
        {
          "output_type": "stream",
          "text": [
            "Downloading data from https://www.cs.toronto.edu/~kriz/cifar-10-python.tar.gz\n",
            "170500096/170498071 [==============================] - 2s 0us/step\n"
          ],
          "name": "stdout"
        }
      ]
    },
    {
      "cell_type": "code",
      "metadata": {
        "id": "5INmEjbe_Y9r",
        "colab": {
          "base_uri": "https://localhost:8080/"
        },
        "outputId": "ecf36da7-e90d-4f64-f29c-f5772a3e2089"
      },
      "source": [
        "X_train.shape, y_train.shape, X_test.shape, y_test.shape"
      ],
      "execution_count": 3,
      "outputs": [
        {
          "output_type": "execute_result",
          "data": {
            "text/plain": [
              "((50000, 32, 32, 3), (50000, 1), (10000, 32, 32, 3), (10000, 1))"
            ]
          },
          "metadata": {
            "tags": []
          },
          "execution_count": 3
        }
      ]
    },
    {
      "cell_type": "code",
      "metadata": {
        "colab": {
          "base_uri": "https://localhost:8080/"
        },
        "id": "EJ3IwD38BT6i",
        "outputId": "b14f60c4-2de3-417f-af9d-8dd1cb08f14f"
      },
      "source": [
        "X_train[0]"
      ],
      "execution_count": 4,
      "outputs": [
        {
          "output_type": "execute_result",
          "data": {
            "text/plain": [
              "array([[[ 59,  62,  63],\n",
              "        [ 43,  46,  45],\n",
              "        [ 50,  48,  43],\n",
              "        ...,\n",
              "        [158, 132, 108],\n",
              "        [152, 125, 102],\n",
              "        [148, 124, 103]],\n",
              "\n",
              "       [[ 16,  20,  20],\n",
              "        [  0,   0,   0],\n",
              "        [ 18,   8,   0],\n",
              "        ...,\n",
              "        [123,  88,  55],\n",
              "        [119,  83,  50],\n",
              "        [122,  87,  57]],\n",
              "\n",
              "       [[ 25,  24,  21],\n",
              "        [ 16,   7,   0],\n",
              "        [ 49,  27,   8],\n",
              "        ...,\n",
              "        [118,  84,  50],\n",
              "        [120,  84,  50],\n",
              "        [109,  73,  42]],\n",
              "\n",
              "       ...,\n",
              "\n",
              "       [[208, 170,  96],\n",
              "        [201, 153,  34],\n",
              "        [198, 161,  26],\n",
              "        ...,\n",
              "        [160, 133,  70],\n",
              "        [ 56,  31,   7],\n",
              "        [ 53,  34,  20]],\n",
              "\n",
              "       [[180, 139,  96],\n",
              "        [173, 123,  42],\n",
              "        [186, 144,  30],\n",
              "        ...,\n",
              "        [184, 148,  94],\n",
              "        [ 97,  62,  34],\n",
              "        [ 83,  53,  34]],\n",
              "\n",
              "       [[177, 144, 116],\n",
              "        [168, 129,  94],\n",
              "        [179, 142,  87],\n",
              "        ...,\n",
              "        [216, 184, 140],\n",
              "        [151, 118,  84],\n",
              "        [123,  92,  72]]], dtype=uint8)"
            ]
          },
          "metadata": {
            "tags": []
          },
          "execution_count": 4
        }
      ]
    },
    {
      "cell_type": "code",
      "metadata": {
        "colab": {
          "base_uri": "https://localhost:8080/"
        },
        "id": "67fKOsOhBcJ5",
        "outputId": "117edf33-997d-463c-c9c2-04b29990452b"
      },
      "source": [
        "y_train[0]"
      ],
      "execution_count": 5,
      "outputs": [
        {
          "output_type": "execute_result",
          "data": {
            "text/plain": [
              "array([6], dtype=uint8)"
            ]
          },
          "metadata": {
            "tags": []
          },
          "execution_count": 5
        }
      ]
    },
    {
      "cell_type": "code",
      "metadata": {
        "colab": {
          "base_uri": "https://localhost:8080/",
          "height": 593
        },
        "id": "JQBUXfydBkNp",
        "outputId": "a6978a98-7088-481c-fcf4-80e26f4bddfe"
      },
      "source": [
        "fig = plt.figure(figsize=(10, 10))\n",
        "for i in range(9) :\n",
        "    fig.add_subplot(3, 3, i+1)\n",
        "    plt.imshow(X_train[i])"
      ],
      "execution_count": 6,
      "outputs": [
        {
          "output_type": "display_data",
          "data": {
            "image/png": "[encoded data removed]",
            "text/plain": [
              "<Figure size 720x720 with 9 Axes>"
            ]
          },
          "metadata": {
            "tags": [],
            "needs_background": "light"
          }
        }
      ]
    },
    {
      "cell_type": "markdown",
      "metadata": {
        "id": "MwH5Y27oCLAk"
      },
      "source": [
        "### MNIST"
      ]
    },
    {
      "cell_type": "code",
      "metadata": {
        "colab": {
          "base_uri": "https://localhost:8080/"
        },
        "id": "6Q-_WucPB6wY",
        "outputId": "75e6cba6-c7ec-4789-fe43-a9bfb1c5b733"
      },
      "source": [
        "(X_train, y_train), (X_test, y_test) = mnist.load_data()"
      ],
      "execution_count": 7,
      "outputs": [
        {
          "output_type": "stream",
          "text": [
            "Downloading data from https://storage.googleapis.com/tensorflow/tf-keras-datasets/mnist.npz\n",
            "11493376/11490434 [==============================] - 0s 0us/step\n"
          ],
          "name": "stdout"
        }
      ]
    },
    {
      "cell_type": "code",
      "metadata": {
        "colab": {
          "base_uri": "https://localhost:8080/"
        },
        "id": "r4CoCSCOCGwj",
        "outputId": "edd31456-7dd6-4b58-ca60-5b624f7787e9"
      },
      "source": [
        "X_train.shape, y_train.shape, X_test.shape, y_test.shape"
      ],
      "execution_count": 8,
      "outputs": [
        {
          "output_type": "execute_result",
          "data": {
            "text/plain": [
              "((60000, 28, 28), (60000,), (10000, 28, 28), (10000,))"
            ]
          },
          "metadata": {
            "tags": []
          },
          "execution_count": 8
        }
      ]
    },
    {
      "cell_type": "code",
      "metadata": {
        "colab": {
          "base_uri": "https://localhost:8080/",
          "height": 593
        },
        "id": "P5rwMifTCIwv",
        "outputId": "14e69d0b-4c5e-40d5-d1c5-35f60a5d72bb"
      },
      "source": [
        "fig = plt.figure(figsize=(10, 10))\n",
        "for i in range(9) :\n",
        "    fig.add_subplot(3, 3, i+1)\n",
        "    plt.imshow(X_train[i])"
      ],
      "execution_count": 9,
      "outputs": [
        {
          "output_type": "display_data",
          "data": {
            "image/png": "[encoded data removed]",
            "text/plain": [
              "<Figure size 720x720 with 9 Axes>"
            ]
          },
          "metadata": {
            "tags": [],
            "needs_background": "light"
          }
        }
      ]
    },
    {
      "cell_type": "code",
      "metadata": {
        "colab": {
          "base_uri": "https://localhost:8080/"
        },
        "id": "V9mf6Xq0M32v",
        "outputId": "2c97fc44-60c9-4808-aff0-92417a3d993a"
      },
      "source": [
        "# Conv2D(input_shape, filters, kernel_size, strides, padding) --> input\n",
        "# padding = 'valid' : 출력이미지 < 입력이미지(유효한 영역만 리턴)\n",
        "# padding = 'same'  : 출력이미지 = 입력이미지\n",
        "\n",
        "model = Sequential()\n",
        "\n",
        "# 커널, 필터\n",
        "model.add(Conv2D(input_shape=(10, 10, 3), filters=10, kernel_size=(3, 3), strides=(1, 1), padding='valid', activation='relu'))\n",
        "# model.add(Conv2D(input_shape=(10, 10, 3), filters=10, kernel_size=(3, 3), strides=(1, 1), padding='same', activation='relu'))\n",
        "print(model.output_shape)\n",
        "\n",
        "# 풀링\n",
        "# model.add(MaxPooling2D(pool_size=(2, 2), strides=(1, 1), padding='valid'))\n",
        "model.add(AveragePooling2D(pool_size=(2, 2), padding='valid'))\n",
        "print(model.output_shape)\n",
        "\n",
        "# Flatten\n",
        "model.add(Flatten())\n",
        "print(model.output_shape)\n",
        "\n",
        "# Fully connected\n",
        "model.add(Dense(50))\n",
        "print(model.output_shape)"
      ],
      "execution_count": 10,
      "outputs": [
        {
          "output_type": "stream",
          "text": [
            "(None, 8, 8, 10)\n",
            "(None, 4, 4, 10)\n",
            "(None, 160)\n",
            "(None, 50)\n"
          ],
          "name": "stdout"
        }
      ]
    },
    {
      "cell_type": "code",
      "metadata": {
        "colab": {
          "base_uri": "https://localhost:8080/"
        },
        "id": "g1yPzvbfFeU1",
        "outputId": "741eab7d-9d4f-47da-8956-40a0fe48e26e"
      },
      "source": [
        "# 커널, 필터를 함수형으로 바꿔보기\n",
        "input_layer   = Input(shape=(10, 10, 3))\n",
        "padding_layer = Conv2D(filters=10, kernel_size=(3, 3), strides=(1, 1), padding='valid')(input_layer)\n",
        "\n",
        "model = Model(inputs=input_layer, outputs=padding_layer)\n",
        "model.output.shape"
      ],
      "execution_count": 11,
      "outputs": [
        {
          "output_type": "execute_result",
          "data": {
            "text/plain": [
              "TensorShape([None, 8, 8, 10])"
            ]
          },
          "metadata": {
            "tags": []
          },
          "execution_count": 11
        }
      ]
    },
    {
      "cell_type": "markdown",
      "metadata": {
        "id": "cNSnHjHrGuv0"
      },
      "source": [
        "### Digit image (8 * 8)"
      ]
    },
    {
      "cell_type": "code",
      "metadata": {
        "colab": {
          "base_uri": "https://localhost:8080/"
        },
        "id": "cp0AE61rOccd",
        "outputId": "f4a2cb88-e573-4987-8ee2-f8775ea1aba4"
      },
      "source": [
        "data = load_digits()\n",
        "data.keys()"
      ],
      "execution_count": 42,
      "outputs": [
        {
          "output_type": "execute_result",
          "data": {
            "text/plain": [
              "dict_keys(['data', 'target', 'target_names', 'images', 'DESCR'])"
            ]
          },
          "metadata": {
            "tags": []
          },
          "execution_count": 42
        }
      ]
    },
    {
      "cell_type": "code",
      "metadata": {
        "colab": {
          "base_uri": "https://localhost:8080/",
          "height": 282
        },
        "id": "uR_pbEqtOfZS",
        "outputId": "91ff2d58-1034-4cd4-f678-30c5dabd1d62"
      },
      "source": [
        "plt.imshow(data.images[0])\n",
        "print('label --> ', data.target[0])"
      ],
      "execution_count": 43,
      "outputs": [
        {
          "output_type": "stream",
          "text": [
            "label -->  0\n"
          ],
          "name": "stdout"
        },
        {
          "output_type": "display_data",
          "data": {
            "image/png": "[encoded data removed]",
            "text/plain": [
              "<Figure size 432x288 with 1 Axes>"
            ]
          },
          "metadata": {
            "tags": [],
            "needs_background": "light"
          }
        }
      ]
    },
    {
      "cell_type": "code",
      "metadata": {
        "id": "bFyBzIM2OrOK"
      },
      "source": [
        "X_data = data.images\n",
        "y_data = data.target"
      ],
      "execution_count": 44,
      "outputs": []
    },
    {
      "cell_type": "code",
      "metadata": {
        "colab": {
          "base_uri": "https://localhost:8080/"
        },
        "id": "nFUDYsJZPREy",
        "outputId": "da9a1c4b-d2db-493f-b175-503da362d37f"
      },
      "source": [
        "X_data.shape, y_data.shape"
      ],
      "execution_count": 45,
      "outputs": [
        {
          "output_type": "execute_result",
          "data": {
            "text/plain": [
              "((1797, 8, 8), (1797,))"
            ]
          },
          "metadata": {
            "tags": []
          },
          "execution_count": 45
        }
      ]
    },
    {
      "cell_type": "code",
      "metadata": {
        "colab": {
          "base_uri": "https://localhost:8080/"
        },
        "id": "pll0zLkZPZRB",
        "outputId": "4f0cba10-85c0-4466-f549-0d7848acf0cd"
      },
      "source": [
        "X_data.shape[0], X_data.shape[1], X_data.shape[2]"
      ],
      "execution_count": 46,
      "outputs": [
        {
          "output_type": "execute_result",
          "data": {
            "text/plain": [
              "(1797, 8, 8)"
            ]
          },
          "metadata": {
            "tags": []
          },
          "execution_count": 46
        }
      ]
    },
    {
      "cell_type": "code",
      "metadata": {
        "colab": {
          "base_uri": "https://localhost:8080/"
        },
        "id": "U2-ZgQlzQC3T",
        "outputId": "8211b2be-8bdd-4611-c90c-a46b768c12fc"
      },
      "source": [
        "# 차원이 안나오므로 reshape --> 흑백 : 1, 컬러 : 3\n",
        "X_data = X_data.reshape(X_data.shape[0], X_data.shape[1], X_data.shape[2], 1)\n",
        "X_data.shape"
      ],
      "execution_count": 47,
      "outputs": [
        {
          "output_type": "execute_result",
          "data": {
            "text/plain": [
              "(1797, 8, 8, 1)"
            ]
          },
          "metadata": {
            "tags": []
          },
          "execution_count": 47
        }
      ]
    },
    {
      "cell_type": "code",
      "metadata": {
        "colab": {
          "base_uri": "https://localhost:8080/"
        },
        "id": "sPWtOh2lQaCE",
        "outputId": "1bc754fd-ffe3-4b61-b347-718232190a7f"
      },
      "source": [
        " y_data = to_categorical(y_data)\n",
        " y_data[0]"
      ],
      "execution_count": 48,
      "outputs": [
        {
          "output_type": "execute_result",
          "data": {
            "text/plain": [
              "array([1., 0., 0., 0., 0., 0., 0., 0., 0., 0.], dtype=float32)"
            ]
          },
          "metadata": {
            "tags": []
          },
          "execution_count": 48
        }
      ]
    },
    {
      "cell_type": "code",
      "metadata": {
        "id": "nlXM2aZPQmRN"
      },
      "source": [
        "X_train, X_test, y_train, y_test = train_test_split(X_data, y_data, test_size=.2, random_state=7)"
      ],
      "execution_count": 49,
      "outputs": []
    },
    {
      "cell_type": "code",
      "metadata": {
        "colab": {
          "base_uri": "https://localhost:8080/"
        },
        "id": "SYKFyVOrRAhx",
        "outputId": "bb96e132-e136-4b02-a280-2daa501b4a0a"
      },
      "source": [
        "X_train.shape, X_test.shape, y_train.shape, y_test.shape"
      ],
      "execution_count": 50,
      "outputs": [
        {
          "output_type": "execute_result",
          "data": {
            "text/plain": [
              "((1437, 8, 8, 1), (360, 8, 8, 1), (1437, 10), (360, 10))"
            ]
          },
          "metadata": {
            "tags": []
          },
          "execution_count": 50
        }
      ]
    },
    {
      "cell_type": "code",
      "metadata": {
        "id": "0FiRJMldRIv2"
      },
      "source": [
        "# 모델 만들기\n",
        "model = Sequential()"
      ],
      "execution_count": 51,
      "outputs": []
    },
    {
      "cell_type": "code",
      "metadata": {
        "id": "hioaDIM-Rb8t"
      },
      "source": [
        "# 합성곱 레이어 만들기\n",
        "model.add(Conv2D(input_shape=(X_train.shape[1], X_data.shape[2], X_data.shape[3]), filters=10, kernel_size=(3, 3), strides=(1, 1), padding='valid', activation='relu'))"
      ],
      "execution_count": 52,
      "outputs": []
    },
    {
      "cell_type": "code",
      "metadata": {
        "id": "ZvjJPadUSD-G"
      },
      "source": [
        "# 풀링 만들기\n",
        "model.add(MaxPooling2D(pool_size=(2, 2), padding='valid'))"
      ],
      "execution_count": 53,
      "outputs": []
    },
    {
      "cell_type": "code",
      "metadata": {
        "id": "BYeP0_UXSRwY"
      },
      "source": [
        "# Flatten\n",
        "model.add(Flatten())\n",
        "\n",
        "# Fully connected\n",
        "model.add(Dense(50, activation='relu'))\n",
        "model.add(Dense(10, activation='softmax'))"
      ],
      "execution_count": 54,
      "outputs": []
    },
    {
      "cell_type": "code",
      "metadata": {
        "colab": {
          "base_uri": "https://localhost:8080/"
        },
        "id": "iKf1rHW_S4MY",
        "outputId": "4e368302-6add-46fa-f156-cd11d0091af5"
      },
      "source": [
        "model.summary()"
      ],
      "execution_count": 55,
      "outputs": [
        {
          "output_type": "stream",
          "text": [
            "Model: \"sequential_5\"\n",
            "_________________________________________________________________\n",
            "Layer (type)                 Output Shape              Param #   \n",
            "=================================================================\n",
            "conv2d_11 (Conv2D)           (None, 6, 6, 10)          100       \n",
            "_________________________________________________________________\n",
            "max_pooling2d_5 (MaxPooling2 (None, 3, 3, 10)          0         \n",
            "_________________________________________________________________\n",
            "flatten_5 (Flatten)          (None, 90)                0         \n",
            "_________________________________________________________________\n",
            "dense_9 (Dense)              (None, 50)                4550      \n",
            "_________________________________________________________________\n",
            "dense_10 (Dense)             (None, 10)                510       \n",
            "=================================================================\n",
            "Total params: 5,160\n",
            "Trainable params: 5,160\n",
            "Non-trainable params: 0\n",
            "_________________________________________________________________\n"
          ],
          "name": "stdout"
        }
      ]
    },
    {
      "cell_type": "code",
      "metadata": {
        "id": "ubwwcxe0S7gR"
      },
      "source": [
        "# compile\n",
        "adam = Adam(lr = 0.001)\n",
        "model.compile(loss='categorical_crossentropy', optimizer=adam, metrics=['accuracy'])"
      ],
      "execution_count": 56,
      "outputs": []
    },
    {
      "cell_type": "code",
      "metadata": {
        "id": "NO0jHDoQTfij"
      },
      "source": [
        "history = model.fit(X_train, y_train, batch_size=50, validation_split=0.2, epochs=100, verbose=0)"
      ],
      "execution_count": 57,
      "outputs": []
    },
    {
      "cell_type": "code",
      "metadata": {
        "colab": {
          "base_uri": "https://localhost:8080/",
          "height": 265
        },
        "id": "YwCHzJT7TwQz",
        "outputId": "8e3cbd76-72cc-4216-9605-b8cfabb9a969"
      },
      "source": [
        "plt.plot(history.history['accuracy'])\n",
        "plt.plot(history.history['val_accuracy'])\n",
        "plt.legend(['training', 'validation'], loc='best')\n",
        "plt.show()"
      ],
      "execution_count": 58,
      "outputs": [
        {
          "output_type": "display_data",
          "data": {
            "image/png": "[encoded data removed]",
            "text/plain": [
              "<Figure size 432x288 with 1 Axes>"
            ]
          },
          "metadata": {
            "tags": [],
            "needs_background": "light"
          }
        }
      ]
    },
    {
      "cell_type": "code",
      "metadata": {
        "colab": {
          "base_uri": "https://localhost:8080/"
        },
        "id": "KIZSvDjaUOsM",
        "outputId": "6e42864f-a8d5-4d7c-c5b5-b767752f93c3"
      },
      "source": [
        "result = model.evaluate(X_test, y_test)\n",
        "print('Test accuracy : ', result[1])"
      ],
      "execution_count": 59,
      "outputs": [
        {
          "output_type": "stream",
          "text": [
            "12/12 [==============================] - 0s 2ms/step - loss: 0.0955 - accuracy: 0.9694\n",
            "Test accuracy :  0.9694444537162781\n"
          ],
          "name": "stdout"
        }
      ]
    },
    {
      "cell_type": "markdown",
      "metadata": {
        "id": "IjZyP0-OUUQE"
      },
      "source": [
        "### Deep CNN"
      ]
    },
    {
      "cell_type": "code",
      "metadata": {
        "id": "XkRTAGL8n0XV"
      },
      "source": [
        "def deep_cnn() :\n",
        "    model = Sequential()\n",
        "\n",
        "    model.add(Conv2D(input_shape=(X_train.shape[1], X_data.shape[2], X_data.shape[3]), filters=50, kernel_size=(3, 3), strides=(1, 1), padding='same', activation='relu'))\n",
        "    model.add(Conv2D(filters=50, kernel_size=(3, 3), strides=(1, 1), padding='same', activation='relu'))\n",
        "    model.add(Conv2D(filters=50, kernel_size=(3, 3), strides=(1, 1), padding='same', activation='relu'))\n",
        "    model.add(Conv2D(filters=50, kernel_size=(3, 3), strides=(1, 1), padding='same', activation='relu'))\n",
        "\n",
        "    model.add(MaxPooling2D(pool_size=(2, 2), padding='same'))\n",
        "\n",
        "    model.add(Conv2D(filters=50, kernel_size=(3, 3), strides=(1, 1), padding='same', activation='relu'))\n",
        "    model.add(Conv2D(filters=50, kernel_size=(3, 3), strides=(1, 1), padding='same', activation='relu'))\n",
        "\n",
        "    model.add(MaxPooling2D(pool_size=(2, 2), padding='same'))\n",
        "\n",
        "    model.add(Flatten())\n",
        "\n",
        "    model.add(Dense(50, activation='relu'))\n",
        "    model.add(Dense(10, activation='softmax'))\n",
        "\n",
        "    adam = Adam(lr = 0.001)\n",
        "    model.compile(loss='categorical_crossentropy', optimizer=adam, metrics=['accuracy'])\n",
        "\n",
        "    return model"
      ],
      "execution_count": 35,
      "outputs": []
    },
    {
      "cell_type": "code",
      "metadata": {
        "colab": {
          "base_uri": "https://localhost:8080/"
        },
        "id": "VjSnDcyxofTh",
        "outputId": "91b63dd6-05bc-4894-c357-76ed433e5f77"
      },
      "source": [
        "model = deep_cnn()\n",
        "model.summary()"
      ],
      "execution_count": 36,
      "outputs": [
        {
          "output_type": "stream",
          "text": [
            "Model: \"sequential_4\"\n",
            "_________________________________________________________________\n",
            "Layer (type)                 Output Shape              Param #   \n",
            "=================================================================\n",
            "conv2d_5 (Conv2D)            (None, 8, 8, 50)          500       \n",
            "_________________________________________________________________\n",
            "conv2d_6 (Conv2D)            (None, 8, 8, 50)          22550     \n",
            "_________________________________________________________________\n",
            "conv2d_7 (Conv2D)            (None, 8, 8, 50)          22550     \n",
            "_________________________________________________________________\n",
            "conv2d_8 (Conv2D)            (None, 8, 8, 50)          22550     \n",
            "_________________________________________________________________\n",
            "max_pooling2d_3 (MaxPooling2 (None, 4, 4, 50)          0         \n",
            "_________________________________________________________________\n",
            "conv2d_9 (Conv2D)            (None, 4, 4, 50)          22550     \n",
            "_________________________________________________________________\n",
            "conv2d_10 (Conv2D)           (None, 4, 4, 50)          22550     \n",
            "_________________________________________________________________\n",
            "max_pooling2d_4 (MaxPooling2 (None, 2, 2, 50)          0         \n",
            "_________________________________________________________________\n",
            "flatten_4 (Flatten)          (None, 200)               0         \n",
            "_________________________________________________________________\n",
            "dense_7 (Dense)              (None, 50)                10050     \n",
            "_________________________________________________________________\n",
            "dense_8 (Dense)              (None, 10)                510       \n",
            "=================================================================\n",
            "Total params: 123,810\n",
            "Trainable params: 123,810\n",
            "Non-trainable params: 0\n",
            "_________________________________________________________________\n"
          ],
          "name": "stdout"
        }
      ]
    },
    {
      "cell_type": "code",
      "metadata": {
        "id": "AbTRopCook9t"
      },
      "source": [
        "history = model.fit(X_train, y_train, batch_size=50, validation_split=0.2, epochs=100, verbose=0)"
      ],
      "execution_count": 37,
      "outputs": []
    },
    {
      "cell_type": "code",
      "metadata": {
        "colab": {
          "base_uri": "https://localhost:8080/",
          "height": 265
        },
        "id": "Nym7TNBQozKd",
        "outputId": "66154ffc-7fe4-49c6-9574-3dcd690fbec9"
      },
      "source": [
        "plt.plot(history.history['accuracy'])\n",
        "plt.plot(history.history['val_accuracy'])\n",
        "plt.legend(['training', 'validation'], loc='best')\n",
        "plt.show()"
      ],
      "execution_count": 38,
      "outputs": [
        {
          "output_type": "display_data",
          "data": {
            "image/png": "[encoded data removed]",
            "text/plain": [
              "<Figure size 432x288 with 1 Axes>"
            ]
          },
          "metadata": {
            "tags": [],
            "needs_background": "light"
          }
        }
      ]
    },
    {
      "cell_type": "code",
      "metadata": {
        "colab": {
          "base_uri": "https://localhost:8080/"
        },
        "id": "cS7R739io4Cw",
        "outputId": "3bcb565e-9c49-4ecb-bff2-2020dc9c73a6"
      },
      "source": [
        "result = model.evaluate(X_test, y_test)\n",
        "print('Test accuracy : ', result[1])"
      ],
      "execution_count": 40,
      "outputs": [
        {
          "output_type": "stream",
          "text": [
            "12/12 [==============================] - 0s 7ms/step - loss: 0.0718 - accuracy: 0.9833\n",
            "Test accuracy :  0.9833333492279053\n"
          ],
          "name": "stdout"
        }
      ]
    },
    {
      "cell_type": "code",
      "metadata": {
        "id": "iJYPOGwIqK66"
      },
      "source": [
        "def improve_deep_cnn() :\n",
        "    model = Sequential()\n",
        "\n",
        "    model.add(Conv2D(input_shape=(X_train.shape[1], X_data.shape[2], X_data.shape[3]), filters=50, kernel_size=(3, 3), strides=(1, 1), padding='same'))\n",
        "    model.add(BatchNormalization())\n",
        "    model.add(Activation('relu'))\n",
        "\n",
        "    model.add(Conv2D(filters=50, kernel_size=(3, 3), strides=(1, 1), padding='same'))\n",
        "    model.add(BatchNormalization())\n",
        "    model.add(Activation('relu'))\n",
        "\n",
        "\n",
        "    model.add(MaxPooling2D(pool_size=(2, 2), padding='same'))\n",
        "\n",
        "    model.add(Conv2D(filters=50, kernel_size=(3, 3), strides=(1, 1), padding='same'))\n",
        "    model.add(BatchNormalization())\n",
        "    model.add(Activation('relu'))\n",
        "\n",
        "    model.add(Conv2D(filters=50, kernel_size=(3, 3), strides=(1, 1), padding='same'))\n",
        "    model.add(BatchNormalization())\n",
        "    model.add(Activation('relu'))\n",
        "\n",
        "    model.add(MaxPooling2D(pool_size=(2, 2), padding='same'))\n",
        "\n",
        "    model.add(Conv2D(filters=50, kernel_size=(3, 3), strides=(1, 1), padding='same'))\n",
        "    model.add(BatchNormalization())\n",
        "    model.add(Activation('relu'))\n",
        "\n",
        "    model.add(Conv2D(filters=50, kernel_size=(3, 3), strides=(1, 1), padding='same'))\n",
        "    model.add(BatchNormalization())\n",
        "    model.add(Activation('relu'))\n",
        "\n",
        "    model.add(MaxPooling2D(pool_size=(2, 2), padding='same'))\n",
        "\n",
        "    model.add(Flatten())\n",
        "    model.add(Dense(50, activation='relu', kernel_initializer='he_normal'))\n",
        "    model.add(Dropout(0.5))\n",
        "\n",
        "    model.add(Dense(10, activation='softmax', kernel_initializer='he_normal'))\n",
        "\n",
        "    adam = Adam(lr = 0.001)\n",
        "    model.compile(loss='categorical_crossentropy', optimizer=adam, metrics=['accuracy'])\n",
        "\n",
        "    return model"
      ],
      "execution_count": 60,
      "outputs": []
    },
    {
      "cell_type": "code",
      "metadata": {
        "colab": {
          "base_uri": "https://localhost:8080/"
        },
        "id": "ZfYrrJD0tKC6",
        "outputId": "79d7c209-fb1c-4d11-ec07-2e745dbc15ba"
      },
      "source": [
        "model = improve_deep_cnn()\n",
        "model.summary()"
      ],
      "execution_count": 62,
      "outputs": [
        {
          "output_type": "stream",
          "text": [
            "Model: \"sequential_6\"\n",
            "_________________________________________________________________\n",
            "Layer (type)                 Output Shape              Param #   \n",
            "=================================================================\n",
            "conv2d_12 (Conv2D)           (None, 8, 8, 50)          500       \n",
            "_________________________________________________________________\n",
            "batch_normalization (BatchNo (None, 8, 8, 50)          200       \n",
            "_________________________________________________________________\n",
            "activation (Activation)      (None, 8, 8, 50)          0         \n",
            "_________________________________________________________________\n",
            "conv2d_13 (Conv2D)           (None, 8, 8, 50)          22550     \n",
            "_________________________________________________________________\n",
            "batch_normalization_1 (Batch (None, 8, 8, 50)          200       \n",
            "_________________________________________________________________\n",
            "activation_1 (Activation)    (None, 8, 8, 50)          0         \n",
            "_________________________________________________________________\n",
            "max_pooling2d_6 (MaxPooling2 (None, 4, 4, 50)          0         \n",
            "_________________________________________________________________\n",
            "conv2d_14 (Conv2D)           (None, 4, 4, 50)          22550     \n",
            "_________________________________________________________________\n",
            "batch_normalization_2 (Batch (None, 4, 4, 50)          200       \n",
            "_________________________________________________________________\n",
            "activation_2 (Activation)    (None, 4, 4, 50)          0         \n",
            "_________________________________________________________________\n",
            "conv2d_15 (Conv2D)           (None, 4, 4, 50)          22550     \n",
            "_________________________________________________________________\n",
            "batch_normalization_3 (Batch (None, 4, 4, 50)          200       \n",
            "_________________________________________________________________\n",
            "activation_3 (Activation)    (None, 4, 4, 50)          0         \n",
            "_________________________________________________________________\n",
            "max_pooling2d_7 (MaxPooling2 (None, 2, 2, 50)          0         \n",
            "_________________________________________________________________\n",
            "conv2d_16 (Conv2D)           (None, 2, 2, 50)          22550     \n",
            "_________________________________________________________________\n",
            "batch_normalization_4 (Batch (None, 2, 2, 50)          200       \n",
            "_________________________________________________________________\n",
            "activation_4 (Activation)    (None, 2, 2, 50)          0         \n",
            "_________________________________________________________________\n",
            "conv2d_17 (Conv2D)           (None, 2, 2, 50)          22550     \n",
            "_________________________________________________________________\n",
            "batch_normalization_5 (Batch (None, 2, 2, 50)          200       \n",
            "_________________________________________________________________\n",
            "activation_5 (Activation)    (None, 2, 2, 50)          0         \n",
            "_________________________________________________________________\n",
            "max_pooling2d_8 (MaxPooling2 (None, 1, 1, 50)          0         \n",
            "_________________________________________________________________\n",
            "flatten_6 (Flatten)          (None, 50)                0         \n",
            "_________________________________________________________________\n",
            "dense_11 (Dense)             (None, 50)                2550      \n",
            "_________________________________________________________________\n",
            "dropout (Dropout)            (None, 50)                0         \n",
            "_________________________________________________________________\n",
            "dense_12 (Dense)             (None, 10)                510       \n",
            "=================================================================\n",
            "Total params: 117,510\n",
            "Trainable params: 116,910\n",
            "Non-trainable params: 600\n",
            "_________________________________________________________________\n"
          ],
          "name": "stdout"
        }
      ]
    },
    {
      "cell_type": "code",
      "metadata": {
        "id": "uoLF396ltRxu"
      },
      "source": [
        "history = model.fit(X_train, y_train, batch_size=50, validation_split=0.2, epochs=100, verbose=0)"
      ],
      "execution_count": 63,
      "outputs": []
    },
    {
      "cell_type": "code",
      "metadata": {
        "colab": {
          "base_uri": "https://localhost:8080/",
          "height": 265
        },
        "id": "flRgBf_ntWdB",
        "outputId": "f765892d-bc1b-4487-f550-c5ff9118231a"
      },
      "source": [
        "plt.plot(history.history['accuracy'])\n",
        "plt.plot(history.history['val_accuracy'])\n",
        "plt.legend(['training', 'validation'], loc='best')\n",
        "plt.show()"
      ],
      "execution_count": 64,
      "outputs": [
        {
          "output_type": "display_data",
          "data": {
            "image/png": "[encoded data removed]",
            "text/plain": [
              "<Figure size 432x288 with 1 Axes>"
            ]
          },
          "metadata": {
            "tags": [],
            "needs_background": "light"
          }
        }
      ]
    },
    {
      "cell_type": "code",
      "metadata": {
        "colab": {
          "base_uri": "https://localhost:8080/"
        },
        "id": "PFWrh4tdtbTR",
        "outputId": "390730e2-726c-4cb1-a044-8c4976a91082"
      },
      "source": [
        "result = model.evaluate(X_test, y_test)\n",
        "print('Test accuracy : ', result[1])"
      ],
      "execution_count": 65,
      "outputs": [
        {
          "output_type": "stream",
          "text": [
            "12/12 [==============================] - 0s 8ms/step - loss: 1.2762 - accuracy: 0.8306\n",
            "Test accuracy :  0.8305555582046509\n"
          ],
          "name": "stdout"
        }
      ]
    },
    {
      "cell_type": "markdown",
      "metadata": {
        "id": "VpbKvU71tbzB"
      },
      "source": [
        "### keras MNIST"
      ]
    },
    {
      "cell_type": "code",
      "metadata": {
        "id": "N6cQKo33usLZ"
      },
      "source": [
        "(X_train, y_train), (X_test, y_test) = mnist.load_data()"
      ],
      "execution_count": 76,
      "outputs": []
    },
    {
      "cell_type": "code",
      "metadata": {
        "colab": {
          "base_uri": "https://localhost:8080/"
        },
        "id": "uELulikju_HU",
        "outputId": "b9ae7fcc-59e5-4182-841d-8d3d33deb806"
      },
      "source": [
        "X_train.shape, y_train.shape, X_test.shape, y_test.shape"
      ],
      "execution_count": 77,
      "outputs": [
        {
          "output_type": "execute_result",
          "data": {
            "text/plain": [
              "((60000, 28, 28), (60000,), (10000, 28, 28), (10000,))"
            ]
          },
          "metadata": {
            "tags": []
          },
          "execution_count": 77
        }
      ]
    },
    {
      "cell_type": "code",
      "metadata": {
        "colab": {
          "base_uri": "https://localhost:8080/"
        },
        "id": "2UIORwcXvFN6",
        "outputId": "c4a2136b-7e26-44af-ab2e-801cf9c4885b"
      },
      "source": [
        "# 차원이 안나오므로 reshape --> 흑백 : 1, 컬러 : 3\n",
        "X_train = X_train.reshape(X_train.shape[0], X_train.shape[1], X_train.shape[2], 1)\n",
        "X_test = X_test.reshape(X_test.shape[0], X_test.shape[1], X_test.shape[2], 1)\n",
        "\n",
        "# One Hot Encoding\n",
        "y_train = to_categorical(y_train)\n",
        "y_test = to_categorical(y_test)\n",
        "y_train[0], y_test[0]"
      ],
      "execution_count": 78,
      "outputs": [
        {
          "output_type": "execute_result",
          "data": {
            "text/plain": [
              "(array([0., 0., 0., 0., 0., 1., 0., 0., 0., 0.], dtype=float32),\n",
              " array([0., 0., 0., 0., 0., 0., 0., 1., 0., 0.], dtype=float32))"
            ]
          },
          "metadata": {
            "tags": []
          },
          "execution_count": 78
        }
      ]
    },
    {
      "cell_type": "code",
      "metadata": {
        "colab": {
          "base_uri": "https://localhost:8080/"
        },
        "id": "QZQjTPTWvdRI",
        "outputId": "59d2128f-923d-4372-af5b-c66c288b3842"
      },
      "source": [
        "X_train.shape, X_test.shape, y_train.shape, y_test.shape"
      ],
      "execution_count": 79,
      "outputs": [
        {
          "output_type": "execute_result",
          "data": {
            "text/plain": [
              "((60000, 28, 28, 1), (10000, 28, 28, 1), (60000, 10), (10000, 10))"
            ]
          },
          "metadata": {
            "tags": []
          },
          "execution_count": 79
        }
      ]
    }
  ]
}