{
 "cells": [
  {
   "cell_type": "markdown",
   "metadata": {},
   "source": [
    "### 1. lib import"
   ]
  },
  {
   "cell_type": "code",
   "execution_count": 3,
   "metadata": {},
   "outputs": [],
   "source": [
    "from bs4 import BeautifulSoup\n",
    "from selenium import webdriver\n",
    "\n",
    "from urllib.request import urlopen\n",
    "from urllib.error   import HTTPError\n",
    "from urllib.request import URLError\n",
    "\n",
    "import numpy as np\n",
    "import pandas as pd\n",
    "\n",
    "import json, re\n",
    "import pymongo"
   ]
  },
  {
   "cell_type": "markdown",
   "metadata": {},
   "source": [
    "### 2. DB connection"
   ]
  },
  {
   "cell_type": "code",
   "execution_count": 4,
   "metadata": {},
   "outputs": [],
   "source": [
    "conn = pymongo.MongoClient()\n",
    "movieDB = conn.movieDB\n",
    "movieCollection = movieDB.movieCollection"
   ]
  },
  {
   "cell_type": "markdown",
   "metadata": {},
   "source": [
    "### 3. request : http://www.cine21.com/rank/person"
   ]
  },
  {
   "cell_type": "code",
   "execution_count": 6,
   "metadata": {},
   "outputs": [],
   "source": [
    "path = '../driver/chromedriver.exe'\n",
    "url = 'http://www.cine21.com/rank/person'\n",
    "driver = webdriver.Chrome(path)\n",
    "driver.get(url)"
   ]
  },
  {
   "cell_type": "markdown",
   "metadata": {},
   "source": [
    "### 4. Actor name"
   ]
  },
  {
   "cell_type": "code",
   "execution_count": 9,
   "metadata": {},
   "outputs": [
    {
     "name": "stdout",
     "output_type": "stream",
     "text": [
      "김영광\n",
      "이선빈\n",
      "한예리\n",
      "윤여정\n",
      "김강우\n",
      "유인나\n",
      "유연석\n"
     ]
    }
   ],
   "source": [
    "# //*[@id=\"rank_holder\"]/ul/li[1]/div/a\n",
    "# //*[@id=\"rank_holder\"]/ul/li[2]/div/a\n",
    "\n",
    "for i in range(1, 8) :\n",
    "    name = driver.find_element_by_xpath('//*[@id=\"rank_holder\"]/ul/li[{}]/div/a'.format(i))\n",
    "    print(re.sub('\\(\\w*\\)', '', name.text))"
   ]
  },
  {
   "cell_type": "markdown",
   "metadata": {},
   "source": [
    "### 5. 정보 가져오기\n",
    "- 배우이름, 흥행지수, 출연영화[], 랭킹, 원어명, 다른이름, 직업, 생년월일, 성별, 홈페이지, 신장/체중, 학교, 취미, 특기...\n",
    "- 배우이름, 흥행지수, 출연영화, 랭킹 -> DB입력"
   ]
  },
  {
   "cell_type": "code",
   "execution_count": 24,
   "metadata": {
    "scrolled": true
   },
   "outputs": [
    {
     "data": {
      "text/plain": [
       "[['배우이름:', '김영광', '랭킹:', '1', '흥행지수:', 277566, '출연영화:', ['미션 파서블']],\n",
       " ['배우이름:', '이선빈', '랭킹:', '2', '흥행지수:', 138784, '출연영화:', ['미션 파서블']],\n",
       " ['배우이름:', '한예리', '랭킹:', '3', '흥행지수:', 113758, '출연영화:', ['미나리']],\n",
       " ['배우이름:', '윤여정', '랭킹:', '4', '흥행지수:', 94807, '출연영화:', ['미나리', '찬실이는 복도 많지']],\n",
       " ['배우이름:', '김강우', '랭킹:', '5', '흥행지수:', 36772, '출연영화:', ['새해전야']],\n",
       " ['배우이름:', '유인나', '랭킹:', '6', '흥행지수:', 32686, '출연영화:', ['새해전야']],\n",
       " ['배우이름:', '유연석', '랭킹:', '7', '흥행지수:', 28600, '출연영화:', ['새해전야']]]"
      ]
     },
     "execution_count": 24,
     "metadata": {},
     "output_type": "execute_result"
    }
   ],
   "source": [
    "data = []\n",
    "for i in range(1,8) :\n",
    "    actor  = driver.find_element_by_xpath('//*[@id=\"rank_holder\"]/ul/li[{}]/div/a'.format(i))\n",
    "    hits   = driver.find_element_by_xpath('//*[@id=\"rank_holder\"]/ul/li[{}]/ul[1]/li/strong'.format(i))\n",
    "    movies = driver.find_elements_by_xpath('//*[@id=\"rank_holder\"]/ul/li[{}]/ul[2]/li/a/span'.format(i))\n",
    "    rank = driver.find_element_by_xpath('//*[@id=\"rank_holder\"]/ul/li[{}]/span'.format(i))\n",
    "\n",
    "    #print(\"배우이름:\", re.sub('\\(\\w*\\)', '', actor.text))\n",
    "    #print(\"랭킹:\",rank.text )\n",
    "    #print(\"흥행지수:\", int(hits.get_attribute('innerHTML').replace(',', '')))\n",
    "    movie_title_list = list()\n",
    "    for movie_title in movies:\n",
    "        movie_title_list.append(movie_title.text)\n",
    "    #print(\"출연영화:\", movie_title_list)\n",
    "    data.append([\"배우이름:\", re.sub('\\(\\w*\\)', '', actor.text), \n",
    "                 '랭킹:',rank.text,\n",
    "                 \"흥행지수:\", int(hits.get_attribute('innerHTML').replace(',', '')),\n",
    "                 \"출연영화:\", movie_title_list])\n",
    "data"
   ]
  },
  {
   "cell_type": "code",
   "execution_count": 32,
   "metadata": {},
   "outputs": [
    {
     "data": {
      "text/plain": [
       "[{'배우이름': '김영광', '랭킹': '1', '흥행지수': 277566, '출연영화': ['미션 파서블']},\n",
       " {'배우이름': '이선빈', '랭킹': '2', '흥행지수': 138784, '출연영화': ['미션 파서블']},\n",
       " {'배우이름': '한예리', '랭킹': '3', '흥행지수': 113758, '출연영화': ['미나리']},\n",
       " {'배우이름': '윤여정', '랭킹': '4', '흥행지수': 94807, '출연영화': ['미나리', '찬실이는 복도 많지']},\n",
       " {'배우이름': '김강우', '랭킹': '5', '흥행지수': 36772, '출연영화': ['새해전야']},\n",
       " {'배우이름': '유인나', '랭킹': '6', '흥행지수': 32686, '출연영화': ['새해전야']},\n",
       " {'배우이름': '유연석', '랭킹': '7', '흥행지수': 28600, '출연영화': ['새해전야']}]"
      ]
     },
     "execution_count": 32,
     "metadata": {},
     "output_type": "execute_result"
    }
   ],
   "source": [
    "actor_info_list = []\n",
    "\n",
    "for obj in data :\n",
    "    actor_info_list.append({\n",
    "        '배우이름' : obj[1],\n",
    "        '랭킹' : obj[3],\n",
    "        '흥행지수' : obj[5],\n",
    "        '출연영화' : obj[7]\n",
    "    })\n",
    "    \n",
    "actor_info_list"
   ]
  },
  {
   "cell_type": "code",
   "execution_count": 33,
   "metadata": {},
   "outputs": [
    {
     "data": {
      "text/plain": [
       "<pymongo.results.InsertManyResult at 0x246f06e2fc0>"
      ]
     },
     "execution_count": 33,
     "metadata": {},
     "output_type": "execute_result"
    }
   ],
   "source": [
    "movieCollection.insert_many(actor_info_list)"
   ]
  },
  {
   "cell_type": "code",
   "execution_count": 34,
   "metadata": {},
   "outputs": [
    {
     "data": {
      "text/plain": [
       "{'_id': ObjectId('604b1b7bebb6ce2736fc1a07'),\n",
       " '배우이름': '김영광',\n",
       " '랭킹': '1',\n",
       " '흥행지수': 277566,\n",
       " '출연영화': ['미션 파서블']}"
      ]
     },
     "execution_count": 34,
     "metadata": {},
     "output_type": "execute_result"
    }
   ],
   "source": [
    "movieCollection.find_one()"
   ]
  },
  {
   "cell_type": "markdown",
   "metadata": {},
   "source": [
    "### 6. 크롤링 정보 저장"
   ]
  },
  {
   "cell_type": "code",
   "execution_count": 49,
   "metadata": {
    "scrolled": true
   },
   "outputs": [
    {
     "name": "stdout",
     "output_type": "stream",
     "text": [
      "[\n",
      "    {\n",
      "        \"배우이름\": \"김영광\",\n",
      "        \"랭킹\": \"1\",\n",
      "        \"흥행지수\": 277566,\n",
      "        \"출연영화\": [\n",
      "            \"미션 파서블\"\n",
      "        ]\n",
      "    }\n",
      "]\n",
      "[\n",
      "    {\n",
      "        \"배우이름\": \"김영광\",\n",
      "        \"랭킹\": \"1\",\n",
      "        \"흥행지수\": 277566,\n",
      "        \"출연영화\": [\n",
      "            \"미션 파서블\"\n",
      "        ]\n",
      "    },\n",
      "    {\n",
      "        \"배우이름\": \"이선빈\",\n",
      "        \"랭킹\": \"2\",\n",
      "        \"흥행지수\": 138784,\n",
      "        \"출연영화\": [\n",
      "            \"미션 파서블\"\n",
      "        ]\n",
      "    }\n",
      "]\n",
      "[\n",
      "    {\n",
      "        \"배우이름\": \"김영광\",\n",
      "        \"랭킹\": \"1\",\n",
      "        \"흥행지수\": 277566,\n",
      "        \"출연영화\": [\n",
      "            \"미션 파서블\"\n",
      "        ]\n",
      "    },\n",
      "    {\n",
      "        \"배우이름\": \"이선빈\",\n",
      "        \"랭킹\": \"2\",\n",
      "        \"흥행지수\": 138784,\n",
      "        \"출연영화\": [\n",
      "            \"미션 파서블\"\n",
      "        ]\n",
      "    },\n",
      "    {\n",
      "        \"배우이름\": \"한예리\",\n",
      "        \"랭킹\": \"3\",\n",
      "        \"흥행지수\": 113758,\n",
      "        \"출연영화\": [\n",
      "            \"미나리\"\n",
      "        ]\n",
      "    }\n",
      "]\n",
      "[\n",
      "    {\n",
      "        \"배우이름\": \"김영광\",\n",
      "        \"랭킹\": \"1\",\n",
      "        \"흥행지수\": 277566,\n",
      "        \"출연영화\": [\n",
      "            \"미션 파서블\"\n",
      "        ]\n",
      "    },\n",
      "    {\n",
      "        \"배우이름\": \"이선빈\",\n",
      "        \"랭킹\": \"2\",\n",
      "        \"흥행지수\": 138784,\n",
      "        \"출연영화\": [\n",
      "            \"미션 파서블\"\n",
      "        ]\n",
      "    },\n",
      "    {\n",
      "        \"배우이름\": \"한예리\",\n",
      "        \"랭킹\": \"3\",\n",
      "        \"흥행지수\": 113758,\n",
      "        \"출연영화\": [\n",
      "            \"미나리\"\n",
      "        ]\n",
      "    },\n",
      "    {\n",
      "        \"배우이름\": \"윤여정\",\n",
      "        \"랭킹\": \"4\",\n",
      "        \"흥행지수\": 94807,\n",
      "        \"출연영화\": [\n",
      "            \"미나리\",\n",
      "            \"찬실이는 복도 많지\"\n",
      "        ]\n",
      "    }\n",
      "]\n",
      "[\n",
      "    {\n",
      "        \"배우이름\": \"김영광\",\n",
      "        \"랭킹\": \"1\",\n",
      "        \"흥행지수\": 277566,\n",
      "        \"출연영화\": [\n",
      "            \"미션 파서블\"\n",
      "        ]\n",
      "    },\n",
      "    {\n",
      "        \"배우이름\": \"이선빈\",\n",
      "        \"랭킹\": \"2\",\n",
      "        \"흥행지수\": 138784,\n",
      "        \"출연영화\": [\n",
      "            \"미션 파서블\"\n",
      "        ]\n",
      "    },\n",
      "    {\n",
      "        \"배우이름\": \"한예리\",\n",
      "        \"랭킹\": \"3\",\n",
      "        \"흥행지수\": 113758,\n",
      "        \"출연영화\": [\n",
      "            \"미나리\"\n",
      "        ]\n",
      "    },\n",
      "    {\n",
      "        \"배우이름\": \"윤여정\",\n",
      "        \"랭킹\": \"4\",\n",
      "        \"흥행지수\": 94807,\n",
      "        \"출연영화\": [\n",
      "            \"미나리\",\n",
      "            \"찬실이는 복도 많지\"\n",
      "        ]\n",
      "    },\n",
      "    {\n",
      "        \"배우이름\": \"김강우\",\n",
      "        \"랭킹\": \"5\",\n",
      "        \"흥행지수\": 36772,\n",
      "        \"출연영화\": [\n",
      "            \"새해전야\"\n",
      "        ]\n",
      "    }\n",
      "]\n",
      "[\n",
      "    {\n",
      "        \"배우이름\": \"김영광\",\n",
      "        \"랭킹\": \"1\",\n",
      "        \"흥행지수\": 277566,\n",
      "        \"출연영화\": [\n",
      "            \"미션 파서블\"\n",
      "        ]\n",
      "    },\n",
      "    {\n",
      "        \"배우이름\": \"이선빈\",\n",
      "        \"랭킹\": \"2\",\n",
      "        \"흥행지수\": 138784,\n",
      "        \"출연영화\": [\n",
      "            \"미션 파서블\"\n",
      "        ]\n",
      "    },\n",
      "    {\n",
      "        \"배우이름\": \"한예리\",\n",
      "        \"랭킹\": \"3\",\n",
      "        \"흥행지수\": 113758,\n",
      "        \"출연영화\": [\n",
      "            \"미나리\"\n",
      "        ]\n",
      "    },\n",
      "    {\n",
      "        \"배우이름\": \"윤여정\",\n",
      "        \"랭킹\": \"4\",\n",
      "        \"흥행지수\": 94807,\n",
      "        \"출연영화\": [\n",
      "            \"미나리\",\n",
      "            \"찬실이는 복도 많지\"\n",
      "        ]\n",
      "    },\n",
      "    {\n",
      "        \"배우이름\": \"김강우\",\n",
      "        \"랭킹\": \"5\",\n",
      "        \"흥행지수\": 36772,\n",
      "        \"출연영화\": [\n",
      "            \"새해전야\"\n",
      "        ]\n",
      "    },\n",
      "    {\n",
      "        \"배우이름\": \"유인나\",\n",
      "        \"랭킹\": \"6\",\n",
      "        \"흥행지수\": 32686,\n",
      "        \"출연영화\": [\n",
      "            \"새해전야\"\n",
      "        ]\n",
      "    }\n",
      "]\n",
      "[\n",
      "    {\n",
      "        \"배우이름\": \"김영광\",\n",
      "        \"랭킹\": \"1\",\n",
      "        \"흥행지수\": 277566,\n",
      "        \"출연영화\": [\n",
      "            \"미션 파서블\"\n",
      "        ]\n",
      "    },\n",
      "    {\n",
      "        \"배우이름\": \"이선빈\",\n",
      "        \"랭킹\": \"2\",\n",
      "        \"흥행지수\": 138784,\n",
      "        \"출연영화\": [\n",
      "            \"미션 파서블\"\n",
      "        ]\n",
      "    },\n",
      "    {\n",
      "        \"배우이름\": \"한예리\",\n",
      "        \"랭킹\": \"3\",\n",
      "        \"흥행지수\": 113758,\n",
      "        \"출연영화\": [\n",
      "            \"미나리\"\n",
      "        ]\n",
      "    },\n",
      "    {\n",
      "        \"배우이름\": \"윤여정\",\n",
      "        \"랭킹\": \"4\",\n",
      "        \"흥행지수\": 94807,\n",
      "        \"출연영화\": [\n",
      "            \"미나리\",\n",
      "            \"찬실이는 복도 많지\"\n",
      "        ]\n",
      "    },\n",
      "    {\n",
      "        \"배우이름\": \"김강우\",\n",
      "        \"랭킹\": \"5\",\n",
      "        \"흥행지수\": 36772,\n",
      "        \"출연영화\": [\n",
      "            \"새해전야\"\n",
      "        ]\n",
      "    },\n",
      "    {\n",
      "        \"배우이름\": \"유인나\",\n",
      "        \"랭킹\": \"6\",\n",
      "        \"흥행지수\": 32686,\n",
      "        \"출연영화\": [\n",
      "            \"새해전야\"\n",
      "        ]\n",
      "    },\n",
      "    {\n",
      "        \"배우이름\": \"유연석\",\n",
      "        \"랭킹\": \"7\",\n",
      "        \"흥행지수\": 28600,\n",
      "        \"출연영화\": [\n",
      "            \"새해전야\"\n",
      "        ]\n",
      "    }\n",
      "]\n"
     ]
    }
   ],
   "source": [
    "with open ('./actor_info_list.json', mode='w', encoding='utf-8') as file :\n",
    "    actor_info_list = []\n",
    "    for obj in data :\n",
    "        actor_info_list.append({\n",
    "            '배우이름' : obj[1],\n",
    "            '랭킹' : obj[3],\n",
    "            '흥행지수' : obj[5],\n",
    "            '출연영화' : obj[7]\n",
    "        })\n",
    "        print(json.dumps(actor_info_list, ensure_ascii=False, indent=4))\n",
    "    json.dump(actor_info_list, file, indent=4, ensure_ascii=False)"
   ]
  },
  {
   "cell_type": "code",
   "execution_count": 50,
   "metadata": {},
   "outputs": [],
   "source": [
    "with open('./actor_info_list.json', mode='r', encoding='utf-8')as file :\n",
    "    json_data = json.load(file)"
   ]
  },
  {
   "cell_type": "code",
   "execution_count": 51,
   "metadata": {},
   "outputs": [
    {
     "data": {
      "text/plain": [
       "[{'배우이름': '김영광', '랭킹': '1', '흥행지수': 277566, '출연영화': ['미션 파서블']},\n",
       " {'배우이름': '이선빈', '랭킹': '2', '흥행지수': 138784, '출연영화': ['미션 파서블']},\n",
       " {'배우이름': '한예리', '랭킹': '3', '흥행지수': 113758, '출연영화': ['미나리']},\n",
       " {'배우이름': '윤여정', '랭킹': '4', '흥행지수': 94807, '출연영화': ['미나리', '찬실이는 복도 많지']},\n",
       " {'배우이름': '김강우', '랭킹': '5', '흥행지수': 36772, '출연영화': ['새해전야']},\n",
       " {'배우이름': '유인나', '랭킹': '6', '흥행지수': 32686, '출연영화': ['새해전야']},\n",
       " {'배우이름': '유연석', '랭킹': '7', '흥행지수': 28600, '출연영화': ['새해전야']}]"
      ]
     },
     "execution_count": 51,
     "metadata": {},
     "output_type": "execute_result"
    }
   ],
   "source": [
    "json_data"
   ]
  },
  {
   "cell_type": "markdown",
   "metadata": {},
   "source": [
    "### 7. 첫 페이지의 정보저장이 완료되면 페이징처리 후 저장"
   ]
  },
  {
   "cell_type": "code",
   "execution_count": 52,
   "metadata": {},
   "outputs": [],
   "source": [
    "from time import time, sleep\n",
    "from random import randint\n",
    "from IPython.core.display import clear_output\n",
    "from requests import get"
   ]
  },
  {
   "cell_type": "code",
   "execution_count": null,
   "metadata": {},
   "outputs": [],
   "source": [
    "for page in range(1, 53):\n",
    "    url = 'https://www.ildong.com/kor/product/list.id?page='+str(page)+'&halt=&prdDisease=&prdCategory=5&searchVal=&searchOption=0'\n",
    "    #print(url)\n",
    "    driver.get(url)\n",
    "    prList = driver.find_element_by_class_name('prList')\n",
    "    tags = prList.find_elements_by_tag_name('a')\n",
    "    \n",
    "    for idx in range(0, 9):\n",
    "        #print(tags[idx])\n",
    "        tags[idx].click()\n",
    "        prd_name = driver.find_element_by_class_name('detailCnt2')\n",
    "        print(prd_name.text)\n",
    "        driver.back()\n",
    "\n",
    "        prList = driver.find_element_by_class_name('prList')\n",
    "        tags = prList.find_elements_by_tag_name('a')\n",
    "        #sleep(2)"
   ]
  }
 ],
 "metadata": {
  "kernelspec": {
   "display_name": "Python 3",
   "language": "python",
   "name": "python3"
  },
  "language_info": {
   "codemirror_mode": {
    "name": "ipython",
    "version": 3
   },
   "file_extension": ".py",
   "mimetype": "text/x-python",
   "name": "python",
   "nbconvert_exporter": "python",
   "pygments_lexer": "ipython3",
   "version": "3.8.5"
  }
 },
 "nbformat": 4,
 "nbformat_minor": 4
}
