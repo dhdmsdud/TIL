{
 "cells": [
  {
   "cell_type": "markdown",
   "metadata": {},
   "source": [
    "### Pandas\n",
    "- Series and Dataframe\n",
    "- 분석을 위한 전처리"
   ]
  },
  {
   "cell_type": "code",
   "execution_count": 93,
   "metadata": {},
   "outputs": [
    {
     "name": "stdout",
     "output_type": "stream",
     "text": [
      "1.19.2\n",
      "1.1.3\n"
     ]
    }
   ],
   "source": [
    "import numpy as np\n",
    "import pandas as pd\n",
    "import matplotlib.pyplot as plt\n",
    "\n",
    "import warnings\n",
    "warnings.filterwarnings(action=\"ignore\")\n",
    "\n",
    "print(np.__version__)\n",
    "print(pd.__version__)"
   ]
  },
  {
   "cell_type": "markdown",
   "metadata": {},
   "source": [
    "### Series 클래스\n",
    "- 넘파이 1차원 배열과 비슷\n",
    "- series = index + value"
   ]
  },
  {
   "cell_type": "code",
   "execution_count": 5,
   "metadata": {},
   "outputs": [
    {
     "name": "stdout",
     "output_type": "stream",
     "text": [
      "[1 2 3 4 'ruby']\n",
      "object\n"
     ]
    }
   ],
   "source": [
    "# numpy vector\n",
    "ary = np.array([1,2,3,4,'ruby'], dtype=np.object)\n",
    "print(ary)\n",
    "print(ary.dtype)"
   ]
  },
  {
   "cell_type": "code",
   "execution_count": 13,
   "metadata": {},
   "outputs": [
    {
     "name": "stdout",
     "output_type": "stream",
     "text": [
      "0       1\n",
      "1       2\n",
      "2       3\n",
      "3       4\n",
      "4    ruby\n",
      "dtype: object\n",
      "[1 2 3 4 'ruby']\n",
      "<class 'numpy.ndarray'>\n",
      "RangeIndex(start=0, stop=5, step=1)\n",
      "<class 'pandas.core.indexes.range.RangeIndex'>\n"
     ]
    }
   ],
   "source": [
    "# pandas series\n",
    "ary = pd.Series([1,2,3,4,'ruby'], dtype=np.object)\n",
    "print(ary)\n",
    "print(ary.values)\n",
    "print(type(ary.values))\n",
    "print(ary.index)\n",
    "print(type(ary.index))"
   ]
  },
  {
   "cell_type": "code",
   "execution_count": 21,
   "metadata": {},
   "outputs": [],
   "source": [
    "def seriesInfo(ary) :\n",
    "    print('index + value : \\n', ary)\n",
    "    print('value : ', ary.values)\n",
    "    print('value type : ', type(ary.values))\n",
    "    print('index : ', ary.index)\n",
    "    print('index type : ', type(ary.index))"
   ]
  },
  {
   "cell_type": "markdown",
   "metadata": {},
   "source": [
    "- 인덱스의 라벨은 정수, 문자, 날짜, 시간으로 변경 가능"
   ]
  },
  {
   "cell_type": "code",
   "execution_count": 22,
   "metadata": {},
   "outputs": [],
   "source": [
    "ary = pd.Series([1,2,3,4,5], dtype=np.int32, index=['강남','서초','방배','동작','사당'])"
   ]
  },
  {
   "cell_type": "code",
   "execution_count": 23,
   "metadata": {},
   "outputs": [
    {
     "name": "stdout",
     "output_type": "stream",
     "text": [
      "index + value : \n",
      " 강남    1\n",
      "서초    2\n",
      "방배    3\n",
      "동작    4\n",
      "사당    5\n",
      "dtype: int32\n",
      "value :  [1 2 3 4 5]\n",
      "value type :  <class 'numpy.ndarray'>\n",
      "index :  Index(['강남', '서초', '방배', '동작', '사당'], dtype='object')\n",
      "index type :  <class 'pandas.core.indexes.base.Index'>\n"
     ]
    }
   ],
   "source": [
    "seriesInfo(ary)"
   ]
  },
  {
   "cell_type": "code",
   "execution_count": 24,
   "metadata": {},
   "outputs": [
    {
     "name": "stdout",
     "output_type": "stream",
     "text": [
      "index + value : \n",
      " 구별\n",
      "강남    1\n",
      "서초    2\n",
      "방배    3\n",
      "동작    4\n",
      "사당    5\n",
      "dtype: int32\n",
      "value :  [1 2 3 4 5]\n",
      "value type :  <class 'numpy.ndarray'>\n",
      "index :  Index(['강남', '서초', '방배', '동작', '사당'], dtype='object', name='구별')\n",
      "index type :  <class 'pandas.core.indexes.base.Index'>\n"
     ]
    }
   ],
   "source": [
    "# head추가\n",
    "ary.index.name='구별'\n",
    "seriesInfo(ary)"
   ]
  },
  {
   "cell_type": "code",
   "execution_count": 27,
   "metadata": {},
   "outputs": [
    {
     "name": "stdout",
     "output_type": "stream",
     "text": [
      "2\n",
      "구별\n",
      "강남    1\n",
      "방배    3\n",
      "dtype: int32\n"
     ]
    }
   ],
   "source": [
    "# 두개 이상의 인덱스 [[]]\n",
    "print(ary['서초'])\n",
    "print(ary[['강남', '방배']])"
   ]
  },
  {
   "cell_type": "code",
   "execution_count": 28,
   "metadata": {},
   "outputs": [
    {
     "name": "stdout",
     "output_type": "stream",
     "text": [
      "idx : 강남, value : 1\n",
      "idx : 서초, value : 2\n",
      "idx : 방배, value : 3\n",
      "idx : 동작, value : 4\n",
      "idx : 사당, value : 5\n"
     ]
    }
   ],
   "source": [
    "# index, values 모두 가져올 때\n",
    "for idx, value in ary.items():\n",
    "    print('idx : {}, value : {}'.format(idx, value))"
   ]
  },
  {
   "cell_type": "code",
   "execution_count": 29,
   "metadata": {},
   "outputs": [
    {
     "name": "stdout",
     "output_type": "stream",
     "text": [
      "idx : 강남\n",
      "idx : 서초\n",
      "idx : 방배\n",
      "idx : 동작\n",
      "idx : 사당\n"
     ]
    }
   ],
   "source": [
    "# index만 가져올 때\n",
    "for idx in ary.keys():\n",
    "    print('idx : {}'.format(idx))"
   ]
  },
  {
   "cell_type": "code",
   "execution_count": 36,
   "metadata": {},
   "outputs": [
    {
     "name": "stdout",
     "output_type": "stream",
     "text": [
      "value : 1.0\n",
      "value : 2.0\n",
      "value : 4.0\n"
     ]
    }
   ],
   "source": [
    "# value만 가져올 때\n",
    "for value in ary.values:\n",
    "    print('value : {}'.format(value))"
   ]
  },
  {
   "cell_type": "code",
   "execution_count": 31,
   "metadata": {},
   "outputs": [
    {
     "name": "stdout",
     "output_type": "stream",
     "text": [
      "index + value : \n",
      " 0    10\n",
      "1    12\n",
      "2    14\n",
      "3    16\n",
      "4    18\n",
      "5    20\n",
      "dtype: int64\n",
      "value :  [10 12 14 16 18 20]\n",
      "value type :  <class 'numpy.ndarray'>\n",
      "index :  RangeIndex(start=0, stop=6, step=1)\n",
      "index type :  <class 'pandas.core.indexes.range.RangeIndex'>\n"
     ]
    }
   ],
   "source": [
    "ary = pd.Series(range(10, 21,2))\n",
    "seriesInfo(ary)"
   ]
  },
  {
   "cell_type": "code",
   "execution_count": 37,
   "metadata": {},
   "outputs": [
    {
     "name": "stdout",
     "output_type": "stream",
     "text": [
      "index + value : \n",
      " c     1.0\n",
      "b     5.0\n",
      "a    -8.0\n",
      "k    10.0\n",
      "dtype: float64\n",
      "value :  [ 1.  5. -8. 10.]\n",
      "value type :  <class 'numpy.ndarray'>\n",
      "index :  Index(['c', 'b', 'a', 'k'], dtype='object')\n",
      "index type :  <class 'pandas.core.indexes.base.Index'>\n"
     ]
    }
   ],
   "source": [
    "# dict형태로 series만들기\n",
    "ary = pd.Series({'c' : 1, 'b' : 5, 'a' : -8, 'k' : 10}, dtype=np.float64)\n",
    "seriesInfo(ary)"
   ]
  },
  {
   "cell_type": "code",
   "execution_count": 38,
   "metadata": {},
   "outputs": [
    {
     "data": {
      "text/plain": [
       "c     10.0\n",
       "b     50.0\n",
       "a    -80.0\n",
       "k    100.0\n",
       "dtype: float64"
      ]
     },
     "execution_count": 38,
     "metadata": {},
     "output_type": "execute_result"
    }
   ],
   "source": [
    "# 연산이 되더라도 index는 변함없음\n",
    "ary*10"
   ]
  },
  {
   "cell_type": "markdown",
   "metadata": {},
   "source": [
    "- fancy indexing & boolean indexing"
   ]
  },
  {
   "cell_type": "code",
   "execution_count": 41,
   "metadata": {},
   "outputs": [
    {
     "name": "stdout",
     "output_type": "stream",
     "text": [
      "fancy [0,2] indexing : \n",
      "c    1.0\n",
      "a   -8.0\n",
      "dtype: float64\n"
     ]
    }
   ],
   "source": [
    "print('fancy [0,2] indexing : \\n{}'.format(ary[[0,2]]))"
   ]
  },
  {
   "cell_type": "code",
   "execution_count": 46,
   "metadata": {},
   "outputs": [
    {
     "name": "stdout",
     "output_type": "stream",
     "text": [
      "boolean ary % 2 == 0 :\n",
      "a    -8.0\n",
      "k    10.0\n",
      "dtype: float64\n"
     ]
    }
   ],
   "source": [
    "# 2의 배수\n",
    "print('boolean ary % 2 == 0 :\\n{}'.format(ary[ary % 2 == 0]))"
   ]
  },
  {
   "cell_type": "markdown",
   "metadata": {},
   "source": [
    "### 시간, 날짜 불러오기"
   ]
  },
  {
   "cell_type": "code",
   "execution_count": 54,
   "metadata": {},
   "outputs": [],
   "source": [
    "from datetime import date, datetime, timedelta\n",
    "from dateutil.parser import parse"
   ]
  },
  {
   "cell_type": "code",
   "execution_count": 103,
   "metadata": {},
   "outputs": [
    {
     "name": "stdout",
     "output_type": "stream",
     "text": [
      "2021-02-25 00:00:00\n",
      "2021-02-26 00:00:00\n"
     ]
    }
   ],
   "source": [
    "strDate = datetime(2021,2,25)\n",
    "print(strDate)\n",
    "print(strDate + timedelta(days=1))"
   ]
  },
  {
   "cell_type": "code",
   "execution_count": 104,
   "metadata": {},
   "outputs": [
    {
     "name": "stdout",
     "output_type": "stream",
     "text": [
      "index + value : \n",
      " 2021-02-25    40\n",
      "2021-02-26    51\n",
      "2021-02-27    57\n",
      "2021-02-28    54\n",
      "2021-03-01    46\n",
      "2021-03-02    58\n",
      "2021-03-03    49\n",
      "2021-03-04    46\n",
      "2021-03-05    51\n",
      "2021-03-06    51\n",
      "dtype: int64\n",
      "value :  [40 51 57 54 46 58 49 46 51 51]\n",
      "value type :  <class 'numpy.ndarray'>\n",
      "index :  DatetimeIndex(['2021-02-25', '2021-02-26', '2021-02-27', '2021-02-28',\n",
      "               '2021-03-01', '2021-03-02', '2021-03-03', '2021-03-04',\n",
      "               '2021-03-05', '2021-03-06'],\n",
      "              dtype='datetime64[ns]', freq=None)\n",
      "index type :  <class 'pandas.core.indexes.datetimes.DatetimeIndex'>\n"
     ]
    }
   ],
   "source": [
    "# 평균이 50이고 편차가 5인 정규분포 데이터를 10일간 만들기\n",
    "fac01 = pd.Series([int(x) for x in np.random.normal(50, 5, (10))], index=[strDate + timedelta(days=day) for day in range(10)])\n",
    "seriesInfo(fac01)"
   ]
  },
  {
   "cell_type": "code",
   "execution_count": 105,
   "metadata": {},
   "outputs": [
    {
     "name": "stdout",
     "output_type": "stream",
     "text": [
      "index + value : \n",
      " 2021-02-25    59\n",
      "2021-02-26    74\n",
      "2021-02-27    67\n",
      "2021-02-28    82\n",
      "2021-03-01    61\n",
      "2021-03-02    73\n",
      "2021-03-03    57\n",
      "2021-03-04    63\n",
      "2021-03-05    63\n",
      "2021-03-06    80\n",
      "dtype: int64\n",
      "value :  [59 74 67 82 61 73 57 63 63 80]\n",
      "value type :  <class 'numpy.ndarray'>\n",
      "index :  DatetimeIndex(['2021-02-25', '2021-02-26', '2021-02-27', '2021-02-28',\n",
      "               '2021-03-01', '2021-03-02', '2021-03-03', '2021-03-04',\n",
      "               '2021-03-05', '2021-03-06'],\n",
      "              dtype='datetime64[ns]', freq=None)\n",
      "index type :  <class 'pandas.core.indexes.datetimes.DatetimeIndex'>\n"
     ]
    }
   ],
   "source": [
    "# 평균이 70이고 편차가 8인 정규분포 데이터를 10일간 만들기\n",
    "fac02 = pd.Series([int(x) for x in np.random.normal(70, 8, (10))], index=[strDate + timedelta(days=day) for day in range(10)])\n",
    "seriesInfo(fac02)"
   ]
  },
  {
   "cell_type": "code",
   "execution_count": 106,
   "metadata": {},
   "outputs": [
    {
     "data": {
      "text/plain": [
       "2021-02-25     99\n",
       "2021-02-26    125\n",
       "2021-02-27    124\n",
       "2021-02-28    136\n",
       "2021-03-01    107\n",
       "2021-03-02    131\n",
       "2021-03-03    106\n",
       "2021-03-04    109\n",
       "2021-03-05    114\n",
       "2021-03-06    131\n",
       "dtype: int64"
      ]
     },
     "execution_count": 106,
     "metadata": {},
     "output_type": "execute_result"
    }
   ],
   "source": [
    "fac01 + fac02"
   ]
  },
  {
   "cell_type": "code",
   "execution_count": 107,
   "metadata": {},
   "outputs": [
    {
     "name": "stdout",
     "output_type": "stream",
     "text": [
      "{Timestamp('2021-03-02 00:00:00'), Timestamp('2021-03-06 00:00:00'), Timestamp('2021-03-04 00:00:00'), Timestamp('2021-03-05 00:00:00'), Timestamp('2021-02-28 00:00:00'), Timestamp('2021-02-26 00:00:00'), Timestamp('2021-03-03 00:00:00'), Timestamp('2021-03-01 00:00:00'), Timestamp('2021-02-25 00:00:00'), Timestamp('2021-02-27 00:00:00')}\n",
      "[Timestamp('2021-02-25 00:00:00'), Timestamp('2021-02-26 00:00:00'), Timestamp('2021-02-27 00:00:00'), Timestamp('2021-02-28 00:00:00'), Timestamp('2021-03-01 00:00:00'), Timestamp('2021-03-02 00:00:00'), Timestamp('2021-03-03 00:00:00'), Timestamp('2021-03-04 00:00:00'), Timestamp('2021-03-05 00:00:00'), Timestamp('2021-03-06 00:00:00')]\n"
     ]
    }
   ],
   "source": [
    "# casting\n",
    "print(set(fac01.index))\n",
    "print(list(fac01.index))"
   ]
  },
  {
   "cell_type": "code",
   "execution_count": 108,
   "metadata": {},
   "outputs": [
    {
     "name": "stdout",
     "output_type": "stream",
     "text": [
      "2021-02-25 00:00:00\n",
      "2021-02-26 00:00:00\n",
      "2021-02-27 00:00:00\n",
      "2021-02-28 00:00:00\n",
      "2021-03-01 00:00:00\n",
      "2021-03-02 00:00:00\n",
      "2021-03-03 00:00:00\n",
      "2021-03-04 00:00:00\n",
      "2021-03-05 00:00:00\n",
      "2021-03-06 00:00:00\n"
     ]
    }
   ],
   "source": [
    "for idx in fac01.index :\n",
    "    print(idx)"
   ]
  },
  {
   "cell_type": "markdown",
   "metadata": {},
   "source": [
    "- Series indexing"
   ]
  },
  {
   "cell_type": "code",
   "execution_count": 109,
   "metadata": {},
   "outputs": [
    {
     "data": {
      "text/plain": [
       "2021-02-25    40\n",
       "2021-02-26    51\n",
       "2021-02-27    57\n",
       "2021-02-28    54\n",
       "2021-03-01    46\n",
       "2021-03-02    58\n",
       "2021-03-03    49\n",
       "2021-03-04    46\n",
       "2021-03-05    51\n",
       "2021-03-06    51\n",
       "dtype: int64"
      ]
     },
     "execution_count": 109,
     "metadata": {},
     "output_type": "execute_result"
    }
   ],
   "source": [
    "fac01"
   ]
  },
  {
   "cell_type": "code",
   "execution_count": 110,
   "metadata": {},
   "outputs": [
    {
     "data": {
      "text/plain": [
       "51"
      ]
     },
     "execution_count": 110,
     "metadata": {},
     "output_type": "execute_result"
    }
   ],
   "source": [
    "fac01[1]"
   ]
  },
  {
   "cell_type": "code",
   "execution_count": 112,
   "metadata": {},
   "outputs": [
    {
     "data": {
      "text/plain": [
       "40"
      ]
     },
     "execution_count": 112,
     "metadata": {},
     "output_type": "execute_result"
    }
   ],
   "source": [
    "fac01[datetime.strptime('2021-02-25', '%Y-%m-%d')]"
   ]
  },
  {
   "cell_type": "code",
   "execution_count": 113,
   "metadata": {},
   "outputs": [
    {
     "name": "stdout",
     "output_type": "stream",
     "text": [
      "index + value : \n",
      " a    4000\n",
      "b    3000\n",
      "c    3500\n",
      "d    2000\n",
      "dtype: int64\n",
      "value :  [4000 3000 3500 2000]\n",
      "value type :  <class 'numpy.ndarray'>\n",
      "index :  Index(['a', 'b', 'c', 'd'], dtype='object')\n",
      "index type :  <class 'pandas.core.indexes.base.Index'>\n"
     ]
    }
   ],
   "source": [
    "price_series = pd.Series([4000, 3000, 3500, 2000], index=['a', 'b', 'c', 'd'])\n",
    "seriesInfo(price_series)"
   ]
  },
  {
   "cell_type": "code",
   "execution_count": 116,
   "metadata": {},
   "outputs": [
    {
     "name": "stdout",
     "output_type": "stream",
     "text": [
      "index + value : \n",
      " a    5000\n",
      "b    3000\n",
      "c    3500\n",
      "d    2000\n",
      "dtype: int64\n",
      "value :  [5000 3000 3500 2000]\n",
      "value type :  <class 'numpy.ndarray'>\n",
      "index :  Index(['a', 'b', 'c', 'd'], dtype='object')\n",
      "index type :  <class 'pandas.core.indexes.base.Index'>\n",
      "None\n",
      "index + value : \n",
      " a    6000\n",
      "b    3000\n",
      "c    3500\n",
      "d    2000\n",
      "dtype: int64\n",
      "value :  [6000 3000 3500 2000]\n",
      "value type :  <class 'numpy.ndarray'>\n",
      "index :  Index(['a', 'b', 'c', 'd'], dtype='object')\n",
      "index type :  <class 'pandas.core.indexes.base.Index'>\n",
      "None\n"
     ]
    }
   ],
   "source": [
    "# value값 바꾸기\n",
    "price_series['a']=5000\n",
    "print(seriesInfo(price_series))\n",
    "price_series[0] = 6000\n",
    "print(seriesInfo(price_series))"
   ]
  },
  {
   "cell_type": "code",
   "execution_count": 117,
   "metadata": {},
   "outputs": [
    {
     "name": "stdout",
     "output_type": "stream",
     "text": [
      "index + value : \n",
      " a    6000\n",
      "b    3000\n",
      "c    3500\n",
      "d    2000\n",
      "e    1000\n",
      "dtype: int64\n",
      "value :  [6000 3000 3500 2000 1000]\n",
      "value type :  <class 'numpy.ndarray'>\n",
      "index :  Index(['a', 'b', 'c', 'd', 'e'], dtype='object')\n",
      "index type :  <class 'pandas.core.indexes.base.Index'>\n"
     ]
    }
   ],
   "source": [
    "# index, value값 추가\n",
    "price_series['e'] = 1000\n",
    "seriesInfo(price_series)"
   ]
  },
  {
   "cell_type": "code",
   "execution_count": 118,
   "metadata": {},
   "outputs": [
    {
     "name": "stdout",
     "output_type": "stream",
     "text": [
      "index + value : \n",
      " a    6000\n",
      "b    3000\n",
      "c    3500\n",
      "d    2000\n",
      "dtype: int64\n",
      "value :  [6000 3000 3500 2000]\n",
      "value type :  <class 'numpy.ndarray'>\n",
      "index :  Index(['a', 'b', 'c', 'd'], dtype='object')\n",
      "index type :  <class 'pandas.core.indexes.base.Index'>\n"
     ]
    }
   ],
   "source": [
    "# index, value값 삭제\n",
    "del price_series['e']\n",
    "seriesInfo(price_series)"
   ]
  },
  {
   "cell_type": "code",
   "execution_count": 120,
   "metadata": {},
   "outputs": [
    {
     "name": "stdout",
     "output_type": "stream",
     "text": [
      "index + value : \n",
      " a    6000.0\n",
      "b    3000.0\n",
      "c    3500.0\n",
      "d    2000.0\n",
      "e       NaN\n",
      "dtype: float64\n",
      "value :  [6000. 3000. 3500. 2000.   nan]\n",
      "value type :  <class 'numpy.ndarray'>\n",
      "index :  Index(['a', 'b', 'c', 'd', 'e'], dtype='object')\n",
      "index type :  <class 'pandas.core.indexes.base.Index'>\n"
     ]
    }
   ],
   "source": [
    "# null값 추가\n",
    "price_series['e'] = np.NaN\n",
    "seriesInfo(price_series)"
   ]
  },
  {
   "cell_type": "code",
   "execution_count": 121,
   "metadata": {},
   "outputs": [
    {
     "data": {
      "text/plain": [
       "a    False\n",
       "b    False\n",
       "c    False\n",
       "d    False\n",
       "e     True\n",
       "dtype: bool"
      ]
     },
     "execution_count": 121,
     "metadata": {},
     "output_type": "execute_result"
    }
   ],
   "source": [
    "# null o --> True\n",
    "pd.isnull(price_series)"
   ]
  },
  {
   "cell_type": "code",
   "execution_count": 126,
   "metadata": {},
   "outputs": [],
   "source": [
    "ser01 = pd.Series([100, 200, 300, 400], index=['a','b','c','d'])\n",
    "ser02 = pd.Series([500, 600, 700, 800], index=['a','b','e','d'])"
   ]
  },
  {
   "cell_type": "code",
   "execution_count": 129,
   "metadata": {},
   "outputs": [
    {
     "data": {
      "text/plain": [
       "a     600.0\n",
       "b     800.0\n",
       "c       NaN\n",
       "d    1200.0\n",
       "e       NaN\n",
       "dtype: float64"
      ]
     },
     "execution_count": 129,
     "metadata": {},
     "output_type": "execute_result"
    }
   ],
   "source": [
    "# 연산--> +\n",
    "ser03 = ser01 + ser02\n",
    "ser03"
   ]
  },
  {
   "cell_type": "code",
   "execution_count": 130,
   "metadata": {},
   "outputs": [
    {
     "data": {
      "text/plain": [
       "a     600.0\n",
       "b     800.0\n",
       "c     300.0\n",
       "d    1200.0\n",
       "e     700.0\n",
       "dtype: float64"
      ]
     },
     "execution_count": 130,
     "metadata": {},
     "output_type": "execute_result"
    }
   ],
   "source": [
    "# 연산--> .add\n",
    "ser04 = ser01.add(ser02, fill_value=0)\n",
    "ser04"
   ]
  },
  {
   "cell_type": "code",
   "execution_count": 135,
   "metadata": {},
   "outputs": [
    {
     "name": "stdout",
     "output_type": "stream",
     "text": [
      "index + value : \n",
      " a     600.0\n",
      "b     800.0\n",
      "c       0.0\n",
      "d    1200.0\n",
      "e       0.0\n",
      "dtype: float64\n",
      "value :  [ 600.  800.    0. 1200.    0.]\n",
      "value type :  <class 'numpy.ndarray'>\n",
      "index :  Index(['a', 'b', 'c', 'd', 'e'], dtype='object')\n",
      "index type :  <class 'pandas.core.indexes.base.Index'>\n",
      "None\n",
      "index + value : \n",
      " a     600.000000\n",
      "b     800.000000\n",
      "c     866.666667\n",
      "d    1200.000000\n",
      "e     866.666667\n",
      "dtype: float64\n",
      "value :  [ 600.          800.          866.66666667 1200.          866.66666667]\n",
      "value type :  <class 'numpy.ndarray'>\n",
      "index :  Index(['a', 'b', 'c', 'd', 'e'], dtype='object')\n",
      "index type :  <class 'pandas.core.indexes.base.Index'>\n",
      "None\n"
     ]
    }
   ],
   "source": [
    "# 결측값\n",
    "zser = ser03.fillna(0)\n",
    "print(seriesInfo(zser))\n",
    "zser = ser03.fillna(ser03.mean())\n",
    "print(seriesInfo(zser))"
   ]
  },
  {
   "cell_type": "code",
   "execution_count": 140,
   "metadata": {},
   "outputs": [
    {
     "name": "stdout",
     "output_type": "stream",
     "text": [
      "a    False\n",
      "b    False\n",
      "c     True\n",
      "d    False\n",
      "e     True\n",
      "dtype: bool\n"
     ]
    },
    {
     "data": {
      "text/plain": [
       "c   NaN\n",
       "e   NaN\n",
       "dtype: float64"
      ]
     },
     "execution_count": 140,
     "metadata": {},
     "output_type": "execute_result"
    }
   ],
   "source": [
    "# subset\n",
    "print(pd.isnull(ser03))\n",
    "subset = ser03[pd.isnull(ser03)]\n",
    "subset"
   ]
  },
  {
   "cell_type": "code",
   "execution_count": 139,
   "metadata": {},
   "outputs": [
    {
     "name": "stdout",
     "output_type": "stream",
     "text": [
      "a     True\n",
      "b     True\n",
      "c    False\n",
      "d     True\n",
      "e    False\n",
      "dtype: bool\n"
     ]
    },
    {
     "data": {
      "text/plain": [
       "a     600.0\n",
       "b     800.0\n",
       "d    1200.0\n",
       "dtype: float64"
      ]
     },
     "execution_count": 139,
     "metadata": {},
     "output_type": "execute_result"
    }
   ],
   "source": [
    "print(pd.notnull(ser03))\n",
    "subset = ser03[pd.notnull(ser03)]\n",
    "subset"
   ]
  },
  {
   "cell_type": "code",
   "execution_count": 155,
   "metadata": {},
   "outputs": [
    {
     "name": "stdout",
     "output_type": "stream",
     "text": [
      "index + value : \n",
      " a     600.0\n",
      "b     800.0\n",
      "c     300.0\n",
      "d    1200.0\n",
      "e     700.0\n",
      "dtype: float64\n",
      "value :  [ 600.  800.  300. 1200.  700.]\n",
      "value type :  <class 'numpy.ndarray'>\n",
      "index :  Index(['a', 'b', 'c', 'd', 'e'], dtype='object')\n",
      "index type :  <class 'pandas.core.indexes.base.Index'>\n",
      "None\n",
      "a    600.0\n",
      "b    800.0\n",
      "dtype: float64\n",
      "a    600.0\n",
      "c    300.0\n",
      "dtype: float64\n",
      "c    300.0\n",
      "a    600.0\n",
      "dtype: float64\n",
      "a    600.0\n",
      "b    800.0\n",
      "c    300.0\n",
      "dtype: float64\n",
      "d    1200.0\n",
      "b     800.0\n",
      "dtype: float64\n"
     ]
    }
   ],
   "source": [
    "print(seriesInfo(ser04))\n",
    "# 배열인덱싱\n",
    "print(ser04[0:2])\n",
    "# 라벨인덱싱\n",
    "print(ser04[['a', 'c']])\n",
    "print(ser04[['c', 'a']])\n",
    "print(ser04['a':'c'])\n",
    "print(ser04[[3,1]])"
   ]
  },
  {
   "cell_type": "code",
   "execution_count": 156,
   "metadata": {},
   "outputs": [
    {
     "data": {
      "text/plain": [
       "0    10\n",
       "1    20\n",
       "2    30\n",
       "3    40\n",
       "dtype: int64"
      ]
     },
     "execution_count": 156,
     "metadata": {},
     "output_type": "execute_result"
    }
   ],
   "source": [
    "tuple_ser = pd.Series((10, 20, 30, 40))\n",
    "tuple_ser"
   ]
  },
  {
   "cell_type": "code",
   "execution_count": 159,
   "metadata": {},
   "outputs": [
    {
     "data": {
      "text/plain": [
       "0    40\n",
       "1    10\n",
       "2    20\n",
       "3    30\n",
       "dtype: int64"
      ]
     },
     "execution_count": 159,
     "metadata": {},
     "output_type": "execute_result"
    }
   ],
   "source": [
    "# set은 순서가 없기때문에 list로 형변환을 시켜 순서를 넣어줘야 함\n",
    "set_ser = pd.Series(list({10, 20, 30, 40}))\n",
    "set_ser"
   ]
  },
  {
   "cell_type": "markdown",
   "metadata": {},
   "source": [
    "### DataFrame"
   ]
  },
  {
   "cell_type": "code",
   "execution_count": 162,
   "metadata": {},
   "outputs": [
    {
     "data": {
      "text/html": [
       "<div>\n",
       "<style scoped>\n",
       "    .dataframe tbody tr th:only-of-type {\n",
       "        vertical-align: middle;\n",
       "    }\n",
       "\n",
       "    .dataframe tbody tr th {\n",
       "        vertical-align: top;\n",
       "    }\n",
       "\n",
       "    .dataframe thead th {\n",
       "        text-align: right;\n",
       "    }\n",
       "</style>\n",
       "<table border=\"1\" class=\"dataframe\">\n",
       "  <thead>\n",
       "    <tr style=\"text-align: right;\">\n",
       "      <th></th>\n",
       "      <th>name</th>\n",
       "      <th>birth</th>\n",
       "    </tr>\n",
       "  </thead>\n",
       "  <tbody>\n",
       "    <tr>\n",
       "      <th>0</th>\n",
       "      <td>ruby</td>\n",
       "      <td>2000</td>\n",
       "    </tr>\n",
       "    <tr>\n",
       "      <th>1</th>\n",
       "      <td>dia</td>\n",
       "      <td>2001</td>\n",
       "    </tr>\n",
       "    <tr>\n",
       "      <th>2</th>\n",
       "      <td>은영</td>\n",
       "      <td>2002</td>\n",
       "    </tr>\n",
       "    <tr>\n",
       "      <th>3</th>\n",
       "      <td>녕</td>\n",
       "      <td>2003</td>\n",
       "    </tr>\n",
       "    <tr>\n",
       "      <th>4</th>\n",
       "      <td>jslim</td>\n",
       "      <td>2004</td>\n",
       "    </tr>\n",
       "  </tbody>\n",
       "</table>\n",
       "</div>"
      ],
      "text/plain": [
       "    name  birth\n",
       "0   ruby   2000\n",
       "1    dia   2001\n",
       "2     은영   2002\n",
       "3      녕   2003\n",
       "4  jslim   2004"
      ]
     },
     "metadata": {},
     "output_type": "display_data"
    }
   ],
   "source": [
    "data = {'name' : ['ruby', 'dia', '은영', '녕', 'jslim'], 'birth' : [2000,2001,2002,2003,2004]}\n",
    "userDF = pd.DataFrame(data)\n",
    "display(userDF)"
   ]
  },
  {
   "cell_type": "code",
   "execution_count": 178,
   "metadata": {},
   "outputs": [
    {
     "name": "stdout",
     "output_type": "stream",
     "text": [
      "(5, 2)\n",
      "10\n",
      "2\n",
      "RangeIndex(start=0, stop=5, step=1)\n",
      "Index(['name', 'birth'], dtype='object')\n",
      "[['ruby' 2000]\n",
      " ['dia' 2001]\n",
      " ['은영' 2002]\n",
      " ['녕' 2003]\n",
      " ['jslim' 2004]]\n",
      "<class 'numpy.ndarray'>\n"
     ]
    }
   ],
   "source": [
    "print(userDF.shape)\n",
    "print(userDF.size)\n",
    "print(userDF.ndim)\n",
    "print(userDF.index)\n",
    "print(userDF.columns)\n",
    "print(userDF.values)\n",
    "print(type(userDF.values))"
   ]
  },
  {
   "cell_type": "code",
   "execution_count": 175,
   "metadata": {},
   "outputs": [],
   "source": [
    "def frameInfo(df) :\n",
    "    print('shape : {}'.format(df.shape))\n",
    "    print('size : {}'.format(df.size))\n",
    "    print('ndim : {}'.format(df.ndim))\n",
    "    print('index : {}'.format(df.index))\n",
    "    print('index type : {}'.format(type(df.index)))\n",
    "    print('columns : {}'.format(df.columns))\n",
    "    print('columns type : {}'.format(type(df.columns)))"
   ]
  },
  {
   "cell_type": "code",
   "execution_count": 183,
   "metadata": {},
   "outputs": [],
   "source": [
    "data = {\n",
    "    \"2021\" : [9910293, 8384050, 2938485, 1203948],\n",
    "    \"2018\" : [8910293, 7384050, 5938485, 3203948],\n",
    "    \"2016\" : [7910293, 5384050, 7938485, 6203948],\n",
    "    \"2014\" : [5910293, 3384050, 4938485, 4203948],\n",
    "    \"지역\" : ['수도권' , '경상권' , '수도권' , '경상권'],\n",
    "    \"증가율\" : [0.2343 , 0.0434 , 0.0944 , 0.0034]\n",
    "}"
   ]
  },
  {
   "cell_type": "code",
   "execution_count": 186,
   "metadata": {},
   "outputs": [
    {
     "data": {
      "text/html": [
       "<div>\n",
       "<style scoped>\n",
       "    .dataframe tbody tr th:only-of-type {\n",
       "        vertical-align: middle;\n",
       "    }\n",
       "\n",
       "    .dataframe tbody tr th {\n",
       "        vertical-align: top;\n",
       "    }\n",
       "\n",
       "    .dataframe thead th {\n",
       "        text-align: right;\n",
       "    }\n",
       "</style>\n",
       "<table border=\"1\" class=\"dataframe\">\n",
       "  <thead>\n",
       "    <tr style=\"text-align: right;\">\n",
       "      <th></th>\n",
       "      <th>지역</th>\n",
       "      <th>2014</th>\n",
       "      <th>2016</th>\n",
       "      <th>2018</th>\n",
       "      <th>2021</th>\n",
       "      <th>증가율</th>\n",
       "    </tr>\n",
       "  </thead>\n",
       "  <tbody>\n",
       "    <tr>\n",
       "      <th>서울</th>\n",
       "      <td>수도권</td>\n",
       "      <td>5910293</td>\n",
       "      <td>7910293</td>\n",
       "      <td>8910293</td>\n",
       "      <td>9910293</td>\n",
       "      <td>0.2343</td>\n",
       "    </tr>\n",
       "    <tr>\n",
       "      <th>부산</th>\n",
       "      <td>경상권</td>\n",
       "      <td>3384050</td>\n",
       "      <td>5384050</td>\n",
       "      <td>7384050</td>\n",
       "      <td>8384050</td>\n",
       "      <td>0.0434</td>\n",
       "    </tr>\n",
       "    <tr>\n",
       "      <th>경기</th>\n",
       "      <td>수도권</td>\n",
       "      <td>4938485</td>\n",
       "      <td>7938485</td>\n",
       "      <td>5938485</td>\n",
       "      <td>2938485</td>\n",
       "      <td>0.0944</td>\n",
       "    </tr>\n",
       "    <tr>\n",
       "      <th>대구</th>\n",
       "      <td>경상권</td>\n",
       "      <td>4203948</td>\n",
       "      <td>6203948</td>\n",
       "      <td>3203948</td>\n",
       "      <td>1203948</td>\n",
       "      <td>0.0034</td>\n",
       "    </tr>\n",
       "  </tbody>\n",
       "</table>\n",
       "</div>"
      ],
      "text/plain": [
       "     지역     2014     2016     2018     2021     증가율\n",
       "서울  수도권  5910293  7910293  8910293  9910293  0.2343\n",
       "부산  경상권  3384050  5384050  7384050  8384050  0.0434\n",
       "경기  수도권  4938485  7938485  5938485  2938485  0.0944\n",
       "대구  경상권  4203948  6203948  3203948  1203948  0.0034"
      ]
     },
     "execution_count": 186,
     "metadata": {},
     "output_type": "execute_result"
    }
   ],
   "source": [
    "columns = [\"지역\",\"2014\",\"2016\",\"2018\",\"2021\",\"증가율\",]\n",
    "popDF = pd.DataFrame(data, index=[\"서울\",\"부산\",\"경기\",\"대구\"], columns = columns)\n",
    "popDF"
   ]
  },
  {
   "cell_type": "code",
   "execution_count": 187,
   "metadata": {},
   "outputs": [
    {
     "name": "stdout",
     "output_type": "stream",
     "text": [
      "shape : (4, 6)\n",
      "size : 24\n",
      "ndim : 2\n",
      "index : Index(['서울', '부산', '경기', '대구'], dtype='object')\n",
      "index type : <class 'pandas.core.indexes.base.Index'>\n",
      "columns : Index(['지역', '2014', '2016', '2018', '2021', '증가율'], dtype='object')\n",
      "columns type : <class 'pandas.core.indexes.base.Index'>\n"
     ]
    }
   ],
   "source": [
    "frameInfo(popDF)"
   ]
  },
  {
   "cell_type": "code",
   "execution_count": 189,
   "metadata": {},
   "outputs": [
    {
     "data": {
      "text/plain": [
       "Index(['서울', '부산', '경기', '대구'], dtype='object')"
      ]
     },
     "execution_count": 189,
     "metadata": {},
     "output_type": "execute_result"
    }
   ],
   "source": [
    "popDF.index"
   ]
  },
  {
   "cell_type": "code",
   "execution_count": 192,
   "metadata": {},
   "outputs": [
    {
     "data": {
      "text/plain": [
       "Index(['지역', '2014', '2016', '2018', '2021', '증가율'], dtype='object')"
      ]
     },
     "execution_count": 192,
     "metadata": {},
     "output_type": "execute_result"
    }
   ],
   "source": [
    "popDF.columns"
   ]
  },
  {
   "cell_type": "code",
   "execution_count": 198,
   "metadata": {},
   "outputs": [
    {
     "data": {
      "text/html": [
       "<div>\n",
       "<style scoped>\n",
       "    .dataframe tbody tr th:only-of-type {\n",
       "        vertical-align: middle;\n",
       "    }\n",
       "\n",
       "    .dataframe tbody tr th {\n",
       "        vertical-align: top;\n",
       "    }\n",
       "\n",
       "    .dataframe thead th {\n",
       "        text-align: right;\n",
       "    }\n",
       "</style>\n",
       "<table border=\"1\" class=\"dataframe\">\n",
       "  <thead>\n",
       "    <tr style=\"text-align: right;\">\n",
       "      <th>feature</th>\n",
       "      <th>지역</th>\n",
       "      <th>2014</th>\n",
       "      <th>2016</th>\n",
       "      <th>2018</th>\n",
       "      <th>2021</th>\n",
       "      <th>증가율</th>\n",
       "    </tr>\n",
       "    <tr>\n",
       "      <th>city</th>\n",
       "      <th></th>\n",
       "      <th></th>\n",
       "      <th></th>\n",
       "      <th></th>\n",
       "      <th></th>\n",
       "      <th></th>\n",
       "    </tr>\n",
       "  </thead>\n",
       "  <tbody>\n",
       "    <tr>\n",
       "      <th>서울</th>\n",
       "      <td>수도권</td>\n",
       "      <td>5910293</td>\n",
       "      <td>7910293</td>\n",
       "      <td>8910293</td>\n",
       "      <td>9910293</td>\n",
       "      <td>0.2343</td>\n",
       "    </tr>\n",
       "    <tr>\n",
       "      <th>부산</th>\n",
       "      <td>경상권</td>\n",
       "      <td>3384050</td>\n",
       "      <td>5384050</td>\n",
       "      <td>7384050</td>\n",
       "      <td>8384050</td>\n",
       "      <td>0.0434</td>\n",
       "    </tr>\n",
       "    <tr>\n",
       "      <th>경기</th>\n",
       "      <td>수도권</td>\n",
       "      <td>4938485</td>\n",
       "      <td>7938485</td>\n",
       "      <td>5938485</td>\n",
       "      <td>2938485</td>\n",
       "      <td>0.0944</td>\n",
       "    </tr>\n",
       "    <tr>\n",
       "      <th>대구</th>\n",
       "      <td>경상권</td>\n",
       "      <td>4203948</td>\n",
       "      <td>6203948</td>\n",
       "      <td>3203948</td>\n",
       "      <td>1203948</td>\n",
       "      <td>0.0034</td>\n",
       "    </tr>\n",
       "  </tbody>\n",
       "</table>\n",
       "</div>"
      ],
      "text/plain": [
       "feature   지역     2014     2016     2018     2021     증가율\n",
       "city                                                    \n",
       "서울       수도권  5910293  7910293  8910293  9910293  0.2343\n",
       "부산       경상권  3384050  5384050  7384050  8384050  0.0434\n",
       "경기       수도권  4938485  7938485  5938485  2938485  0.0944\n",
       "대구       경상권  4203948  6203948  3203948  1203948  0.0034"
      ]
     },
     "metadata": {},
     "output_type": "display_data"
    },
    {
     "data": {
      "text/html": [
       "<div>\n",
       "<style scoped>\n",
       "    .dataframe tbody tr th:only-of-type {\n",
       "        vertical-align: middle;\n",
       "    }\n",
       "\n",
       "    .dataframe tbody tr th {\n",
       "        vertical-align: top;\n",
       "    }\n",
       "\n",
       "    .dataframe thead th {\n",
       "        text-align: right;\n",
       "    }\n",
       "</style>\n",
       "<table border=\"1\" class=\"dataframe\">\n",
       "  <thead>\n",
       "    <tr style=\"text-align: right;\">\n",
       "      <th>city</th>\n",
       "      <th>서울</th>\n",
       "      <th>부산</th>\n",
       "      <th>경기</th>\n",
       "      <th>대구</th>\n",
       "    </tr>\n",
       "    <tr>\n",
       "      <th>feature</th>\n",
       "      <th></th>\n",
       "      <th></th>\n",
       "      <th></th>\n",
       "      <th></th>\n",
       "    </tr>\n",
       "  </thead>\n",
       "  <tbody>\n",
       "    <tr>\n",
       "      <th>지역</th>\n",
       "      <td>수도권</td>\n",
       "      <td>경상권</td>\n",
       "      <td>수도권</td>\n",
       "      <td>경상권</td>\n",
       "    </tr>\n",
       "    <tr>\n",
       "      <th>2014</th>\n",
       "      <td>5910293</td>\n",
       "      <td>3384050</td>\n",
       "      <td>4938485</td>\n",
       "      <td>4203948</td>\n",
       "    </tr>\n",
       "    <tr>\n",
       "      <th>2016</th>\n",
       "      <td>7910293</td>\n",
       "      <td>5384050</td>\n",
       "      <td>7938485</td>\n",
       "      <td>6203948</td>\n",
       "    </tr>\n",
       "    <tr>\n",
       "      <th>2018</th>\n",
       "      <td>8910293</td>\n",
       "      <td>7384050</td>\n",
       "      <td>5938485</td>\n",
       "      <td>3203948</td>\n",
       "    </tr>\n",
       "    <tr>\n",
       "      <th>2021</th>\n",
       "      <td>9910293</td>\n",
       "      <td>8384050</td>\n",
       "      <td>2938485</td>\n",
       "      <td>1203948</td>\n",
       "    </tr>\n",
       "    <tr>\n",
       "      <th>증가율</th>\n",
       "      <td>0.2343</td>\n",
       "      <td>0.0434</td>\n",
       "      <td>0.0944</td>\n",
       "      <td>0.0034</td>\n",
       "    </tr>\n",
       "  </tbody>\n",
       "</table>\n",
       "</div>"
      ],
      "text/plain": [
       "city          서울       부산       경기       대구\n",
       "feature                                    \n",
       "지역           수도권      경상권      수도권      경상권\n",
       "2014     5910293  3384050  4938485  4203948\n",
       "2016     7910293  5384050  7938485  6203948\n",
       "2018     8910293  7384050  5938485  3203948\n",
       "2021     9910293  8384050  2938485  1203948\n",
       "증가율       0.2343   0.0434   0.0944   0.0034"
      ]
     },
     "metadata": {},
     "output_type": "display_data"
    }
   ],
   "source": [
    "# index의 name 설정\n",
    "popDF.index.name=\"city\"\n",
    "popDF.columns.name = \"feature\"\n",
    "display(popDF)\n",
    "display(popDF.T)"
   ]
  },
  {
   "cell_type": "markdown",
   "metadata": {},
   "source": [
    "### 다음 조건을 만족하는 임의의 데이터프레임을 만들어보자\n",
    "- 열의 갯수와 행의 갯수가 각각 5개 이상이여야 한다.\n",
    "- 열에는 정수, 문자열, 실수, 날짜 데이터가 각각 1개 이상 포함되어야 한다."
   ]
  },
  {
   "cell_type": "code",
   "execution_count": 199,
   "metadata": {},
   "outputs": [],
   "source": [
    "# 정수컬럼\n",
    "random_int = np.random.randint(1, 100, 10)\n",
    "# 실수컬럼(표준정규분포)\n",
    "random_gao = np.random.randn(10)\n",
    "# 실수 컬럼\n",
    "random_uni = np.random.rand(10)\n",
    "# 날짜 컬럼\n",
    "startDay = datetime(2021,2,25)\n",
    "years = [startDay + timedelta(day) for day in range(0, 10)]\n",
    "# 문자 컬럼\n",
    "random_moon = [\"apple\", \"banana\", \"mango\", \"berry\", \"melon\", \"cherry\", \"pineapple\", \"peach\", \"blueberry\", \"avocado\"]"
   ]
  },
  {
   "cell_type": "code",
   "execution_count": 202,
   "metadata": {},
   "outputs": [
    {
     "data": {
      "text/html": [
       "<div>\n",
       "<style scoped>\n",
       "    .dataframe tbody tr th:only-of-type {\n",
       "        vertical-align: middle;\n",
       "    }\n",
       "\n",
       "    .dataframe tbody tr th {\n",
       "        vertical-align: top;\n",
       "    }\n",
       "\n",
       "    .dataframe thead th {\n",
       "        text-align: right;\n",
       "    }\n",
       "</style>\n",
       "<table border=\"1\" class=\"dataframe\">\n",
       "  <thead>\n",
       "    <tr style=\"text-align: right;\">\n",
       "      <th></th>\n",
       "      <th>정수</th>\n",
       "      <th>실수1</th>\n",
       "      <th>실수2</th>\n",
       "      <th>문자</th>\n",
       "      <th>날짜</th>\n",
       "    </tr>\n",
       "  </thead>\n",
       "  <tbody>\n",
       "    <tr>\n",
       "      <th>0</th>\n",
       "      <td>6</td>\n",
       "      <td>-0.523359</td>\n",
       "      <td>0.659371</td>\n",
       "      <td>apple</td>\n",
       "      <td>2021-02-25</td>\n",
       "    </tr>\n",
       "    <tr>\n",
       "      <th>1</th>\n",
       "      <td>48</td>\n",
       "      <td>-0.403826</td>\n",
       "      <td>0.925632</td>\n",
       "      <td>banana</td>\n",
       "      <td>2021-02-26</td>\n",
       "    </tr>\n",
       "    <tr>\n",
       "      <th>2</th>\n",
       "      <td>36</td>\n",
       "      <td>-0.089557</td>\n",
       "      <td>0.258317</td>\n",
       "      <td>mango</td>\n",
       "      <td>2021-02-27</td>\n",
       "    </tr>\n",
       "    <tr>\n",
       "      <th>3</th>\n",
       "      <td>23</td>\n",
       "      <td>0.254172</td>\n",
       "      <td>0.488167</td>\n",
       "      <td>berry</td>\n",
       "      <td>2021-02-28</td>\n",
       "    </tr>\n",
       "    <tr>\n",
       "      <th>4</th>\n",
       "      <td>54</td>\n",
       "      <td>0.222466</td>\n",
       "      <td>0.301571</td>\n",
       "      <td>melon</td>\n",
       "      <td>2021-03-01</td>\n",
       "    </tr>\n",
       "    <tr>\n",
       "      <th>5</th>\n",
       "      <td>59</td>\n",
       "      <td>0.381257</td>\n",
       "      <td>0.801714</td>\n",
       "      <td>cherry</td>\n",
       "      <td>2021-03-02</td>\n",
       "    </tr>\n",
       "    <tr>\n",
       "      <th>6</th>\n",
       "      <td>87</td>\n",
       "      <td>0.259845</td>\n",
       "      <td>0.772216</td>\n",
       "      <td>pineapple</td>\n",
       "      <td>2021-03-03</td>\n",
       "    </tr>\n",
       "    <tr>\n",
       "      <th>7</th>\n",
       "      <td>54</td>\n",
       "      <td>-0.198669</td>\n",
       "      <td>0.909934</td>\n",
       "      <td>peach</td>\n",
       "      <td>2021-03-04</td>\n",
       "    </tr>\n",
       "    <tr>\n",
       "      <th>8</th>\n",
       "      <td>15</td>\n",
       "      <td>-0.126438</td>\n",
       "      <td>0.138101</td>\n",
       "      <td>blueberry</td>\n",
       "      <td>2021-03-05</td>\n",
       "    </tr>\n",
       "    <tr>\n",
       "      <th>9</th>\n",
       "      <td>45</td>\n",
       "      <td>-0.320419</td>\n",
       "      <td>0.940905</td>\n",
       "      <td>avocado</td>\n",
       "      <td>2021-03-06</td>\n",
       "    </tr>\n",
       "  </tbody>\n",
       "</table>\n",
       "</div>"
      ],
      "text/plain": [
       "   정수       실수1       실수2         문자         날짜\n",
       "0   6 -0.523359  0.659371      apple 2021-02-25\n",
       "1  48 -0.403826  0.925632     banana 2021-02-26\n",
       "2  36 -0.089557  0.258317      mango 2021-02-27\n",
       "3  23  0.254172  0.488167      berry 2021-02-28\n",
       "4  54  0.222466  0.301571      melon 2021-03-01\n",
       "5  59  0.381257  0.801714     cherry 2021-03-02\n",
       "6  87  0.259845  0.772216  pineapple 2021-03-03\n",
       "7  54 -0.198669  0.909934      peach 2021-03-04\n",
       "8  15 -0.126438  0.138101  blueberry 2021-03-05\n",
       "9  45 -0.320419  0.940905    avocado 2021-03-06"
      ]
     },
     "execution_count": 202,
     "metadata": {},
     "output_type": "execute_result"
    }
   ],
   "source": [
    "data = {\n",
    "    '정수' : random_int,\n",
    "    '실수1': random_gao,\n",
    "    '실수2':random_uni,\n",
    "    '문자': random_moon,\n",
    "    '날짜': years,\n",
    "}\n",
    "\n",
    "testDF = pd.DataFrame(data)\n",
    "testDF"
   ]
  },
  {
   "cell_type": "code",
   "execution_count": 257,
   "metadata": {},
   "outputs": [
    {
     "data": {
      "text/html": [
       "<div>\n",
       "<style scoped>\n",
       "    .dataframe tbody tr th:only-of-type {\n",
       "        vertical-align: middle;\n",
       "    }\n",
       "\n",
       "    .dataframe tbody tr th {\n",
       "        vertical-align: top;\n",
       "    }\n",
       "\n",
       "    .dataframe thead th {\n",
       "        text-align: right;\n",
       "    }\n",
       "</style>\n",
       "<table border=\"1\" class=\"dataframe\">\n",
       "  <thead>\n",
       "    <tr style=\"text-align: right;\">\n",
       "      <th>feature</th>\n",
       "      <th>지역</th>\n",
       "      <th>2014</th>\n",
       "      <th>2016</th>\n",
       "      <th>2018</th>\n",
       "      <th>2021</th>\n",
       "      <th>증가율</th>\n",
       "      <th>2014-2016 증가율</th>\n",
       "    </tr>\n",
       "    <tr>\n",
       "      <th>city</th>\n",
       "      <th></th>\n",
       "      <th></th>\n",
       "      <th></th>\n",
       "      <th></th>\n",
       "      <th></th>\n",
       "      <th></th>\n",
       "      <th></th>\n",
       "    </tr>\n",
       "  </thead>\n",
       "  <tbody>\n",
       "    <tr>\n",
       "      <th>서울</th>\n",
       "      <td>수도권</td>\n",
       "      <td>5910293</td>\n",
       "      <td>7910293</td>\n",
       "      <td>8910293</td>\n",
       "      <td>9910293</td>\n",
       "      <td>0.2343</td>\n",
       "      <td>33.84</td>\n",
       "    </tr>\n",
       "    <tr>\n",
       "      <th>부산</th>\n",
       "      <td>경상권</td>\n",
       "      <td>3384050</td>\n",
       "      <td>5384050</td>\n",
       "      <td>7384050</td>\n",
       "      <td>8384050</td>\n",
       "      <td>0.0434</td>\n",
       "      <td>59.10</td>\n",
       "    </tr>\n",
       "    <tr>\n",
       "      <th>경기</th>\n",
       "      <td>수도권</td>\n",
       "      <td>4938485</td>\n",
       "      <td>7938485</td>\n",
       "      <td>5938485</td>\n",
       "      <td>2938485</td>\n",
       "      <td>0.0944</td>\n",
       "      <td>60.75</td>\n",
       "    </tr>\n",
       "    <tr>\n",
       "      <th>대구</th>\n",
       "      <td>경상권</td>\n",
       "      <td>4203948</td>\n",
       "      <td>6203948</td>\n",
       "      <td>3203948</td>\n",
       "      <td>1203948</td>\n",
       "      <td>0.0034</td>\n",
       "      <td>47.57</td>\n",
       "    </tr>\n",
       "  </tbody>\n",
       "</table>\n",
       "</div>"
      ],
      "text/plain": [
       "feature   지역     2014     2016     2018     2021     증가율  2014-2016 증가율\n",
       "city                                                                   \n",
       "서울       수도권  5910293  7910293  8910293  9910293  0.2343          33.84\n",
       "부산       경상권  3384050  5384050  7384050  8384050  0.0434          59.10\n",
       "경기       수도권  4938485  7938485  5938485  2938485  0.0944          60.75\n",
       "대구       경상권  4203948  6203948  3203948  1203948  0.0034          47.57"
      ]
     },
     "execution_count": 257,
     "metadata": {},
     "output_type": "execute_result"
    }
   ],
   "source": [
    "# 새로운 컬럼 추가\n",
    "popDF['2014-2016 증가율'] = ((popDF['2016'] - popDF['2014']) / popDF['2014'] * 100).round(2)\n",
    "popDF"
   ]
  },
  {
   "cell_type": "code",
   "execution_count": 258,
   "metadata": {},
   "outputs": [
    {
     "data": {
      "text/html": [
       "<div>\n",
       "<style scoped>\n",
       "    .dataframe tbody tr th:only-of-type {\n",
       "        vertical-align: middle;\n",
       "    }\n",
       "\n",
       "    .dataframe tbody tr th {\n",
       "        vertical-align: top;\n",
       "    }\n",
       "\n",
       "    .dataframe thead th {\n",
       "        text-align: right;\n",
       "    }\n",
       "</style>\n",
       "<table border=\"1\" class=\"dataframe\">\n",
       "  <thead>\n",
       "    <tr style=\"text-align: right;\">\n",
       "      <th>feature</th>\n",
       "      <th>지역</th>\n",
       "      <th>2014</th>\n",
       "      <th>2016</th>\n",
       "      <th>2018</th>\n",
       "      <th>2021</th>\n",
       "      <th>증가율</th>\n",
       "    </tr>\n",
       "    <tr>\n",
       "      <th>city</th>\n",
       "      <th></th>\n",
       "      <th></th>\n",
       "      <th></th>\n",
       "      <th></th>\n",
       "      <th></th>\n",
       "      <th></th>\n",
       "    </tr>\n",
       "  </thead>\n",
       "  <tbody>\n",
       "    <tr>\n",
       "      <th>서울</th>\n",
       "      <td>수도권</td>\n",
       "      <td>5910293</td>\n",
       "      <td>7910293</td>\n",
       "      <td>8910293</td>\n",
       "      <td>9910293</td>\n",
       "      <td>0.2343</td>\n",
       "    </tr>\n",
       "    <tr>\n",
       "      <th>부산</th>\n",
       "      <td>경상권</td>\n",
       "      <td>3384050</td>\n",
       "      <td>5384050</td>\n",
       "      <td>7384050</td>\n",
       "      <td>8384050</td>\n",
       "      <td>0.0434</td>\n",
       "    </tr>\n",
       "    <tr>\n",
       "      <th>경기</th>\n",
       "      <td>수도권</td>\n",
       "      <td>4938485</td>\n",
       "      <td>7938485</td>\n",
       "      <td>5938485</td>\n",
       "      <td>2938485</td>\n",
       "      <td>0.0944</td>\n",
       "    </tr>\n",
       "    <tr>\n",
       "      <th>대구</th>\n",
       "      <td>경상권</td>\n",
       "      <td>4203948</td>\n",
       "      <td>6203948</td>\n",
       "      <td>3203948</td>\n",
       "      <td>1203948</td>\n",
       "      <td>0.0034</td>\n",
       "    </tr>\n",
       "  </tbody>\n",
       "</table>\n",
       "</div>"
      ],
      "text/plain": [
       "feature   지역     2014     2016     2018     2021     증가율\n",
       "city                                                    \n",
       "서울       수도권  5910293  7910293  8910293  9910293  0.2343\n",
       "부산       경상권  3384050  5384050  7384050  8384050  0.0434\n",
       "경기       수도권  4938485  7938485  5938485  2938485  0.0944\n",
       "대구       경상권  4203948  6203948  3203948  1203948  0.0034"
      ]
     },
     "execution_count": 258,
     "metadata": {},
     "output_type": "execute_result"
    }
   ],
   "source": [
    "# 컬럼 삭제\n",
    "del popDF['2014-2016 증가율']\n",
    "popDF"
   ]
  },
  {
   "cell_type": "code",
   "execution_count": 219,
   "metadata": {},
   "outputs": [
    {
     "name": "stdout",
     "output_type": "stream",
     "text": [
      "<class 'pandas.core.frame.DataFrame'>\n",
      "<class 'pandas.core.series.Series'>\n",
      "<class 'numpy.ndarray'>\n"
     ]
    }
   ],
   "source": [
    "print(type(popDF[['지역', '증가율']]))\n",
    "print(type(popDF['지역']))\n",
    "print(type(popDF['지역'].values))"
   ]
  },
  {
   "cell_type": "markdown",
   "metadata": {},
   "source": [
    "- 행(row) indexing\n",
    "- 슬라이싱만 가능\n",
    "- 배열 인덱스, 라벨인덱스 가능"
   ]
  },
  {
   "cell_type": "code",
   "execution_count": 222,
   "metadata": {},
   "outputs": [
    {
     "data": {
      "text/html": [
       "<div>\n",
       "<style scoped>\n",
       "    .dataframe tbody tr th:only-of-type {\n",
       "        vertical-align: middle;\n",
       "    }\n",
       "\n",
       "    .dataframe tbody tr th {\n",
       "        vertical-align: top;\n",
       "    }\n",
       "\n",
       "    .dataframe thead th {\n",
       "        text-align: right;\n",
       "    }\n",
       "</style>\n",
       "<table border=\"1\" class=\"dataframe\">\n",
       "  <thead>\n",
       "    <tr style=\"text-align: right;\">\n",
       "      <th>feature</th>\n",
       "      <th>지역</th>\n",
       "      <th>2014</th>\n",
       "      <th>2016</th>\n",
       "      <th>2018</th>\n",
       "      <th>2021</th>\n",
       "      <th>증가율</th>\n",
       "    </tr>\n",
       "    <tr>\n",
       "      <th>city</th>\n",
       "      <th></th>\n",
       "      <th></th>\n",
       "      <th></th>\n",
       "      <th></th>\n",
       "      <th></th>\n",
       "      <th></th>\n",
       "    </tr>\n",
       "  </thead>\n",
       "  <tbody>\n",
       "    <tr>\n",
       "      <th>서울</th>\n",
       "      <td>수도권</td>\n",
       "      <td>5910293</td>\n",
       "      <td>7910293</td>\n",
       "      <td>8910293</td>\n",
       "      <td>9910293</td>\n",
       "      <td>0.2343</td>\n",
       "    </tr>\n",
       "    <tr>\n",
       "      <th>부산</th>\n",
       "      <td>경상권</td>\n",
       "      <td>3384050</td>\n",
       "      <td>5384050</td>\n",
       "      <td>7384050</td>\n",
       "      <td>8384050</td>\n",
       "      <td>0.0434</td>\n",
       "    </tr>\n",
       "    <tr>\n",
       "      <th>경기</th>\n",
       "      <td>수도권</td>\n",
       "      <td>4938485</td>\n",
       "      <td>7938485</td>\n",
       "      <td>5938485</td>\n",
       "      <td>2938485</td>\n",
       "      <td>0.0944</td>\n",
       "    </tr>\n",
       "    <tr>\n",
       "      <th>대구</th>\n",
       "      <td>경상권</td>\n",
       "      <td>4203948</td>\n",
       "      <td>6203948</td>\n",
       "      <td>3203948</td>\n",
       "      <td>1203948</td>\n",
       "      <td>0.0034</td>\n",
       "    </tr>\n",
       "  </tbody>\n",
       "</table>\n",
       "</div>"
      ],
      "text/plain": [
       "feature   지역     2014     2016     2018     2021     증가율\n",
       "city                                                    \n",
       "서울       수도권  5910293  7910293  8910293  9910293  0.2343\n",
       "부산       경상권  3384050  5384050  7384050  8384050  0.0434\n",
       "경기       수도권  4938485  7938485  5938485  2938485  0.0944\n",
       "대구       경상권  4203948  6203948  3203948  1203948  0.0034"
      ]
     },
     "execution_count": 222,
     "metadata": {},
     "output_type": "execute_result"
    }
   ],
   "source": [
    "popDF"
   ]
  },
  {
   "cell_type": "code",
   "execution_count": 231,
   "metadata": {},
   "outputs": [
    {
     "data": {
      "text/html": [
       "<div>\n",
       "<style scoped>\n",
       "    .dataframe tbody tr th:only-of-type {\n",
       "        vertical-align: middle;\n",
       "    }\n",
       "\n",
       "    .dataframe tbody tr th {\n",
       "        vertical-align: top;\n",
       "    }\n",
       "\n",
       "    .dataframe thead th {\n",
       "        text-align: right;\n",
       "    }\n",
       "</style>\n",
       "<table border=\"1\" class=\"dataframe\">\n",
       "  <thead>\n",
       "    <tr style=\"text-align: right;\">\n",
       "      <th>feature</th>\n",
       "      <th>지역</th>\n",
       "      <th>2014</th>\n",
       "      <th>2016</th>\n",
       "      <th>2018</th>\n",
       "      <th>2021</th>\n",
       "      <th>증가율</th>\n",
       "    </tr>\n",
       "    <tr>\n",
       "      <th>city</th>\n",
       "      <th></th>\n",
       "      <th></th>\n",
       "      <th></th>\n",
       "      <th></th>\n",
       "      <th></th>\n",
       "      <th></th>\n",
       "    </tr>\n",
       "  </thead>\n",
       "  <tbody>\n",
       "    <tr>\n",
       "      <th>서울</th>\n",
       "      <td>수도권</td>\n",
       "      <td>5910293</td>\n",
       "      <td>7910293</td>\n",
       "      <td>8910293</td>\n",
       "      <td>9910293</td>\n",
       "      <td>0.2343</td>\n",
       "    </tr>\n",
       "  </tbody>\n",
       "</table>\n",
       "</div>"
      ],
      "text/plain": [
       "feature   지역     2014     2016     2018     2021     증가율\n",
       "city                                                    \n",
       "서울       수도권  5910293  7910293  8910293  9910293  0.2343"
      ]
     },
     "metadata": {},
     "output_type": "display_data"
    },
    {
     "data": {
      "text/html": [
       "<div>\n",
       "<style scoped>\n",
       "    .dataframe tbody tr th:only-of-type {\n",
       "        vertical-align: middle;\n",
       "    }\n",
       "\n",
       "    .dataframe tbody tr th {\n",
       "        vertical-align: top;\n",
       "    }\n",
       "\n",
       "    .dataframe thead th {\n",
       "        text-align: right;\n",
       "    }\n",
       "</style>\n",
       "<table border=\"1\" class=\"dataframe\">\n",
       "  <thead>\n",
       "    <tr style=\"text-align: right;\">\n",
       "      <th>feature</th>\n",
       "      <th>지역</th>\n",
       "      <th>2014</th>\n",
       "      <th>2016</th>\n",
       "      <th>2018</th>\n",
       "      <th>2021</th>\n",
       "      <th>증가율</th>\n",
       "    </tr>\n",
       "    <tr>\n",
       "      <th>city</th>\n",
       "      <th></th>\n",
       "      <th></th>\n",
       "      <th></th>\n",
       "      <th></th>\n",
       "      <th></th>\n",
       "      <th></th>\n",
       "    </tr>\n",
       "  </thead>\n",
       "  <tbody>\n",
       "    <tr>\n",
       "      <th>서울</th>\n",
       "      <td>수도권</td>\n",
       "      <td>5910293</td>\n",
       "      <td>7910293</td>\n",
       "      <td>8910293</td>\n",
       "      <td>9910293</td>\n",
       "      <td>0.2343</td>\n",
       "    </tr>\n",
       "  </tbody>\n",
       "</table>\n",
       "</div>"
      ],
      "text/plain": [
       "feature   지역     2014     2016     2018     2021     증가율\n",
       "city                                                    \n",
       "서울       수도권  5910293  7910293  8910293  9910293  0.2343"
      ]
     },
     "metadata": {},
     "output_type": "display_data"
    }
   ],
   "source": [
    "# 배열인덱싱\n",
    "display(popDF[:1])\n",
    "# 라벨인덱싱\n",
    "display(popDF[: '서울'])"
   ]
  },
  {
   "cell_type": "code",
   "execution_count": 236,
   "metadata": {},
   "outputs": [
    {
     "data": {
      "text/html": [
       "<div>\n",
       "<style scoped>\n",
       "    .dataframe tbody tr th:only-of-type {\n",
       "        vertical-align: middle;\n",
       "    }\n",
       "\n",
       "    .dataframe tbody tr th {\n",
       "        vertical-align: top;\n",
       "    }\n",
       "\n",
       "    .dataframe thead th {\n",
       "        text-align: right;\n",
       "    }\n",
       "</style>\n",
       "<table border=\"1\" class=\"dataframe\">\n",
       "  <thead>\n",
       "    <tr style=\"text-align: right;\">\n",
       "      <th>feature</th>\n",
       "      <th>지역</th>\n",
       "      <th>2014</th>\n",
       "      <th>2016</th>\n",
       "      <th>2018</th>\n",
       "      <th>2021</th>\n",
       "      <th>증가율</th>\n",
       "    </tr>\n",
       "    <tr>\n",
       "      <th>city</th>\n",
       "      <th></th>\n",
       "      <th></th>\n",
       "      <th></th>\n",
       "      <th></th>\n",
       "      <th></th>\n",
       "      <th></th>\n",
       "    </tr>\n",
       "  </thead>\n",
       "  <tbody>\n",
       "    <tr>\n",
       "      <th>서울</th>\n",
       "      <td>수도권</td>\n",
       "      <td>5910293</td>\n",
       "      <td>7910293</td>\n",
       "      <td>8910293</td>\n",
       "      <td>9910293</td>\n",
       "      <td>0.2343</td>\n",
       "    </tr>\n",
       "    <tr>\n",
       "      <th>부산</th>\n",
       "      <td>경상권</td>\n",
       "      <td>3384050</td>\n",
       "      <td>5384050</td>\n",
       "      <td>7384050</td>\n",
       "      <td>8384050</td>\n",
       "      <td>0.0434</td>\n",
       "    </tr>\n",
       "    <tr>\n",
       "      <th>경기</th>\n",
       "      <td>수도권</td>\n",
       "      <td>4938485</td>\n",
       "      <td>7938485</td>\n",
       "      <td>5938485</td>\n",
       "      <td>2938485</td>\n",
       "      <td>0.0944</td>\n",
       "    </tr>\n",
       "  </tbody>\n",
       "</table>\n",
       "</div>"
      ],
      "text/plain": [
       "feature   지역     2014     2016     2018     2021     증가율\n",
       "city                                                    \n",
       "서울       수도권  5910293  7910293  8910293  9910293  0.2343\n",
       "부산       경상권  3384050  5384050  7384050  8384050  0.0434\n",
       "경기       수도권  4938485  7938485  5938485  2938485  0.0944"
      ]
     },
     "metadata": {},
     "output_type": "display_data"
    },
    {
     "data": {
      "text/html": [
       "<div>\n",
       "<style scoped>\n",
       "    .dataframe tbody tr th:only-of-type {\n",
       "        vertical-align: middle;\n",
       "    }\n",
       "\n",
       "    .dataframe tbody tr th {\n",
       "        vertical-align: top;\n",
       "    }\n",
       "\n",
       "    .dataframe thead th {\n",
       "        text-align: right;\n",
       "    }\n",
       "</style>\n",
       "<table border=\"1\" class=\"dataframe\">\n",
       "  <thead>\n",
       "    <tr style=\"text-align: right;\">\n",
       "      <th>feature</th>\n",
       "      <th>지역</th>\n",
       "      <th>2014</th>\n",
       "      <th>2016</th>\n",
       "      <th>2018</th>\n",
       "      <th>2021</th>\n",
       "      <th>증가율</th>\n",
       "    </tr>\n",
       "    <tr>\n",
       "      <th>city</th>\n",
       "      <th></th>\n",
       "      <th></th>\n",
       "      <th></th>\n",
       "      <th></th>\n",
       "      <th></th>\n",
       "      <th></th>\n",
       "    </tr>\n",
       "  </thead>\n",
       "  <tbody>\n",
       "    <tr>\n",
       "      <th>서울</th>\n",
       "      <td>수도권</td>\n",
       "      <td>5910293</td>\n",
       "      <td>7910293</td>\n",
       "      <td>8910293</td>\n",
       "      <td>9910293</td>\n",
       "      <td>0.2343</td>\n",
       "    </tr>\n",
       "    <tr>\n",
       "      <th>부산</th>\n",
       "      <td>경상권</td>\n",
       "      <td>3384050</td>\n",
       "      <td>5384050</td>\n",
       "      <td>7384050</td>\n",
       "      <td>8384050</td>\n",
       "      <td>0.0434</td>\n",
       "    </tr>\n",
       "    <tr>\n",
       "      <th>경기</th>\n",
       "      <td>수도권</td>\n",
       "      <td>4938485</td>\n",
       "      <td>7938485</td>\n",
       "      <td>5938485</td>\n",
       "      <td>2938485</td>\n",
       "      <td>0.0944</td>\n",
       "    </tr>\n",
       "  </tbody>\n",
       "</table>\n",
       "</div>"
      ],
      "text/plain": [
       "feature   지역     2014     2016     2018     2021     증가율\n",
       "city                                                    \n",
       "서울       수도권  5910293  7910293  8910293  9910293  0.2343\n",
       "부산       경상권  3384050  5384050  7384050  8384050  0.0434\n",
       "경기       수도권  4938485  7938485  5938485  2938485  0.0944"
      ]
     },
     "metadata": {},
     "output_type": "display_data"
    }
   ],
   "source": [
    "# 배열인덱싱\n",
    "display(popDF[0:3])\n",
    "# 라벨인덱싱\n",
    "display(popDF['서울': '경기'])"
   ]
  },
  {
   "cell_type": "markdown",
   "metadata": {},
   "source": [
    "- 개별 인덱싱 : 특정 행에 대한 특정 컬럼"
   ]
  },
  {
   "cell_type": "code",
   "execution_count": 244,
   "metadata": {},
   "outputs": [
    {
     "name": "stdout",
     "output_type": "stream",
     "text": [
      "9910293\n",
      "city\n",
      "서울    9910293\n",
      "Name: 2021, dtype: int64\n",
      "<class 'numpy.int64'>\n",
      "<class 'pandas.core.series.Series'>\n"
     ]
    }
   ],
   "source": [
    "print(popDF['2021']['서울'])\n",
    "print(popDF['2021'][:'서울'])\n",
    "print(type(popDF['2021']['서울']))\n",
    "print(type(popDF['2021'][:'서울']))"
   ]
  },
  {
   "cell_type": "code",
   "execution_count": 243,
   "metadata": {},
   "outputs": [
    {
     "data": {
      "text/plain": [
       "city\n",
       "서울    9910293\n",
       "대구    1203948\n",
       "Name: 2021, dtype: int64"
      ]
     },
     "execution_count": 243,
     "metadata": {},
     "output_type": "execute_result"
    }
   ],
   "source": [
    "popDF['2021'][['서울', '대구']]"
   ]
  },
  {
   "cell_type": "markdown",
   "metadata": {},
   "source": [
    "### 실습"
   ]
  },
  {
   "cell_type": "code",
   "execution_count": 286,
   "metadata": {},
   "outputs": [
    {
     "data": {
      "text/html": [
       "<div>\n",
       "<style scoped>\n",
       "    .dataframe tbody tr th:only-of-type {\n",
       "        vertical-align: middle;\n",
       "    }\n",
       "\n",
       "    .dataframe tbody tr th {\n",
       "        vertical-align: top;\n",
       "    }\n",
       "\n",
       "    .dataframe thead th {\n",
       "        text-align: right;\n",
       "    }\n",
       "</style>\n",
       "<table border=\"1\" class=\"dataframe\">\n",
       "  <thead>\n",
       "    <tr style=\"text-align: right;\">\n",
       "      <th></th>\n",
       "      <th>kor</th>\n",
       "      <th>eng</th>\n",
       "      <th>math</th>\n",
       "    </tr>\n",
       "  </thead>\n",
       "  <tbody>\n",
       "    <tr>\n",
       "      <th>김지은</th>\n",
       "      <td>80</td>\n",
       "      <td>90</td>\n",
       "      <td>90</td>\n",
       "    </tr>\n",
       "    <tr>\n",
       "      <th>황인범</th>\n",
       "      <td>90</td>\n",
       "      <td>70</td>\n",
       "      <td>60</td>\n",
       "    </tr>\n",
       "    <tr>\n",
       "      <th>김정수</th>\n",
       "      <td>70</td>\n",
       "      <td>60</td>\n",
       "      <td>90</td>\n",
       "    </tr>\n",
       "    <tr>\n",
       "      <th>최호진</th>\n",
       "      <td>30</td>\n",
       "      <td>40</td>\n",
       "      <td>70</td>\n",
       "    </tr>\n",
       "  </tbody>\n",
       "</table>\n",
       "</div>"
      ],
      "text/plain": [
       "     kor  eng  math\n",
       "김지은   80   90    90\n",
       "황인범   90   70    60\n",
       "김정수   70   60    90\n",
       "최호진   30   40    70"
      ]
     },
     "execution_count": 286,
     "metadata": {},
     "output_type": "execute_result"
    }
   ],
   "source": [
    "score_data = {\n",
    "    'kor'  : [80,90,70,30],\n",
    "    'eng'  : [90,70,60,40],\n",
    "    'math' : [90,60,90,70] \n",
    "}\n",
    "columns = ['kor','eng','math']\n",
    "index   = ['김지은', '황인범', '김정수', '최호진']\n",
    "\n",
    "exec_df = pd.DataFrame(score_data , index=index , columns=columns)\n",
    "exec_df"
   ]
  },
  {
   "cell_type": "code",
   "execution_count": 287,
   "metadata": {},
   "outputs": [
    {
     "data": {
      "text/plain": [
       "김지은    90\n",
       "황인범    60\n",
       "김정수    90\n",
       "최호진    70\n",
       "Name: math, dtype: int64"
      ]
     },
     "metadata": {},
     "output_type": "display_data"
    },
    {
     "data": {
      "text/plain": [
       "pandas.core.series.Series"
      ]
     },
     "metadata": {},
     "output_type": "display_data"
    }
   ],
   "source": [
    "# 위 데이터를 보고 모든 학생의 수학 점수를 시리즈로 출력하라\n",
    "display(exec_df[\"math\"])\n",
    "display(type(exec_df[\"math\"]))"
   ]
  },
  {
   "cell_type": "code",
   "execution_count": 288,
   "metadata": {},
   "outputs": [
    {
     "data": {
      "text/html": [
       "<div>\n",
       "<style scoped>\n",
       "    .dataframe tbody tr th:only-of-type {\n",
       "        vertical-align: middle;\n",
       "    }\n",
       "\n",
       "    .dataframe tbody tr th {\n",
       "        vertical-align: top;\n",
       "    }\n",
       "\n",
       "    .dataframe thead th {\n",
       "        text-align: right;\n",
       "    }\n",
       "</style>\n",
       "<table border=\"1\" class=\"dataframe\">\n",
       "  <thead>\n",
       "    <tr style=\"text-align: right;\">\n",
       "      <th></th>\n",
       "      <th>kor</th>\n",
       "      <th>eng</th>\n",
       "    </tr>\n",
       "  </thead>\n",
       "  <tbody>\n",
       "    <tr>\n",
       "      <th>김지은</th>\n",
       "      <td>80</td>\n",
       "      <td>90</td>\n",
       "    </tr>\n",
       "    <tr>\n",
       "      <th>황인범</th>\n",
       "      <td>90</td>\n",
       "      <td>70</td>\n",
       "    </tr>\n",
       "    <tr>\n",
       "      <th>김정수</th>\n",
       "      <td>70</td>\n",
       "      <td>60</td>\n",
       "    </tr>\n",
       "    <tr>\n",
       "      <th>최호진</th>\n",
       "      <td>30</td>\n",
       "      <td>40</td>\n",
       "    </tr>\n",
       "  </tbody>\n",
       "</table>\n",
       "</div>"
      ],
      "text/plain": [
       "     kor  eng\n",
       "김지은   80   90\n",
       "황인범   90   70\n",
       "김정수   70   60\n",
       "최호진   30   40"
      ]
     },
     "metadata": {},
     "output_type": "display_data"
    }
   ],
   "source": [
    "# 모든 학생의 국어와 영어 점수를 데이터 프레임으로  만들어라\n",
    "display(exec_df[[\"kor\",\"eng\"]])"
   ]
  },
  {
   "cell_type": "code",
   "execution_count": 289,
   "metadata": {},
   "outputs": [
    {
     "data": {
      "text/html": [
       "<div>\n",
       "<style scoped>\n",
       "    .dataframe tbody tr th:only-of-type {\n",
       "        vertical-align: middle;\n",
       "    }\n",
       "\n",
       "    .dataframe tbody tr th {\n",
       "        vertical-align: top;\n",
       "    }\n",
       "\n",
       "    .dataframe thead th {\n",
       "        text-align: right;\n",
       "    }\n",
       "</style>\n",
       "<table border=\"1\" class=\"dataframe\">\n",
       "  <thead>\n",
       "    <tr style=\"text-align: right;\">\n",
       "      <th></th>\n",
       "      <th>kor</th>\n",
       "      <th>eng</th>\n",
       "      <th>math</th>\n",
       "      <th>평균</th>\n",
       "    </tr>\n",
       "  </thead>\n",
       "  <tbody>\n",
       "    <tr>\n",
       "      <th>김지은</th>\n",
       "      <td>80</td>\n",
       "      <td>90</td>\n",
       "      <td>90</td>\n",
       "      <td>86.7</td>\n",
       "    </tr>\n",
       "    <tr>\n",
       "      <th>황인범</th>\n",
       "      <td>90</td>\n",
       "      <td>70</td>\n",
       "      <td>60</td>\n",
       "      <td>73.3</td>\n",
       "    </tr>\n",
       "    <tr>\n",
       "      <th>김정수</th>\n",
       "      <td>70</td>\n",
       "      <td>60</td>\n",
       "      <td>90</td>\n",
       "      <td>73.3</td>\n",
       "    </tr>\n",
       "    <tr>\n",
       "      <th>최호진</th>\n",
       "      <td>30</td>\n",
       "      <td>40</td>\n",
       "      <td>70</td>\n",
       "      <td>46.7</td>\n",
       "    </tr>\n",
       "  </tbody>\n",
       "</table>\n",
       "</div>"
      ],
      "text/plain": [
       "     kor  eng  math    평균\n",
       "김지은   80   90    90  86.7\n",
       "황인범   90   70    60  73.3\n",
       "김정수   70   60    90  73.3\n",
       "최호진   30   40    70  46.7"
      ]
     },
     "execution_count": 289,
     "metadata": {},
     "output_type": "execute_result"
    }
   ],
   "source": [
    "# 모든 학생의 각 과목 평균 점수를 새로운 열로 추가하라\n",
    "exec_df['평균'] = ((exec_df[\"kor\"] + exec_df[\"eng\"] + exec_df[\"math\"]) / 3).round(1)\n",
    "exec_df"
   ]
  },
  {
   "cell_type": "code",
   "execution_count": 290,
   "metadata": {},
   "outputs": [
    {
     "data": {
      "text/html": [
       "<div>\n",
       "<style scoped>\n",
       "    .dataframe tbody tr th:only-of-type {\n",
       "        vertical-align: middle;\n",
       "    }\n",
       "\n",
       "    .dataframe tbody tr th {\n",
       "        vertical-align: top;\n",
       "    }\n",
       "\n",
       "    .dataframe thead th {\n",
       "        text-align: right;\n",
       "    }\n",
       "</style>\n",
       "<table border=\"1\" class=\"dataframe\">\n",
       "  <thead>\n",
       "    <tr style=\"text-align: right;\">\n",
       "      <th></th>\n",
       "      <th>kor</th>\n",
       "      <th>eng</th>\n",
       "      <th>math</th>\n",
       "      <th>평균</th>\n",
       "    </tr>\n",
       "  </thead>\n",
       "  <tbody>\n",
       "    <tr>\n",
       "      <th>김지은</th>\n",
       "      <td>80</td>\n",
       "      <td>90</td>\n",
       "      <td>90</td>\n",
       "      <td>86.7</td>\n",
       "    </tr>\n",
       "    <tr>\n",
       "      <th>황인범</th>\n",
       "      <td>90</td>\n",
       "      <td>70</td>\n",
       "      <td>60</td>\n",
       "      <td>73.3</td>\n",
       "    </tr>\n",
       "    <tr>\n",
       "      <th>김정수</th>\n",
       "      <td>70</td>\n",
       "      <td>60</td>\n",
       "      <td>90</td>\n",
       "      <td>73.3</td>\n",
       "    </tr>\n",
       "    <tr>\n",
       "      <th>최호진</th>\n",
       "      <td>30</td>\n",
       "      <td>90</td>\n",
       "      <td>70</td>\n",
       "      <td>63.3</td>\n",
       "    </tr>\n",
       "  </tbody>\n",
       "</table>\n",
       "</div>"
      ],
      "text/plain": [
       "     kor  eng  math    평균\n",
       "김지은   80   90    90  86.7\n",
       "황인범   90   70    60  73.3\n",
       "김정수   70   60    90  73.3\n",
       "최호진   30   90    70  63.3"
      ]
     },
     "execution_count": 290,
     "metadata": {},
     "output_type": "execute_result"
    }
   ],
   "source": [
    "# 최호진 학생의 영어 점수를 90점으로 수정하고 평균 점수도 다시 계산하라\n",
    "exec_df[\"eng\"][\"최호진\"] = 90\n",
    "exec_df['평균'] = ((exec_df[\"kor\"] + exec_df[\"eng\"] + exec_df[\"math\"]) / 3).round(1)\n",
    "exec_df\n"
   ]
  },
  {
   "cell_type": "code",
   "execution_count": 297,
   "metadata": {},
   "outputs": [
    {
     "data": {
      "text/html": [
       "<div>\n",
       "<style scoped>\n",
       "    .dataframe tbody tr th:only-of-type {\n",
       "        vertical-align: middle;\n",
       "    }\n",
       "\n",
       "    .dataframe tbody tr th {\n",
       "        vertical-align: top;\n",
       "    }\n",
       "\n",
       "    .dataframe thead th {\n",
       "        text-align: right;\n",
       "    }\n",
       "</style>\n",
       "<table border=\"1\" class=\"dataframe\">\n",
       "  <thead>\n",
       "    <tr style=\"text-align: right;\">\n",
       "      <th></th>\n",
       "      <th>kor</th>\n",
       "      <th>eng</th>\n",
       "      <th>math</th>\n",
       "      <th>평균</th>\n",
       "    </tr>\n",
       "  </thead>\n",
       "  <tbody>\n",
       "    <tr>\n",
       "      <th>김지은</th>\n",
       "      <td>80</td>\n",
       "      <td>90</td>\n",
       "      <td>90</td>\n",
       "      <td>86.7</td>\n",
       "    </tr>\n",
       "  </tbody>\n",
       "</table>\n",
       "</div>"
      ],
      "text/plain": [
       "     kor  eng  math    평균\n",
       "김지은   80   90    90  86.7"
      ]
     },
     "metadata": {},
     "output_type": "display_data"
    }
   ],
   "source": [
    "# 김지은 학생의 점수를 데이터 프레임으로 만들어라\n",
    "display(exec_df[:1])"
   ]
  },
  {
   "cell_type": "code",
   "execution_count": 298,
   "metadata": {},
   "outputs": [
    {
     "data": {
      "text/plain": [
       "kor     70.0\n",
       "eng     60.0\n",
       "math    90.0\n",
       "평균      73.3\n",
       "Name: 김정수, dtype: float64"
      ]
     },
     "metadata": {},
     "output_type": "display_data"
    },
    {
     "data": {
      "text/plain": [
       "pandas.core.series.Series"
      ]
     },
     "metadata": {},
     "output_type": "display_data"
    }
   ],
   "source": [
    "# 김정수 학생의 점수를 시리즈로 출력하라\n",
    "display(exec_df.T[\"김정수\"])\n",
    "display(type(exec_df.T[\"김정수\"]))"
   ]
  },
  {
   "cell_type": "code",
   "execution_count": 304,
   "metadata": {},
   "outputs": [
    {
     "data": {
      "text/html": [
       "<div>\n",
       "<style scoped>\n",
       "    .dataframe tbody tr th:only-of-type {\n",
       "        vertical-align: middle;\n",
       "    }\n",
       "\n",
       "    .dataframe tbody tr th {\n",
       "        vertical-align: top;\n",
       "    }\n",
       "\n",
       "    .dataframe thead th {\n",
       "        text-align: right;\n",
       "    }\n",
       "</style>\n",
       "<table border=\"1\" class=\"dataframe\">\n",
       "  <thead>\n",
       "    <tr style=\"text-align: right;\">\n",
       "      <th></th>\n",
       "      <th>kor</th>\n",
       "      <th>eng</th>\n",
       "      <th>math</th>\n",
       "      <th>평균</th>\n",
       "    </tr>\n",
       "  </thead>\n",
       "  <tbody>\n",
       "    <tr>\n",
       "      <th>김지은</th>\n",
       "      <td>80</td>\n",
       "      <td>90</td>\n",
       "      <td>90</td>\n",
       "      <td>86.7</td>\n",
       "    </tr>\n",
       "    <tr>\n",
       "      <th>황인범</th>\n",
       "      <td>100</td>\n",
       "      <td>70</td>\n",
       "      <td>100</td>\n",
       "      <td>90.0</td>\n",
       "    </tr>\n",
       "    <tr>\n",
       "      <th>김정수</th>\n",
       "      <td>70</td>\n",
       "      <td>60</td>\n",
       "      <td>90</td>\n",
       "      <td>73.3</td>\n",
       "    </tr>\n",
       "    <tr>\n",
       "      <th>최호진</th>\n",
       "      <td>30</td>\n",
       "      <td>90</td>\n",
       "      <td>70</td>\n",
       "      <td>63.3</td>\n",
       "    </tr>\n",
       "  </tbody>\n",
       "</table>\n",
       "</div>"
      ],
      "text/plain": [
       "     kor  eng  math    평균\n",
       "김지은   80   90    90  86.7\n",
       "황인범  100   70   100  90.0\n",
       "김정수   70   60    90  73.3\n",
       "최호진   30   90    70  63.3"
      ]
     },
     "execution_count": 304,
     "metadata": {},
     "output_type": "execute_result"
    }
   ],
   "source": [
    "# 황인범 학생의 국어점수와 수학점수를 100점으로 수정하고 평균 점수도 다시 계산하라\n",
    "exec_df[\"kor\"][\"황인범\"] = 100\n",
    "exec_df[\"math\"][\"황인범\"] = 100\n",
    "exec_df['평균'] = ((exec_df[\"kor\"] + exec_df[\"eng\"] + exec_df[\"math\"]) / 3).round(1)\n",
    "exec_df"
   ]
  },
  {
   "cell_type": "markdown",
   "metadata": {},
   "source": [
    "### pandas 문자함수\n",
    "- 함수앞에 str붙이기"
   ]
  },
  {
   "cell_type": "code",
   "execution_count": 307,
   "metadata": {},
   "outputs": [
    {
     "data": {
      "text/html": [
       "<div>\n",
       "<style scoped>\n",
       "    .dataframe tbody tr th:only-of-type {\n",
       "        vertical-align: middle;\n",
       "    }\n",
       "\n",
       "    .dataframe tbody tr th {\n",
       "        vertical-align: top;\n",
       "    }\n",
       "\n",
       "    .dataframe thead th {\n",
       "        text-align: right;\n",
       "    }\n",
       "</style>\n",
       "<table border=\"1\" class=\"dataframe\">\n",
       "  <thead>\n",
       "    <tr style=\"text-align: right;\">\n",
       "      <th></th>\n",
       "      <th>정수</th>\n",
       "      <th>실수1</th>\n",
       "      <th>실수2</th>\n",
       "      <th>문자</th>\n",
       "      <th>날짜</th>\n",
       "    </tr>\n",
       "  </thead>\n",
       "  <tbody>\n",
       "    <tr>\n",
       "      <th>0</th>\n",
       "      <td>6</td>\n",
       "      <td>-0.523359</td>\n",
       "      <td>0.659371</td>\n",
       "      <td>apple</td>\n",
       "      <td>2021-02-25</td>\n",
       "    </tr>\n",
       "    <tr>\n",
       "      <th>1</th>\n",
       "      <td>48</td>\n",
       "      <td>-0.403826</td>\n",
       "      <td>0.925632</td>\n",
       "      <td>banana</td>\n",
       "      <td>2021-02-26</td>\n",
       "    </tr>\n",
       "    <tr>\n",
       "      <th>2</th>\n",
       "      <td>36</td>\n",
       "      <td>-0.089557</td>\n",
       "      <td>0.258317</td>\n",
       "      <td>mango</td>\n",
       "      <td>2021-02-27</td>\n",
       "    </tr>\n",
       "    <tr>\n",
       "      <th>3</th>\n",
       "      <td>23</td>\n",
       "      <td>0.254172</td>\n",
       "      <td>0.488167</td>\n",
       "      <td>berry</td>\n",
       "      <td>2021-02-28</td>\n",
       "    </tr>\n",
       "    <tr>\n",
       "      <th>4</th>\n",
       "      <td>54</td>\n",
       "      <td>0.222466</td>\n",
       "      <td>0.301571</td>\n",
       "      <td>melon</td>\n",
       "      <td>2021-03-01</td>\n",
       "    </tr>\n",
       "  </tbody>\n",
       "</table>\n",
       "</div>"
      ],
      "text/plain": [
       "   정수       실수1       실수2      문자         날짜\n",
       "0   6 -0.523359  0.659371   apple 2021-02-25\n",
       "1  48 -0.403826  0.925632  banana 2021-02-26\n",
       "2  36 -0.089557  0.258317   mango 2021-02-27\n",
       "3  23  0.254172  0.488167   berry 2021-02-28\n",
       "4  54  0.222466  0.301571   melon 2021-03-01"
      ]
     },
     "metadata": {},
     "output_type": "display_data"
    },
    {
     "data": {
      "text/html": [
       "<div>\n",
       "<style scoped>\n",
       "    .dataframe tbody tr th:only-of-type {\n",
       "        vertical-align: middle;\n",
       "    }\n",
       "\n",
       "    .dataframe tbody tr th {\n",
       "        vertical-align: top;\n",
       "    }\n",
       "\n",
       "    .dataframe thead th {\n",
       "        text-align: right;\n",
       "    }\n",
       "</style>\n",
       "<table border=\"1\" class=\"dataframe\">\n",
       "  <thead>\n",
       "    <tr style=\"text-align: right;\">\n",
       "      <th></th>\n",
       "      <th>정수</th>\n",
       "      <th>실수1</th>\n",
       "      <th>실수2</th>\n",
       "      <th>문자</th>\n",
       "      <th>날짜</th>\n",
       "    </tr>\n",
       "  </thead>\n",
       "  <tbody>\n",
       "    <tr>\n",
       "      <th>5</th>\n",
       "      <td>59</td>\n",
       "      <td>0.381257</td>\n",
       "      <td>0.801714</td>\n",
       "      <td>cherry</td>\n",
       "      <td>2021-03-02</td>\n",
       "    </tr>\n",
       "    <tr>\n",
       "      <th>6</th>\n",
       "      <td>87</td>\n",
       "      <td>0.259845</td>\n",
       "      <td>0.772216</td>\n",
       "      <td>pineapple</td>\n",
       "      <td>2021-03-03</td>\n",
       "    </tr>\n",
       "    <tr>\n",
       "      <th>7</th>\n",
       "      <td>54</td>\n",
       "      <td>-0.198669</td>\n",
       "      <td>0.909934</td>\n",
       "      <td>peach</td>\n",
       "      <td>2021-03-04</td>\n",
       "    </tr>\n",
       "    <tr>\n",
       "      <th>8</th>\n",
       "      <td>15</td>\n",
       "      <td>-0.126438</td>\n",
       "      <td>0.138101</td>\n",
       "      <td>blueberry</td>\n",
       "      <td>2021-03-05</td>\n",
       "    </tr>\n",
       "    <tr>\n",
       "      <th>9</th>\n",
       "      <td>45</td>\n",
       "      <td>-0.320419</td>\n",
       "      <td>0.940905</td>\n",
       "      <td>avocado</td>\n",
       "      <td>2021-03-06</td>\n",
       "    </tr>\n",
       "  </tbody>\n",
       "</table>\n",
       "</div>"
      ],
      "text/plain": [
       "   정수       실수1       실수2         문자         날짜\n",
       "5  59  0.381257  0.801714     cherry 2021-03-02\n",
       "6  87  0.259845  0.772216  pineapple 2021-03-03\n",
       "7  54 -0.198669  0.909934      peach 2021-03-04\n",
       "8  15 -0.126438  0.138101  blueberry 2021-03-05\n",
       "9  45 -0.320419  0.940905    avocado 2021-03-06"
      ]
     },
     "metadata": {},
     "output_type": "display_data"
    }
   ],
   "source": [
    "# head() , tail() : default가 5로 설정되어 있음\n",
    "display(testDF.head())\n",
    "display(testDF.tail())"
   ]
  },
  {
   "cell_type": "code",
   "execution_count": 308,
   "metadata": {},
   "outputs": [
    {
     "data": {
      "text/html": [
       "<div>\n",
       "<style scoped>\n",
       "    .dataframe tbody tr th:only-of-type {\n",
       "        vertical-align: middle;\n",
       "    }\n",
       "\n",
       "    .dataframe tbody tr th {\n",
       "        vertical-align: top;\n",
       "    }\n",
       "\n",
       "    .dataframe thead th {\n",
       "        text-align: right;\n",
       "    }\n",
       "</style>\n",
       "<table border=\"1\" class=\"dataframe\">\n",
       "  <thead>\n",
       "    <tr style=\"text-align: right;\">\n",
       "      <th></th>\n",
       "      <th>법정동코드</th>\n",
       "      <th>법정동명</th>\n",
       "      <th>폐지여부</th>\n",
       "    </tr>\n",
       "  </thead>\n",
       "  <tbody>\n",
       "    <tr>\n",
       "      <th>0</th>\n",
       "      <td>1100000000</td>\n",
       "      <td>서울특별시</td>\n",
       "      <td>존재</td>\n",
       "    </tr>\n",
       "    <tr>\n",
       "      <th>1</th>\n",
       "      <td>1111000000</td>\n",
       "      <td>서울특별시 종로구</td>\n",
       "      <td>존재</td>\n",
       "    </tr>\n",
       "    <tr>\n",
       "      <th>2</th>\n",
       "      <td>1111010100</td>\n",
       "      <td>서울특별시 종로구 청운동</td>\n",
       "      <td>존재</td>\n",
       "    </tr>\n",
       "    <tr>\n",
       "      <th>3</th>\n",
       "      <td>1111010200</td>\n",
       "      <td>서울특별시 종로구 신교동</td>\n",
       "      <td>존재</td>\n",
       "    </tr>\n",
       "    <tr>\n",
       "      <th>4</th>\n",
       "      <td>1111010300</td>\n",
       "      <td>서울특별시 종로구 궁정동</td>\n",
       "      <td>존재</td>\n",
       "    </tr>\n",
       "  </tbody>\n",
       "</table>\n",
       "</div>"
      ],
      "text/plain": [
       "        법정동코드           법정동명 폐지여부\n",
       "0  1100000000          서울특별시   존재\n",
       "1  1111000000      서울특별시 종로구   존재\n",
       "2  1111010100  서울특별시 종로구 청운동   존재\n",
       "3  1111010200  서울특별시 종로구 신교동   존재\n",
       "4  1111010300  서울특별시 종로구 궁정동   존재"
      ]
     },
     "execution_count": 308,
     "metadata": {},
     "output_type": "execute_result"
    }
   ],
   "source": [
    "courtDF = pd.read_csv('../data/court_code.txt', sep='\\t', encoding='cp949')\n",
    "courtDF.head()"
   ]
  },
  {
   "cell_type": "code",
   "execution_count": 311,
   "metadata": {},
   "outputs": [
    {
     "data": {
      "text/html": [
       "<div>\n",
       "<style scoped>\n",
       "    .dataframe tbody tr th:only-of-type {\n",
       "        vertical-align: middle;\n",
       "    }\n",
       "\n",
       "    .dataframe tbody tr th {\n",
       "        vertical-align: top;\n",
       "    }\n",
       "\n",
       "    .dataframe thead th {\n",
       "        text-align: right;\n",
       "    }\n",
       "</style>\n",
       "<table border=\"1\" class=\"dataframe\">\n",
       "  <thead>\n",
       "    <tr style=\"text-align: right;\">\n",
       "      <th></th>\n",
       "      <th>법정동코드</th>\n",
       "      <th>법정동명</th>\n",
       "      <th>폐지여부</th>\n",
       "    </tr>\n",
       "  </thead>\n",
       "  <tbody>\n",
       "    <tr>\n",
       "      <th>0</th>\n",
       "      <td>1100000000</td>\n",
       "      <td>서울특별시</td>\n",
       "      <td>존재</td>\n",
       "    </tr>\n",
       "    <tr>\n",
       "      <th>1</th>\n",
       "      <td>1111000000</td>\n",
       "      <td>서울특별시 종로구</td>\n",
       "      <td>존재</td>\n",
       "    </tr>\n",
       "    <tr>\n",
       "      <th>2</th>\n",
       "      <td>1111010100</td>\n",
       "      <td>서울특별시 종로구 청운동</td>\n",
       "      <td>존재</td>\n",
       "    </tr>\n",
       "    <tr>\n",
       "      <th>3</th>\n",
       "      <td>1111010200</td>\n",
       "      <td>서울특별시 종로구 신교동</td>\n",
       "      <td>존재</td>\n",
       "    </tr>\n",
       "    <tr>\n",
       "      <th>4</th>\n",
       "      <td>1111010300</td>\n",
       "      <td>서울특별시 종로구 궁정동</td>\n",
       "      <td>존재</td>\n",
       "    </tr>\n",
       "    <tr>\n",
       "      <th>...</th>\n",
       "      <td>...</td>\n",
       "      <td>...</td>\n",
       "      <td>...</td>\n",
       "    </tr>\n",
       "    <tr>\n",
       "      <th>46175</th>\n",
       "      <td>5013032022</td>\n",
       "      <td>제주특별자치도 서귀포시 표선면 하천리</td>\n",
       "      <td>존재</td>\n",
       "    </tr>\n",
       "    <tr>\n",
       "      <th>46176</th>\n",
       "      <td>5013032023</td>\n",
       "      <td>제주특별자치도 서귀포시 표선면 성읍리</td>\n",
       "      <td>존재</td>\n",
       "    </tr>\n",
       "    <tr>\n",
       "      <th>46177</th>\n",
       "      <td>5013032024</td>\n",
       "      <td>제주특별자치도 서귀포시 표선면 가시리</td>\n",
       "      <td>존재</td>\n",
       "    </tr>\n",
       "    <tr>\n",
       "      <th>46178</th>\n",
       "      <td>5013032025</td>\n",
       "      <td>제주특별자치도 서귀포시 표선면 세화리</td>\n",
       "      <td>존재</td>\n",
       "    </tr>\n",
       "    <tr>\n",
       "      <th>46179</th>\n",
       "      <td>5013032026</td>\n",
       "      <td>제주특별자치도 서귀포시 표선면 토산리</td>\n",
       "      <td>존재</td>\n",
       "    </tr>\n",
       "  </tbody>\n",
       "</table>\n",
       "<p>20544 rows × 3 columns</p>\n",
       "</div>"
      ],
      "text/plain": [
       "            법정동코드                  법정동명 폐지여부\n",
       "0      1100000000                 서울특별시   존재\n",
       "1      1111000000             서울특별시 종로구   존재\n",
       "2      1111010100         서울특별시 종로구 청운동   존재\n",
       "3      1111010200         서울특별시 종로구 신교동   존재\n",
       "4      1111010300         서울특별시 종로구 궁정동   존재\n",
       "...           ...                   ...  ...\n",
       "46175  5013032022  제주특별자치도 서귀포시 표선면 하천리   존재\n",
       "46176  5013032023  제주특별자치도 서귀포시 표선면 성읍리   존재\n",
       "46177  5013032024  제주특별자치도 서귀포시 표선면 가시리   존재\n",
       "46178  5013032025  제주특별자치도 서귀포시 표선면 세화리   존재\n",
       "46179  5013032026  제주특별자치도 서귀포시 표선면 토산리   존재\n",
       "\n",
       "[20544 rows x 3 columns]"
      ]
     },
     "execution_count": 311,
     "metadata": {},
     "output_type": "execute_result"
    }
   ],
   "source": [
    "court_subset_df = courtDF[courtDF[\"폐지여부\"]==\"존재\"]\n",
    "court_subset_df"
   ]
  },
  {
   "cell_type": "code",
   "execution_count": 312,
   "metadata": {},
   "outputs": [
    {
     "data": {
      "text/html": [
       "<div>\n",
       "<style scoped>\n",
       "    .dataframe tbody tr th:only-of-type {\n",
       "        vertical-align: middle;\n",
       "    }\n",
       "\n",
       "    .dataframe tbody tr th {\n",
       "        vertical-align: top;\n",
       "    }\n",
       "\n",
       "    .dataframe thead th {\n",
       "        text-align: right;\n",
       "    }\n",
       "</style>\n",
       "<table border=\"1\" class=\"dataframe\">\n",
       "  <thead>\n",
       "    <tr style=\"text-align: right;\">\n",
       "      <th></th>\n",
       "      <th>법정동코드</th>\n",
       "      <th>법정동명</th>\n",
       "      <th>폐지여부</th>\n",
       "    </tr>\n",
       "  </thead>\n",
       "  <tbody>\n",
       "    <tr>\n",
       "      <th>89</th>\n",
       "      <td>1111090100</td>\n",
       "      <td>서울특별시 종로구 창신1동</td>\n",
       "      <td>폐지</td>\n",
       "    </tr>\n",
       "    <tr>\n",
       "      <th>90</th>\n",
       "      <td>1111090200</td>\n",
       "      <td>서울특별시 종로구 창신2동</td>\n",
       "      <td>폐지</td>\n",
       "    </tr>\n",
       "    <tr>\n",
       "      <th>91</th>\n",
       "      <td>1111090300</td>\n",
       "      <td>서울특별시 종로구 창신3동</td>\n",
       "      <td>폐지</td>\n",
       "    </tr>\n",
       "    <tr>\n",
       "      <th>92</th>\n",
       "      <td>1111090400</td>\n",
       "      <td>서울특별시 종로구 숭인1동</td>\n",
       "      <td>폐지</td>\n",
       "    </tr>\n",
       "    <tr>\n",
       "      <th>93</th>\n",
       "      <td>1111090500</td>\n",
       "      <td>서울특별시 종로구 숭인2동</td>\n",
       "      <td>폐지</td>\n",
       "    </tr>\n",
       "    <tr>\n",
       "      <th>...</th>\n",
       "      <td>...</td>\n",
       "      <td>...</td>\n",
       "      <td>...</td>\n",
       "    </tr>\n",
       "    <tr>\n",
       "      <th>45962</th>\n",
       "      <td>4972032025</td>\n",
       "      <td>제주도 남제주군 표선면 세화리</td>\n",
       "      <td>폐지</td>\n",
       "    </tr>\n",
       "    <tr>\n",
       "      <th>45963</th>\n",
       "      <td>4972032026</td>\n",
       "      <td>제주도 남제주군 표선면 토산리</td>\n",
       "      <td>폐지</td>\n",
       "    </tr>\n",
       "    <tr>\n",
       "      <th>46025</th>\n",
       "      <td>5011025305</td>\n",
       "      <td>제주특별자치도 제주시 애월읍 귀일리</td>\n",
       "      <td>폐지</td>\n",
       "    </tr>\n",
       "    <tr>\n",
       "      <th>46026</th>\n",
       "      <td>5011025306</td>\n",
       "      <td>제주특별자치도 제주시 애월읍 어도리</td>\n",
       "      <td>폐지</td>\n",
       "    </tr>\n",
       "    <tr>\n",
       "      <th>46027</th>\n",
       "      <td>5011025307</td>\n",
       "      <td>제주특별자치도 제주시 애월읍 동귀리</td>\n",
       "      <td>폐지</td>\n",
       "    </tr>\n",
       "  </tbody>\n",
       "</table>\n",
       "<p>25636 rows × 3 columns</p>\n",
       "</div>"
      ],
      "text/plain": [
       "            법정동코드                 법정동명 폐지여부\n",
       "89     1111090100       서울특별시 종로구 창신1동   폐지\n",
       "90     1111090200       서울특별시 종로구 창신2동   폐지\n",
       "91     1111090300       서울특별시 종로구 창신3동   폐지\n",
       "92     1111090400       서울특별시 종로구 숭인1동   폐지\n",
       "93     1111090500       서울특별시 종로구 숭인2동   폐지\n",
       "...           ...                  ...  ...\n",
       "45962  4972032025     제주도 남제주군 표선면 세화리   폐지\n",
       "45963  4972032026     제주도 남제주군 표선면 토산리   폐지\n",
       "46025  5011025305  제주특별자치도 제주시 애월읍 귀일리   폐지\n",
       "46026  5011025306  제주특별자치도 제주시 애월읍 어도리   폐지\n",
       "46027  5011025307  제주특별자치도 제주시 애월읍 동귀리   폐지\n",
       "\n",
       "[25636 rows x 3 columns]"
      ]
     },
     "execution_count": 312,
     "metadata": {},
     "output_type": "execute_result"
    }
   ],
   "source": [
    "court_subset_df = courtDF[courtDF[\"폐지여부\"]==\"폐지\"]\n",
    "court_subset_df"
   ]
  },
  {
   "cell_type": "code",
   "execution_count": 317,
   "metadata": {},
   "outputs": [
    {
     "data": {
      "text/html": [
       "<div>\n",
       "<style scoped>\n",
       "    .dataframe tbody tr th:only-of-type {\n",
       "        vertical-align: middle;\n",
       "    }\n",
       "\n",
       "    .dataframe tbody tr th {\n",
       "        vertical-align: top;\n",
       "    }\n",
       "\n",
       "    .dataframe thead th {\n",
       "        text-align: right;\n",
       "    }\n",
       "</style>\n",
       "<table border=\"1\" class=\"dataframe\">\n",
       "  <thead>\n",
       "    <tr style=\"text-align: right;\">\n",
       "      <th></th>\n",
       "      <th>법정동코드</th>\n",
       "      <th>법정동명</th>\n",
       "      <th>폐지여부</th>\n",
       "    </tr>\n",
       "  </thead>\n",
       "  <tbody>\n",
       "    <tr>\n",
       "      <th>0</th>\n",
       "      <td>1100000000</td>\n",
       "      <td>서울특별시</td>\n",
       "      <td>존재</td>\n",
       "    </tr>\n",
       "    <tr>\n",
       "      <th>1</th>\n",
       "      <td>1111000000</td>\n",
       "      <td>서울특별시 종로구</td>\n",
       "      <td>존재</td>\n",
       "    </tr>\n",
       "    <tr>\n",
       "      <th>2</th>\n",
       "      <td>1111010100</td>\n",
       "      <td>서울특별시 종로구 청운동</td>\n",
       "      <td>존재</td>\n",
       "    </tr>\n",
       "    <tr>\n",
       "      <th>3</th>\n",
       "      <td>1111010200</td>\n",
       "      <td>서울특별시 종로구 신교동</td>\n",
       "      <td>존재</td>\n",
       "    </tr>\n",
       "    <tr>\n",
       "      <th>4</th>\n",
       "      <td>1111010300</td>\n",
       "      <td>서울특별시 종로구 궁정동</td>\n",
       "      <td>존재</td>\n",
       "    </tr>\n",
       "    <tr>\n",
       "      <th>...</th>\n",
       "      <td>...</td>\n",
       "      <td>...</td>\n",
       "      <td>...</td>\n",
       "    </tr>\n",
       "    <tr>\n",
       "      <th>1107</th>\n",
       "      <td>1174010600</td>\n",
       "      <td>서울특별시 강동구 둔촌동</td>\n",
       "      <td>존재</td>\n",
       "    </tr>\n",
       "    <tr>\n",
       "      <th>1108</th>\n",
       "      <td>1174010700</td>\n",
       "      <td>서울특별시 강동구 암사동</td>\n",
       "      <td>존재</td>\n",
       "    </tr>\n",
       "    <tr>\n",
       "      <th>1109</th>\n",
       "      <td>1174010800</td>\n",
       "      <td>서울특별시 강동구 성내동</td>\n",
       "      <td>존재</td>\n",
       "    </tr>\n",
       "    <tr>\n",
       "      <th>1110</th>\n",
       "      <td>1174010900</td>\n",
       "      <td>서울특별시 강동구 천호동</td>\n",
       "      <td>존재</td>\n",
       "    </tr>\n",
       "    <tr>\n",
       "      <th>1111</th>\n",
       "      <td>1174011000</td>\n",
       "      <td>서울특별시 강동구 강일동</td>\n",
       "      <td>존재</td>\n",
       "    </tr>\n",
       "  </tbody>\n",
       "</table>\n",
       "<p>1112 rows × 3 columns</p>\n",
       "</div>"
      ],
      "text/plain": [
       "           법정동코드           법정동명 폐지여부\n",
       "0     1100000000          서울특별시   존재\n",
       "1     1111000000      서울특별시 종로구   존재\n",
       "2     1111010100  서울특별시 종로구 청운동   존재\n",
       "3     1111010200  서울특별시 종로구 신교동   존재\n",
       "4     1111010300  서울특별시 종로구 궁정동   존재\n",
       "...          ...            ...  ...\n",
       "1107  1174010600  서울특별시 강동구 둔촌동   존재\n",
       "1108  1174010700  서울특별시 강동구 암사동   존재\n",
       "1109  1174010800  서울특별시 강동구 성내동   존재\n",
       "1110  1174010900  서울특별시 강동구 천호동   존재\n",
       "1111  1174011000  서울특별시 강동구 강일동   존재\n",
       "\n",
       "[1112 rows x 3 columns]"
      ]
     },
     "execution_count": 317,
     "metadata": {},
     "output_type": "execute_result"
    }
   ],
   "source": [
    "court_subset_df = courtDF[courtDF[\"법정동명\"].str[:5] == \"서울특별시\"]\n",
    "court_subset_df"
   ]
  },
  {
   "cell_type": "code",
   "execution_count": 324,
   "metadata": {},
   "outputs": [
    {
     "data": {
      "text/plain": [
       "0        시\n",
       "1        구\n",
       "2        동\n",
       "3        동\n",
       "4        동\n",
       "        ..\n",
       "46175    리\n",
       "46176    리\n",
       "46177    리\n",
       "46178    리\n",
       "46179    리\n",
       "Name: 법정동명, Length: 46180, dtype: object"
      ]
     },
     "execution_count": 324,
     "metadata": {},
     "output_type": "execute_result"
    }
   ],
   "source": [
    "court_subset_df = courtDF[\"법정동명\"].str[-1]\n",
    "court_subset_df"
   ]
  },
  {
   "cell_type": "markdown",
   "metadata": {},
   "source": [
    "- 분할 : str.split()"
   ]
  },
  {
   "cell_type": "code",
   "execution_count": 323,
   "metadata": {},
   "outputs": [
    {
     "data": {
      "text/plain": [
       "0                          [서울특별시]\n",
       "1                     [서울특별시, 종로구]\n",
       "2                [서울특별시, 종로구, 청운동]\n",
       "3                [서울특별시, 종로구, 신교동]\n",
       "4                [서울특별시, 종로구, 궁정동]\n",
       "                   ...            \n",
       "46175    [제주특별자치도, 서귀포시, 표선면, 하천리]\n",
       "46176    [제주특별자치도, 서귀포시, 표선면, 성읍리]\n",
       "46177    [제주특별자치도, 서귀포시, 표선면, 가시리]\n",
       "46178    [제주특별자치도, 서귀포시, 표선면, 세화리]\n",
       "46179    [제주특별자치도, 서귀포시, 표선면, 토산리]\n",
       "Name: 법정동명, Length: 46180, dtype: object"
      ]
     },
     "execution_count": 323,
     "metadata": {},
     "output_type": "execute_result"
    }
   ],
   "source": [
    "# str.split()\n",
    "# series 표현\n",
    "court_subset_df = courtDF[\"법정동명\"].str.split(\" \")\n",
    "court_subset_df"
   ]
  },
  {
   "cell_type": "code",
   "execution_count": 326,
   "metadata": {},
   "outputs": [
    {
     "data": {
      "text/html": [
       "<div>\n",
       "<style scoped>\n",
       "    .dataframe tbody tr th:only-of-type {\n",
       "        vertical-align: middle;\n",
       "    }\n",
       "\n",
       "    .dataframe tbody tr th {\n",
       "        vertical-align: top;\n",
       "    }\n",
       "\n",
       "    .dataframe thead th {\n",
       "        text-align: right;\n",
       "    }\n",
       "</style>\n",
       "<table border=\"1\" class=\"dataframe\">\n",
       "  <thead>\n",
       "    <tr style=\"text-align: right;\">\n",
       "      <th></th>\n",
       "      <th>0</th>\n",
       "      <th>1</th>\n",
       "      <th>2</th>\n",
       "      <th>3</th>\n",
       "      <th>4</th>\n",
       "    </tr>\n",
       "  </thead>\n",
       "  <tbody>\n",
       "    <tr>\n",
       "      <th>0</th>\n",
       "      <td>서울특별시</td>\n",
       "      <td>None</td>\n",
       "      <td>None</td>\n",
       "      <td>None</td>\n",
       "      <td>None</td>\n",
       "    </tr>\n",
       "    <tr>\n",
       "      <th>1</th>\n",
       "      <td>서울특별시</td>\n",
       "      <td>종로구</td>\n",
       "      <td>None</td>\n",
       "      <td>None</td>\n",
       "      <td>None</td>\n",
       "    </tr>\n",
       "    <tr>\n",
       "      <th>2</th>\n",
       "      <td>서울특별시</td>\n",
       "      <td>종로구</td>\n",
       "      <td>청운동</td>\n",
       "      <td>None</td>\n",
       "      <td>None</td>\n",
       "    </tr>\n",
       "    <tr>\n",
       "      <th>3</th>\n",
       "      <td>서울특별시</td>\n",
       "      <td>종로구</td>\n",
       "      <td>신교동</td>\n",
       "      <td>None</td>\n",
       "      <td>None</td>\n",
       "    </tr>\n",
       "    <tr>\n",
       "      <th>4</th>\n",
       "      <td>서울특별시</td>\n",
       "      <td>종로구</td>\n",
       "      <td>궁정동</td>\n",
       "      <td>None</td>\n",
       "      <td>None</td>\n",
       "    </tr>\n",
       "    <tr>\n",
       "      <th>...</th>\n",
       "      <td>...</td>\n",
       "      <td>...</td>\n",
       "      <td>...</td>\n",
       "      <td>...</td>\n",
       "      <td>...</td>\n",
       "    </tr>\n",
       "    <tr>\n",
       "      <th>46175</th>\n",
       "      <td>제주특별자치도</td>\n",
       "      <td>서귀포시</td>\n",
       "      <td>표선면</td>\n",
       "      <td>하천리</td>\n",
       "      <td>None</td>\n",
       "    </tr>\n",
       "    <tr>\n",
       "      <th>46176</th>\n",
       "      <td>제주특별자치도</td>\n",
       "      <td>서귀포시</td>\n",
       "      <td>표선면</td>\n",
       "      <td>성읍리</td>\n",
       "      <td>None</td>\n",
       "    </tr>\n",
       "    <tr>\n",
       "      <th>46177</th>\n",
       "      <td>제주특별자치도</td>\n",
       "      <td>서귀포시</td>\n",
       "      <td>표선면</td>\n",
       "      <td>가시리</td>\n",
       "      <td>None</td>\n",
       "    </tr>\n",
       "    <tr>\n",
       "      <th>46178</th>\n",
       "      <td>제주특별자치도</td>\n",
       "      <td>서귀포시</td>\n",
       "      <td>표선면</td>\n",
       "      <td>세화리</td>\n",
       "      <td>None</td>\n",
       "    </tr>\n",
       "    <tr>\n",
       "      <th>46179</th>\n",
       "      <td>제주특별자치도</td>\n",
       "      <td>서귀포시</td>\n",
       "      <td>표선면</td>\n",
       "      <td>토산리</td>\n",
       "      <td>None</td>\n",
       "    </tr>\n",
       "  </tbody>\n",
       "</table>\n",
       "<p>46180 rows × 5 columns</p>\n",
       "</div>"
      ],
      "text/plain": [
       "             0     1     2     3     4\n",
       "0        서울특별시  None  None  None  None\n",
       "1        서울특별시   종로구  None  None  None\n",
       "2        서울특별시   종로구   청운동  None  None\n",
       "3        서울특별시   종로구   신교동  None  None\n",
       "4        서울특별시   종로구   궁정동  None  None\n",
       "...        ...   ...   ...   ...   ...\n",
       "46175  제주특별자치도  서귀포시   표선면   하천리  None\n",
       "46176  제주특별자치도  서귀포시   표선면   성읍리  None\n",
       "46177  제주특별자치도  서귀포시   표선면   가시리  None\n",
       "46178  제주특별자치도  서귀포시   표선면   세화리  None\n",
       "46179  제주특별자치도  서귀포시   표선면   토산리  None\n",
       "\n",
       "[46180 rows x 5 columns]"
      ]
     },
     "execution_count": 326,
     "metadata": {},
     "output_type": "execute_result"
    }
   ],
   "source": [
    "# str.split()\n",
    "# DataFrame 표현\n",
    "court_subset_df = courtDF[\"법정동명\"].str.split(\" \", expand=True)\n",
    "court_subset_df"
   ]
  },
  {
   "cell_type": "markdown",
   "metadata": {},
   "source": [
    "- srt.startswith() : ~로 시작되는\n",
    "- str.endswith() : ~로 끝나는\n",
    "- str.contains() : ~을 담고있는\n",
    "- str.replace() : ~로 대체"
   ]
  },
  {
   "cell_type": "code",
   "execution_count": 327,
   "metadata": {},
   "outputs": [
    {
     "data": {
      "text/plain": [
       "0        False\n",
       "1        False\n",
       "2        False\n",
       "3        False\n",
       "4        False\n",
       "         ...  \n",
       "46175     True\n",
       "46176     True\n",
       "46177     True\n",
       "46178     True\n",
       "46179     True\n",
       "Name: 법정동명, Length: 46180, dtype: bool"
      ]
     },
     "execution_count": 327,
     "metadata": {},
     "output_type": "execute_result"
    }
   ],
   "source": [
    "# str.startswith()\n",
    "# series 표현\n",
    "court_subset_df = courtDF[\"법정동명\"].str.startswith(\"제주\")\n",
    "court_subset_df"
   ]
  },
  {
   "cell_type": "code",
   "execution_count": 332,
   "metadata": {
    "scrolled": true
   },
   "outputs": [
    {
     "data": {
      "text/html": [
       "<div>\n",
       "<style scoped>\n",
       "    .dataframe tbody tr th:only-of-type {\n",
       "        vertical-align: middle;\n",
       "    }\n",
       "\n",
       "    .dataframe tbody tr th {\n",
       "        vertical-align: top;\n",
       "    }\n",
       "\n",
       "    .dataframe thead th {\n",
       "        text-align: right;\n",
       "    }\n",
       "</style>\n",
       "<table border=\"1\" class=\"dataframe\">\n",
       "  <thead>\n",
       "    <tr style=\"text-align: right;\">\n",
       "      <th></th>\n",
       "      <th>법정동코드</th>\n",
       "      <th>법정동명</th>\n",
       "      <th>폐지여부</th>\n",
       "    </tr>\n",
       "  </thead>\n",
       "  <tbody>\n",
       "    <tr>\n",
       "      <th>45607</th>\n",
       "      <td>4900000000</td>\n",
       "      <td>제주도</td>\n",
       "      <td>폐지</td>\n",
       "    </tr>\n",
       "    <tr>\n",
       "      <th>45608</th>\n",
       "      <td>4911000000</td>\n",
       "      <td>제주도 제주시</td>\n",
       "      <td>폐지</td>\n",
       "    </tr>\n",
       "    <tr>\n",
       "      <th>45609</th>\n",
       "      <td>4911010100</td>\n",
       "      <td>제주도 제주시 일도일동</td>\n",
       "      <td>폐지</td>\n",
       "    </tr>\n",
       "    <tr>\n",
       "      <th>45610</th>\n",
       "      <td>4911010200</td>\n",
       "      <td>제주도 제주시 일도이동</td>\n",
       "      <td>폐지</td>\n",
       "    </tr>\n",
       "    <tr>\n",
       "      <th>45611</th>\n",
       "      <td>4911010300</td>\n",
       "      <td>제주도 제주시 이도일동</td>\n",
       "      <td>폐지</td>\n",
       "    </tr>\n",
       "    <tr>\n",
       "      <th>...</th>\n",
       "      <td>...</td>\n",
       "      <td>...</td>\n",
       "      <td>...</td>\n",
       "    </tr>\n",
       "    <tr>\n",
       "      <th>46175</th>\n",
       "      <td>5013032022</td>\n",
       "      <td>제주특별자치도 서귀포시 표선면 하천리</td>\n",
       "      <td>존재</td>\n",
       "    </tr>\n",
       "    <tr>\n",
       "      <th>46176</th>\n",
       "      <td>5013032023</td>\n",
       "      <td>제주특별자치도 서귀포시 표선면 성읍리</td>\n",
       "      <td>존재</td>\n",
       "    </tr>\n",
       "    <tr>\n",
       "      <th>46177</th>\n",
       "      <td>5013032024</td>\n",
       "      <td>제주특별자치도 서귀포시 표선면 가시리</td>\n",
       "      <td>존재</td>\n",
       "    </tr>\n",
       "    <tr>\n",
       "      <th>46178</th>\n",
       "      <td>5013032025</td>\n",
       "      <td>제주특별자치도 서귀포시 표선면 세화리</td>\n",
       "      <td>존재</td>\n",
       "    </tr>\n",
       "    <tr>\n",
       "      <th>46179</th>\n",
       "      <td>5013032026</td>\n",
       "      <td>제주특별자치도 서귀포시 표선면 토산리</td>\n",
       "      <td>존재</td>\n",
       "    </tr>\n",
       "  </tbody>\n",
       "</table>\n",
       "<p>573 rows × 3 columns</p>\n",
       "</div>"
      ],
      "text/plain": [
       "            법정동코드                  법정동명 폐지여부\n",
       "45607  4900000000                   제주도   폐지\n",
       "45608  4911000000               제주도 제주시   폐지\n",
       "45609  4911010100          제주도 제주시 일도일동   폐지\n",
       "45610  4911010200          제주도 제주시 일도이동   폐지\n",
       "45611  4911010300          제주도 제주시 이도일동   폐지\n",
       "...           ...                   ...  ...\n",
       "46175  5013032022  제주특별자치도 서귀포시 표선면 하천리   존재\n",
       "46176  5013032023  제주특별자치도 서귀포시 표선면 성읍리   존재\n",
       "46177  5013032024  제주특별자치도 서귀포시 표선면 가시리   존재\n",
       "46178  5013032025  제주특별자치도 서귀포시 표선면 세화리   존재\n",
       "46179  5013032026  제주특별자치도 서귀포시 표선면 토산리   존재\n",
       "\n",
       "[573 rows x 3 columns]"
      ]
     },
     "execution_count": 332,
     "metadata": {},
     "output_type": "execute_result"
    }
   ],
   "source": [
    "# str.startswith()\n",
    "# DataFrame 표현\n",
    "court_subset_df = courtDF[courtDF[\"법정동명\"].str.startswith(\"제주\")]\n",
    "court_subset_df"
   ]
  },
  {
   "cell_type": "code",
   "execution_count": 334,
   "metadata": {},
   "outputs": [
    {
     "data": {
      "text/html": [
       "<div>\n",
       "<style scoped>\n",
       "    .dataframe tbody tr th:only-of-type {\n",
       "        vertical-align: middle;\n",
       "    }\n",
       "\n",
       "    .dataframe tbody tr th {\n",
       "        vertical-align: top;\n",
       "    }\n",
       "\n",
       "    .dataframe thead th {\n",
       "        text-align: right;\n",
       "    }\n",
       "</style>\n",
       "<table border=\"1\" class=\"dataframe\">\n",
       "  <thead>\n",
       "    <tr style=\"text-align: right;\">\n",
       "      <th></th>\n",
       "      <th>법정동코드</th>\n",
       "      <th>법정동명</th>\n",
       "      <th>폐지여부</th>\n",
       "    </tr>\n",
       "  </thead>\n",
       "  <tbody>\n",
       "    <tr>\n",
       "      <th>0</th>\n",
       "      <td>1100000000</td>\n",
       "      <td>서울특별시</td>\n",
       "      <td>존재</td>\n",
       "    </tr>\n",
       "    <tr>\n",
       "      <th>1112</th>\n",
       "      <td>2100000000</td>\n",
       "      <td>부산직할시</td>\n",
       "      <td>폐지</td>\n",
       "    </tr>\n",
       "    <tr>\n",
       "      <th>1566</th>\n",
       "      <td>2200000000</td>\n",
       "      <td>대구직할시</td>\n",
       "      <td>폐지</td>\n",
       "    </tr>\n",
       "    <tr>\n",
       "      <th>1900</th>\n",
       "      <td>2300000000</td>\n",
       "      <td>인천직할시</td>\n",
       "      <td>폐지</td>\n",
       "    </tr>\n",
       "    <tr>\n",
       "      <th>2123</th>\n",
       "      <td>2400000000</td>\n",
       "      <td>광주직할시</td>\n",
       "      <td>폐지</td>\n",
       "    </tr>\n",
       "    <tr>\n",
       "      <th>...</th>\n",
       "      <td>...</td>\n",
       "      <td>...</td>\n",
       "      <td>...</td>\n",
       "    </tr>\n",
       "    <tr>\n",
       "      <th>42476</th>\n",
       "      <td>4833000000</td>\n",
       "      <td>경상남도 양산시</td>\n",
       "      <td>존재</td>\n",
       "    </tr>\n",
       "    <tr>\n",
       "      <th>45608</th>\n",
       "      <td>4911000000</td>\n",
       "      <td>제주도 제주시</td>\n",
       "      <td>폐지</td>\n",
       "    </tr>\n",
       "    <tr>\n",
       "      <th>45656</th>\n",
       "      <td>4913000000</td>\n",
       "      <td>제주도 서귀포시</td>\n",
       "      <td>폐지</td>\n",
       "    </tr>\n",
       "    <tr>\n",
       "      <th>45965</th>\n",
       "      <td>5011000000</td>\n",
       "      <td>제주특별자치도 제주시</td>\n",
       "      <td>존재</td>\n",
       "    </tr>\n",
       "    <tr>\n",
       "      <th>46101</th>\n",
       "      <td>5013000000</td>\n",
       "      <td>제주특별자치도 서귀포시</td>\n",
       "      <td>존재</td>\n",
       "    </tr>\n",
       "  </tbody>\n",
       "</table>\n",
       "<p>118 rows × 3 columns</p>\n",
       "</div>"
      ],
      "text/plain": [
       "            법정동코드          법정동명 폐지여부\n",
       "0      1100000000         서울특별시   존재\n",
       "1112   2100000000         부산직할시   폐지\n",
       "1566   2200000000         대구직할시   폐지\n",
       "1900   2300000000         인천직할시   폐지\n",
       "2123   2400000000         광주직할시   폐지\n",
       "...           ...           ...  ...\n",
       "42476  4833000000      경상남도 양산시   존재\n",
       "45608  4911000000       제주도 제주시   폐지\n",
       "45656  4913000000      제주도 서귀포시   폐지\n",
       "45965  5011000000   제주특별자치도 제주시   존재\n",
       "46101  5013000000  제주특별자치도 서귀포시   존재\n",
       "\n",
       "[118 rows x 3 columns]"
      ]
     },
     "execution_count": 334,
     "metadata": {},
     "output_type": "execute_result"
    }
   ],
   "source": [
    "# str.endswith()\n",
    "court_subset_df = courtDF[courtDF[\"법정동명\"].str.endswith(\"시\")]\n",
    "court_subset_df"
   ]
  },
  {
   "cell_type": "code",
   "execution_count": 336,
   "metadata": {},
   "outputs": [
    {
     "data": {
      "text/html": [
       "<div>\n",
       "<style scoped>\n",
       "    .dataframe tbody tr th:only-of-type {\n",
       "        vertical-align: middle;\n",
       "    }\n",
       "\n",
       "    .dataframe tbody tr th {\n",
       "        vertical-align: top;\n",
       "    }\n",
       "\n",
       "    .dataframe thead th {\n",
       "        text-align: right;\n",
       "    }\n",
       "</style>\n",
       "<table border=\"1\" class=\"dataframe\">\n",
       "  <thead>\n",
       "    <tr style=\"text-align: right;\">\n",
       "      <th></th>\n",
       "      <th>법정동코드</th>\n",
       "      <th>법정동명</th>\n",
       "      <th>폐지여부</th>\n",
       "    </tr>\n",
       "  </thead>\n",
       "  <tbody>\n",
       "    <tr>\n",
       "      <th>1541</th>\n",
       "      <td>2144000000</td>\n",
       "      <td>부산직할시 강서구</td>\n",
       "      <td>폐지</td>\n",
       "    </tr>\n",
       "    <tr>\n",
       "      <th>1542</th>\n",
       "      <td>2144010100</td>\n",
       "      <td>부산직할시 강서구 대저일동</td>\n",
       "      <td>폐지</td>\n",
       "    </tr>\n",
       "    <tr>\n",
       "      <th>1543</th>\n",
       "      <td>2144010200</td>\n",
       "      <td>부산직할시 강서구 대저이동</td>\n",
       "      <td>폐지</td>\n",
       "    </tr>\n",
       "    <tr>\n",
       "      <th>1544</th>\n",
       "      <td>2144010300</td>\n",
       "      <td>부산직할시 강서구 강동동</td>\n",
       "      <td>폐지</td>\n",
       "    </tr>\n",
       "    <tr>\n",
       "      <th>1545</th>\n",
       "      <td>2144010400</td>\n",
       "      <td>부산직할시 강서구 명지동</td>\n",
       "      <td>폐지</td>\n",
       "    </tr>\n",
       "    <tr>\n",
       "      <th>1546</th>\n",
       "      <td>2144010500</td>\n",
       "      <td>부산직할시 강서구 죽림동</td>\n",
       "      <td>폐지</td>\n",
       "    </tr>\n",
       "    <tr>\n",
       "      <th>1547</th>\n",
       "      <td>2144010600</td>\n",
       "      <td>부산직할시 강서구 식만동</td>\n",
       "      <td>폐지</td>\n",
       "    </tr>\n",
       "    <tr>\n",
       "      <th>1548</th>\n",
       "      <td>2144010700</td>\n",
       "      <td>부산직할시 강서구 죽동동</td>\n",
       "      <td>폐지</td>\n",
       "    </tr>\n",
       "    <tr>\n",
       "      <th>1549</th>\n",
       "      <td>2144010800</td>\n",
       "      <td>부산직할시 강서구 봉림동</td>\n",
       "      <td>폐지</td>\n",
       "    </tr>\n",
       "    <tr>\n",
       "      <th>1550</th>\n",
       "      <td>2144010900</td>\n",
       "      <td>부산직할시 강서구 송정동</td>\n",
       "      <td>폐지</td>\n",
       "    </tr>\n",
       "    <tr>\n",
       "      <th>1551</th>\n",
       "      <td>2144011000</td>\n",
       "      <td>부산직할시 강서구 화전동</td>\n",
       "      <td>폐지</td>\n",
       "    </tr>\n",
       "    <tr>\n",
       "      <th>1552</th>\n",
       "      <td>2144011100</td>\n",
       "      <td>부산직할시 강서구 녹산동</td>\n",
       "      <td>폐지</td>\n",
       "    </tr>\n",
       "    <tr>\n",
       "      <th>1553</th>\n",
       "      <td>2144011200</td>\n",
       "      <td>부산직할시 강서구 생곡동</td>\n",
       "      <td>폐지</td>\n",
       "    </tr>\n",
       "    <tr>\n",
       "      <th>1554</th>\n",
       "      <td>2144011300</td>\n",
       "      <td>부산직할시 강서구 구랑동</td>\n",
       "      <td>폐지</td>\n",
       "    </tr>\n",
       "    <tr>\n",
       "      <th>1555</th>\n",
       "      <td>2144011400</td>\n",
       "      <td>부산직할시 강서구 지사동</td>\n",
       "      <td>폐지</td>\n",
       "    </tr>\n",
       "    <tr>\n",
       "      <th>1556</th>\n",
       "      <td>2144011500</td>\n",
       "      <td>부산직할시 강서구 미음동</td>\n",
       "      <td>폐지</td>\n",
       "    </tr>\n",
       "    <tr>\n",
       "      <th>1557</th>\n",
       "      <td>2144011600</td>\n",
       "      <td>부산직할시 강서구 범방동</td>\n",
       "      <td>폐지</td>\n",
       "    </tr>\n",
       "    <tr>\n",
       "      <th>1558</th>\n",
       "      <td>2144011700</td>\n",
       "      <td>부산직할시 강서구 신호동</td>\n",
       "      <td>폐지</td>\n",
       "    </tr>\n",
       "    <tr>\n",
       "      <th>1559</th>\n",
       "      <td>2144011800</td>\n",
       "      <td>부산직할시 강서구 동선동</td>\n",
       "      <td>폐지</td>\n",
       "    </tr>\n",
       "    <tr>\n",
       "      <th>1560</th>\n",
       "      <td>2144011900</td>\n",
       "      <td>부산직할시 강서구 성북동</td>\n",
       "      <td>폐지</td>\n",
       "    </tr>\n",
       "    <tr>\n",
       "      <th>1561</th>\n",
       "      <td>2144012000</td>\n",
       "      <td>부산직할시 강서구 눌차동</td>\n",
       "      <td>폐지</td>\n",
       "    </tr>\n",
       "    <tr>\n",
       "      <th>1562</th>\n",
       "      <td>2144012100</td>\n",
       "      <td>부산직할시 강서구 천성동</td>\n",
       "      <td>폐지</td>\n",
       "    </tr>\n",
       "    <tr>\n",
       "      <th>1563</th>\n",
       "      <td>2144012200</td>\n",
       "      <td>부산직할시 강서구 대항동</td>\n",
       "      <td>폐지</td>\n",
       "    </tr>\n",
       "    <tr>\n",
       "      <th>1564</th>\n",
       "      <td>2144090100</td>\n",
       "      <td>부산직할시 강서구 가락동</td>\n",
       "      <td>폐지</td>\n",
       "    </tr>\n",
       "    <tr>\n",
       "      <th>1565</th>\n",
       "      <td>2144090200</td>\n",
       "      <td>부산직할시 강서구 천가동</td>\n",
       "      <td>폐지</td>\n",
       "    </tr>\n",
       "    <tr>\n",
       "      <th>2792</th>\n",
       "      <td>2644000000</td>\n",
       "      <td>부산광역시 강서구</td>\n",
       "      <td>존재</td>\n",
       "    </tr>\n",
       "    <tr>\n",
       "      <th>2793</th>\n",
       "      <td>2644010100</td>\n",
       "      <td>부산광역시 강서구 대저1동</td>\n",
       "      <td>존재</td>\n",
       "    </tr>\n",
       "    <tr>\n",
       "      <th>2794</th>\n",
       "      <td>2644010200</td>\n",
       "      <td>부산광역시 강서구 대저2동</td>\n",
       "      <td>존재</td>\n",
       "    </tr>\n",
       "    <tr>\n",
       "      <th>2795</th>\n",
       "      <td>2644010300</td>\n",
       "      <td>부산광역시 강서구 강동동</td>\n",
       "      <td>존재</td>\n",
       "    </tr>\n",
       "    <tr>\n",
       "      <th>2796</th>\n",
       "      <td>2644010400</td>\n",
       "      <td>부산광역시 강서구 명지동</td>\n",
       "      <td>존재</td>\n",
       "    </tr>\n",
       "    <tr>\n",
       "      <th>2797</th>\n",
       "      <td>2644010500</td>\n",
       "      <td>부산광역시 강서구 죽림동</td>\n",
       "      <td>존재</td>\n",
       "    </tr>\n",
       "    <tr>\n",
       "      <th>2798</th>\n",
       "      <td>2644010600</td>\n",
       "      <td>부산광역시 강서구 식만동</td>\n",
       "      <td>존재</td>\n",
       "    </tr>\n",
       "    <tr>\n",
       "      <th>2799</th>\n",
       "      <td>2644010700</td>\n",
       "      <td>부산광역시 강서구 죽동동</td>\n",
       "      <td>존재</td>\n",
       "    </tr>\n",
       "    <tr>\n",
       "      <th>2800</th>\n",
       "      <td>2644010800</td>\n",
       "      <td>부산광역시 강서구 봉림동</td>\n",
       "      <td>존재</td>\n",
       "    </tr>\n",
       "    <tr>\n",
       "      <th>2801</th>\n",
       "      <td>2644010900</td>\n",
       "      <td>부산광역시 강서구 송정동</td>\n",
       "      <td>존재</td>\n",
       "    </tr>\n",
       "    <tr>\n",
       "      <th>2802</th>\n",
       "      <td>2644011000</td>\n",
       "      <td>부산광역시 강서구 화전동</td>\n",
       "      <td>존재</td>\n",
       "    </tr>\n",
       "    <tr>\n",
       "      <th>2803</th>\n",
       "      <td>2644011100</td>\n",
       "      <td>부산광역시 강서구 녹산동</td>\n",
       "      <td>존재</td>\n",
       "    </tr>\n",
       "    <tr>\n",
       "      <th>2804</th>\n",
       "      <td>2644011200</td>\n",
       "      <td>부산광역시 강서구 생곡동</td>\n",
       "      <td>존재</td>\n",
       "    </tr>\n",
       "    <tr>\n",
       "      <th>2805</th>\n",
       "      <td>2644011300</td>\n",
       "      <td>부산광역시 강서구 구랑동</td>\n",
       "      <td>존재</td>\n",
       "    </tr>\n",
       "    <tr>\n",
       "      <th>2806</th>\n",
       "      <td>2644011400</td>\n",
       "      <td>부산광역시 강서구 지사동</td>\n",
       "      <td>존재</td>\n",
       "    </tr>\n",
       "    <tr>\n",
       "      <th>2807</th>\n",
       "      <td>2644011500</td>\n",
       "      <td>부산광역시 강서구 미음동</td>\n",
       "      <td>존재</td>\n",
       "    </tr>\n",
       "    <tr>\n",
       "      <th>2808</th>\n",
       "      <td>2644011600</td>\n",
       "      <td>부산광역시 강서구 범방동</td>\n",
       "      <td>존재</td>\n",
       "    </tr>\n",
       "    <tr>\n",
       "      <th>2809</th>\n",
       "      <td>2644011700</td>\n",
       "      <td>부산광역시 강서구 신호동</td>\n",
       "      <td>존재</td>\n",
       "    </tr>\n",
       "    <tr>\n",
       "      <th>2810</th>\n",
       "      <td>2644011800</td>\n",
       "      <td>부산광역시 강서구 동선동</td>\n",
       "      <td>존재</td>\n",
       "    </tr>\n",
       "    <tr>\n",
       "      <th>2811</th>\n",
       "      <td>2644011900</td>\n",
       "      <td>부산광역시 강서구 성북동</td>\n",
       "      <td>존재</td>\n",
       "    </tr>\n",
       "    <tr>\n",
       "      <th>2812</th>\n",
       "      <td>2644012000</td>\n",
       "      <td>부산광역시 강서구 눌차동</td>\n",
       "      <td>존재</td>\n",
       "    </tr>\n",
       "    <tr>\n",
       "      <th>2813</th>\n",
       "      <td>2644012100</td>\n",
       "      <td>부산광역시 강서구 천성동</td>\n",
       "      <td>존재</td>\n",
       "    </tr>\n",
       "    <tr>\n",
       "      <th>2814</th>\n",
       "      <td>2644012200</td>\n",
       "      <td>부산광역시 강서구 대항동</td>\n",
       "      <td>존재</td>\n",
       "    </tr>\n",
       "  </tbody>\n",
       "</table>\n",
       "</div>"
      ],
      "text/plain": [
       "           법정동코드            법정동명 폐지여부\n",
       "1541  2144000000       부산직할시 강서구   폐지\n",
       "1542  2144010100  부산직할시 강서구 대저일동   폐지\n",
       "1543  2144010200  부산직할시 강서구 대저이동   폐지\n",
       "1544  2144010300   부산직할시 강서구 강동동   폐지\n",
       "1545  2144010400   부산직할시 강서구 명지동   폐지\n",
       "1546  2144010500   부산직할시 강서구 죽림동   폐지\n",
       "1547  2144010600   부산직할시 강서구 식만동   폐지\n",
       "1548  2144010700   부산직할시 강서구 죽동동   폐지\n",
       "1549  2144010800   부산직할시 강서구 봉림동   폐지\n",
       "1550  2144010900   부산직할시 강서구 송정동   폐지\n",
       "1551  2144011000   부산직할시 강서구 화전동   폐지\n",
       "1552  2144011100   부산직할시 강서구 녹산동   폐지\n",
       "1553  2144011200   부산직할시 강서구 생곡동   폐지\n",
       "1554  2144011300   부산직할시 강서구 구랑동   폐지\n",
       "1555  2144011400   부산직할시 강서구 지사동   폐지\n",
       "1556  2144011500   부산직할시 강서구 미음동   폐지\n",
       "1557  2144011600   부산직할시 강서구 범방동   폐지\n",
       "1558  2144011700   부산직할시 강서구 신호동   폐지\n",
       "1559  2144011800   부산직할시 강서구 동선동   폐지\n",
       "1560  2144011900   부산직할시 강서구 성북동   폐지\n",
       "1561  2144012000   부산직할시 강서구 눌차동   폐지\n",
       "1562  2144012100   부산직할시 강서구 천성동   폐지\n",
       "1563  2144012200   부산직할시 강서구 대항동   폐지\n",
       "1564  2144090100   부산직할시 강서구 가락동   폐지\n",
       "1565  2144090200   부산직할시 강서구 천가동   폐지\n",
       "2792  2644000000       부산광역시 강서구   존재\n",
       "2793  2644010100  부산광역시 강서구 대저1동   존재\n",
       "2794  2644010200  부산광역시 강서구 대저2동   존재\n",
       "2795  2644010300   부산광역시 강서구 강동동   존재\n",
       "2796  2644010400   부산광역시 강서구 명지동   존재\n",
       "2797  2644010500   부산광역시 강서구 죽림동   존재\n",
       "2798  2644010600   부산광역시 강서구 식만동   존재\n",
       "2799  2644010700   부산광역시 강서구 죽동동   존재\n",
       "2800  2644010800   부산광역시 강서구 봉림동   존재\n",
       "2801  2644010900   부산광역시 강서구 송정동   존재\n",
       "2802  2644011000   부산광역시 강서구 화전동   존재\n",
       "2803  2644011100   부산광역시 강서구 녹산동   존재\n",
       "2804  2644011200   부산광역시 강서구 생곡동   존재\n",
       "2805  2644011300   부산광역시 강서구 구랑동   존재\n",
       "2806  2644011400   부산광역시 강서구 지사동   존재\n",
       "2807  2644011500   부산광역시 강서구 미음동   존재\n",
       "2808  2644011600   부산광역시 강서구 범방동   존재\n",
       "2809  2644011700   부산광역시 강서구 신호동   존재\n",
       "2810  2644011800   부산광역시 강서구 동선동   존재\n",
       "2811  2644011900   부산광역시 강서구 성북동   존재\n",
       "2812  2644012000   부산광역시 강서구 눌차동   존재\n",
       "2813  2644012100   부산광역시 강서구 천성동   존재\n",
       "2814  2644012200   부산광역시 강서구 대항동   존재"
      ]
     },
     "execution_count": 336,
     "metadata": {},
     "output_type": "execute_result"
    }
   ],
   "source": [
    "# str.contains()\n",
    "court_subset_df = courtDF[courtDF[\"법정동명\"].str.contains(\"강서\") & courtDF[\"법정동명\"].str.contains(\"부산\")]\n",
    "court_subset_df"
   ]
  },
  {
   "cell_type": "code",
   "execution_count": 337,
   "metadata": {},
   "outputs": [
    {
     "data": {
      "text/plain": [
       "0                       서울특별시\n",
       "1                   서울특별시-종로구\n",
       "2               서울특별시-종로구-청운동\n",
       "3               서울특별시-종로구-신교동\n",
       "4               서울특별시-종로구-궁정동\n",
       "                 ...         \n",
       "46175    제주특별자치도-서귀포시-표선면-하천리\n",
       "46176    제주특별자치도-서귀포시-표선면-성읍리\n",
       "46177    제주특별자치도-서귀포시-표선면-가시리\n",
       "46178    제주특별자치도-서귀포시-표선면-세화리\n",
       "46179    제주특별자치도-서귀포시-표선면-토산리\n",
       "Name: 법정동명, Length: 46180, dtype: object"
      ]
     },
     "execution_count": 337,
     "metadata": {},
     "output_type": "execute_result"
    }
   ],
   "source": [
    "# str.replace()\n",
    "court_subset_df = courtDF[\"법정동명\"].str.replace(\" \", \"-\")\n",
    "court_subset_df"
   ]
  },
  {
   "cell_type": "markdown",
   "metadata": {},
   "source": [
    "- str.strip() : 좌우공백 없애기\n",
    "- str.lstrip() : 왼쪽 공백 없애기\n",
    "- str.rstrip() : 오른쪽 공백 없애기\n",
    "- str.lower() : 소문자 전환\n",
    "- str.upper() : 대문자 전환\n",
    "- str.swapcase() : "
   ]
  },
  {
   "cell_type": "code",
   "execution_count": 338,
   "metadata": {},
   "outputs": [
    {
     "data": {
      "text/html": [
       "<div>\n",
       "<style scoped>\n",
       "    .dataframe tbody tr th:only-of-type {\n",
       "        vertical-align: middle;\n",
       "    }\n",
       "\n",
       "    .dataframe tbody tr th {\n",
       "        vertical-align: top;\n",
       "    }\n",
       "\n",
       "    .dataframe thead th {\n",
       "        text-align: right;\n",
       "    }\n",
       "</style>\n",
       "<table border=\"1\" class=\"dataframe\">\n",
       "  <thead>\n",
       "    <tr style=\"text-align: right;\">\n",
       "      <th></th>\n",
       "      <th>col01</th>\n",
       "      <th>col02</th>\n",
       "    </tr>\n",
       "  </thead>\n",
       "  <tbody>\n",
       "    <tr>\n",
       "      <th>0</th>\n",
       "      <td>abcd</td>\n",
       "      <td>fjHij</td>\n",
       "    </tr>\n",
       "    <tr>\n",
       "      <th>1</th>\n",
       "      <td>FFFght</td>\n",
       "      <td>ffght</td>\n",
       "    </tr>\n",
       "    <tr>\n",
       "      <th>2</th>\n",
       "      <td>abCCe</td>\n",
       "      <td>Ibcce</td>\n",
       "    </tr>\n",
       "  </tbody>\n",
       "</table>\n",
       "</div>"
      ],
      "text/plain": [
       "       col01      col02\n",
       "0    abcd         fjHij\n",
       "1    FFFght      ffght \n",
       "2  abCCe      Ibcce    "
      ]
     },
     "execution_count": 338,
     "metadata": {},
     "output_type": "execute_result"
    }
   ],
   "source": [
    "emptyDF = pd.DataFrame({\n",
    "    'col01' : ['abcd   ' , ' FFFght '  , 'abCCe    '],\n",
    "    'col02' : ['   fjHij' , ' ffght '  , 'Ibcce    '],\n",
    "        \n",
    "})\n",
    "\n",
    "emptyDF"
   ]
  },
  {
   "cell_type": "code",
   "execution_count": 341,
   "metadata": {},
   "outputs": [
    {
     "name": "stdout",
     "output_type": "stream",
     "text": [
      "0      abcd\n",
      "1    FFFght\n",
      "2     abCCe\n",
      "Name: col01, dtype: object\n",
      "0      abcd   \n",
      "1      fffght \n",
      "2    abcce    \n",
      "Name: col01, dtype: object\n",
      "0      ABCD\n",
      "1    FFFGHT\n",
      "2     ABCCE\n",
      "Name: col01, dtype: object\n"
     ]
    }
   ],
   "source": [
    "# str.strip()\n",
    "print(emptyDF['col01'].str.strip())\n",
    "# str.lower()\n",
    "print(emptyDF['col01'].str.lower())\n",
    "# str.strip() , str.upper()\n",
    "print(emptyDF['col01'].str.strip().str.upper())"
   ]
  },
  {
   "cell_type": "code",
   "execution_count": null,
   "metadata": {},
   "outputs": [],
   "source": []
  }
 ],
 "metadata": {
  "kernelspec": {
   "display_name": "Python 3",
   "language": "python",
   "name": "python3"
  },
  "language_info": {
   "codemirror_mode": {
    "name": "ipython",
    "version": 3
   },
   "file_extension": ".py",
   "mimetype": "text/x-python",
   "name": "python",
   "nbconvert_exporter": "python",
   "pygments_lexer": "ipython3",
   "version": "3.8.5"
  }
 },
 "nbformat": 4,
 "nbformat_minor": 4
}
