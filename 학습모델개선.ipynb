{
  "nbformat": 4,
  "nbformat_minor": 0,
  "metadata": {
    "colab": {
      "name": "학습모델개선.ipynb",
      "provenance": [],
      "authorship_tag": "ABX9TyP893kP4G+/wzxIJ4Yqy6gx",
      "include_colab_link": true
    },
    "kernelspec": {
      "name": "python3",
      "display_name": "Python 3"
    },
    "language_info": {
      "name": "python"
    },
    "accelerator": "GPU"
  },
  "cells": [
    {
      "cell_type": "markdown",
      "metadata": {
        "id": "view-in-github",
        "colab_type": "text"
      },
      "source": [
        "<a href=\"https://colab.research.google.com/github/dhdmsdud/TIL/blob/master/%ED%95%99%EC%8A%B5%EB%AA%A8%EB%8D%B8%EA%B0%9C%EC%84%A0.ipynb\" target=\"_parent\"><img src=\"https://colab.research.google.com/assets/colab-badge.svg\" alt=\"Open In Colab\"/></a>"
      ]
    },
    {
      "cell_type": "code",
      "metadata": {
        "id": "DiwGSn9ClQl7"
      },
      "source": [
        "from tensorflow.keras.datasets   import boston_housing\n",
        "from tensorflow.keras.models     import Sequential \n",
        "from tensorflow.keras.layers     import Activation , Dense, BatchNormalization, Dropout\n",
        "from tensorflow.keras.optimizers import SGD , Adam\n",
        "from tensorflow.keras.utils      import plot_model, to_categorical \n",
        "from tensorflow.keras.callbacks  import EarlyStopping, ModelCheckpoint\n",
        "\n",
        "\n",
        "from tensorflow.keras.wrappers.scikit_learn import KerasClassifier\n",
        "\n",
        "\n",
        "from sklearn.model_selection     import train_test_split\n",
        "from sklearn.preprocessing       import StandardScaler , MinMaxScaler , LabelEncoder\n",
        "from sklearn.datasets            import load_breast_cancer\n",
        "from sklearn.model_selection     import KFold\n",
        "from sklearn.ensemble            import VotingClassifier\n",
        "from sklearn.metrics             import accuracy_score\n",
        "\n",
        "\n",
        "import matplotlib.pyplot as plt\n",
        "\n",
        "import pandas  as pd\n",
        "import numpy   as np\n",
        "import seaborn as sns"
      ],
      "execution_count": 5,
      "outputs": []
    },
    {
      "cell_type": "markdown",
      "metadata": {
        "id": "4xD_iFIkng8-"
      },
      "source": [
        "- Weight initialization\n",
        "- Activation function\n",
        "- Optimizer"
      ]
    },
    {
      "cell_type": "code",
      "metadata": {
        "id": "w6Gbqfkqn2um"
      },
      "source": [
        "from tensorflow.keras.datasets.mnist import load_data"
      ],
      "execution_count": 6,
      "outputs": []
    },
    {
      "cell_type": "code",
      "metadata": {
        "colab": {
          "base_uri": "https://localhost:8080/"
        },
        "id": "ccvJ1Aqfneu2",
        "outputId": "50f10df1-b429-4255-a671-6c4bed616e07"
      },
      "source": [
        "(X_train, y_train), (X_test, y_test) = load_data()\n",
        "X_train.shape, y_train.shape,X_test.shape, y_test.shape"
      ],
      "execution_count": 7,
      "outputs": [
        {
          "output_type": "stream",
          "text": [
            "Downloading data from https://storage.googleapis.com/tensorflow/tf-keras-datasets/mnist.npz\n",
            "11493376/11490434 [==============================] - 0s 0us/step\n"
          ],
          "name": "stdout"
        },
        {
          "output_type": "execute_result",
          "data": {
            "text/plain": [
              "((60000, 28, 28), (60000,), (10000, 28, 28), (10000,))"
            ]
          },
          "metadata": {
            "tags": []
          },
          "execution_count": 7
        }
      ]
    },
    {
      "cell_type": "code",
      "metadata": {
        "colab": {
          "base_uri": "https://localhost:8080/"
        },
        "id": "SsrH1hX3rslX",
        "outputId": "d3ca011d-e352-47a7-abcd-feb91aa76a79"
      },
      "source": [
        "X_train[0].shape"
      ],
      "execution_count": 8,
      "outputs": [
        {
          "output_type": "execute_result",
          "data": {
            "text/plain": [
              "(28, 28)"
            ]
          },
          "metadata": {
            "tags": []
          },
          "execution_count": 8
        }
      ]
    },
    {
      "cell_type": "code",
      "metadata": {
        "colab": {
          "base_uri": "https://localhost:8080/",
          "height": 282
        },
        "id": "NJzago3dpkym",
        "outputId": "35afa742-17da-4c93-ba81-a2295751e349"
      },
      "source": [
        "plt.imshow(X_train[0])\n",
        "print('target -->', y_train[0])"
      ],
      "execution_count": 9,
      "outputs": [
        {
          "output_type": "stream",
          "text": [
            "target --> 5\n"
          ],
          "name": "stdout"
        },
        {
          "output_type": "display_data",
          "data": {
            "image/png": "[encoded data removed]",
            "text/plain": [
              "<Figure size 432x288 with 1 Axes>"
            ]
          },
          "metadata": {
            "tags": [],
            "needs_background": "light"
          }
        }
      ]
    },
    {
      "cell_type": "code",
      "metadata": {
        "id": "VE5C9a5Ip4uM"
      },
      "source": [
        "# 1차원으로 reshape\n",
        "X_train = X_train.reshape(60000, 28*28)\n",
        "X_test  = X_test.reshape(10000, 784)"
      ],
      "execution_count": 10,
      "outputs": []
    },
    {
      "cell_type": "code",
      "metadata": {
        "colab": {
          "base_uri": "https://localhost:8080/"
        },
        "id": "CxbNrlIhrcki",
        "outputId": "76b06907-e4e1-4484-a6fc-6c81a285fc76"
      },
      "source": [
        "X_train[0].shape"
      ],
      "execution_count": 11,
      "outputs": [
        {
          "output_type": "execute_result",
          "data": {
            "text/plain": [
              "(784,)"
            ]
          },
          "metadata": {
            "tags": []
          },
          "execution_count": 11
        }
      ]
    },
    {
      "cell_type": "code",
      "metadata": {
        "id": "MJKRj_aUriQc"
      },
      "source": [
        "y_train = to_categorical(y_train, 10)\n",
        "y_test = to_categorical(y_test, 10)"
      ],
      "execution_count": 12,
      "outputs": []
    },
    {
      "cell_type": "code",
      "metadata": {
        "colab": {
          "base_uri": "https://localhost:8080/"
        },
        "id": "PeyDtUOdsBrW",
        "outputId": "8102b542-e068-48aa-d9fb-4b63917bee64"
      },
      "source": [
        "y_train[0]"
      ],
      "execution_count": 13,
      "outputs": [
        {
          "output_type": "execute_result",
          "data": {
            "text/plain": [
              "array([0., 0., 0., 0., 0., 1., 0., 0., 0., 0.], dtype=float32)"
            ]
          },
          "metadata": {
            "tags": []
          },
          "execution_count": 13
        }
      ]
    },
    {
      "cell_type": "code",
      "metadata": {
        "id": "cApDWQ3euBmp"
      },
      "source": [
        "X_train, _, y_train, _ = train_test_split(X_train, y_train, test_size=0.7, random_state=100)"
      ],
      "execution_count": 14,
      "outputs": []
    },
    {
      "cell_type": "code",
      "metadata": {
        "colab": {
          "base_uri": "https://localhost:8080/"
        },
        "id": "oSwpKIxDuroT",
        "outputId": "9cab9600-05e8-4be6-dfe4-d6a332eee393"
      },
      "source": [
        "X_train.shape, y_train.shape, X_test.shape, y_test.shape"
      ],
      "execution_count": 15,
      "outputs": [
        {
          "output_type": "execute_result",
          "data": {
            "text/plain": [
              "((18000, 784), (18000, 10), (10000, 784), (10000, 10))"
            ]
          },
          "metadata": {
            "tags": []
          },
          "execution_count": 15
        }
      ]
    },
    {
      "cell_type": "code",
      "metadata": {
        "id": "yd1qguG0uulK"
      },
      "source": [
        "def get_model() :\n",
        "\n",
        "    model = Sequential()\n",
        "    model.add(Dense(50, activation='sigmoid',input_shape=(784,)))\n",
        "\n",
        "    model.add(Dense(50, activation='sigmoid'))\n",
        "    model.add(Dense(50 ,activation='sigmoid'))\n",
        "    model.add(Dense(50 ,activation='sigmoid'))\n",
        "\n",
        "    model.add(Dense(10 ,activation='softmax'))\n",
        "\n",
        "    return model"
      ],
      "execution_count": 16,
      "outputs": []
    },
    {
      "cell_type": "code",
      "metadata": {
        "id": "hdKUYd9dzbrQ"
      },
      "source": [
        "model = get_model()\n",
        "\n",
        "optimizer = SGD(learning_rate=0.01)\n",
        "\n",
        "model.compile(optimizer = optimizer,\n",
        "              loss      = 'categorical_crossentropy',\n",
        "              metrics   = ['accuracy'])"
      ],
      "execution_count": 17,
      "outputs": []
    },
    {
      "cell_type": "code",
      "metadata": {
        "id": "eSpQjoB6zshh"
      },
      "source": [
        "model.summary()"
      ],
      "execution_count": null,
      "outputs": []
    },
    {
      "cell_type": "code",
      "metadata": {
        "id": "Mt69EvlWz4sb"
      },
      "source": [
        "history = model.fit(X_train, y_train, batch_size=256, validation_split=0.3, epochs=100, verbose=1)"
      ],
      "execution_count": null,
      "outputs": []
    },
    {
      "cell_type": "code",
      "metadata": {
        "colab": {
          "base_uri": "https://localhost:8080/"
        },
        "id": "4P-1JHRt1Jom",
        "outputId": "088419bb-deb9-4ca9-9dee-b02e9c074202"
      },
      "source": [
        "history.history.keys()"
      ],
      "execution_count": 20,
      "outputs": [
        {
          "output_type": "execute_result",
          "data": {
            "text/plain": [
              "dict_keys(['loss', 'accuracy', 'val_loss', 'val_accuracy'])"
            ]
          },
          "metadata": {
            "tags": []
          },
          "execution_count": 20
        }
      ]
    },
    {
      "cell_type": "code",
      "metadata": {
        "colab": {
          "base_uri": "https://localhost:8080/",
          "height": 265
        },
        "id": "SH43Ipbp1dKW",
        "outputId": "dc0909c2-3f72-4740-eff3-10ac73dff54b"
      },
      "source": [
        "plt.plot(history.history['accuracy'])\n",
        "plt.plot(history.history['val_accuracy'])\n",
        "plt.legend(['train', 'val'], loc='best')\n",
        "plt.show()"
      ],
      "execution_count": 21,
      "outputs": [
        {
          "output_type": "display_data",
          "data": {
            "image/png": "[encoded data removed]",
            "text/plain": [
              "<Figure size 432x288 with 1 Axes>"
            ]
          },
          "metadata": {
            "tags": [],
            "needs_background": "light"
          }
        }
      ]
    },
    {
      "cell_type": "code",
      "metadata": {
        "colab": {
          "base_uri": "https://localhost:8080/"
        },
        "id": "PwSktXXk1yPp",
        "outputId": "3536422a-9265-4fcf-ccb6-2cce51205149"
      },
      "source": [
        "result = model.evaluate(X_test, y_test)\n",
        "print('test accuracy', result[1])"
      ],
      "execution_count": 22,
      "outputs": [
        {
          "output_type": "stream",
          "text": [
            "313/313 [==============================] - 1s 2ms/step - loss: 2.2557 - accuracy: 0.1462\n",
            "test accuracy 0.1462000012397766\n"
          ],
          "name": "stdout"
        }
      ]
    },
    {
      "cell_type": "markdown",
      "metadata": {
        "id": "JiyaW6mw3K9z"
      },
      "source": [
        "### Resnet --> he_normal\n",
        "- 가중치를 초기화함"
      ]
    },
    {
      "cell_type": "code",
      "metadata": {
        "id": "fFs0mcAc2ILO"
      },
      "source": [
        "def improve_get_model() :\n",
        "\n",
        "    model = Sequential()\n",
        "    model.add(Dense(50, activation='sigmoid',input_shape=(784,) ,kernel_initializer='he_normal'))\n",
        "\n",
        "    model.add(Dense(50, activation='sigmoid',kernel_initializer='he_normal'))\n",
        "    model.add(Dense(50 ,activation='sigmoid',kernel_initializer='he_normal'))\n",
        "    model.add(Dense(50 ,activation='sigmoid',kernel_initializer='he_normal'))\n",
        "\n",
        "    model.add(Dense(10 ,activation='softmax'))\n",
        "\n",
        "    return model"
      ],
      "execution_count": 23,
      "outputs": []
    },
    {
      "cell_type": "code",
      "metadata": {
        "id": "yZTwxnAa3_RG"
      },
      "source": [
        "model = improve_get_model()\n",
        "\n",
        "optimizer = SGD(learning_rate=0.01)\n",
        "\n",
        "model.compile(optimizer = optimizer,\n",
        "              loss      = 'categorical_crossentropy',\n",
        "              metrics   = ['accuracy'])"
      ],
      "execution_count": 24,
      "outputs": []
    },
    {
      "cell_type": "code",
      "metadata": {
        "id": "P_7HWzFf4GKf"
      },
      "source": [
        "model.summary()"
      ],
      "execution_count": null,
      "outputs": []
    },
    {
      "cell_type": "code",
      "metadata": {
        "id": "t5X0_m6q4L21"
      },
      "source": [
        "history = model.fit(X_train, y_train, batch_size=256, validation_split=0.3, epochs=100, verbose=1)"
      ],
      "execution_count": null,
      "outputs": []
    },
    {
      "cell_type": "code",
      "metadata": {
        "colab": {
          "base_uri": "https://localhost:8080/",
          "height": 265
        },
        "id": "-qfG-kSy4Qvo",
        "outputId": "08ce4a96-7922-401e-c0e9-613efb3eda22"
      },
      "source": [
        "plt.plot(history.history['accuracy'])\n",
        "plt.plot(history.history['val_accuracy'])\n",
        "plt.legend(['train', 'val'], loc='best')\n",
        "plt.show()"
      ],
      "execution_count": 27,
      "outputs": [
        {
          "output_type": "display_data",
          "data": {
            "image/png": "[encoded data removed]",
            "text/plain": [
              "<Figure size 432x288 with 1 Axes>"
            ]
          },
          "metadata": {
            "tags": [],
            "needs_background": "light"
          }
        }
      ]
    },
    {
      "cell_type": "code",
      "metadata": {
        "colab": {
          "base_uri": "https://localhost:8080/"
        },
        "id": "46avrcNF4cGa",
        "outputId": "63413cc1-6116-4474-99b5-28e8337e5008"
      },
      "source": [
        "result = model.evaluate(X_test, y_test)\n",
        "print('test accuracy', result[1])"
      ],
      "execution_count": 28,
      "outputs": [
        {
          "output_type": "stream",
          "text": [
            "313/313 [==============================] - 1s 2ms/step - loss: 1.7823 - accuracy: 0.5168\n",
            "test accuracy 0.5167999863624573\n"
          ],
          "name": "stdout"
        }
      ]
    },
    {
      "cell_type": "markdown",
      "metadata": {
        "id": "iwuH1tbB6zRc"
      },
      "source": [
        "### relu"
      ]
    },
    {
      "cell_type": "code",
      "metadata": {
        "id": "HBqY0UEK4mIr"
      },
      "source": [
        "def improve_activation_get_model() :\n",
        "\n",
        "    model = Sequential()\n",
        "    model.add(Dense(50, activation='relu',input_shape=(784,)))\n",
        "\n",
        "    model.add(Dense(50, activation='relu'))\n",
        "    model.add(Dense(50 ,activation='relu'))\n",
        "    model.add(Dense(50 ,activation='relu'))\n",
        "\n",
        "    model.add(Dense(10 ,activation='softmax'))\n",
        "\n",
        "    return model"
      ],
      "execution_count": 29,
      "outputs": []
    },
    {
      "cell_type": "code",
      "metadata": {
        "id": "A4yDU3qg6kgL"
      },
      "source": [
        "model = improve_activation_get_model()\n",
        "\n",
        "optimizer = SGD(learning_rate=0.01)\n",
        "\n",
        "model.compile(optimizer = optimizer,\n",
        "              loss      = 'categorical_crossentropy',\n",
        "              metrics   = ['accuracy'])"
      ],
      "execution_count": 30,
      "outputs": []
    },
    {
      "cell_type": "code",
      "metadata": {
        "id": "OgO-CXLT6uXO"
      },
      "source": [
        "history = model.fit(X_train, y_train, batch_size=256, validation_split=0.3, epochs=100, verbose=1)"
      ],
      "execution_count": null,
      "outputs": []
    },
    {
      "cell_type": "code",
      "metadata": {
        "colab": {
          "base_uri": "https://localhost:8080/",
          "height": 265
        },
        "id": "RLTi3M1u6xmj",
        "outputId": "3d496832-a78e-4743-d013-14a3df30b2b6"
      },
      "source": [
        "plt.plot(history.history['accuracy'])\n",
        "plt.plot(history.history['val_accuracy'])\n",
        "plt.legend(['train', 'val'], loc='best')\n",
        "plt.show()"
      ],
      "execution_count": 32,
      "outputs": [
        {
          "output_type": "display_data",
          "data": {
            "image/png": "[encoded data removed]",
            "text/plain": [
              "<Figure size 432x288 with 1 Axes>"
            ]
          },
          "metadata": {
            "tags": [],
            "needs_background": "light"
          }
        }
      ]
    },
    {
      "cell_type": "code",
      "metadata": {
        "colab": {
          "base_uri": "https://localhost:8080/"
        },
        "id": "8Li0_QV17L2j",
        "outputId": "8070eff4-258a-441e-9dae-12e47e2a893b"
      },
      "source": [
        "result = model.evaluate(X_test, y_test)\n",
        "print('test accuracy', result[1])"
      ],
      "execution_count": 33,
      "outputs": [
        {
          "output_type": "stream",
          "text": [
            "313/313 [==============================] - 1s 2ms/step - loss: 0.6472 - accuracy: 0.8197\n",
            "test accuracy 0.8197000026702881\n"
          ],
          "name": "stdout"
        }
      ]
    },
    {
      "cell_type": "markdown",
      "metadata": {
        "id": "8l9unLMC7gVn"
      },
      "source": [
        "### Adam"
      ]
    },
    {
      "cell_type": "code",
      "metadata": {
        "id": "0VsYIo_e8e4-"
      },
      "source": [
        "def improve_optimizer_get_model() :\n",
        "\n",
        "    model = Sequential()\n",
        "    model.add(Dense(50, activation='sigmoid',input_shape=(784,)))\n",
        "\n",
        "    model.add(Dense(50, activation='sigmoid'))\n",
        "    model.add(Dense(50 ,activation='sigmoid'))\n",
        "    model.add(Dense(50 ,activation='sigmoid'))\n",
        "\n",
        "    model.add(Dense(10 ,activation='softmax'))\n",
        "\n",
        "    return model"
      ],
      "execution_count": 34,
      "outputs": []
    },
    {
      "cell_type": "code",
      "metadata": {
        "id": "NfFnkdxh8rki"
      },
      "source": [
        "model = improve_optimizer_get_model()\n",
        "\n",
        "optimizer = Adam(learning_rate=0.01)\n",
        "\n",
        "model.compile(optimizer = optimizer,\n",
        "              loss      = 'categorical_crossentropy',\n",
        "              metrics   = ['accuracy'])"
      ],
      "execution_count": 35,
      "outputs": []
    },
    {
      "cell_type": "code",
      "metadata": {
        "id": "0Daau24A85kz"
      },
      "source": [
        "history = model.fit(X_train, y_train, batch_size=256, validation_split=0.3, epochs=100, verbose=1)"
      ],
      "execution_count": null,
      "outputs": []
    },
    {
      "cell_type": "code",
      "metadata": {
        "colab": {
          "base_uri": "https://localhost:8080/",
          "height": 265
        },
        "id": "R4bUedrX9BKA",
        "outputId": "37368420-0fbc-44d0-9148-96371f359558"
      },
      "source": [
        "plt.plot(history.history['accuracy'])\n",
        "plt.plot(history.history['val_accuracy'])\n",
        "plt.legend(['train', 'val'], loc='best')\n",
        "plt.show()"
      ],
      "execution_count": 37,
      "outputs": [
        {
          "output_type": "display_data",
          "data": {
            "image/png": "[encoded data removed]",
            "text/plain": [
              "<Figure size 432x288 with 1 Axes>"
            ]
          },
          "metadata": {
            "tags": [],
            "needs_background": "light"
          }
        }
      ]
    },
    {
      "cell_type": "code",
      "metadata": {
        "colab": {
          "base_uri": "https://localhost:8080/"
        },
        "id": "RiONqm7T9HRR",
        "outputId": "1f2fdf50-6e52-4933-cf88-ba37cd44c293"
      },
      "source": [
        "result = model.evaluate(X_test, y_test)\n",
        "print('test accuracy', result[1])"
      ],
      "execution_count": 38,
      "outputs": [
        {
          "output_type": "stream",
          "text": [
            "313/313 [==============================] - 1s 2ms/step - loss: 0.4637 - accuracy: 0.8539\n",
            "test accuracy 0.8539000153541565\n"
          ],
          "name": "stdout"
        }
      ]
    },
    {
      "cell_type": "markdown",
      "metadata": {
        "id": "SCVPrAZk9KwS"
      },
      "source": [
        "### 배치 정규화\n",
        "- 평균 : 0, 분산 : 1인 정규화를 통해 학습이 잘 알어나도록 도와주는 방식\n",
        "- 각 피쳐마다 배치정규화 진행"
      ]
    },
    {
      "cell_type": "code",
      "metadata": {
        "id": "NEjw3QynCwlP"
      },
      "source": [
        "def normalization_get_model() :\n",
        "\n",
        "    model = Sequential()\n",
        "    model.add(Dense(50, input_shape=(784,)))\n",
        "    model.add(BatchNormalization())\n",
        "    model.add(Activation('sigmoid'))\n",
        "\n",
        "    model.add(Dense(50))\n",
        "    model.add(BatchNormalization())\n",
        "    model.add(Activation('sigmoid'))\n",
        "\n",
        "    model.add(Dense(50))\n",
        "    model.add(BatchNormalization())\n",
        "    model.add(Activation('sigmoid'))\n",
        "\n",
        "    model.add(Dense(50))\n",
        "    model.add(BatchNormalization())\n",
        "    model.add(Activation('sigmoid'))\n",
        "\n",
        "    model.add(Dense(10, activation='softmax'))\n",
        "\n",
        "    optimizer = Adam(learning_rate=0.01)\n",
        "\n",
        "    model.compile(optimizer = optimizer,\n",
        "              loss      = 'categorical_crossentropy',\n",
        "              metrics   = ['accuracy'])\n",
        "\n",
        "    return model"
      ],
      "execution_count": 39,
      "outputs": []
    },
    {
      "cell_type": "code",
      "metadata": {
        "id": "fHj4xbl0D8TR"
      },
      "source": [
        "model = normalization_get_model()\n",
        "model.summary()"
      ],
      "execution_count": null,
      "outputs": []
    },
    {
      "cell_type": "code",
      "metadata": {
        "id": "ilWKC-J_EIta"
      },
      "source": [
        "history = model.fit(X_train, y_train, validation_split=0.3, epochs=100, verbose=1)"
      ],
      "execution_count": null,
      "outputs": []
    },
    {
      "cell_type": "code",
      "metadata": {
        "colab": {
          "base_uri": "https://localhost:8080/"
        },
        "id": "CrM1DR3iEQmM",
        "outputId": "7f996714-f337-4b13-e6a6-80020b4b3266"
      },
      "source": [
        "result = model.evaluate(X_test, y_test)\n",
        "print('test accuracy', result[1])"
      ],
      "execution_count": 42,
      "outputs": [
        {
          "output_type": "stream",
          "text": [
            "313/313 [==============================] - 1s 2ms/step - loss: 0.2180 - accuracy: 0.9633\n",
            "test accuracy 0.9632999897003174\n"
          ],
          "name": "stdout"
        }
      ]
    },
    {
      "cell_type": "markdown",
      "metadata": {
        "id": "KL_KOzwkFRxF"
      },
      "source": [
        "### dropout, earlystopping"
      ]
    },
    {
      "cell_type": "code",
      "metadata": {
        "id": "pGd9srqkF-KD"
      },
      "source": [
        "def dropout_get_model() :\n",
        "\n",
        "    model = Sequential()\n",
        "    model.add(Dense(50, input_shape=(784,)))\n",
        "    model.add(Activation('sigmoid'))\n",
        "    model.add(Dropout(0.2))\n",
        "\n",
        "    model.add(Dense(50))\n",
        "    model.add(Activation('sigmoid'))\n",
        "    model.add(Dropout(0.2))\n",
        "\n",
        "    model.add(Dense(50))\n",
        "    model.add(Activation('sigmoid'))\n",
        "    model.add(Dropout(0.2))\n",
        "\n",
        "    model.add(Dense(50))\n",
        "    model.add(Activation('sigmoid'))\n",
        "    model.add(Dropout(0.2))\n",
        "\n",
        "    model.add(Dense(10, activation='softmax'))\n",
        "\n",
        "    optimizer = Adam(learning_rate=0.01)\n",
        "\n",
        "    model.compile(optimizer = optimizer,\n",
        "              loss      = 'categorical_crossentropy',\n",
        "              metrics   = ['accuracy'])\n",
        "\n",
        "    return model"
      ],
      "execution_count": 43,
      "outputs": []
    },
    {
      "cell_type": "code",
      "metadata": {
        "id": "XMD7Izr4HDtP"
      },
      "source": [
        "model = dropout_get_model()"
      ],
      "execution_count": 44,
      "outputs": []
    },
    {
      "cell_type": "code",
      "metadata": {
        "id": "Fh_gl4L3HLsu"
      },
      "source": [
        "history = model.fit(X_train, y_train, validation_split=0.3, epochs=100, verbose=1)"
      ],
      "execution_count": null,
      "outputs": []
    },
    {
      "cell_type": "code",
      "metadata": {
        "colab": {
          "base_uri": "https://localhost:8080/"
        },
        "id": "8CqHONGEHPDA",
        "outputId": "1e16612a-afbf-4040-edd5-57717960ef74"
      },
      "source": [
        "result = model.evaluate(X_test, y_test)\n",
        "print('test accuracy', result[1])"
      ],
      "execution_count": 46,
      "outputs": [
        {
          "output_type": "stream",
          "text": [
            "313/313 [==============================] - 1s 2ms/step - loss: 1.0644 - accuracy: 0.6367\n",
            "test accuracy 0.6366999745368958\n"
          ],
          "name": "stdout"
        }
      ]
    },
    {
      "cell_type": "code",
      "metadata": {
        "id": "rn_TfoenH1gd"
      },
      "source": [
        "def dropout_batch_get_model() :\n",
        "\n",
        "    model = Sequential()\n",
        "    model.add(Dense(50, input_shape=(784,)))\n",
        "    model.add(BatchNormalization())\n",
        "    model.add(Activation('sigmoid'))\n",
        "    model.add(Dropout(0.2))\n",
        "\n",
        "    model.add(Dense(50))\n",
        "    model.add(BatchNormalization())\n",
        "    model.add(Activation('sigmoid'))\n",
        "    model.add(Dropout(0.2))\n",
        "\n",
        "    model.add(Dense(50))\n",
        "    model.add(BatchNormalization())\n",
        "    model.add(Activation('sigmoid'))\n",
        "    model.add(Dropout(0.2))\n",
        "\n",
        "    model.add(Dense(50))\n",
        "    model.add(BatchNormalization())\n",
        "    model.add(Activation('sigmoid'))\n",
        "    model.add(Dropout(0.2))\n",
        "\n",
        "    model.add(Dense(10, activation='softmax'))\n",
        "\n",
        "    optimizer = Adam(learning_rate=0.01)\n",
        "\n",
        "    model.compile(optimizer = optimizer,\n",
        "              loss      = 'categorical_crossentropy',\n",
        "              metrics   = ['accuracy'])\n",
        "\n",
        "    return model"
      ],
      "execution_count": 47,
      "outputs": []
    },
    {
      "cell_type": "code",
      "metadata": {
        "id": "kWQd8p2bIUkh"
      },
      "source": [
        "model = dropout_batch_get_model()"
      ],
      "execution_count": 48,
      "outputs": []
    },
    {
      "cell_type": "code",
      "metadata": {
        "id": "LQY31MvlIYPz"
      },
      "source": [
        "history = model.fit(X_train, y_train, validation_split=0.3, epochs=100, verbose=1)"
      ],
      "execution_count": null,
      "outputs": []
    },
    {
      "cell_type": "code",
      "metadata": {
        "colab": {
          "base_uri": "https://localhost:8080/"
        },
        "id": "cLWHOEqhIZx_",
        "outputId": "eb41bb77-bfff-412d-db40-7041f31f85ea"
      },
      "source": [
        "result = model.evaluate(X_test, y_test)\n",
        "print('test accuracy', result[1])"
      ],
      "execution_count": 50,
      "outputs": [
        {
          "output_type": "stream",
          "text": [
            "313/313 [==============================] - 1s 2ms/step - loss: 0.1490 - accuracy: 0.9602\n",
            "test accuracy 0.9602000117301941\n"
          ],
          "name": "stdout"
        }
      ]
    },
    {
      "cell_type": "code",
      "metadata": {
        "id": "YGda4e9xJNO-"
      },
      "source": [
        "def dropout_early_get_model() :\n",
        "\n",
        "    model = Sequential()\n",
        "    model.add(Dense(50, input_shape=(784,)))\n",
        "    model.add(Activation('sigmoid'))\n",
        "    model.add(Dropout(0.2))\n",
        "\n",
        "    model.add(Dense(50))\n",
        "    model.add(Activation('sigmoid'))\n",
        "    model.add(Dropout(0.2))\n",
        "\n",
        "    model.add(Dense(50))\n",
        "    model.add(Activation('sigmoid'))\n",
        "    model.add(Dropout(0.2))\n",
        "\n",
        "    model.add(Dense(50))\n",
        "    model.add(Activation('sigmoid'))\n",
        "    model.add(Dropout(0.2))\n",
        "\n",
        "    model.add(Dense(10, activation='softmax'))\n",
        "\n",
        "    optimizer = Adam(learning_rate=0.01)\n",
        "\n",
        "    model.compile(optimizer = optimizer,\n",
        "              loss      = 'categorical_crossentropy',\n",
        "              metrics   = ['accuracy'])\n",
        "\n",
        "    return model"
      ],
      "execution_count": 51,
      "outputs": []
    },
    {
      "cell_type": "code",
      "metadata": {
        "id": "8M4z3BG5J4kI"
      },
      "source": [
        "model = dropout_early_get_model()"
      ],
      "execution_count": 52,
      "outputs": []
    },
    {
      "cell_type": "code",
      "metadata": {
        "id": "aOcIM_NJJ-1-"
      },
      "source": [
        "callbacks = [EarlyStopping(monitor='val_accuracy', patience=3)]\n",
        "history = model.fit(X_train, y_train, validation_split=0.3, epochs=100, verbose=1, callbacks=callbacks)"
      ],
      "execution_count": null,
      "outputs": []
    },
    {
      "cell_type": "markdown",
      "metadata": {
        "id": "9AkgRZOWKRxP"
      },
      "source": [
        "### Ensemble"
      ]
    },
    {
      "cell_type": "code",
      "metadata": {
        "id": "gWUW0HHiKkDR"
      },
      "source": [
        "def get_model() :\n",
        "\n",
        "    model = Sequential()\n",
        "    model.add(Dense(50, activation='sigmoid',input_shape=(784,)))\n",
        "\n",
        "    model.add(Dense(50, activation='sigmoid'))\n",
        "    model.add(Dense(50 ,activation='sigmoid'))\n",
        "    model.add(Dense(50 ,activation='sigmoid'))\n",
        "\n",
        "    model.add(Dense(10 ,activation='softmax'))\n",
        "    \n",
        "    optimizer = SGD(learning_rate=0.01)\n",
        "\n",
        "    model.compile(optimizer = optimizer,\n",
        "              loss      = 'categorical_crossentropy',\n",
        "              metrics   = ['accuracy'])\n",
        "\n",
        "    return model"
      ],
      "execution_count": 54,
      "outputs": []
    },
    {
      "cell_type": "code",
      "metadata": {
        "id": "sIaELWkcj7Ai"
      },
      "source": [
        "y_train = np.argmax(y_train, axis=1)\n",
        "y_test = np.argmax(y_test, axis=1)"
      ],
      "execution_count": 58,
      "outputs": []
    },
    {
      "cell_type": "code",
      "metadata": {
        "id": "6ZMnVq6re6Zf"
      },
      "source": [
        "model01 = KerasClassifier(build_fn=get_model, epochs=100, verbose=0)\n",
        "model02 = KerasClassifier(build_fn=get_model, epochs=100, verbose=0)\n",
        "model03 = KerasClassifier(build_fn=get_model, epochs=100, verbose=0)\n",
        "\n",
        "model01._estimator_type = 'classifier'\n",
        "model02._estimator_type = 'classifier'\n",
        "model03._estimator_type = 'classifier'"
      ],
      "execution_count": 59,
      "outputs": []
    },
    {
      "cell_type": "code",
      "metadata": {
        "colab": {
          "base_uri": "https://localhost:8080/"
        },
        "id": "amiIdXTTgWsJ",
        "outputId": "cd161d19-689a-4236-e3cf-c7f0f24fa25b"
      },
      "source": [
        "ensemble_model = VotingClassifier(estimators=[('model01', model01), ('model02', model02), ('model03', model03)], voting='soft')\n",
        "ensemble_model.fit(X_train, y_train)\n",
        "y_pred = ensemble_model.predict(X_test)\n",
        "\n",
        "print('test acc : ', accuracy_score(y_pred, y_test))"
      ],
      "execution_count": 60,
      "outputs": [
        {
          "output_type": "stream",
          "text": [
            "/usr/local/lib/python3.7/dist-packages/tensorflow/python/keras/engine/sequential.py:425: UserWarning: `model.predict_proba()` is deprecated and will be removed after 2021-01-01. Please use `model.predict()` instead.\n",
            "  warnings.warn('`model.predict_proba()` is deprecated and '\n"
          ],
          "name": "stderr"
        },
        {
          "output_type": "stream",
          "text": [
            "test acc :  0.8958\n"
          ],
          "name": "stdout"
        }
      ]
    },
    {
      "cell_type": "code",
      "metadata": {
        "id": "3XMc8VOAjtvh"
      },
      "source": [
        ""
      ],
      "execution_count": null,
      "outputs": []
    }
  ]
}