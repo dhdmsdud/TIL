{
  "nbformat": 4,
  "nbformat_minor": 0,
  "metadata": {
    "colab": {
      "name": "Fashion Mnist_keras.ipynb",
      "provenance": [],
      "authorship_tag": "ABX9TyMCdQ6PlTrRcIamlmhc+zJ+",
      "include_colab_link": true
    },
    "kernelspec": {
      "name": "python3",
      "display_name": "Python 3"
    },
    "language_info": {
      "name": "python"
    },
    "accelerator": "GPU"
  },
  "cells": [
    {
      "cell_type": "markdown",
      "metadata": {
        "id": "view-in-github",
        "colab_type": "text"
      },
      "source": [
        "<a href=\"https://colab.research.google.com/github/dhdmsdud/TIL/blob/master/Fashion_Mnist_keras.ipynb\" target=\"_parent\"><img src=\"https://colab.research.google.com/assets/colab-badge.svg\" alt=\"Open In Colab\"/></a>"
      ]
    },
    {
      "cell_type": "code",
      "metadata": {
        "id": "lRNcUGxZqMG6"
      },
      "source": [
        "from tensorflow.keras.datasets   import boston_housing\n",
        "from tensorflow.keras.models     import Sequential \n",
        "from tensorflow.keras.layers     import Activation , Dense, BatchNormalization, Dropout\n",
        "from tensorflow.keras.optimizers import SGD , Adam, RMSprop\n",
        "from tensorflow.keras.utils      import plot_model, to_categorical \n",
        "from tensorflow.keras.callbacks  import EarlyStopping, ModelCheckpoint\n",
        "\n",
        "\n",
        "from tensorflow.keras.wrappers.scikit_learn import KerasClassifier\n",
        "\n",
        "\n",
        "from sklearn.model_selection     import train_test_split\n",
        "from sklearn.preprocessing       import StandardScaler , MinMaxScaler , LabelEncoder\n",
        "from sklearn.datasets            import load_breast_cancer\n",
        "from sklearn.model_selection     import KFold\n",
        "from sklearn.ensemble            import VotingClassifier\n",
        "from sklearn.metrics             import accuracy_score\n",
        "\n",
        "\n",
        "import matplotlib.pyplot as plt\n",
        "\n",
        "import pandas  as pd\n",
        "import numpy   as np\n",
        "import seaborn as sns"
      ],
      "execution_count": 1,
      "outputs": []
    },
    {
      "cell_type": "code",
      "metadata": {
        "id": "fy4_R_hdqZgD"
      },
      "source": [
        "from tensorflow.keras.datasets.fashion_mnist import load_data"
      ],
      "execution_count": 2,
      "outputs": []
    },
    {
      "cell_type": "code",
      "metadata": {
        "colab": {
          "base_uri": "https://localhost:8080/"
        },
        "id": "XeZHz3eMqoyk",
        "outputId": "6b932e57-a50b-4273-a567-44cc9ec2322a"
      },
      "source": [
        "(X_train_raw, y_train_raw), (X_test, y_test) = load_data()"
      ],
      "execution_count": 3,
      "outputs": [
        {
          "output_type": "stream",
          "text": [
            "Downloading data from https://storage.googleapis.com/tensorflow/tf-keras-datasets/train-labels-idx1-ubyte.gz\n",
            "32768/29515 [=================================] - 0s 0us/step\n",
            "Downloading data from https://storage.googleapis.com/tensorflow/tf-keras-datasets/train-images-idx3-ubyte.gz\n",
            "26427392/26421880 [==============================] - 1s 0us/step\n",
            "Downloading data from https://storage.googleapis.com/tensorflow/tf-keras-datasets/t10k-labels-idx1-ubyte.gz\n",
            "8192/5148 [===============================================] - 0s 0us/step\n",
            "Downloading data from https://storage.googleapis.com/tensorflow/tf-keras-datasets/t10k-images-idx3-ubyte.gz\n",
            "4423680/4422102 [==============================] - 0s 0us/step\n"
          ],
          "name": "stdout"
        }
      ]
    },
    {
      "cell_type": "code",
      "metadata": {
        "colab": {
          "base_uri": "https://localhost:8080/"
        },
        "id": "azfkHhAqrBmF",
        "outputId": "d25c13c2-3739-4058-ab9a-3682c2620022"
      },
      "source": [
        "X_train_raw.shape, y_train_raw.shape, X_test.shape, y_test.shape"
      ],
      "execution_count": 4,
      "outputs": [
        {
          "output_type": "execute_result",
          "data": {
            "text/plain": [
              "((60000, 28, 28), (60000,), (10000, 28, 28), (10000,))"
            ]
          },
          "metadata": {
            "tags": []
          },
          "execution_count": 4
        }
      ]
    },
    {
      "cell_type": "code",
      "metadata": {
        "colab": {
          "base_uri": "https://localhost:8080/"
        },
        "id": "2_PQoitCrPEP",
        "outputId": "5cf20f01-739d-45e7-b63e-4e8665644929"
      },
      "source": [
        "y_train_raw[0]"
      ],
      "execution_count": 5,
      "outputs": [
        {
          "output_type": "execute_result",
          "data": {
            "text/plain": [
              "9"
            ]
          },
          "metadata": {
            "tags": []
          },
          "execution_count": 5
        }
      ]
    },
    {
      "cell_type": "code",
      "metadata": {
        "id": "L_4t5eZdsMIb"
      },
      "source": [
        "X_train_raw[0]"
      ],
      "execution_count": null,
      "outputs": []
    },
    {
      "cell_type": "code",
      "metadata": {
        "id": "eud2wUnNrjQT"
      },
      "source": [
        "class_names = ['T-shirt/top', 'Trouser', 'Pullover', 'Dress', 'Coat',\n",
        "               'Sandal', 'Shirt', 'Sneaker', 'Bag', 'Ankle boot']"
      ],
      "execution_count": 9,
      "outputs": []
    },
    {
      "cell_type": "code",
      "metadata": {
        "colab": {
          "base_uri": "https://localhost:8080/"
        },
        "id": "eeErLZXvrwv_",
        "outputId": "ca4224a1-07f7-4c55-fca2-e267c1ddce6f"
      },
      "source": [
        "for idx in range(0, 10) :\n",
        "    print(idx, class_names[y_train_raw[idx]])"
      ],
      "execution_count": 10,
      "outputs": [
        {
          "output_type": "stream",
          "text": [
            "0 Ankle boot\n",
            "1 T-shirt/top\n",
            "2 T-shirt/top\n",
            "3 Dress\n",
            "4 T-shirt/top\n",
            "5 Pullover\n",
            "6 Sneaker\n",
            "7 Pullover\n",
            "8 Sandal\n",
            "9 Sandal\n"
          ],
          "name": "stdout"
        }
      ]
    },
    {
      "cell_type": "code",
      "metadata": {
        "colab": {
          "base_uri": "https://localhost:8080/",
          "height": 265
        },
        "id": "KRSYRE4Gr5UP",
        "outputId": "e0cc4298-0fb0-41f1-e6a7-5c9cb281d457"
      },
      "source": [
        "plt.imshow(X_train_raw[0])\n",
        "plt.show()"
      ],
      "execution_count": 11,
      "outputs": [
        {
          "output_type": "display_data",
          "data": {
            "image/png": "[encoded data removed]",
            "text/plain": [
              "<Figure size 432x288 with 1 Axes>"
            ]
          },
          "metadata": {
            "tags": [],
            "needs_background": "light"
          }
        }
      ]
    },
    {
      "cell_type": "code",
      "metadata": {
        "colab": {
          "base_uri": "https://localhost:8080/"
        },
        "id": "9d1-Co_FsjKr",
        "outputId": "b2a7facd-6134-42a4-fb23-f7730365a5ea"
      },
      "source": [
        "num_sample = 4\n",
        "random_idx = np.random.randint(60000, size=num_sample)\n",
        "random_idx"
      ],
      "execution_count": 12,
      "outputs": [
        {
          "output_type": "execute_result",
          "data": {
            "text/plain": [
              "array([ 5505, 36117, 17754, 17093])"
            ]
          },
          "metadata": {
            "tags": []
          },
          "execution_count": 12
        }
      ]
    },
    {
      "cell_type": "code",
      "metadata": {
        "colab": {
          "base_uri": "https://localhost:8080/",
          "height": 186
        },
        "id": "C3KM44ZGt-_p",
        "outputId": "c1c7af11-69d0-403f-aefc-173d19bab403"
      },
      "source": [
        "plt.figure(figsize=(15,15))\n",
        "\n",
        "for i, idx in enumerate(random_idx) :\n",
        "    #print(i, idx)\n",
        "    img   = X_train_raw[idx, :]\n",
        "    label = y_train_raw[idx]\n",
        "\n",
        "    plt.subplot(1, len(random_idx), i+1)\n",
        "    plt.imshow(img)\n",
        "    plt.title('index : {}, label : {}'.format(idx, class_names[label]))"
      ],
      "execution_count": 13,
      "outputs": [
        {
          "output_type": "display_data",
          "data": {
            "image/png": "[encoded data removed]",
            "text/plain": [
              "<Figure size 1080x1080 with 4 Axes>"
            ]
          },
          "metadata": {
            "tags": [],
            "needs_background": "light"
          }
        }
      ]
    },
    {
      "cell_type": "code",
      "metadata": {
        "id": "vGHeGJtXuLVr"
      },
      "source": [
        "# loss = 'sparse_categorical_crossentropy'\n",
        "# optimizer = 'Adam', 'RMSprop'\n",
        "# metrics = 'accuracy'"
      ],
      "execution_count": 14,
      "outputs": []
    },
    {
      "cell_type": "code",
      "metadata": {
        "id": "g4sI0P5owb8B"
      },
      "source": [
        ""
      ],
      "execution_count": null,
      "outputs": []
    }
  ]
}