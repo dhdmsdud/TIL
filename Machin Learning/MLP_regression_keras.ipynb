{
  "nbformat": 4,
  "nbformat_minor": 0,
  "metadata": {
    "colab": {
      "name": "MLP_regression_keras.ipynb",
      "provenance": [],
      "collapsed_sections": [],
      "authorship_tag": "ABX9TyMGIu7MxvCj0jpDGtNY0wrz",
      "include_colab_link": true
    },
    "kernelspec": {
      "name": "python3",
      "display_name": "Python 3"
    },
    "language_info": {
      "name": "python"
    },
    "accelerator": "GPU"
  },
  "cells": [
    {
      "cell_type": "markdown",
      "metadata": {
        "id": "view-in-github",
        "colab_type": "text"
      },
      "source": [
        "<a href=\"https://colab.research.google.com/github/dhdmsdud/TIL/blob/master/MLP_regression_keras.ipynb\" target=\"_parent\"><img src=\"https://colab.research.google.com/assets/colab-badge.svg\" alt=\"Open In Colab\"/></a>"
      ]
    },
    {
      "cell_type": "code",
      "metadata": {
        "id": "D_ojauxOdTdR"
      },
      "source": [
        "from tensorflow.keras.datasets   import boston_housing\n",
        "from tensorflow.keras.models     import Sequential, Model\n",
        "from tensorflow.keras.layers     import Activation, Dense\n",
        "from tensorflow.keras.optimizers import SGD, Adam\n",
        "from tensorflow.keras.utils      import plot_model\n",
        "\n",
        "\n",
        "from sklearn.model_selection     import train_test_split\n",
        "from sklearn.preprocessing       import StandardScaler, MinMaxScaler\n",
        "\n",
        "\n",
        "import numpy  as np\n",
        "import pandas as pd\n",
        "\n",
        "\n",
        "import matplotlib.pyplot as plt\n",
        "import seaborn as sns"
      ],
      "execution_count": null,
      "outputs": []
    },
    {
      "cell_type": "code",
      "metadata": {
        "colab": {
          "base_uri": "https://localhost:8080/"
        },
        "id": "YCW-Ijm6gzX8",
        "outputId": "fd59f5c7-0478-484a-c050-56e6c4d617e7"
      },
      "source": [
        "(X_train, y_train), (X_test, y_test) = boston_housing.load_data()"
      ],
      "execution_count": null,
      "outputs": [
        {
          "output_type": "stream",
          "text": [
            "Downloading data from https://storage.googleapis.com/tensorflow/tf-keras-datasets/boston_housing.npz\n",
            "57344/57026 [==============================] - 0s 0us/step\n"
          ],
          "name": "stdout"
        }
      ]
    },
    {
      "cell_type": "code",
      "metadata": {
        "colab": {
          "base_uri": "https://localhost:8080/"
        },
        "id": "AGh3swnihII_",
        "outputId": "cfc7c4a3-9a3d-4c45-92e1-dc1822b6fa12"
      },
      "source": [
        "X_train.shape, y_train.shape, X_test.shape, y_test.shape"
      ],
      "execution_count": null,
      "outputs": [
        {
          "output_type": "execute_result",
          "data": {
            "text/plain": [
              "((404, 13), (404,), (102, 13), (102,))"
            ]
          },
          "metadata": {
            "tags": []
          },
          "execution_count": 3
        }
      ]
    },
    {
      "cell_type": "code",
      "metadata": {
        "id": "OcYTdXi8hcOK",
        "colab": {
          "base_uri": "https://localhost:8080/"
        },
        "outputId": "e8d83ae9-9b13-4733-e104-d900e9ca4205"
      },
      "source": [
        "X_train[0]"
      ],
      "execution_count": null,
      "outputs": [
        {
          "output_type": "execute_result",
          "data": {
            "text/plain": [
              "array([  1.23247,   0.     ,   8.14   ,   0.     ,   0.538  ,   6.142  ,\n",
              "        91.7    ,   3.9769 ,   4.     , 307.     ,  21.     , 396.9    ,\n",
              "        18.72   ])"
            ]
          },
          "metadata": {
            "tags": []
          },
          "execution_count": 4
        }
      ]
    },
    {
      "cell_type": "code",
      "metadata": {
        "colab": {
          "base_uri": "https://localhost:8080/"
        },
        "id": "0DpFn5iIiBVX",
        "outputId": "aa537d81-3809-4d3b-c9ca-5a336096b710"
      },
      "source": [
        "y_train[0]"
      ],
      "execution_count": null,
      "outputs": [
        {
          "output_type": "execute_result",
          "data": {
            "text/plain": [
              "15.2"
            ]
          },
          "metadata": {
            "tags": []
          },
          "execution_count": 5
        }
      ]
    },
    {
      "cell_type": "code",
      "metadata": {
        "id": "nuv0ZiOGiNz_"
      },
      "source": [
        "model = Sequential()\n",
        "\n",
        "model.add(Dense(10, input_shape=(13, )))\n",
        "model.add(Activation('sigmoid'))\n",
        "\n",
        "model.add(Dense(8, activation='sigmoid'))\n",
        "model.add(Dense(6, activation='sigmoid'))\n",
        "model.add(Dense(4, activation='sigmoid'))\n",
        "\n",
        "model.add(Dense(1))"
      ],
      "execution_count": null,
      "outputs": []
    },
    {
      "cell_type": "code",
      "metadata": {
        "colab": {
          "base_uri": "https://localhost:8080/"
        },
        "id": "jmvwxiCgkokQ",
        "outputId": "dbff60b9-4d91-4d50-d379-15bbda4a2186"
      },
      "source": [
        "model.summary()"
      ],
      "execution_count": null,
      "outputs": [
        {
          "output_type": "stream",
          "text": [
            "Model: \"sequential_1\"\n",
            "_________________________________________________________________\n",
            "Layer (type)                 Output Shape              Param #   \n",
            "=================================================================\n",
            "dense_1 (Dense)              (None, 10)                140       \n",
            "_________________________________________________________________\n",
            "activation_1 (Activation)    (None, 10)                0         \n",
            "_________________________________________________________________\n",
            "dense_2 (Dense)              (None, 8)                 88        \n",
            "_________________________________________________________________\n",
            "dense_3 (Dense)              (None, 6)                 54        \n",
            "_________________________________________________________________\n",
            "dense_4 (Dense)              (None, 4)                 28        \n",
            "_________________________________________________________________\n",
            "dense_5 (Dense)              (None, 1)                 5         \n",
            "=================================================================\n",
            "Total params: 315\n",
            "Trainable params: 315\n",
            "Non-trainable params: 0\n",
            "_________________________________________________________________\n"
          ],
          "name": "stdout"
        }
      ]
    },
    {
      "cell_type": "code",
      "metadata": {
        "id": "LH52D3K3lVku"
      },
      "source": [
        "plot_model(model)"
      ],
      "execution_count": null,
      "outputs": []
    },
    {
      "cell_type": "code",
      "metadata": {
        "id": "rPs_qxV0pnlo"
      },
      "source": [
        "model.compile(loss='mse', optimizer=Adam(learning_rate=0.02), metrics=['mse'])"
      ],
      "execution_count": null,
      "outputs": []
    },
    {
      "cell_type": "code",
      "metadata": {
        "colab": {
          "base_uri": "https://localhost:8080/"
        },
        "id": "QtZlJjGyqmB6",
        "outputId": "2b14f063-18e9-4690-c76b-cf22a3c684ec"
      },
      "source": [
        "model.summary()"
      ],
      "execution_count": null,
      "outputs": [
        {
          "output_type": "stream",
          "text": [
            "Model: \"sequential_1\"\n",
            "_________________________________________________________________\n",
            "Layer (type)                 Output Shape              Param #   \n",
            "=================================================================\n",
            "dense_1 (Dense)              (None, 10)                140       \n",
            "_________________________________________________________________\n",
            "activation_1 (Activation)    (None, 10)                0         \n",
            "_________________________________________________________________\n",
            "dense_2 (Dense)              (None, 8)                 88        \n",
            "_________________________________________________________________\n",
            "dense_3 (Dense)              (None, 6)                 54        \n",
            "_________________________________________________________________\n",
            "dense_4 (Dense)              (None, 4)                 28        \n",
            "_________________________________________________________________\n",
            "dense_5 (Dense)              (None, 1)                 5         \n",
            "=================================================================\n",
            "Total params: 315\n",
            "Trainable params: 315\n",
            "Non-trainable params: 0\n",
            "_________________________________________________________________\n"
          ],
          "name": "stdout"
        }
      ]
    },
    {
      "cell_type": "code",
      "metadata": {
        "id": "ahret_9LqpeR"
      },
      "source": [
        "history = model.fit(X_train, y_train , batch_size = 50 , epochs = 100 , validation_data=(X_test, y_test), verbose = 1 )\n",
        "#model.fit(X_train, y_train , batch_size = 50 , epochs = 100 , verbose = 1 )"
      ],
      "execution_count": null,
      "outputs": []
    },
    {
      "cell_type": "code",
      "metadata": {
        "colab": {
          "base_uri": "https://localhost:8080/"
        },
        "id": "urcMDYefrOhw",
        "outputId": "c8278d1e-374b-4c1d-c377-b9c7c82ecfe2"
      },
      "source": [
        "history.history.keys()"
      ],
      "execution_count": null,
      "outputs": [
        {
          "output_type": "execute_result",
          "data": {
            "text/plain": [
              "dict_keys(['loss', 'mse', 'val_loss', 'val_mse'])"
            ]
          },
          "metadata": {
            "tags": []
          },
          "execution_count": 24
        }
      ]
    },
    {
      "cell_type": "code",
      "metadata": {
        "colab": {
          "base_uri": "https://localhost:8080/"
        },
        "id": "MmkSoK70r_Wz",
        "outputId": "a809e6ff-987b-41c2-f140-5350ed2fc07e"
      },
      "source": [
        "result = model.evaluate(X_test, y_test)\n",
        "print('loss', result[0])\n",
        "print('mse', result[1])"
      ],
      "execution_count": null,
      "outputs": [
        {
          "output_type": "stream",
          "text": [
            "4/4 [==============================] - 0s 3ms/step - loss: 83.8151 - mse: 83.8151\n",
            "loss 83.81512451171875\n",
            "mse 83.81512451171875\n"
          ],
          "name": "stdout"
        }
      ]
    },
    {
      "cell_type": "code",
      "metadata": {
        "id": "LhQ-SbO6s4QB"
      },
      "source": [
        ""
      ],
      "execution_count": null,
      "outputs": []
    },
    {
      "cell_type": "markdown",
      "metadata": {
        "id": "A75rMw81vFfn"
      },
      "source": [
        "### 성능개선을 위한 작업\n",
        "- 스케일링\n",
        "- 학습데이터를 학습, 검증으로 나눔\n",
        "- 모델생성시 activation='relu', 컴파일 optimizer=SGD\n",
        "- 학습, 결과 확인"
      ]
    },
    {
      "cell_type": "code",
      "metadata": {
        "id": "urhNShvjvHJO"
      },
      "source": [
        "(X_train_raw, y_train_raw), (X_test, y_test) = boston_housing.load_data()"
      ],
      "execution_count": null,
      "outputs": []
    },
    {
      "cell_type": "code",
      "metadata": {
        "id": "KtDYF2AEv2Lw"
      },
      "source": [
        "scaler = StandardScaler()\n",
        "X_train_scaler = scaler.fit_transform(X_train_raw)"
      ],
      "execution_count": null,
      "outputs": []
    },
    {
      "cell_type": "code",
      "metadata": {
        "colab": {
          "base_uri": "https://localhost:8080/"
        },
        "id": "A0LhwNwpxoDR",
        "outputId": "97e52eb0-167f-4406-d4ac-bc2303990ac9"
      },
      "source": [
        "X_train_scaler[0]"
      ],
      "execution_count": null,
      "outputs": [
        {
          "output_type": "execute_result",
          "data": {
            "text/plain": [
              "array([-0.27224633, -0.48361547, -0.43576161, -0.25683275, -0.1652266 ,\n",
              "       -0.1764426 ,  0.81306188,  0.1166983 , -0.62624905, -0.59517003,\n",
              "        1.14850044,  0.44807713,  0.8252202 ])"
            ]
          },
          "metadata": {
            "tags": []
          },
          "execution_count": 58
        }
      ]
    },
    {
      "cell_type": "code",
      "metadata": {
        "id": "dQvCNnH5xwLs"
      },
      "source": [
        "scaler = StandardScaler()\n",
        "X_test_scaler = scaler.fit_transform(X_test)"
      ],
      "execution_count": null,
      "outputs": []
    },
    {
      "cell_type": "code",
      "metadata": {
        "colab": {
          "base_uri": "https://localhost:8080/"
        },
        "id": "kyyPbUz6x5fF",
        "outputId": "b61585b8-44c4-410c-9a75-87e423fd58a6"
      },
      "source": [
        "X_test_scaler[0]"
      ],
      "execution_count": null,
      "outputs": [
        {
          "output_type": "execute_result",
          "data": {
            "text/plain": [
              "array([ 2.8040301 , -0.50784934,  0.96960877, -0.32969024,  1.23174581,\n",
              "        0.11934137,  1.14739788, -0.91935276,  1.60609286,  1.40778227,\n",
              "        0.90513041, -4.27829517,  2.51324773])"
            ]
          },
          "metadata": {
            "tags": []
          },
          "execution_count": 60
        }
      ]
    },
    {
      "cell_type": "code",
      "metadata": {
        "id": "1D1EE2cPx8Uj"
      },
      "source": [
        "X_train, X_val, y_train, y_val = train_test_split(X_train_scaler, y_train_raw)"
      ],
      "execution_count": null,
      "outputs": []
    },
    {
      "cell_type": "code",
      "metadata": {
        "id": "HsG-iqY8yYCt"
      },
      "source": [
        "model = Sequential()\n",
        "\n",
        "model.add(Dense(128, input_shape=(13, ), activation='relu'))\n",
        "\n",
        "model.add(Dense(64, activation='relu'))\n",
        "model.add(Dense(32, activation='relu'))\n",
        "\n",
        "model.add(Dense(1))"
      ],
      "execution_count": null,
      "outputs": []
    },
    {
      "cell_type": "code",
      "metadata": {
        "id": "zFpCpNQmyxMO"
      },
      "source": [
        "model.compile(loss='mse', optimizer=SGD(learning_rate=0.02), metrics=['mse'])"
      ],
      "execution_count": null,
      "outputs": []
    },
    {
      "cell_type": "code",
      "metadata": {
        "colab": {
          "base_uri": "https://localhost:8080/"
        },
        "id": "-5MhshLCy66u",
        "outputId": "7d60bdf7-ae71-419d-f693-0ba45ef92cce"
      },
      "source": [
        "model.fit(X_train, y_train , batch_size = 50 , epochs = 300 , validation_data=(X_val, y_val), verbose = 1 )"
      ],
      "execution_count": null,
      "outputs": [
        {
          "output_type": "stream",
          "text": [
            "Epoch 1/300\n",
            "7/7 [==============================] - 0s 27ms/step - loss: nan - mse: nan - val_loss: nan - val_mse: nan\n",
            "Epoch 2/300\n",
            "7/7 [==============================] - 0s 7ms/step - loss: nan - mse: nan - val_loss: nan - val_mse: nan\n",
            "Epoch 3/300\n",
            "7/7 [==============================] - 0s 7ms/step - loss: nan - mse: nan - val_loss: nan - val_mse: nan\n",
            "Epoch 4/300\n",
            "7/7 [==============================] - 0s 7ms/step - loss: nan - mse: nan - val_loss: nan - val_mse: nan\n",
            "Epoch 5/300\n",
            "7/7 [==============================] - 0s 7ms/step - loss: nan - mse: nan - val_loss: nan - val_mse: nan\n",
            "Epoch 6/300\n",
            "7/7 [==============================] - 0s 8ms/step - loss: nan - mse: nan - val_loss: nan - val_mse: nan\n",
            "Epoch 7/300\n",
            "7/7 [==============================] - 0s 7ms/step - loss: nan - mse: nan - val_loss: nan - val_mse: nan\n",
            "Epoch 8/300\n",
            "7/7 [==============================] - 0s 7ms/step - loss: nan - mse: nan - val_loss: nan - val_mse: nan\n",
            "Epoch 9/300\n",
            "7/7 [==============================] - 0s 7ms/step - loss: nan - mse: nan - val_loss: nan - val_mse: nan\n",
            "Epoch 10/300\n",
            "7/7 [==============================] - 0s 7ms/step - loss: nan - mse: nan - val_loss: nan - val_mse: nan\n",
            "Epoch 11/300\n",
            "7/7 [==============================] - 0s 7ms/step - loss: nan - mse: nan - val_loss: nan - val_mse: nan\n",
            "Epoch 12/300\n",
            "7/7 [==============================] - 0s 7ms/step - loss: nan - mse: nan - val_loss: nan - val_mse: nan\n",
            "Epoch 13/300\n",
            "7/7 [==============================] - 0s 7ms/step - loss: nan - mse: nan - val_loss: nan - val_mse: nan\n",
            "Epoch 14/300\n",
            "7/7 [==============================] - 0s 7ms/step - loss: nan - mse: nan - val_loss: nan - val_mse: nan\n",
            "Epoch 15/300\n",
            "7/7 [==============================] - 0s 7ms/step - loss: nan - mse: nan - val_loss: nan - val_mse: nan\n",
            "Epoch 16/300\n",
            "7/7 [==============================] - 0s 7ms/step - loss: nan - mse: nan - val_loss: nan - val_mse: nan\n",
            "Epoch 17/300\n",
            "7/7 [==============================] - 0s 7ms/step - loss: nan - mse: nan - val_loss: nan - val_mse: nan\n",
            "Epoch 18/300\n",
            "7/7 [==============================] - 0s 8ms/step - loss: nan - mse: nan - val_loss: nan - val_mse: nan\n",
            "Epoch 19/300\n",
            "7/7 [==============================] - 0s 7ms/step - loss: nan - mse: nan - val_loss: nan - val_mse: nan\n",
            "Epoch 20/300\n",
            "7/7 [==============================] - 0s 7ms/step - loss: nan - mse: nan - val_loss: nan - val_mse: nan\n",
            "Epoch 21/300\n",
            "7/7 [==============================] - 0s 7ms/step - loss: nan - mse: nan - val_loss: nan - val_mse: nan\n",
            "Epoch 22/300\n",
            "7/7 [==============================] - 0s 7ms/step - loss: nan - mse: nan - val_loss: nan - val_mse: nan\n",
            "Epoch 23/300\n",
            "7/7 [==============================] - 0s 7ms/step - loss: nan - mse: nan - val_loss: nan - val_mse: nan\n",
            "Epoch 24/300\n",
            "7/7 [==============================] - 0s 7ms/step - loss: nan - mse: nan - val_loss: nan - val_mse: nan\n",
            "Epoch 25/300\n",
            "7/7 [==============================] - 0s 7ms/step - loss: nan - mse: nan - val_loss: nan - val_mse: nan\n",
            "Epoch 26/300\n",
            "7/7 [==============================] - 0s 7ms/step - loss: nan - mse: nan - val_loss: nan - val_mse: nan\n",
            "Epoch 27/300\n",
            "7/7 [==============================] - 0s 7ms/step - loss: nan - mse: nan - val_loss: nan - val_mse: nan\n",
            "Epoch 28/300\n",
            "7/7 [==============================] - 0s 7ms/step - loss: nan - mse: nan - val_loss: nan - val_mse: nan\n",
            "Epoch 29/300\n",
            "7/7 [==============================] - 0s 7ms/step - loss: nan - mse: nan - val_loss: nan - val_mse: nan\n",
            "Epoch 30/300\n",
            "7/7 [==============================] - 0s 8ms/step - loss: nan - mse: nan - val_loss: nan - val_mse: nan\n",
            "Epoch 31/300\n",
            "7/7 [==============================] - 0s 7ms/step - loss: nan - mse: nan - val_loss: nan - val_mse: nan\n",
            "Epoch 32/300\n",
            "7/7 [==============================] - 0s 7ms/step - loss: nan - mse: nan - val_loss: nan - val_mse: nan\n",
            "Epoch 33/300\n",
            "7/7 [==============================] - 0s 7ms/step - loss: nan - mse: nan - val_loss: nan - val_mse: nan\n",
            "Epoch 34/300\n",
            "7/7 [==============================] - 0s 7ms/step - loss: nan - mse: nan - val_loss: nan - val_mse: nan\n",
            "Epoch 35/300\n",
            "7/7 [==============================] - 0s 7ms/step - loss: nan - mse: nan - val_loss: nan - val_mse: nan\n",
            "Epoch 36/300\n",
            "7/7 [==============================] - 0s 8ms/step - loss: nan - mse: nan - val_loss: nan - val_mse: nan\n",
            "Epoch 37/300\n",
            "7/7 [==============================] - 0s 8ms/step - loss: nan - mse: nan - val_loss: nan - val_mse: nan\n",
            "Epoch 38/300\n",
            "7/7 [==============================] - 0s 7ms/step - loss: nan - mse: nan - val_loss: nan - val_mse: nan\n",
            "Epoch 39/300\n",
            "7/7 [==============================] - 0s 7ms/step - loss: nan - mse: nan - val_loss: nan - val_mse: nan\n",
            "Epoch 40/300\n",
            "7/7 [==============================] - 0s 7ms/step - loss: nan - mse: nan - val_loss: nan - val_mse: nan\n",
            "Epoch 41/300\n",
            "7/7 [==============================] - 0s 8ms/step - loss: nan - mse: nan - val_loss: nan - val_mse: nan\n",
            "Epoch 42/300\n",
            "7/7 [==============================] - 0s 7ms/step - loss: nan - mse: nan - val_loss: nan - val_mse: nan\n",
            "Epoch 43/300\n",
            "7/7 [==============================] - 0s 7ms/step - loss: nan - mse: nan - val_loss: nan - val_mse: nan\n",
            "Epoch 44/300\n",
            "7/7 [==============================] - 0s 8ms/step - loss: nan - mse: nan - val_loss: nan - val_mse: nan\n",
            "Epoch 45/300\n",
            "7/7 [==============================] - 0s 7ms/step - loss: nan - mse: nan - val_loss: nan - val_mse: nan\n",
            "Epoch 46/300\n",
            "7/7 [==============================] - 0s 7ms/step - loss: nan - mse: nan - val_loss: nan - val_mse: nan\n",
            "Epoch 47/300\n",
            "7/7 [==============================] - 0s 7ms/step - loss: nan - mse: nan - val_loss: nan - val_mse: nan\n",
            "Epoch 48/300\n",
            "7/7 [==============================] - 0s 7ms/step - loss: nan - mse: nan - val_loss: nan - val_mse: nan\n",
            "Epoch 49/300\n",
            "7/7 [==============================] - 0s 7ms/step - loss: nan - mse: nan - val_loss: nan - val_mse: nan\n",
            "Epoch 50/300\n",
            "7/7 [==============================] - 0s 8ms/step - loss: nan - mse: nan - val_loss: nan - val_mse: nan\n",
            "Epoch 51/300\n",
            "7/7 [==============================] - 0s 7ms/step - loss: nan - mse: nan - val_loss: nan - val_mse: nan\n",
            "Epoch 52/300\n",
            "7/7 [==============================] - 0s 8ms/step - loss: nan - mse: nan - val_loss: nan - val_mse: nan\n",
            "Epoch 53/300\n",
            "7/7 [==============================] - 0s 7ms/step - loss: nan - mse: nan - val_loss: nan - val_mse: nan\n",
            "Epoch 54/300\n",
            "7/7 [==============================] - 0s 7ms/step - loss: nan - mse: nan - val_loss: nan - val_mse: nan\n",
            "Epoch 55/300\n",
            "7/7 [==============================] - 0s 8ms/step - loss: nan - mse: nan - val_loss: nan - val_mse: nan\n",
            "Epoch 56/300\n",
            "7/7 [==============================] - 0s 7ms/step - loss: nan - mse: nan - val_loss: nan - val_mse: nan\n",
            "Epoch 57/300\n",
            "7/7 [==============================] - 0s 7ms/step - loss: nan - mse: nan - val_loss: nan - val_mse: nan\n",
            "Epoch 58/300\n",
            "7/7 [==============================] - 0s 7ms/step - loss: nan - mse: nan - val_loss: nan - val_mse: nan\n",
            "Epoch 59/300\n",
            "7/7 [==============================] - 0s 7ms/step - loss: nan - mse: nan - val_loss: nan - val_mse: nan\n",
            "Epoch 60/300\n",
            "7/7 [==============================] - 0s 7ms/step - loss: nan - mse: nan - val_loss: nan - val_mse: nan\n",
            "Epoch 61/300\n",
            "7/7 [==============================] - 0s 7ms/step - loss: nan - mse: nan - val_loss: nan - val_mse: nan\n",
            "Epoch 62/300\n",
            "7/7 [==============================] - 0s 7ms/step - loss: nan - mse: nan - val_loss: nan - val_mse: nan\n",
            "Epoch 63/300\n",
            "7/7 [==============================] - 0s 7ms/step - loss: nan - mse: nan - val_loss: nan - val_mse: nan\n",
            "Epoch 64/300\n",
            "7/7 [==============================] - 0s 7ms/step - loss: nan - mse: nan - val_loss: nan - val_mse: nan\n",
            "Epoch 65/300\n",
            "7/7 [==============================] - 0s 7ms/step - loss: nan - mse: nan - val_loss: nan - val_mse: nan\n",
            "Epoch 66/300\n",
            "7/7 [==============================] - 0s 8ms/step - loss: nan - mse: nan - val_loss: nan - val_mse: nan\n",
            "Epoch 67/300\n",
            "7/7 [==============================] - 0s 7ms/step - loss: nan - mse: nan - val_loss: nan - val_mse: nan\n",
            "Epoch 68/300\n",
            "7/7 [==============================] - 0s 7ms/step - loss: nan - mse: nan - val_loss: nan - val_mse: nan\n",
            "Epoch 69/300\n",
            "7/7 [==============================] - 0s 7ms/step - loss: nan - mse: nan - val_loss: nan - val_mse: nan\n",
            "Epoch 70/300\n",
            "7/7 [==============================] - 0s 7ms/step - loss: nan - mse: nan - val_loss: nan - val_mse: nan\n",
            "Epoch 71/300\n",
            "7/7 [==============================] - 0s 7ms/step - loss: nan - mse: nan - val_loss: nan - val_mse: nan\n",
            "Epoch 72/300\n",
            "7/7 [==============================] - 0s 7ms/step - loss: nan - mse: nan - val_loss: nan - val_mse: nan\n",
            "Epoch 73/300\n",
            "7/7 [==============================] - 0s 7ms/step - loss: nan - mse: nan - val_loss: nan - val_mse: nan\n",
            "Epoch 74/300\n",
            "7/7 [==============================] - 0s 7ms/step - loss: nan - mse: nan - val_loss: nan - val_mse: nan\n",
            "Epoch 75/300\n",
            "7/7 [==============================] - 0s 9ms/step - loss: nan - mse: nan - val_loss: nan - val_mse: nan\n",
            "Epoch 76/300\n",
            "7/7 [==============================] - 0s 7ms/step - loss: nan - mse: nan - val_loss: nan - val_mse: nan\n",
            "Epoch 77/300\n",
            "7/7 [==============================] - 0s 7ms/step - loss: nan - mse: nan - val_loss: nan - val_mse: nan\n",
            "Epoch 78/300\n",
            "7/7 [==============================] - 0s 7ms/step - loss: nan - mse: nan - val_loss: nan - val_mse: nan\n",
            "Epoch 79/300\n",
            "7/7 [==============================] - 0s 8ms/step - loss: nan - mse: nan - val_loss: nan - val_mse: nan\n",
            "Epoch 80/300\n",
            "7/7 [==============================] - 0s 8ms/step - loss: nan - mse: nan - val_loss: nan - val_mse: nan\n",
            "Epoch 81/300\n",
            "7/7 [==============================] - 0s 7ms/step - loss: nan - mse: nan - val_loss: nan - val_mse: nan\n",
            "Epoch 82/300\n",
            "7/7 [==============================] - 0s 7ms/step - loss: nan - mse: nan - val_loss: nan - val_mse: nan\n",
            "Epoch 83/300\n",
            "7/7 [==============================] - 0s 7ms/step - loss: nan - mse: nan - val_loss: nan - val_mse: nan\n",
            "Epoch 84/300\n",
            "7/7 [==============================] - 0s 7ms/step - loss: nan - mse: nan - val_loss: nan - val_mse: nan\n",
            "Epoch 85/300\n",
            "7/7 [==============================] - 0s 7ms/step - loss: nan - mse: nan - val_loss: nan - val_mse: nan\n",
            "Epoch 86/300\n",
            "7/7 [==============================] - 0s 7ms/step - loss: nan - mse: nan - val_loss: nan - val_mse: nan\n",
            "Epoch 87/300\n",
            "7/7 [==============================] - 0s 7ms/step - loss: nan - mse: nan - val_loss: nan - val_mse: nan\n",
            "Epoch 88/300\n",
            "7/7 [==============================] - 0s 8ms/step - loss: nan - mse: nan - val_loss: nan - val_mse: nan\n",
            "Epoch 89/300\n",
            "7/7 [==============================] - 0s 7ms/step - loss: nan - mse: nan - val_loss: nan - val_mse: nan\n",
            "Epoch 90/300\n",
            "7/7 [==============================] - 0s 7ms/step - loss: nan - mse: nan - val_loss: nan - val_mse: nan\n",
            "Epoch 91/300\n",
            "7/7 [==============================] - 0s 7ms/step - loss: nan - mse: nan - val_loss: nan - val_mse: nan\n",
            "Epoch 92/300\n",
            "7/7 [==============================] - 0s 7ms/step - loss: nan - mse: nan - val_loss: nan - val_mse: nan\n",
            "Epoch 93/300\n",
            "7/7 [==============================] - 0s 7ms/step - loss: nan - mse: nan - val_loss: nan - val_mse: nan\n",
            "Epoch 94/300\n",
            "7/7 [==============================] - 0s 7ms/step - loss: nan - mse: nan - val_loss: nan - val_mse: nan\n",
            "Epoch 95/300\n",
            "7/7 [==============================] - 0s 7ms/step - loss: nan - mse: nan - val_loss: nan - val_mse: nan\n",
            "Epoch 96/300\n",
            "7/7 [==============================] - 0s 7ms/step - loss: nan - mse: nan - val_loss: nan - val_mse: nan\n",
            "Epoch 97/300\n",
            "7/7 [==============================] - 0s 7ms/step - loss: nan - mse: nan - val_loss: nan - val_mse: nan\n",
            "Epoch 98/300\n",
            "7/7 [==============================] - 0s 8ms/step - loss: nan - mse: nan - val_loss: nan - val_mse: nan\n",
            "Epoch 99/300\n",
            "7/7 [==============================] - 0s 7ms/step - loss: nan - mse: nan - val_loss: nan - val_mse: nan\n",
            "Epoch 100/300\n",
            "7/7 [==============================] - 0s 7ms/step - loss: nan - mse: nan - val_loss: nan - val_mse: nan\n",
            "Epoch 101/300\n",
            "7/7 [==============================] - 0s 7ms/step - loss: nan - mse: nan - val_loss: nan - val_mse: nan\n",
            "Epoch 102/300\n",
            "7/7 [==============================] - 0s 8ms/step - loss: nan - mse: nan - val_loss: nan - val_mse: nan\n",
            "Epoch 103/300\n",
            "7/7 [==============================] - 0s 7ms/step - loss: nan - mse: nan - val_loss: nan - val_mse: nan\n",
            "Epoch 104/300\n",
            "7/7 [==============================] - 0s 7ms/step - loss: nan - mse: nan - val_loss: nan - val_mse: nan\n",
            "Epoch 105/300\n",
            "7/7 [==============================] - 0s 7ms/step - loss: nan - mse: nan - val_loss: nan - val_mse: nan\n",
            "Epoch 106/300\n",
            "7/7 [==============================] - 0s 7ms/step - loss: nan - mse: nan - val_loss: nan - val_mse: nan\n",
            "Epoch 107/300\n",
            "7/7 [==============================] - 0s 8ms/step - loss: nan - mse: nan - val_loss: nan - val_mse: nan\n",
            "Epoch 108/300\n",
            "7/7 [==============================] - 0s 8ms/step - loss: nan - mse: nan - val_loss: nan - val_mse: nan\n",
            "Epoch 109/300\n",
            "7/7 [==============================] - 0s 7ms/step - loss: nan - mse: nan - val_loss: nan - val_mse: nan\n",
            "Epoch 110/300\n",
            "7/7 [==============================] - 0s 7ms/step - loss: nan - mse: nan - val_loss: nan - val_mse: nan\n",
            "Epoch 111/300\n",
            "7/7 [==============================] - 0s 7ms/step - loss: nan - mse: nan - val_loss: nan - val_mse: nan\n",
            "Epoch 112/300\n",
            "7/7 [==============================] - 0s 7ms/step - loss: nan - mse: nan - val_loss: nan - val_mse: nan\n",
            "Epoch 113/300\n",
            "7/7 [==============================] - 0s 7ms/step - loss: nan - mse: nan - val_loss: nan - val_mse: nan\n",
            "Epoch 114/300\n",
            "7/7 [==============================] - 0s 8ms/step - loss: nan - mse: nan - val_loss: nan - val_mse: nan\n",
            "Epoch 115/300\n",
            "7/7 [==============================] - 0s 7ms/step - loss: nan - mse: nan - val_loss: nan - val_mse: nan\n",
            "Epoch 116/300\n",
            "7/7 [==============================] - 0s 8ms/step - loss: nan - mse: nan - val_loss: nan - val_mse: nan\n",
            "Epoch 117/300\n",
            "7/7 [==============================] - 0s 7ms/step - loss: nan - mse: nan - val_loss: nan - val_mse: nan\n",
            "Epoch 118/300\n",
            "7/7 [==============================] - 0s 7ms/step - loss: nan - mse: nan - val_loss: nan - val_mse: nan\n",
            "Epoch 119/300\n",
            "7/7 [==============================] - 0s 9ms/step - loss: nan - mse: nan - val_loss: nan - val_mse: nan\n",
            "Epoch 120/300\n",
            "7/7 [==============================] - 0s 7ms/step - loss: nan - mse: nan - val_loss: nan - val_mse: nan\n",
            "Epoch 121/300\n",
            "7/7 [==============================] - 0s 8ms/step - loss: nan - mse: nan - val_loss: nan - val_mse: nan\n",
            "Epoch 122/300\n",
            "7/7 [==============================] - 0s 7ms/step - loss: nan - mse: nan - val_loss: nan - val_mse: nan\n",
            "Epoch 123/300\n",
            "7/7 [==============================] - 0s 7ms/step - loss: nan - mse: nan - val_loss: nan - val_mse: nan\n",
            "Epoch 124/300\n",
            "7/7 [==============================] - 0s 7ms/step - loss: nan - mse: nan - val_loss: nan - val_mse: nan\n",
            "Epoch 125/300\n",
            "7/7 [==============================] - 0s 7ms/step - loss: nan - mse: nan - val_loss: nan - val_mse: nan\n",
            "Epoch 126/300\n",
            "7/7 [==============================] - 0s 7ms/step - loss: nan - mse: nan - val_loss: nan - val_mse: nan\n",
            "Epoch 127/300\n",
            "7/7 [==============================] - 0s 7ms/step - loss: nan - mse: nan - val_loss: nan - val_mse: nan\n",
            "Epoch 128/300\n",
            "7/7 [==============================] - 0s 7ms/step - loss: nan - mse: nan - val_loss: nan - val_mse: nan\n",
            "Epoch 129/300\n",
            "7/7 [==============================] - 0s 7ms/step - loss: nan - mse: nan - val_loss: nan - val_mse: nan\n",
            "Epoch 130/300\n",
            "7/7 [==============================] - 0s 7ms/step - loss: nan - mse: nan - val_loss: nan - val_mse: nan\n",
            "Epoch 131/300\n",
            "7/7 [==============================] - 0s 8ms/step - loss: nan - mse: nan - val_loss: nan - val_mse: nan\n",
            "Epoch 132/300\n",
            "7/7 [==============================] - 0s 7ms/step - loss: nan - mse: nan - val_loss: nan - val_mse: nan\n",
            "Epoch 133/300\n",
            "7/7 [==============================] - 0s 8ms/step - loss: nan - mse: nan - val_loss: nan - val_mse: nan\n",
            "Epoch 134/300\n",
            "7/7 [==============================] - 0s 7ms/step - loss: nan - mse: nan - val_loss: nan - val_mse: nan\n",
            "Epoch 135/300\n",
            "7/7 [==============================] - 0s 8ms/step - loss: nan - mse: nan - val_loss: nan - val_mse: nan\n",
            "Epoch 136/300\n",
            "7/7 [==============================] - 0s 7ms/step - loss: nan - mse: nan - val_loss: nan - val_mse: nan\n",
            "Epoch 137/300\n",
            "7/7 [==============================] - 0s 7ms/step - loss: nan - mse: nan - val_loss: nan - val_mse: nan\n",
            "Epoch 138/300\n",
            "7/7 [==============================] - 0s 7ms/step - loss: nan - mse: nan - val_loss: nan - val_mse: nan\n",
            "Epoch 139/300\n",
            "7/7 [==============================] - 0s 7ms/step - loss: nan - mse: nan - val_loss: nan - val_mse: nan\n",
            "Epoch 140/300\n",
            "7/7 [==============================] - 0s 8ms/step - loss: nan - mse: nan - val_loss: nan - val_mse: nan\n",
            "Epoch 141/300\n",
            "7/7 [==============================] - 0s 8ms/step - loss: nan - mse: nan - val_loss: nan - val_mse: nan\n",
            "Epoch 142/300\n",
            "7/7 [==============================] - 0s 7ms/step - loss: nan - mse: nan - val_loss: nan - val_mse: nan\n",
            "Epoch 143/300\n",
            "7/7 [==============================] - 0s 7ms/step - loss: nan - mse: nan - val_loss: nan - val_mse: nan\n",
            "Epoch 144/300\n",
            "7/7 [==============================] - 0s 8ms/step - loss: nan - mse: nan - val_loss: nan - val_mse: nan\n",
            "Epoch 145/300\n",
            "7/7 [==============================] - 0s 8ms/step - loss: nan - mse: nan - val_loss: nan - val_mse: nan\n",
            "Epoch 146/300\n",
            "7/7 [==============================] - 0s 7ms/step - loss: nan - mse: nan - val_loss: nan - val_mse: nan\n",
            "Epoch 147/300\n",
            "7/7 [==============================] - 0s 7ms/step - loss: nan - mse: nan - val_loss: nan - val_mse: nan\n",
            "Epoch 148/300\n",
            "7/7 [==============================] - 0s 7ms/step - loss: nan - mse: nan - val_loss: nan - val_mse: nan\n",
            "Epoch 149/300\n",
            "7/7 [==============================] - 0s 7ms/step - loss: nan - mse: nan - val_loss: nan - val_mse: nan\n",
            "Epoch 150/300\n",
            "7/7 [==============================] - 0s 7ms/step - loss: nan - mse: nan - val_loss: nan - val_mse: nan\n",
            "Epoch 151/300\n",
            "7/7 [==============================] - 0s 7ms/step - loss: nan - mse: nan - val_loss: nan - val_mse: nan\n",
            "Epoch 152/300\n",
            "7/7 [==============================] - 0s 8ms/step - loss: nan - mse: nan - val_loss: nan - val_mse: nan\n",
            "Epoch 153/300\n",
            "7/7 [==============================] - 0s 7ms/step - loss: nan - mse: nan - val_loss: nan - val_mse: nan\n",
            "Epoch 154/300\n",
            "7/7 [==============================] - 0s 7ms/step - loss: nan - mse: nan - val_loss: nan - val_mse: nan\n",
            "Epoch 155/300\n",
            "7/7 [==============================] - 0s 7ms/step - loss: nan - mse: nan - val_loss: nan - val_mse: nan\n",
            "Epoch 156/300\n",
            "7/7 [==============================] - 0s 8ms/step - loss: nan - mse: nan - val_loss: nan - val_mse: nan\n",
            "Epoch 157/300\n",
            "7/7 [==============================] - 0s 7ms/step - loss: nan - mse: nan - val_loss: nan - val_mse: nan\n",
            "Epoch 158/300\n",
            "7/7 [==============================] - 0s 8ms/step - loss: nan - mse: nan - val_loss: nan - val_mse: nan\n",
            "Epoch 159/300\n",
            "7/7 [==============================] - 0s 7ms/step - loss: nan - mse: nan - val_loss: nan - val_mse: nan\n",
            "Epoch 160/300\n",
            "7/7 [==============================] - 0s 8ms/step - loss: nan - mse: nan - val_loss: nan - val_mse: nan\n",
            "Epoch 161/300\n",
            "7/7 [==============================] - 0s 7ms/step - loss: nan - mse: nan - val_loss: nan - val_mse: nan\n",
            "Epoch 162/300\n",
            "7/7 [==============================] - 0s 7ms/step - loss: nan - mse: nan - val_loss: nan - val_mse: nan\n",
            "Epoch 163/300\n",
            "7/7 [==============================] - 0s 7ms/step - loss: nan - mse: nan - val_loss: nan - val_mse: nan\n",
            "Epoch 164/300\n",
            "7/7 [==============================] - 0s 8ms/step - loss: nan - mse: nan - val_loss: nan - val_mse: nan\n",
            "Epoch 165/300\n",
            "7/7 [==============================] - 0s 7ms/step - loss: nan - mse: nan - val_loss: nan - val_mse: nan\n",
            "Epoch 166/300\n",
            "7/7 [==============================] - 0s 7ms/step - loss: nan - mse: nan - val_loss: nan - val_mse: nan\n",
            "Epoch 167/300\n",
            "7/7 [==============================] - 0s 7ms/step - loss: nan - mse: nan - val_loss: nan - val_mse: nan\n",
            "Epoch 168/300\n",
            "7/7 [==============================] - 0s 7ms/step - loss: nan - mse: nan - val_loss: nan - val_mse: nan\n",
            "Epoch 169/300\n",
            "7/7 [==============================] - 0s 7ms/step - loss: nan - mse: nan - val_loss: nan - val_mse: nan\n",
            "Epoch 170/300\n",
            "7/7 [==============================] - 0s 8ms/step - loss: nan - mse: nan - val_loss: nan - val_mse: nan\n",
            "Epoch 171/300\n",
            "7/7 [==============================] - 0s 9ms/step - loss: nan - mse: nan - val_loss: nan - val_mse: nan\n",
            "Epoch 172/300\n",
            "7/7 [==============================] - 0s 7ms/step - loss: nan - mse: nan - val_loss: nan - val_mse: nan\n",
            "Epoch 173/300\n",
            "7/7 [==============================] - 0s 8ms/step - loss: nan - mse: nan - val_loss: nan - val_mse: nan\n",
            "Epoch 174/300\n",
            "7/7 [==============================] - 0s 7ms/step - loss: nan - mse: nan - val_loss: nan - val_mse: nan\n",
            "Epoch 175/300\n",
            "7/7 [==============================] - 0s 7ms/step - loss: nan - mse: nan - val_loss: nan - val_mse: nan\n",
            "Epoch 176/300\n",
            "7/7 [==============================] - 0s 7ms/step - loss: nan - mse: nan - val_loss: nan - val_mse: nan\n",
            "Epoch 177/300\n",
            "7/7 [==============================] - 0s 8ms/step - loss: nan - mse: nan - val_loss: nan - val_mse: nan\n",
            "Epoch 178/300\n",
            "7/7 [==============================] - 0s 7ms/step - loss: nan - mse: nan - val_loss: nan - val_mse: nan\n",
            "Epoch 179/300\n",
            "7/7 [==============================] - 0s 7ms/step - loss: nan - mse: nan - val_loss: nan - val_mse: nan\n",
            "Epoch 180/300\n",
            "7/7 [==============================] - 0s 7ms/step - loss: nan - mse: nan - val_loss: nan - val_mse: nan\n",
            "Epoch 181/300\n",
            "7/7 [==============================] - 0s 7ms/step - loss: nan - mse: nan - val_loss: nan - val_mse: nan\n",
            "Epoch 182/300\n",
            "7/7 [==============================] - 0s 8ms/step - loss: nan - mse: nan - val_loss: nan - val_mse: nan\n",
            "Epoch 183/300\n",
            "7/7 [==============================] - 0s 7ms/step - loss: nan - mse: nan - val_loss: nan - val_mse: nan\n",
            "Epoch 184/300\n",
            "7/7 [==============================] - 0s 7ms/step - loss: nan - mse: nan - val_loss: nan - val_mse: nan\n",
            "Epoch 185/300\n",
            "7/7 [==============================] - 0s 7ms/step - loss: nan - mse: nan - val_loss: nan - val_mse: nan\n",
            "Epoch 186/300\n",
            "7/7 [==============================] - 0s 8ms/step - loss: nan - mse: nan - val_loss: nan - val_mse: nan\n",
            "Epoch 187/300\n",
            "7/7 [==============================] - 0s 8ms/step - loss: nan - mse: nan - val_loss: nan - val_mse: nan\n",
            "Epoch 188/300\n",
            "7/7 [==============================] - 0s 7ms/step - loss: nan - mse: nan - val_loss: nan - val_mse: nan\n",
            "Epoch 189/300\n",
            "7/7 [==============================] - 0s 7ms/step - loss: nan - mse: nan - val_loss: nan - val_mse: nan\n",
            "Epoch 190/300\n",
            "7/7 [==============================] - 0s 9ms/step - loss: nan - mse: nan - val_loss: nan - val_mse: nan\n",
            "Epoch 191/300\n",
            "7/7 [==============================] - 0s 7ms/step - loss: nan - mse: nan - val_loss: nan - val_mse: nan\n",
            "Epoch 192/300\n",
            "7/7 [==============================] - 0s 7ms/step - loss: nan - mse: nan - val_loss: nan - val_mse: nan\n",
            "Epoch 193/300\n",
            "7/7 [==============================] - 0s 12ms/step - loss: nan - mse: nan - val_loss: nan - val_mse: nan\n",
            "Epoch 194/300\n",
            "7/7 [==============================] - 0s 8ms/step - loss: nan - mse: nan - val_loss: nan - val_mse: nan\n",
            "Epoch 195/300\n",
            "7/7 [==============================] - 0s 8ms/step - loss: nan - mse: nan - val_loss: nan - val_mse: nan\n",
            "Epoch 196/300\n",
            "7/7 [==============================] - 0s 8ms/step - loss: nan - mse: nan - val_loss: nan - val_mse: nan\n",
            "Epoch 197/300\n",
            "7/7 [==============================] - 0s 8ms/step - loss: nan - mse: nan - val_loss: nan - val_mse: nan\n",
            "Epoch 198/300\n",
            "7/7 [==============================] - 0s 7ms/step - loss: nan - mse: nan - val_loss: nan - val_mse: nan\n",
            "Epoch 199/300\n",
            "7/7 [==============================] - 0s 7ms/step - loss: nan - mse: nan - val_loss: nan - val_mse: nan\n",
            "Epoch 200/300\n",
            "7/7 [==============================] - 0s 8ms/step - loss: nan - mse: nan - val_loss: nan - val_mse: nan\n",
            "Epoch 201/300\n",
            "7/7 [==============================] - 0s 7ms/step - loss: nan - mse: nan - val_loss: nan - val_mse: nan\n",
            "Epoch 202/300\n",
            "7/7 [==============================] - 0s 7ms/step - loss: nan - mse: nan - val_loss: nan - val_mse: nan\n",
            "Epoch 203/300\n",
            "7/7 [==============================] - 0s 7ms/step - loss: nan - mse: nan - val_loss: nan - val_mse: nan\n",
            "Epoch 204/300\n",
            "7/7 [==============================] - 0s 8ms/step - loss: nan - mse: nan - val_loss: nan - val_mse: nan\n",
            "Epoch 205/300\n",
            "7/7 [==============================] - 0s 7ms/step - loss: nan - mse: nan - val_loss: nan - val_mse: nan\n",
            "Epoch 206/300\n",
            "7/7 [==============================] - 0s 7ms/step - loss: nan - mse: nan - val_loss: nan - val_mse: nan\n",
            "Epoch 207/300\n",
            "7/7 [==============================] - 0s 8ms/step - loss: nan - mse: nan - val_loss: nan - val_mse: nan\n",
            "Epoch 208/300\n",
            "7/7 [==============================] - 0s 8ms/step - loss: nan - mse: nan - val_loss: nan - val_mse: nan\n",
            "Epoch 209/300\n",
            "7/7 [==============================] - 0s 7ms/step - loss: nan - mse: nan - val_loss: nan - val_mse: nan\n",
            "Epoch 210/300\n",
            "7/7 [==============================] - 0s 7ms/step - loss: nan - mse: nan - val_loss: nan - val_mse: nan\n",
            "Epoch 211/300\n",
            "7/7 [==============================] - 0s 7ms/step - loss: nan - mse: nan - val_loss: nan - val_mse: nan\n",
            "Epoch 212/300\n",
            "7/7 [==============================] - 0s 8ms/step - loss: nan - mse: nan - val_loss: nan - val_mse: nan\n",
            "Epoch 213/300\n",
            "7/7 [==============================] - 0s 8ms/step - loss: nan - mse: nan - val_loss: nan - val_mse: nan\n",
            "Epoch 214/300\n",
            "7/7 [==============================] - 0s 7ms/step - loss: nan - mse: nan - val_loss: nan - val_mse: nan\n",
            "Epoch 215/300\n",
            "7/7 [==============================] - 0s 7ms/step - loss: nan - mse: nan - val_loss: nan - val_mse: nan\n",
            "Epoch 216/300\n",
            "7/7 [==============================] - 0s 8ms/step - loss: nan - mse: nan - val_loss: nan - val_mse: nan\n",
            "Epoch 217/300\n",
            "7/7 [==============================] - 0s 8ms/step - loss: nan - mse: nan - val_loss: nan - val_mse: nan\n",
            "Epoch 218/300\n",
            "7/7 [==============================] - 0s 8ms/step - loss: nan - mse: nan - val_loss: nan - val_mse: nan\n",
            "Epoch 219/300\n",
            "7/7 [==============================] - 0s 7ms/step - loss: nan - mse: nan - val_loss: nan - val_mse: nan\n",
            "Epoch 220/300\n",
            "7/7 [==============================] - 0s 8ms/step - loss: nan - mse: nan - val_loss: nan - val_mse: nan\n",
            "Epoch 221/300\n",
            "7/7 [==============================] - 0s 8ms/step - loss: nan - mse: nan - val_loss: nan - val_mse: nan\n",
            "Epoch 222/300\n",
            "7/7 [==============================] - 0s 8ms/step - loss: nan - mse: nan - val_loss: nan - val_mse: nan\n",
            "Epoch 223/300\n",
            "7/7 [==============================] - 0s 8ms/step - loss: nan - mse: nan - val_loss: nan - val_mse: nan\n",
            "Epoch 224/300\n",
            "7/7 [==============================] - 0s 7ms/step - loss: nan - mse: nan - val_loss: nan - val_mse: nan\n",
            "Epoch 225/300\n",
            "7/7 [==============================] - 0s 8ms/step - loss: nan - mse: nan - val_loss: nan - val_mse: nan\n",
            "Epoch 226/300\n",
            "7/7 [==============================] - 0s 9ms/step - loss: nan - mse: nan - val_loss: nan - val_mse: nan\n",
            "Epoch 227/300\n",
            "7/7 [==============================] - 0s 7ms/step - loss: nan - mse: nan - val_loss: nan - val_mse: nan\n",
            "Epoch 228/300\n",
            "7/7 [==============================] - 0s 7ms/step - loss: nan - mse: nan - val_loss: nan - val_mse: nan\n",
            "Epoch 229/300\n",
            "7/7 [==============================] - 0s 8ms/step - loss: nan - mse: nan - val_loss: nan - val_mse: nan\n",
            "Epoch 230/300\n",
            "7/7 [==============================] - 0s 8ms/step - loss: nan - mse: nan - val_loss: nan - val_mse: nan\n",
            "Epoch 231/300\n",
            "7/7 [==============================] - 0s 8ms/step - loss: nan - mse: nan - val_loss: nan - val_mse: nan\n",
            "Epoch 232/300\n",
            "7/7 [==============================] - 0s 8ms/step - loss: nan - mse: nan - val_loss: nan - val_mse: nan\n",
            "Epoch 233/300\n",
            "7/7 [==============================] - 0s 8ms/step - loss: nan - mse: nan - val_loss: nan - val_mse: nan\n",
            "Epoch 234/300\n",
            "7/7 [==============================] - 0s 7ms/step - loss: nan - mse: nan - val_loss: nan - val_mse: nan\n",
            "Epoch 235/300\n",
            "7/7 [==============================] - 0s 7ms/step - loss: nan - mse: nan - val_loss: nan - val_mse: nan\n",
            "Epoch 236/300\n",
            "7/7 [==============================] - 0s 7ms/step - loss: nan - mse: nan - val_loss: nan - val_mse: nan\n",
            "Epoch 237/300\n",
            "7/7 [==============================] - 0s 8ms/step - loss: nan - mse: nan - val_loss: nan - val_mse: nan\n",
            "Epoch 238/300\n",
            "7/7 [==============================] - 0s 7ms/step - loss: nan - mse: nan - val_loss: nan - val_mse: nan\n",
            "Epoch 239/300\n",
            "7/7 [==============================] - 0s 8ms/step - loss: nan - mse: nan - val_loss: nan - val_mse: nan\n",
            "Epoch 240/300\n",
            "7/7 [==============================] - 0s 8ms/step - loss: nan - mse: nan - val_loss: nan - val_mse: nan\n",
            "Epoch 241/300\n",
            "7/7 [==============================] - 0s 7ms/step - loss: nan - mse: nan - val_loss: nan - val_mse: nan\n",
            "Epoch 242/300\n",
            "7/7 [==============================] - 0s 7ms/step - loss: nan - mse: nan - val_loss: nan - val_mse: nan\n",
            "Epoch 243/300\n",
            "7/7 [==============================] - 0s 8ms/step - loss: nan - mse: nan - val_loss: nan - val_mse: nan\n",
            "Epoch 244/300\n",
            "7/7 [==============================] - 0s 9ms/step - loss: nan - mse: nan - val_loss: nan - val_mse: nan\n",
            "Epoch 245/300\n",
            "7/7 [==============================] - 0s 8ms/step - loss: nan - mse: nan - val_loss: nan - val_mse: nan\n",
            "Epoch 246/300\n",
            "7/7 [==============================] - 0s 7ms/step - loss: nan - mse: nan - val_loss: nan - val_mse: nan\n",
            "Epoch 247/300\n",
            "7/7 [==============================] - 0s 8ms/step - loss: nan - mse: nan - val_loss: nan - val_mse: nan\n",
            "Epoch 248/300\n",
            "7/7 [==============================] - 0s 8ms/step - loss: nan - mse: nan - val_loss: nan - val_mse: nan\n",
            "Epoch 249/300\n",
            "7/7 [==============================] - 0s 8ms/step - loss: nan - mse: nan - val_loss: nan - val_mse: nan\n",
            "Epoch 250/300\n",
            "7/7 [==============================] - 0s 7ms/step - loss: nan - mse: nan - val_loss: nan - val_mse: nan\n",
            "Epoch 251/300\n",
            "7/7 [==============================] - 0s 8ms/step - loss: nan - mse: nan - val_loss: nan - val_mse: nan\n",
            "Epoch 252/300\n",
            "7/7 [==============================] - 0s 7ms/step - loss: nan - mse: nan - val_loss: nan - val_mse: nan\n",
            "Epoch 253/300\n",
            "7/7 [==============================] - 0s 8ms/step - loss: nan - mse: nan - val_loss: nan - val_mse: nan\n",
            "Epoch 254/300\n",
            "7/7 [==============================] - 0s 7ms/step - loss: nan - mse: nan - val_loss: nan - val_mse: nan\n",
            "Epoch 255/300\n",
            "7/7 [==============================] - 0s 8ms/step - loss: nan - mse: nan - val_loss: nan - val_mse: nan\n",
            "Epoch 256/300\n",
            "7/7 [==============================] - 0s 7ms/step - loss: nan - mse: nan - val_loss: nan - val_mse: nan\n",
            "Epoch 257/300\n",
            "7/7 [==============================] - 0s 8ms/step - loss: nan - mse: nan - val_loss: nan - val_mse: nan\n",
            "Epoch 258/300\n",
            "7/7 [==============================] - 0s 7ms/step - loss: nan - mse: nan - val_loss: nan - val_mse: nan\n",
            "Epoch 259/300\n",
            "7/7 [==============================] - 0s 8ms/step - loss: nan - mse: nan - val_loss: nan - val_mse: nan\n",
            "Epoch 260/300\n",
            "7/7 [==============================] - 0s 8ms/step - loss: nan - mse: nan - val_loss: nan - val_mse: nan\n",
            "Epoch 261/300\n",
            "7/7 [==============================] - 0s 8ms/step - loss: nan - mse: nan - val_loss: nan - val_mse: nan\n",
            "Epoch 262/300\n",
            "7/7 [==============================] - 0s 8ms/step - loss: nan - mse: nan - val_loss: nan - val_mse: nan\n",
            "Epoch 263/300\n",
            "7/7 [==============================] - 0s 8ms/step - loss: nan - mse: nan - val_loss: nan - val_mse: nan\n",
            "Epoch 264/300\n",
            "7/7 [==============================] - 0s 7ms/step - loss: nan - mse: nan - val_loss: nan - val_mse: nan\n",
            "Epoch 265/300\n",
            "7/7 [==============================] - 0s 8ms/step - loss: nan - mse: nan - val_loss: nan - val_mse: nan\n",
            "Epoch 266/300\n",
            "7/7 [==============================] - 0s 8ms/step - loss: nan - mse: nan - val_loss: nan - val_mse: nan\n",
            "Epoch 267/300\n",
            "7/7 [==============================] - 0s 8ms/step - loss: nan - mse: nan - val_loss: nan - val_mse: nan\n",
            "Epoch 268/300\n",
            "7/7 [==============================] - 0s 8ms/step - loss: nan - mse: nan - val_loss: nan - val_mse: nan\n",
            "Epoch 269/300\n",
            "7/7 [==============================] - 0s 8ms/step - loss: nan - mse: nan - val_loss: nan - val_mse: nan\n",
            "Epoch 270/300\n",
            "7/7 [==============================] - 0s 7ms/step - loss: nan - mse: nan - val_loss: nan - val_mse: nan\n",
            "Epoch 271/300\n",
            "7/7 [==============================] - 0s 8ms/step - loss: nan - mse: nan - val_loss: nan - val_mse: nan\n",
            "Epoch 272/300\n",
            "7/7 [==============================] - 0s 8ms/step - loss: nan - mse: nan - val_loss: nan - val_mse: nan\n",
            "Epoch 273/300\n",
            "7/7 [==============================] - 0s 8ms/step - loss: nan - mse: nan - val_loss: nan - val_mse: nan\n",
            "Epoch 274/300\n",
            "7/7 [==============================] - 0s 7ms/step - loss: nan - mse: nan - val_loss: nan - val_mse: nan\n",
            "Epoch 275/300\n",
            "7/7 [==============================] - 0s 8ms/step - loss: nan - mse: nan - val_loss: nan - val_mse: nan\n",
            "Epoch 276/300\n",
            "7/7 [==============================] - 0s 8ms/step - loss: nan - mse: nan - val_loss: nan - val_mse: nan\n",
            "Epoch 277/300\n",
            "7/7 [==============================] - 0s 8ms/step - loss: nan - mse: nan - val_loss: nan - val_mse: nan\n",
            "Epoch 278/300\n",
            "7/7 [==============================] - 0s 8ms/step - loss: nan - mse: nan - val_loss: nan - val_mse: nan\n",
            "Epoch 279/300\n",
            "7/7 [==============================] - 0s 7ms/step - loss: nan - mse: nan - val_loss: nan - val_mse: nan\n",
            "Epoch 280/300\n",
            "7/7 [==============================] - 0s 8ms/step - loss: nan - mse: nan - val_loss: nan - val_mse: nan\n",
            "Epoch 281/300\n",
            "7/7 [==============================] - 0s 8ms/step - loss: nan - mse: nan - val_loss: nan - val_mse: nan\n",
            "Epoch 282/300\n",
            "7/7 [==============================] - 0s 8ms/step - loss: nan - mse: nan - val_loss: nan - val_mse: nan\n",
            "Epoch 283/300\n",
            "7/7 [==============================] - 0s 7ms/step - loss: nan - mse: nan - val_loss: nan - val_mse: nan\n",
            "Epoch 284/300\n",
            "7/7 [==============================] - 0s 8ms/step - loss: nan - mse: nan - val_loss: nan - val_mse: nan\n",
            "Epoch 285/300\n",
            "7/7 [==============================] - 0s 8ms/step - loss: nan - mse: nan - val_loss: nan - val_mse: nan\n",
            "Epoch 286/300\n",
            "7/7 [==============================] - 0s 7ms/step - loss: nan - mse: nan - val_loss: nan - val_mse: nan\n",
            "Epoch 287/300\n",
            "7/7 [==============================] - 0s 7ms/step - loss: nan - mse: nan - val_loss: nan - val_mse: nan\n",
            "Epoch 288/300\n",
            "7/7 [==============================] - 0s 7ms/step - loss: nan - mse: nan - val_loss: nan - val_mse: nan\n",
            "Epoch 289/300\n",
            "7/7 [==============================] - 0s 8ms/step - loss: nan - mse: nan - val_loss: nan - val_mse: nan\n",
            "Epoch 290/300\n",
            "7/7 [==============================] - 0s 7ms/step - loss: nan - mse: nan - val_loss: nan - val_mse: nan\n",
            "Epoch 291/300\n",
            "7/7 [==============================] - 0s 8ms/step - loss: nan - mse: nan - val_loss: nan - val_mse: nan\n",
            "Epoch 292/300\n",
            "7/7 [==============================] - 0s 7ms/step - loss: nan - mse: nan - val_loss: nan - val_mse: nan\n",
            "Epoch 293/300\n",
            "7/7 [==============================] - 0s 7ms/step - loss: nan - mse: nan - val_loss: nan - val_mse: nan\n",
            "Epoch 294/300\n",
            "7/7 [==============================] - 0s 8ms/step - loss: nan - mse: nan - val_loss: nan - val_mse: nan\n",
            "Epoch 295/300\n",
            "7/7 [==============================] - 0s 8ms/step - loss: nan - mse: nan - val_loss: nan - val_mse: nan\n",
            "Epoch 296/300\n",
            "7/7 [==============================] - 0s 7ms/step - loss: nan - mse: nan - val_loss: nan - val_mse: nan\n",
            "Epoch 297/300\n",
            "7/7 [==============================] - 0s 7ms/step - loss: nan - mse: nan - val_loss: nan - val_mse: nan\n",
            "Epoch 298/300\n",
            "7/7 [==============================] - 0s 8ms/step - loss: nan - mse: nan - val_loss: nan - val_mse: nan\n",
            "Epoch 299/300\n",
            "7/7 [==============================] - 0s 8ms/step - loss: nan - mse: nan - val_loss: nan - val_mse: nan\n",
            "Epoch 300/300\n",
            "7/7 [==============================] - 0s 7ms/step - loss: nan - mse: nan - val_loss: nan - val_mse: nan\n"
          ],
          "name": "stdout"
        },
        {
          "output_type": "execute_result",
          "data": {
            "text/plain": [
              "<tensorflow.python.keras.callbacks.History at 0x7f95d9145550>"
            ]
          },
          "metadata": {
            "tags": []
          },
          "execution_count": 64
        }
      ]
    },
    {
      "cell_type": "code",
      "metadata": {
        "colab": {
          "base_uri": "https://localhost:8080/"
        },
        "id": "x3b39NwI3mcd",
        "outputId": "03eb2f72-694a-46ef-fa4d-e8caba414895"
      },
      "source": [
        "result = model.evaluate(X_test, y_test)\n",
        "print('loss', result[0])\n",
        "print('mse', result[1])"
      ],
      "execution_count": null,
      "outputs": [
        {
          "output_type": "stream",
          "text": [
            "4/4 [==============================] - 0s 3ms/step - loss: nan - mse: nan\n",
            "loss nan\n",
            "mse nan\n"
          ],
          "name": "stdout"
        }
      ]
    },
    {
      "cell_type": "code",
      "metadata": {
        "id": "1LVe1XEB4Z88"
      },
      "source": [
        ""
      ],
      "execution_count": null,
      "outputs": []
    }
  ]
}