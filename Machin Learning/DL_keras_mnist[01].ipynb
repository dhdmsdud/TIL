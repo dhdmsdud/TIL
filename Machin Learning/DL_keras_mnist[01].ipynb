{
 "cells": [
  {
   "cell_type": "code",
   "execution_count": 1,
   "id": "committed-melissa",
   "metadata": {},
   "outputs": [
    {
     "name": "stdout",
     "output_type": "stream",
     "text": [
      "2.2.0\n",
      "2.3.0-tf\n"
     ]
    }
   ],
   "source": [
    "import numpy as np\n",
    "import pandas as pd\n",
    "\n",
    "from tensorflow import keras\n",
    "import tensorflow as tf\n",
    "print(tf.__version__)\n",
    "print(keras.__version__)"
   ]
  },
  {
   "cell_type": "markdown",
   "id": "portable-dominant",
   "metadata": {},
   "source": [
    "### 1. load data"
   ]
  },
  {
   "cell_type": "code",
   "execution_count": 8,
   "id": "brutal-consequence",
   "metadata": {},
   "outputs": [
    {
     "name": "stdout",
     "output_type": "stream",
     "text": [
      "Downloading data from https://storage.googleapis.com/tensorflow/tf-keras-datasets/mnist.npz\n",
      "11493376/11490434 [==============================] - 1s 0us/step\n"
     ]
    }
   ],
   "source": [
    "(x_train, y_train), (x_test, y_test) = keras.datasets.mnist.load_data()"
   ]
  },
  {
   "cell_type": "code",
   "execution_count": 9,
   "id": "extra-heating",
   "metadata": {},
   "outputs": [
    {
     "data": {
      "text/plain": [
       "((60000, 28, 28), (60000,), (10000, 28, 28), (10000,))"
      ]
     },
     "execution_count": 9,
     "metadata": {},
     "output_type": "execute_result"
    }
   ],
   "source": [
    "x_train.shape, y_train.shape, x_test.shape, y_test.shape"
   ]
  },
  {
   "cell_type": "code",
   "execution_count": 10,
   "id": "plain-physiology",
   "metadata": {
    "collapsed": true
   },
   "outputs": [
    {
     "name": "stdout",
     "output_type": "stream",
     "text": [
      "5\n",
      "0\n",
      "4\n",
      "1\n",
      "9\n",
      "2\n",
      "1\n",
      "3\n",
      "1\n",
      "4\n"
     ]
    }
   ],
   "source": [
    "for idx in range(10) :\n",
    "    print(y_train[idx])"
   ]
  },
  {
   "cell_type": "code",
   "execution_count": 11,
   "id": "southern-elevation",
   "metadata": {},
   "outputs": [],
   "source": [
    "# 이진분류가 아니기 때문에 원핫 인코딩을 해야함\n",
    "y_train = keras.utils.to_categorical(y_train, 10)\n",
    "y_test = keras.utils.to_categorical(y_test, 10)"
   ]
  },
  {
   "cell_type": "code",
   "execution_count": 12,
   "id": "religious-exposure",
   "metadata": {
    "collapsed": true
   },
   "outputs": [
    {
     "name": "stdout",
     "output_type": "stream",
     "text": [
      "[0. 0. 0. 0. 0. 1. 0. 0. 0. 0.]\n",
      "[1. 0. 0. 0. 0. 0. 0. 0. 0. 0.]\n",
      "[0. 0. 0. 0. 1. 0. 0. 0. 0. 0.]\n",
      "[0. 1. 0. 0. 0. 0. 0. 0. 0. 0.]\n",
      "[0. 0. 0. 0. 0. 0. 0. 0. 0. 1.]\n",
      "[0. 0. 1. 0. 0. 0. 0. 0. 0. 0.]\n",
      "[0. 1. 0. 0. 0. 0. 0. 0. 0. 0.]\n",
      "[0. 0. 0. 1. 0. 0. 0. 0. 0. 0.]\n",
      "[0. 1. 0. 0. 0. 0. 0. 0. 0. 0.]\n",
      "[0. 0. 0. 0. 1. 0. 0. 0. 0. 0.]\n"
     ]
    }
   ],
   "source": [
    "for idx in range(10) :\n",
    "    print(y_train[idx])"
   ]
  },
  {
   "cell_type": "code",
   "execution_count": 13,
   "id": "logical-oriental",
   "metadata": {},
   "outputs": [],
   "source": [
    "# 1차원으로 reshape\n",
    "x_train = x_train.reshape(60000, 784)\n",
    "x_test  = x_test.reshape(10000, 784)"
   ]
  },
  {
   "cell_type": "code",
   "execution_count": 14,
   "id": "running-cable",
   "metadata": {},
   "outputs": [
    {
     "data": {
      "text/plain": [
       "((60000, 784), (60000, 10), (10000, 784), (10000, 10))"
      ]
     },
     "execution_count": 14,
     "metadata": {},
     "output_type": "execute_result"
    }
   ],
   "source": [
    "x_train.shape, y_train.shape, x_test.shape, y_test.shape"
   ]
  },
  {
   "cell_type": "markdown",
   "id": "standard-league",
   "metadata": {},
   "source": [
    "### create model"
   ]
  },
  {
   "cell_type": "code",
   "execution_count": 15,
   "id": "taken-shame",
   "metadata": {},
   "outputs": [],
   "source": [
    "model = keras.Sequential()\n",
    "model.add(keras.layers.Dense(256, activation='sigmoid', input_shape=(784,) , name='input'))\n",
    "\n",
    "model.add(keras.layers.Dense(128, activation='sigmoid', name='hidden1'))\n",
    "model.add(keras.layers.Dense(64 , activation='sigmoid', name='hidden2'))\n",
    "model.add(keras.layers.Dense(32 , activation='sigmoid', name='hidden3'))\n",
    "\n",
    "model.add(keras.layers.Dense(10 , activation='softmax', name='output'))"
   ]
  },
  {
   "cell_type": "code",
   "execution_count": 16,
   "id": "complex-morrison",
   "metadata": {
    "collapsed": true
   },
   "outputs": [
    {
     "name": "stdout",
     "output_type": "stream",
     "text": [
      "Model: \"sequential\"\n",
      "_________________________________________________________________\n",
      "Layer (type)                 Output Shape              Param #   \n",
      "=================================================================\n",
      "input (Dense)                (None, 256)               200960    \n",
      "_________________________________________________________________\n",
      "hidden1 (Dense)              (None, 128)               32896     \n",
      "_________________________________________________________________\n",
      "hidden2 (Dense)              (None, 64)                8256      \n",
      "_________________________________________________________________\n",
      "hidden3 (Dense)              (None, 32)                2080      \n",
      "_________________________________________________________________\n",
      "output (Dense)               (None, 10)                330       \n",
      "=================================================================\n",
      "Total params: 244,522\n",
      "Trainable params: 244,522\n",
      "Non-trainable params: 0\n",
      "_________________________________________________________________\n"
     ]
    }
   ],
   "source": [
    "model.summary()"
   ]
  },
  {
   "cell_type": "markdown",
   "id": "antique-rebate",
   "metadata": {},
   "source": [
    "### model compile"
   ]
  },
  {
   "cell_type": "code",
   "execution_count": 19,
   "id": "wound-configuration",
   "metadata": {},
   "outputs": [],
   "source": [
    "optimizer = keras.optimizers.SGD(learning_rate=0.01)\n",
    "model.compile(optimizer = optimizer,\n",
    "              loss      = 'categorical_crossentropy',\n",
    "              metrics   = ['accuracy'])"
   ]
  },
  {
   "cell_type": "code",
   "execution_count": 20,
   "id": "caroline-burden",
   "metadata": {
    "collapsed": true
   },
   "outputs": [
    {
     "name": "stdout",
     "output_type": "stream",
     "text": [
      "Model: \"sequential\"\n",
      "_________________________________________________________________\n",
      "Layer (type)                 Output Shape              Param #   \n",
      "=================================================================\n",
      "input (Dense)                (None, 256)               200960    \n",
      "_________________________________________________________________\n",
      "hidden1 (Dense)              (None, 128)               32896     \n",
      "_________________________________________________________________\n",
      "hidden2 (Dense)              (None, 64)                8256      \n",
      "_________________________________________________________________\n",
      "hidden3 (Dense)              (None, 32)                2080      \n",
      "_________________________________________________________________\n",
      "output (Dense)               (None, 10)                330       \n",
      "=================================================================\n",
      "Total params: 244,522\n",
      "Trainable params: 244,522\n",
      "Non-trainable params: 0\n",
      "_________________________________________________________________\n"
     ]
    }
   ],
   "source": [
    "model.summary()"
   ]
  },
  {
   "cell_type": "markdown",
   "id": "friendly-possible",
   "metadata": {},
   "source": [
    "### model fit"
   ]
  },
  {
   "cell_type": "code",
   "execution_count": 25,
   "id": "international-tenant",
   "metadata": {
    "collapsed": true
   },
   "outputs": [
    {
     "name": "stdout",
     "output_type": "stream",
     "text": [
      "Epoch 1/10\n",
      "600/600 [==============================] - 2s 4ms/step - loss: 1.0930 - accuracy: 0.6982 - val_loss: 1.0666 - val_accuracy: 0.7036\n",
      "Epoch 2/10\n",
      "600/600 [==============================] - 3s 4ms/step - loss: 1.0255 - accuracy: 0.7221 - val_loss: 1.0027 - val_accuracy: 0.7415\n",
      "Epoch 3/10\n",
      "600/600 [==============================] - 3s 4ms/step - loss: 0.9636 - accuracy: 0.7529 - val_loss: 0.9417 - val_accuracy: 0.7704\n",
      "Epoch 4/10\n",
      "600/600 [==============================] - 3s 4ms/step - loss: 0.9037 - accuracy: 0.7794 - val_loss: 0.8823 - val_accuracy: 0.8049\n",
      "Epoch 5/10\n",
      "600/600 [==============================] - 3s 5ms/step - loss: 0.8454 - accuracy: 0.8063 - val_loss: 0.8262 - val_accuracy: 0.8239\n",
      "Epoch 6/10\n",
      "600/600 [==============================] - 3s 5ms/step - loss: 0.7894 - accuracy: 0.8255 - val_loss: 0.7688 - val_accuracy: 0.8424\n",
      "Epoch 7/10\n",
      "600/600 [==============================] - 2s 4ms/step - loss: 0.7342 - accuracy: 0.8454 - val_loss: 0.7154 - val_accuracy: 0.8527\n",
      "Epoch 8/10\n",
      "600/600 [==============================] - 2s 3ms/step - loss: 0.6821 - accuracy: 0.8596 - val_loss: 0.6643 - val_accuracy: 0.8665\n",
      "Epoch 9/10\n",
      "600/600 [==============================] - 2s 3ms/step - loss: 0.6357 - accuracy: 0.8709 - val_loss: 0.6224 - val_accuracy: 0.8754\n",
      "Epoch 10/10\n",
      "600/600 [==============================] - 3s 5ms/step - loss: 0.5913 - accuracy: 0.8809 - val_loss: 0.5828 - val_accuracy: 0.8843\n"
     ]
    }
   ],
   "source": [
    "history = model.fit(x_train, y_train, batch_size=100, epochs=10, validation_data=(x_test, y_test))"
   ]
  },
  {
   "cell_type": "code",
   "execution_count": 26,
   "id": "perfect-preservation",
   "metadata": {},
   "outputs": [
    {
     "data": {
      "text/plain": [
       "dict_keys(['loss', 'accuracy', 'val_loss', 'val_accuracy'])"
      ]
     },
     "execution_count": 26,
     "metadata": {},
     "output_type": "execute_result"
    }
   ],
   "source": [
    "history.history.keys()"
   ]
  },
  {
   "cell_type": "markdown",
   "id": "extra-caribbean",
   "metadata": {},
   "source": [
    "### 평가"
   ]
  },
  {
   "cell_type": "code",
   "execution_count": 33,
   "id": "median-tolerance",
   "metadata": {
    "scrolled": true
   },
   "outputs": [
    {
     "name": "stdout",
     "output_type": "stream",
     "text": [
      "313/313 [==============================] - 1s 2ms/step - loss: 0.5828 - accuracy: 0.8843\n"
     ]
    },
    {
     "data": {
      "text/plain": [
       "[0.5827834606170654, 0.8842999935150146]"
      ]
     },
     "execution_count": 33,
     "metadata": {},
     "output_type": "execute_result"
    }
   ],
   "source": [
    "model.evaluate(x_test, y_test)"
   ]
  },
  {
   "cell_type": "code",
   "execution_count": 34,
   "id": "unlike-salvation",
   "metadata": {
    "scrolled": false
   },
   "outputs": [
    {
     "data": {
      "image/png": "[encoded data removed]",
      "text/plain": [
       "<Figure size 432x288 with 1 Axes>"
      ]
     },
     "metadata": {
      "needs_background": "light"
     },
     "output_type": "display_data"
    }
   ],
   "source": [
    "import matplotlib.pyplot as plt\n",
    "\n",
    "x_train = x_train.reshape(60000, 28, 28)\n",
    "\n",
    "plt.figure()\n",
    "plt.imshow(x_train[0], cmap=plt.cm.binary)\n",
    "plt.show()"
   ]
  },
  {
   "cell_type": "code",
   "execution_count": null,
   "id": "unavailable-accident",
   "metadata": {},
   "outputs": [],
   "source": []
  },
  {
   "cell_type": "markdown",
   "id": "therapeutic-bearing",
   "metadata": {},
   "source": [
    "### 2. load data"
   ]
  },
  {
   "cell_type": "code",
   "execution_count": 19,
   "id": "separated-forward",
   "metadata": {},
   "outputs": [],
   "source": [
    "(x_train, y_train) , (x_test , y_test) = keras.datasets.mnist.load_data()"
   ]
  },
  {
   "cell_type": "code",
   "execution_count": 20,
   "id": "pharmaceutical-contest",
   "metadata": {},
   "outputs": [
    {
     "data": {
      "text/plain": [
       "((60000, 28, 28), (60000,), (10000, 28, 28), (10000,))"
      ]
     },
     "execution_count": 20,
     "metadata": {},
     "output_type": "execute_result"
    }
   ],
   "source": [
    "x_train.shape , y_train.shape , x_test.shape, y_test.shape"
   ]
  },
  {
   "cell_type": "code",
   "execution_count": 21,
   "id": "automotive-cambridge",
   "metadata": {},
   "outputs": [],
   "source": [
    "y_train = keras.utils.to_categorical(y_train , 10)\n",
    "y_test = keras.utils.to_categorical(y_test , 10)"
   ]
  },
  {
   "cell_type": "code",
   "execution_count": 22,
   "id": "amber-declaration",
   "metadata": {},
   "outputs": [],
   "source": [
    "x_train = x_train.reshape(60000 , 784)\n",
    "x_test  = x_test.reshape(10000 , 784)"
   ]
  },
  {
   "cell_type": "code",
   "execution_count": 23,
   "id": "sitting-lewis",
   "metadata": {},
   "outputs": [
    {
     "data": {
      "text/plain": [
       "((60000, 784), (60000, 10), (10000, 784), (10000, 10))"
      ]
     },
     "execution_count": 23,
     "metadata": {},
     "output_type": "execute_result"
    }
   ],
   "source": [
    "x_train.shape , y_train.shape , x_test.shape, y_test.shape"
   ]
  },
  {
   "cell_type": "code",
   "execution_count": 24,
   "id": "collected-dimension",
   "metadata": {},
   "outputs": [],
   "source": [
    "from sklearn.model_selection import train_test_split\n",
    "\n",
    "x_train , x_val , y_train , y_val = train_test_split(x_train, y_train , \n",
    "                                                     test_size = 0.3 ,\n",
    "                                                     random_state = 100)"
   ]
  },
  {
   "cell_type": "code",
   "execution_count": 25,
   "id": "confident-league",
   "metadata": {},
   "outputs": [
    {
     "data": {
      "text/plain": [
       "((42000, 784), (18000, 784), (42000, 10), (18000, 10))"
      ]
     },
     "execution_count": 25,
     "metadata": {},
     "output_type": "execute_result"
    }
   ],
   "source": [
    "x_train.shape , x_val.shape , y_train.shape , y_val.shape"
   ]
  },
  {
   "cell_type": "markdown",
   "id": "impaired-schedule",
   "metadata": {},
   "source": [
    "###  create model\n",
    "- 함수형 API"
   ]
  },
  {
   "cell_type": "code",
   "execution_count": 26,
   "id": "extreme-heart",
   "metadata": {},
   "outputs": [],
   "source": [
    "from tensorflow.keras.layers import Input, Dense\n",
    "from tensorflow.keras.models import Sequential , Model\n",
    "\n",
    "input   = Input(shape=(784, ) , name='input')\n",
    "\n",
    "hidden1 = Dense(256  , activation='sigmoid' , name='hidden1' )(input)\n",
    "hidden2 = Dense(128  , activation='sigmoid' , name='hidden2' )(hidden1)\n",
    "hidden3 = Dense(64  ,  activation='sigmoid' , name='hidden3' )(hidden2)\n",
    "hidden4 = Dense(32  ,  activation='sigmoid' , name='hidden4' )(hidden3)\n",
    "\n",
    "output  = Dense(10  ,  activation='softmax' , name='output' )(hidden4)\n",
    "\n",
    "model   = Model(inputs=[input] , outputs=[output])"
   ]
  },
  {
   "cell_type": "code",
   "execution_count": 27,
   "id": "valid-twelve",
   "metadata": {},
   "outputs": [
    {
     "name": "stdout",
     "output_type": "stream",
     "text": [
      "Model: \"model_1\"\n",
      "_________________________________________________________________\n",
      "Layer (type)                 Output Shape              Param #   \n",
      "=================================================================\n",
      "input (InputLayer)           [(None, 784)]             0         \n",
      "_________________________________________________________________\n",
      "hidden1 (Dense)              (None, 256)               200960    \n",
      "_________________________________________________________________\n",
      "hidden2 (Dense)              (None, 128)               32896     \n",
      "_________________________________________________________________\n",
      "hidden3 (Dense)              (None, 64)                8256      \n",
      "_________________________________________________________________\n",
      "hidden4 (Dense)              (None, 32)                2080      \n",
      "_________________________________________________________________\n",
      "output (Dense)               (None, 10)                330       \n",
      "=================================================================\n",
      "Total params: 244,522\n",
      "Trainable params: 244,522\n",
      "Non-trainable params: 0\n",
      "_________________________________________________________________\n"
     ]
    }
   ],
   "source": [
    "model.summary()"
   ]
  },
  {
   "cell_type": "markdown",
   "id": "extraordinary-scene",
   "metadata": {},
   "source": [
    "### model compile"
   ]
  },
  {
   "cell_type": "code",
   "execution_count": 28,
   "id": "consecutive-flush",
   "metadata": {},
   "outputs": [],
   "source": [
    "from tensorflow.keras.optimizers import SGD\n",
    "\n",
    "optimizer = SGD(learning_rate=0.01)\n",
    "model.compile(optimizer = optimizer, \n",
    "              loss      = 'categorical_crossentropy' , \n",
    "              metrics   = ['accuracy'] ) "
   ]
  },
  {
   "cell_type": "markdown",
   "id": "absent-idaho",
   "metadata": {},
   "source": [
    "### model fit"
   ]
  },
  {
   "cell_type": "code",
   "execution_count": 29,
   "id": "medieval-candy",
   "metadata": {
    "scrolled": true
   },
   "outputs": [
    {
     "name": "stdout",
     "output_type": "stream",
     "text": [
      "Epoch 1/10\n",
      "329/329 [==============================] - 1s 3ms/step - loss: 2.3318 - accuracy: 0.1168 - val_loss: 2.2970 - val_accuracy: 0.1528\n",
      "Epoch 2/10\n",
      "329/329 [==============================] - 1s 3ms/step - loss: 2.2950 - accuracy: 0.1162 - val_loss: 2.2927 - val_accuracy: 0.1140\n",
      "Epoch 3/10\n",
      "329/329 [==============================] - 1s 3ms/step - loss: 2.2905 - accuracy: 0.1136 - val_loss: 2.2878 - val_accuracy: 0.1142\n",
      "Epoch 4/10\n",
      "329/329 [==============================] - 1s 3ms/step - loss: 2.2854 - accuracy: 0.1212 - val_loss: 2.2823 - val_accuracy: 0.1289\n",
      "Epoch 5/10\n",
      "329/329 [==============================] - 1s 3ms/step - loss: 2.2794 - accuracy: 0.1308 - val_loss: 2.2757 - val_accuracy: 0.1744\n",
      "Epoch 6/10\n",
      "329/329 [==============================] - 1s 3ms/step - loss: 2.2721 - accuracy: 0.1574 - val_loss: 2.2674 - val_accuracy: 0.1888\n",
      "Epoch 7/10\n",
      "329/329 [==============================] - 1s 3ms/step - loss: 2.2629 - accuracy: 0.1901 - val_loss: 2.2566 - val_accuracy: 0.1752\n",
      "Epoch 8/10\n",
      "329/329 [==============================] - 1s 3ms/step - loss: 2.2507 - accuracy: 0.2001 - val_loss: 2.2426 - val_accuracy: 0.2206\n",
      "Epoch 9/10\n",
      "329/329 [==============================] - 1s 3ms/step - loss: 2.2340 - accuracy: 0.2425 - val_loss: 2.2228 - val_accuracy: 0.2421\n",
      "Epoch 10/10\n",
      "329/329 [==============================] - 1s 3ms/step - loss: 2.2106 - accuracy: 0.2712 - val_loss: 2.1949 - val_accuracy: 0.3401\n"
     ]
    }
   ],
   "source": [
    "history = model.fit(x_train, y_train , batch_size = 128 , epochs = 10 , validation_data=(x_val, y_val) )"
   ]
  },
  {
   "cell_type": "code",
   "execution_count": 30,
   "id": "initial-mauritius",
   "metadata": {},
   "outputs": [
    {
     "data": {
      "text/plain": [
       "dict_keys(['loss', 'accuracy', 'val_loss', 'val_accuracy'])"
      ]
     },
     "execution_count": 30,
     "metadata": {},
     "output_type": "execute_result"
    }
   ],
   "source": [
    "history.history.keys()"
   ]
  },
  {
   "cell_type": "code",
   "execution_count": 32,
   "id": "collected-respect",
   "metadata": {},
   "outputs": [
    {
     "data": {
      "text/plain": [
       "<matplotlib.legend.Legend at 0x29f888c7100>"
      ]
     },
     "execution_count": 32,
     "metadata": {},
     "output_type": "execute_result"
    },
    {
     "data": {
      "image/png": "[encoded data removed]",
      "text/plain": [
       "<Figure size 432x288 with 2 Axes>"
      ]
     },
     "metadata": {
      "needs_background": "light"
     },
     "output_type": "display_data"
    }
   ],
   "source": [
    "import matplotlib.pyplot as plt\n",
    "\n",
    "loss     = history_dict['loss'] \n",
    "val_loss = history_dict['val_loss']\n",
    "\n",
    "fig = plt.figure()\n",
    "ax01 = fig.add_subplot(1, 2 , 1) \n",
    "\n",
    "epochs = range(1, len(loss)+1)\n",
    "\n",
    "ax01.plot(epochs , loss ,     color='blue' , label='train loss')\n",
    "ax01.plot(epochs , val_loss , color='red'  , label='val loss')\n",
    "ax01.set_xlabel('Epoch')\n",
    "ax01.set_ylabel('Loss')\n",
    "ax01.grid()\n",
    "ax01.legend()\n",
    "\n",
    "\n",
    "acc     = history_dict['accuracy'] \n",
    "val_acc = history_dict['val_accuracy']\n",
    "\n",
    "ax02 = fig.add_subplot(1, 2 , 2) \n",
    "ax02.plot(epochs , acc ,     color='blue' , label='train acc')\n",
    "ax02.plot(epochs , val_acc , color='red'  , label='val acc')\n",
    "ax02.set_xlabel('Epoch')\n",
    "ax02.set_ylabel('Acc')\n",
    "ax02.grid()\n",
    "ax02.legend()"
   ]
  },
  {
   "cell_type": "code",
   "execution_count": null,
   "id": "suited-moment",
   "metadata": {},
   "outputs": [],
   "source": [
    "model.evaluate(x_test , y_test)\n"
   ]
  }
 ],
 "metadata": {
  "kernelspec": {
   "display_name": "Python 3",
   "language": "python",
   "name": "python3"
  },
  "language_info": {
   "codemirror_mode": {
    "name": "ipython",
    "version": 3
   },
   "file_extension": ".py",
   "mimetype": "text/x-python",
   "name": "python",
   "nbconvert_exporter": "python",
   "pygments_lexer": "ipython3",
   "version": "3.8.8"
  }
 },
 "nbformat": 4,
 "nbformat_minor": 5
}
