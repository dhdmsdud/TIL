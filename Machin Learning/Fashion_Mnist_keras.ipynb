{
  "nbformat": 4,
  "nbformat_minor": 0,
  "metadata": {
    "colab": {
      "name": "Fashion Mnist_keras.ipynb",
      "provenance": [],
      "authorship_tag": "ABX9TyPkkEmR4zNQm2oqHhbUdfa/",
      "include_colab_link": true
    },
    "kernelspec": {
      "name": "python3",
      "display_name": "Python 3"
    },
    "language_info": {
      "name": "python"
    },
    "accelerator": "GPU"
  },
  "cells": [
    {
      "cell_type": "markdown",
      "metadata": {
        "id": "view-in-github",
        "colab_type": "text"
      },
      "source": [
        "<a href=\"https://colab.research.google.com/github/dhdmsdud/TIL/blob/master/Fashion_Mnist_keras.ipynb\" target=\"_parent\"><img src=\"https://colab.research.google.com/assets/colab-badge.svg\" alt=\"Open In Colab\"/></a>"
      ]
    },
    {
      "cell_type": "code",
      "metadata": {
        "id": "lRNcUGxZqMG6"
      },
      "source": [
        "from tensorflow.keras.datasets   import boston_housing\n",
        "from tensorflow.keras.models     import Sequential \n",
        "from tensorflow.keras.layers     import Activation , Dense, BatchNormalization, Dropout\n",
        "from tensorflow.keras.optimizers import SGD , Adam, RMSprop\n",
        "from tensorflow.keras.utils      import plot_model, to_categorical \n",
        "from tensorflow.keras.callbacks  import EarlyStopping, ModelCheckpoint\n",
        "\n",
        "\n",
        "from tensorflow.keras.wrappers.scikit_learn import KerasClassifier\n",
        "\n",
        "\n",
        "from sklearn.model_selection     import train_test_split\n",
        "from sklearn.preprocessing       import StandardScaler , MinMaxScaler , LabelEncoder\n",
        "from sklearn.datasets            import load_breast_cancer\n",
        "from sklearn.model_selection     import KFold\n",
        "from sklearn.ensemble            import VotingClassifier\n",
        "from sklearn.metrics             import accuracy_score\n",
        "\n",
        "\n",
        "import matplotlib.pyplot as plt\n",
        "\n",
        "import pandas  as pd\n",
        "import numpy   as np\n",
        "import seaborn as sns"
      ],
      "execution_count": null,
      "outputs": []
    },
    {
      "cell_type": "code",
      "metadata": {
        "id": "fy4_R_hdqZgD"
      },
      "source": [
        "from tensorflow.keras.datasets.fashion_mnist import load_data"
      ],
      "execution_count": null,
      "outputs": []
    },
    {
      "cell_type": "code",
      "metadata": {
        "colab": {
          "base_uri": "https://localhost:8080/"
        },
        "id": "XeZHz3eMqoyk",
        "outputId": "e101e442-9504-4ebf-d0e7-151138eb4a9f"
      },
      "source": [
        "(X_train_raw, y_train_raw), (X_test, y_test) = load_data()"
      ],
      "execution_count": null,
      "outputs": [
        {
          "output_type": "stream",
          "text": [
            "Downloading data from https://storage.googleapis.com/tensorflow/tf-keras-datasets/train-labels-idx1-ubyte.gz\n",
            "32768/29515 [=================================] - 0s 0us/step\n",
            "Downloading data from https://storage.googleapis.com/tensorflow/tf-keras-datasets/train-images-idx3-ubyte.gz\n",
            "26427392/26421880 [==============================] - 0s 0us/step\n",
            "Downloading data from https://storage.googleapis.com/tensorflow/tf-keras-datasets/t10k-labels-idx1-ubyte.gz\n",
            "8192/5148 [===============================================] - 0s 0us/step\n",
            "Downloading data from https://storage.googleapis.com/tensorflow/tf-keras-datasets/t10k-images-idx3-ubyte.gz\n",
            "4423680/4422102 [==============================] - 0s 0us/step\n"
          ],
          "name": "stdout"
        }
      ]
    },
    {
      "cell_type": "code",
      "metadata": {
        "colab": {
          "base_uri": "https://localhost:8080/"
        },
        "id": "azfkHhAqrBmF",
        "outputId": "ce26e604-10c3-4a17-f384-6384d9298100"
      },
      "source": [
        "X_train_raw.shape, y_train_raw.shape, X_test.shape, y_test.shape"
      ],
      "execution_count": null,
      "outputs": [
        {
          "output_type": "execute_result",
          "data": {
            "text/plain": [
              "((60000, 28, 28), (60000,), (10000, 28, 28), (10000,))"
            ]
          },
          "metadata": {
            "tags": []
          },
          "execution_count": 4
        }
      ]
    },
    {
      "cell_type": "code",
      "metadata": {
        "colab": {
          "base_uri": "https://localhost:8080/"
        },
        "id": "2_PQoitCrPEP",
        "outputId": "f7e619ee-c94b-44d5-8d7c-08cdbc52edca"
      },
      "source": [
        "y_train_raw[0]"
      ],
      "execution_count": null,
      "outputs": [
        {
          "output_type": "execute_result",
          "data": {
            "text/plain": [
              "9"
            ]
          },
          "metadata": {
            "tags": []
          },
          "execution_count": 5
        }
      ]
    },
    {
      "cell_type": "code",
      "metadata": {
        "id": "L_4t5eZdsMIb"
      },
      "source": [
        "X_train_raw[0]"
      ],
      "execution_count": null,
      "outputs": []
    },
    {
      "cell_type": "code",
      "metadata": {
        "id": "eud2wUnNrjQT"
      },
      "source": [
        "class_names = ['T-shirt/top', 'Trouser', 'Pullover', 'Dress', 'Coat',\n",
        "               'Sandal', 'Shirt', 'Sneaker', 'Bag', 'Ankle boot']"
      ],
      "execution_count": null,
      "outputs": []
    },
    {
      "cell_type": "code",
      "metadata": {
        "colab": {
          "base_uri": "https://localhost:8080/"
        },
        "id": "eeErLZXvrwv_",
        "outputId": "6eca70c7-942f-4ff1-e42f-32c7f2f6341a"
      },
      "source": [
        "for idx in range(0, 10) :\n",
        "    print(idx, class_names[y_train_raw[idx]])"
      ],
      "execution_count": null,
      "outputs": [
        {
          "output_type": "stream",
          "text": [
            "0 Ankle boot\n",
            "1 T-shirt/top\n",
            "2 T-shirt/top\n",
            "3 Dress\n",
            "4 T-shirt/top\n",
            "5 Pullover\n",
            "6 Sneaker\n",
            "7 Pullover\n",
            "8 Sandal\n",
            "9 Sandal\n"
          ],
          "name": "stdout"
        }
      ]
    },
    {
      "cell_type": "code",
      "metadata": {
        "colab": {
          "base_uri": "https://localhost:8080/",
          "height": 265
        },
        "id": "KRSYRE4Gr5UP",
        "outputId": "15d8e66d-4cbd-43f2-ba12-76124ed025b2"
      },
      "source": [
        "plt.imshow(X_train_raw[0])\n",
        "plt.show()"
      ],
      "execution_count": null,
      "outputs": [
        {
          "output_type": "display_data",
          "data": {
            "image/png": "[encoded data removed]",
            "text/plain": [
              "<Figure size 432x288 with 1 Axes>"
            ]
          },
          "metadata": {
            "tags": [],
            "needs_background": "light"
          }
        }
      ]
    },
    {
      "cell_type": "code",
      "metadata": {
        "colab": {
          "base_uri": "https://localhost:8080/"
        },
        "id": "9d1-Co_FsjKr",
        "outputId": "ab105820-dfdf-47d1-fd73-373b0a9552b0"
      },
      "source": [
        "num_sample = 4\n",
        "random_idx = np.random.randint(60000, size=num_sample)\n",
        "random_idx"
      ],
      "execution_count": null,
      "outputs": [
        {
          "output_type": "execute_result",
          "data": {
            "text/plain": [
              "array([47630, 46538, 58641, 37749])"
            ]
          },
          "metadata": {
            "tags": []
          },
          "execution_count": 10
        }
      ]
    },
    {
      "cell_type": "code",
      "metadata": {
        "colab": {
          "base_uri": "https://localhost:8080/",
          "height": 186
        },
        "id": "C3KM44ZGt-_p",
        "outputId": "fd27471a-0ea9-41a7-f225-605d95d7f3a5"
      },
      "source": [
        "plt.figure(figsize=(15,15))\n",
        "\n",
        "for i, idx in enumerate(random_idx) :\n",
        "    #print(i, idx)\n",
        "    img   = X_train_raw[idx, :]\n",
        "    label = y_train_raw[idx]\n",
        "\n",
        "    plt.subplot(1, len(random_idx), i+1)\n",
        "    plt.imshow(img)\n",
        "    plt.title('index : {}, label : {}'.format(idx, class_names[label]))"
      ],
      "execution_count": null,
      "outputs": [
        {
          "output_type": "display_data",
          "data": {
            "image/png": "[encoded data removed]",
            "text/plain": [
              "<Figure size 1080x1080 with 4 Axes>"
            ]
          },
          "metadata": {
            "tags": [],
            "needs_background": "light"
          }
        }
      ]
    },
    {
      "cell_type": "code",
      "metadata": {
        "id": "g4sI0P5owb8B"
      },
      "source": [
        "X_train = X_train_raw.reshape(60000, 28*28)\n",
        "X_test = X_test.reshape(10000, 28*28)"
      ],
      "execution_count": null,
      "outputs": []
    },
    {
      "cell_type": "code",
      "metadata": {
        "colab": {
          "base_uri": "https://localhost:8080/"
        },
        "id": "8FrmXuDn3bwe",
        "outputId": "9aa4b074-69a1-47f3-89ef-3b867db67d53"
      },
      "source": [
        "X_train.shape, X_test.shape, y_train_raw.shape, y_test.shape"
      ],
      "execution_count": null,
      "outputs": [
        {
          "output_type": "execute_result",
          "data": {
            "text/plain": [
              "((60000, 784), (10000, 784), (60000,), (10000,))"
            ]
          },
          "metadata": {
            "tags": []
          },
          "execution_count": 15
        }
      ]
    },
    {
      "cell_type": "code",
      "metadata": {
        "id": "X1uuIOUJ3g1h"
      },
      "source": [
        "X_train , _ , y_train , _ = train_test_split(X_train, y_train_raw, test_size = .2, random_state = 100)"
      ],
      "execution_count": null,
      "outputs": []
    },
    {
      "cell_type": "code",
      "metadata": {
        "colab": {
          "base_uri": "https://localhost:8080/"
        },
        "id": "2iUyMxJe3uUB",
        "outputId": "93d4d6e7-8284-430c-851a-4f41cb1273ab"
      },
      "source": [
        "X_train.shape, y_train.shape, X_test.shape, y_test.shape"
      ],
      "execution_count": null,
      "outputs": [
        {
          "output_type": "execute_result",
          "data": {
            "text/plain": [
              "((48000, 784), (48000,), (10000, 784), (10000,))"
            ]
          },
          "metadata": {
            "tags": []
          },
          "execution_count": 21
        }
      ]
    },
    {
      "cell_type": "code",
      "metadata": {
        "id": "6p6c7Dt44HRQ"
      },
      "source": [
        "def get_model():\n",
        "    model = Sequential()\n",
        "    model.add(Dense(50, activation='sigmoid', input_shape=(784,)))\n",
        "\n",
        "    model.add(Dense(50, activation='sigmoid'))\n",
        "    model.add(Dense(50, activation='sigmoid'))\n",
        "    model.add(Dense(50, activation='sigmoid'))\n",
        "    \n",
        "    model.add(Dense(10, activation='softmax'))\n",
        "    \n",
        "    return model"
      ],
      "execution_count": null,
      "outputs": []
    },
    {
      "cell_type": "code",
      "metadata": {
        "id": "j391o3JT4Ny4"
      },
      "source": [
        "model = get_model()\n",
        "\n",
        "optimizer = SGD(learning_rate=0.01)\n",
        "model.compile(optimizer = optimizer,\n",
        "              loss ='sparse_categorical_crossentropy',\n",
        "              metrics = ['accuracy'])"
      ],
      "execution_count": null,
      "outputs": []
    },
    {
      "cell_type": "code",
      "metadata": {
        "colab": {
          "base_uri": "https://localhost:8080/"
        },
        "id": "jnhlv-Ui4Qi_",
        "outputId": "1717e120-8d56-4b80-a3c7-fd56c605a87c"
      },
      "source": [
        "model.summary()"
      ],
      "execution_count": null,
      "outputs": [
        {
          "output_type": "stream",
          "text": [
            "Model: \"sequential\"\n",
            "_________________________________________________________________\n",
            "Layer (type)                 Output Shape              Param #   \n",
            "=================================================================\n",
            "dense (Dense)                (None, 50)                39250     \n",
            "_________________________________________________________________\n",
            "dense_1 (Dense)              (None, 50)                2550      \n",
            "_________________________________________________________________\n",
            "dense_2 (Dense)              (None, 50)                2550      \n",
            "_________________________________________________________________\n",
            "dense_3 (Dense)              (None, 50)                2550      \n",
            "_________________________________________________________________\n",
            "dense_4 (Dense)              (None, 10)                510       \n",
            "=================================================================\n",
            "Total params: 47,410\n",
            "Trainable params: 47,410\n",
            "Non-trainable params: 0\n",
            "_________________________________________________________________\n"
          ],
          "name": "stdout"
        }
      ]
    },
    {
      "cell_type": "code",
      "metadata": {
        "id": "DQcP9Oa94TzH"
      },
      "source": [
        "history = model.fit(X_train, y_train, batch_size=256, validation_split=0.3, epochs=100, verbose=1)"
      ],
      "execution_count": null,
      "outputs": []
    },
    {
      "cell_type": "code",
      "metadata": {
        "colab": {
          "base_uri": "https://localhost:8080/",
          "height": 265
        },
        "id": "m230ZVEF4V4b",
        "outputId": "a4a4b469-4bc0-4bfa-e746-83dc6284fb18"
      },
      "source": [
        "plt.plot(history.history['accuracy'])\n",
        "plt.plot(history.history['val_accuracy'])\n",
        "plt.legend(['train', 'val'], loc = 'best')\n",
        "plt.show()"
      ],
      "execution_count": null,
      "outputs": [
        {
          "output_type": "display_data",
          "data": {
            "image/png": "[encoded data removed]",
            "text/plain": [
              "<Figure size 432x288 with 1 Axes>"
            ]
          },
          "metadata": {
            "tags": [],
            "needs_background": "light"
          }
        }
      ]
    },
    {
      "cell_type": "code",
      "metadata": {
        "colab": {
          "base_uri": "https://localhost:8080/"
        },
        "id": "3JjEz9Kt4iaw",
        "outputId": "40aecfa3-b60e-4488-92d8-63e440e5fac2"
      },
      "source": [
        "result = model.evaluate(X_test, y_test)\n",
        "print('test accuracy : {} '.format(result[1]))"
      ],
      "execution_count": null,
      "outputs": [
        {
          "output_type": "stream",
          "text": [
            "313/313 [==============================] - 1s 2ms/step - loss: 1.3775 - accuracy: 0.4402\n",
            "test accuracy : 0.44020000100135803 \n"
          ],
          "name": "stdout"
        }
      ]
    },
    {
      "cell_type": "markdown",
      "metadata": {
        "id": "oMhwo16x4qsc"
      },
      "source": [
        "### Resnet\n",
        "- optimizer = Adam\n",
        "- optimizer = RMSprop\n",
        "- loss = sparse_categorical_crossentropy "
      ]
    },
    {
      "cell_type": "markdown",
      "metadata": {
        "id": "xhNgE14r7N8A"
      },
      "source": [
        "- Adam"
      ]
    },
    {
      "cell_type": "code",
      "metadata": {
        "id": "r1m2k-W_57I8"
      },
      "source": [
        "def improve_get_adam_model() :\n",
        "\n",
        "    model = Sequential()\n",
        "    model.add(Dense(50, activation='sigmoid',input_shape=(784,) ,kernel_initializer='he_normal'))\n",
        "\n",
        "    model.add(Dense(50, activation='sigmoid',kernel_initializer='he_normal'))\n",
        "    model.add(Dense(50 ,activation='sigmoid',kernel_initializer='he_normal'))\n",
        "    model.add(Dense(50 ,activation='sigmoid',kernel_initializer='he_normal'))\n",
        "\n",
        "    model.add(Dense(10 ,activation='softmax'))\n",
        "\n",
        "    return model"
      ],
      "execution_count": 34,
      "outputs": []
    },
    {
      "cell_type": "code",
      "metadata": {
        "id": "LbGYE9y25-M7"
      },
      "source": [
        "model = improve_get_adam_model()\n",
        "\n",
        "optimizer = Adam(learning_rate=0.01)\n",
        "\n",
        "model.compile(optimizer = optimizer,\n",
        "              loss      = 'sparse_categorical_crossentropy',\n",
        "              metrics   = ['accuracy'])"
      ],
      "execution_count": 35,
      "outputs": []
    },
    {
      "cell_type": "code",
      "metadata": {
        "colab": {
          "base_uri": "https://localhost:8080/"
        },
        "id": "37eJjsfE6J_G",
        "outputId": "4c5e00d2-05e0-4ea3-b864-34d0101f1c18"
      },
      "source": [
        "model.summary()"
      ],
      "execution_count": 36,
      "outputs": [
        {
          "output_type": "stream",
          "text": [
            "Model: \"sequential_2\"\n",
            "_________________________________________________________________\n",
            "Layer (type)                 Output Shape              Param #   \n",
            "=================================================================\n",
            "dense_10 (Dense)             (None, 50)                39250     \n",
            "_________________________________________________________________\n",
            "dense_11 (Dense)             (None, 50)                2550      \n",
            "_________________________________________________________________\n",
            "dense_12 (Dense)             (None, 50)                2550      \n",
            "_________________________________________________________________\n",
            "dense_13 (Dense)             (None, 50)                2550      \n",
            "_________________________________________________________________\n",
            "dense_14 (Dense)             (None, 10)                510       \n",
            "=================================================================\n",
            "Total params: 47,410\n",
            "Trainable params: 47,410\n",
            "Non-trainable params: 0\n",
            "_________________________________________________________________\n"
          ],
          "name": "stdout"
        }
      ]
    },
    {
      "cell_type": "code",
      "metadata": {
        "id": "ERk74bJe6XIP"
      },
      "source": [
        "history = model.fit(X_train, y_train, batch_size=256, validation_split=0.3, epochs=100, verbose=1)"
      ],
      "execution_count": null,
      "outputs": []
    },
    {
      "cell_type": "code",
      "metadata": {
        "colab": {
          "base_uri": "https://localhost:8080/",
          "height": 265
        },
        "id": "Bxvt750m6Z2l",
        "outputId": "4b1208d7-400f-45d6-a9f9-8c1ab48b6249"
      },
      "source": [
        "plt.plot(history.history['accuracy'])\n",
        "plt.plot(history.history['val_accuracy'])\n",
        "plt.legend(['train', 'val'], loc='best')\n",
        "plt.show()"
      ],
      "execution_count": 38,
      "outputs": [
        {
          "output_type": "display_data",
          "data": {
            "image/png": "[encoded data removed]",
            "text/plain": [
              "<Figure size 432x288 with 1 Axes>"
            ]
          },
          "metadata": {
            "tags": [],
            "needs_background": "light"
          }
        }
      ]
    },
    {
      "cell_type": "code",
      "metadata": {
        "colab": {
          "base_uri": "https://localhost:8080/"
        },
        "id": "qmvJ58YZ6lUd",
        "outputId": "57f25e63-1ace-4108-c416-fa7b80730d9f"
      },
      "source": [
        "result = model.evaluate(X_test, y_test)\n",
        "print('resnet adam test accuracy', result[1])"
      ],
      "execution_count": 40,
      "outputs": [
        {
          "output_type": "stream",
          "text": [
            "313/313 [==============================] - 1s 2ms/step - loss: 1.2171 - accuracy: 0.4719\n",
            "resnet adam test accuracy 0.47189998626708984\n"
          ],
          "name": "stdout"
        }
      ]
    },
    {
      "cell_type": "markdown",
      "metadata": {
        "id": "qokpaUyo7RrO"
      },
      "source": [
        "- RMSprop"
      ]
    },
    {
      "cell_type": "code",
      "metadata": {
        "id": "L19s2QnG6n_u"
      },
      "source": [
        "def improve_get_rmsprop_model() :\n",
        "\n",
        "    model = Sequential()\n",
        "    model.add(Dense(50, activation='sigmoid',input_shape=(784,) ,kernel_initializer='he_normal'))\n",
        "\n",
        "    model.add(Dense(50, activation='sigmoid',kernel_initializer='he_normal'))\n",
        "    model.add(Dense(50 ,activation='sigmoid',kernel_initializer='he_normal'))\n",
        "    model.add(Dense(50 ,activation='sigmoid',kernel_initializer='he_normal'))\n",
        "\n",
        "    model.add(Dense(10 ,activation='softmax'))\n",
        "\n",
        "    return model"
      ],
      "execution_count": 41,
      "outputs": []
    },
    {
      "cell_type": "code",
      "metadata": {
        "id": "2LVPAE8B6925"
      },
      "source": [
        "model = improve_get_rmsprop_model()\n",
        "\n",
        "optimizer = RMSprop(learning_rate=0.01)\n",
        "\n",
        "model.compile(optimizer = optimizer,\n",
        "              loss      = 'sparse_categorical_crossentropy',\n",
        "              metrics   = ['accuracy'])"
      ],
      "execution_count": 48,
      "outputs": []
    },
    {
      "cell_type": "code",
      "metadata": {
        "colab": {
          "base_uri": "https://localhost:8080/"
        },
        "id": "39ya4ktw7AvN",
        "outputId": "0c3ee7df-c374-4527-86ab-96581ee9b4e3"
      },
      "source": [
        "model.summary()"
      ],
      "execution_count": 49,
      "outputs": [
        {
          "output_type": "stream",
          "text": [
            "Model: \"sequential_5\"\n",
            "_________________________________________________________________\n",
            "Layer (type)                 Output Shape              Param #   \n",
            "=================================================================\n",
            "dense_25 (Dense)             (None, 50)                39250     \n",
            "_________________________________________________________________\n",
            "dense_26 (Dense)             (None, 50)                2550      \n",
            "_________________________________________________________________\n",
            "dense_27 (Dense)             (None, 50)                2550      \n",
            "_________________________________________________________________\n",
            "dense_28 (Dense)             (None, 50)                2550      \n",
            "_________________________________________________________________\n",
            "dense_29 (Dense)             (None, 10)                510       \n",
            "=================================================================\n",
            "Total params: 47,410\n",
            "Trainable params: 47,410\n",
            "Non-trainable params: 0\n",
            "_________________________________________________________________\n"
          ],
          "name": "stdout"
        }
      ]
    },
    {
      "cell_type": "code",
      "metadata": {
        "id": "LuVnW0jb7GQK"
      },
      "source": [
        "history = model.fit(X_train, y_train, batch_size=256, validation_split=0.3, epochs=100, verbose=1)"
      ],
      "execution_count": null,
      "outputs": []
    },
    {
      "cell_type": "code",
      "metadata": {
        "colab": {
          "base_uri": "https://localhost:8080/",
          "height": 267
        },
        "id": "FCnDAJ1V7IXf",
        "outputId": "27111af7-bba6-4801-8365-ee083d79a434"
      },
      "source": [
        "plt.plot(history.history['accuracy'])\n",
        "plt.plot(history.history['val_accuracy'])\n",
        "plt.legend(['train', 'val'], loc='best')\n",
        "plt.show()"
      ],
      "execution_count": 51,
      "outputs": [
        {
          "output_type": "display_data",
          "data": {
            "image/png": "[encoded data removed]",
            "text/plain": [
              "<Figure size 432x288 with 1 Axes>"
            ]
          },
          "metadata": {
            "tags": [],
            "needs_background": "light"
          }
        }
      ]
    },
    {
      "cell_type": "code",
      "metadata": {
        "colab": {
          "base_uri": "https://localhost:8080/"
        },
        "id": "vmo9f2qq7gXm",
        "outputId": "77b29a2f-9173-4198-de5e-9c5047d3083a"
      },
      "source": [
        "result = model.evaluate(X_test, y_test)\n",
        "print('resnet rmsprop test accuracy : ', result[1])"
      ],
      "execution_count": 54,
      "outputs": [
        {
          "output_type": "stream",
          "text": [
            "313/313 [==============================] - 1s 2ms/step - loss: 0.6610 - accuracy: 0.7541\n",
            "resnet rmsprop test accuracy :  0.7541000247001648\n"
          ],
          "name": "stdout"
        }
      ]
    },
    {
      "cell_type": "markdown",
      "metadata": {
        "id": "x2JHdXuh76J9"
      },
      "source": [
        "### Relu"
      ]
    },
    {
      "cell_type": "markdown",
      "metadata": {
        "id": "MS5-CC6Z8QQt"
      },
      "source": [
        "- Adam"
      ]
    },
    {
      "cell_type": "code",
      "metadata": {
        "id": "PIS7kn3A8Jvk"
      },
      "source": [
        "def improve_activation_get_adam_model() :\n",
        "\n",
        "    model = Sequential()\n",
        "    model.add(Dense(50, activation='relu',input_shape=(784,)))\n",
        "\n",
        "    model.add(Dense(50, activation='relu'))\n",
        "    model.add(Dense(50 ,activation='relu'))\n",
        "    model.add(Dense(50 ,activation='relu'))\n",
        "\n",
        "    model.add(Dense(10 ,activation='softmax'))\n",
        "\n",
        "    return model"
      ],
      "execution_count": 55,
      "outputs": []
    },
    {
      "cell_type": "code",
      "metadata": {
        "id": "tTznOF688TAO"
      },
      "source": [
        "model = improve_activation_get_adam_model()\n",
        "\n",
        "optimizer = Adam(learning_rate=0.01)\n",
        "\n",
        "model.compile(optimizer = optimizer,\n",
        "              loss      = 'sparse_categorical_crossentropy',\n",
        "              metrics   = ['accuracy'])"
      ],
      "execution_count": 56,
      "outputs": []
    },
    {
      "cell_type": "code",
      "metadata": {
        "id": "MrZITl0T8cmP"
      },
      "source": [
        "history = model.fit(X_train, y_train, batch_size=256, validation_split=0.3, epochs=100, verbose=1)"
      ],
      "execution_count": null,
      "outputs": []
    },
    {
      "cell_type": "code",
      "metadata": {
        "colab": {
          "base_uri": "https://localhost:8080/",
          "height": 265
        },
        "id": "uBWtGjT38ehQ",
        "outputId": "650499e3-4b19-4b6b-f628-15d5a7dee027"
      },
      "source": [
        "plt.plot(history.history['accuracy'])\n",
        "plt.plot(history.history['val_accuracy'])\n",
        "plt.legend(['train', 'val'], loc='best')\n",
        "plt.show()"
      ],
      "execution_count": 58,
      "outputs": [
        {
          "output_type": "display_data",
          "data": {
            "image/png": "[encoded data removed]",
            "text/plain": [
              "<Figure size 432x288 with 1 Axes>"
            ]
          },
          "metadata": {
            "tags": [],
            "needs_background": "light"
          }
        }
      ]
    },
    {
      "cell_type": "code",
      "metadata": {
        "colab": {
          "base_uri": "https://localhost:8080/"
        },
        "id": "6n0cE_BE8p60",
        "outputId": "8186ebc7-13a9-488e-a789-2697b65bc8ad"
      },
      "source": [
        "result = model.evaluate(X_test, y_test)\n",
        "print('relu adam test accuracy : ', result[1])"
      ],
      "execution_count": 59,
      "outputs": [
        {
          "output_type": "stream",
          "text": [
            "313/313 [==============================] - 1s 2ms/step - loss: 0.5405 - accuracy: 0.8270\n",
            "relu adam test accuracy :  0.8270000219345093\n"
          ],
          "name": "stdout"
        }
      ]
    },
    {
      "cell_type": "markdown",
      "metadata": {
        "id": "RA8BF7VB8vpK"
      },
      "source": [
        "- RMSprop"
      ]
    },
    {
      "cell_type": "code",
      "metadata": {
        "id": "Q-nFxbbd8zbi"
      },
      "source": [
        "def improve_activation_get_rmsprop_model() :\n",
        "\n",
        "    model = Sequential()\n",
        "    model.add(Dense(50, activation='relu',input_shape=(784,)))\n",
        "\n",
        "    model.add(Dense(50, activation='relu'))\n",
        "    model.add(Dense(50 ,activation='relu'))\n",
        "    model.add(Dense(50 ,activation='relu'))\n",
        "\n",
        "    model.add(Dense(10 ,activation='softmax'))\n",
        "\n",
        "    return model"
      ],
      "execution_count": 60,
      "outputs": []
    },
    {
      "cell_type": "code",
      "metadata": {
        "id": "P7MZWMKl87Bc"
      },
      "source": [
        "model = improve_activation_get_rmsprop_model()\n",
        "\n",
        "optimizer = RMSprop(learning_rate=0.01)\n",
        "\n",
        "model.compile(optimizer = optimizer,\n",
        "              loss      = 'sparse_categorical_crossentropy',\n",
        "              metrics   = ['accuracy'])"
      ],
      "execution_count": 61,
      "outputs": []
    },
    {
      "cell_type": "code",
      "metadata": {
        "id": "zkHj_46j9D-f"
      },
      "source": [
        "history = model.fit(X_train, y_train, batch_size=256, validation_split=0.3, epochs=100, verbose=1)"
      ],
      "execution_count": null,
      "outputs": []
    },
    {
      "cell_type": "code",
      "metadata": {
        "colab": {
          "base_uri": "https://localhost:8080/",
          "height": 265
        },
        "id": "3OAxovVX9F5C",
        "outputId": "1f772e32-4766-4791-c343-3b308ef5173b"
      },
      "source": [
        "plt.plot(history.history['accuracy'])\n",
        "plt.plot(history.history['val_accuracy'])\n",
        "plt.legend(['train', 'val'], loc='best')\n",
        "plt.show()"
      ],
      "execution_count": 63,
      "outputs": [
        {
          "output_type": "display_data",
          "data": {
            "image/png": "[encoded data removed]",
            "text/plain": [
              "<Figure size 432x288 with 1 Axes>"
            ]
          },
          "metadata": {
            "tags": [],
            "needs_background": "light"
          }
        }
      ]
    },
    {
      "cell_type": "code",
      "metadata": {
        "colab": {
          "base_uri": "https://localhost:8080/"
        },
        "id": "PgKOeICD9SSe",
        "outputId": "1937be10-c4ac-4419-81fb-fd4f7f50e5a3"
      },
      "source": [
        "result = model.evaluate(X_test, y_test)\n",
        "print('relu rmsprop test accuracy : ', result[1])"
      ],
      "execution_count": 64,
      "outputs": [
        {
          "output_type": "stream",
          "text": [
            "313/313 [==============================] - 1s 2ms/step - loss: 1.1630 - accuracy: 0.5747\n",
            "relu rmsprop test accuracy :  0.5746999979019165\n"
          ],
          "name": "stdout"
        }
      ]
    },
    {
      "cell_type": "markdown",
      "metadata": {
        "id": "UnUXWLhC9UfB"
      },
      "source": [
        "### 배치 정규화"
      ]
    },
    {
      "cell_type": "markdown",
      "metadata": {
        "id": "UluHiMac9lT6"
      },
      "source": [
        "- Adam"
      ]
    },
    {
      "cell_type": "code",
      "metadata": {
        "id": "EYEbFDjq9eeu"
      },
      "source": [
        "def normalization_get_adam_model() :\n",
        "\n",
        "    model = Sequential()\n",
        "    model.add(Dense(50, input_shape=(784,)))\n",
        "    model.add(BatchNormalization())\n",
        "    model.add(Activation('sigmoid'))\n",
        "\n",
        "    model.add(Dense(50))\n",
        "    model.add(BatchNormalization())\n",
        "    model.add(Activation('sigmoid'))\n",
        "\n",
        "    model.add(Dense(50))\n",
        "    model.add(BatchNormalization())\n",
        "    model.add(Activation('sigmoid'))\n",
        "\n",
        "    model.add(Dense(50))\n",
        "    model.add(BatchNormalization())\n",
        "    model.add(Activation('sigmoid'))\n",
        "\n",
        "    model.add(Dense(10, activation='softmax'))\n",
        "\n",
        "    optimizer = Adam(learning_rate=0.01)\n",
        "\n",
        "    model.compile(optimizer = optimizer,\n",
        "              loss      = 'sparse_categorical_crossentropy',\n",
        "              metrics   = ['accuracy'])\n",
        "\n",
        "    return model"
      ],
      "execution_count": 65,
      "outputs": []
    },
    {
      "cell_type": "code",
      "metadata": {
        "colab": {
          "base_uri": "https://localhost:8080/"
        },
        "id": "2fOLcMko9riO",
        "outputId": "531a233f-c133-4a40-e896-114825a209fb"
      },
      "source": [
        "model = normalization_get_adam_model()\n",
        "model.summary()"
      ],
      "execution_count": 66,
      "outputs": [
        {
          "output_type": "stream",
          "text": [
            "Model: \"sequential_8\"\n",
            "_________________________________________________________________\n",
            "Layer (type)                 Output Shape              Param #   \n",
            "=================================================================\n",
            "dense_40 (Dense)             (None, 50)                39250     \n",
            "_________________________________________________________________\n",
            "batch_normalization (BatchNo (None, 50)                200       \n",
            "_________________________________________________________________\n",
            "activation (Activation)      (None, 50)                0         \n",
            "_________________________________________________________________\n",
            "dense_41 (Dense)             (None, 50)                2550      \n",
            "_________________________________________________________________\n",
            "batch_normalization_1 (Batch (None, 50)                200       \n",
            "_________________________________________________________________\n",
            "activation_1 (Activation)    (None, 50)                0         \n",
            "_________________________________________________________________\n",
            "dense_42 (Dense)             (None, 50)                2550      \n",
            "_________________________________________________________________\n",
            "batch_normalization_2 (Batch (None, 50)                200       \n",
            "_________________________________________________________________\n",
            "activation_2 (Activation)    (None, 50)                0         \n",
            "_________________________________________________________________\n",
            "dense_43 (Dense)             (None, 50)                2550      \n",
            "_________________________________________________________________\n",
            "batch_normalization_3 (Batch (None, 50)                200       \n",
            "_________________________________________________________________\n",
            "activation_3 (Activation)    (None, 50)                0         \n",
            "_________________________________________________________________\n",
            "dense_44 (Dense)             (None, 10)                510       \n",
            "=================================================================\n",
            "Total params: 48,210\n",
            "Trainable params: 47,810\n",
            "Non-trainable params: 400\n",
            "_________________________________________________________________\n"
          ],
          "name": "stdout"
        }
      ]
    },
    {
      "cell_type": "code",
      "metadata": {
        "id": "oxLlcoj29u2T"
      },
      "source": [
        "history = model.fit(X_train, y_train, validation_split=0.3, epochs=100, verbose=1)"
      ],
      "execution_count": null,
      "outputs": []
    },
    {
      "cell_type": "code",
      "metadata": {
        "colab": {
          "base_uri": "https://localhost:8080/",
          "height": 265
        },
        "id": "muPiEwie9wtY",
        "outputId": "7625d17d-08cb-473d-d9f7-4c0aef06e36e"
      },
      "source": [
        "plt.plot(history.history['accuracy'])\n",
        "plt.plot(history.history['val_accuracy'])\n",
        "plt.legend(['train', 'val'], loc='best')\n",
        "plt.show()"
      ],
      "execution_count": 68,
      "outputs": [
        {
          "output_type": "display_data",
          "data": {
            "image/png": "[encoded data removed]",
            "text/plain": [
              "<Figure size 432x288 with 1 Axes>"
            ]
          },
          "metadata": {
            "tags": [],
            "needs_background": "light"
          }
        }
      ]
    },
    {
      "cell_type": "code",
      "metadata": {
        "colab": {
          "base_uri": "https://localhost:8080/"
        },
        "id": "cs0eix6z_DEZ",
        "outputId": "ef26af03-9c48-46ab-dbee-5d6a37013662"
      },
      "source": [
        "result = model.evaluate(X_test, y_test)\n",
        "print('normalization adam test accuracy : ', result[1])"
      ],
      "execution_count": 69,
      "outputs": [
        {
          "output_type": "stream",
          "text": [
            "313/313 [==============================] - 1s 2ms/step - loss: 0.6022 - accuracy: 0.8655\n",
            "normalization adam test accuracy :  0.8654999732971191\n"
          ],
          "name": "stdout"
        }
      ]
    },
    {
      "cell_type": "markdown",
      "metadata": {
        "id": "UrItbLgQ_Jfg"
      },
      "source": [
        "- Rmsprop"
      ]
    },
    {
      "cell_type": "code",
      "metadata": {
        "id": "ha3PuNn0_Rab"
      },
      "source": [
        "def normalization_get_rmsprop_model() :\n",
        "\n",
        "    model = Sequential()\n",
        "    model.add(Dense(50, input_shape=(784,)))\n",
        "    model.add(BatchNormalization())\n",
        "    model.add(Activation('sigmoid'))\n",
        "\n",
        "    model.add(Dense(50))\n",
        "    model.add(BatchNormalization())\n",
        "    model.add(Activation('sigmoid'))\n",
        "\n",
        "    model.add(Dense(50))\n",
        "    model.add(BatchNormalization())\n",
        "    model.add(Activation('sigmoid'))\n",
        "\n",
        "    model.add(Dense(50))\n",
        "    model.add(BatchNormalization())\n",
        "    model.add(Activation('sigmoid'))\n",
        "\n",
        "    model.add(Dense(10, activation='softmax'))\n",
        "\n",
        "    optimizer = RMSprop(learning_rate=0.01)\n",
        "\n",
        "    model.compile(optimizer = optimizer,\n",
        "              loss      = 'sparse_categorical_crossentropy',\n",
        "              metrics   = ['accuracy'])\n",
        "\n",
        "    return model"
      ],
      "execution_count": 71,
      "outputs": []
    },
    {
      "cell_type": "code",
      "metadata": {
        "colab": {
          "base_uri": "https://localhost:8080/"
        },
        "id": "Ws6SuPfv_TY-",
        "outputId": "753d7163-0a81-4fa9-dc5b-7584e462281f"
      },
      "source": [
        "model = normalization_get_rmsprop_model()\n",
        "model.summary()"
      ],
      "execution_count": 72,
      "outputs": [
        {
          "output_type": "stream",
          "text": [
            "Model: \"sequential_9\"\n",
            "_________________________________________________________________\n",
            "Layer (type)                 Output Shape              Param #   \n",
            "=================================================================\n",
            "dense_45 (Dense)             (None, 50)                39250     \n",
            "_________________________________________________________________\n",
            "batch_normalization_4 (Batch (None, 50)                200       \n",
            "_________________________________________________________________\n",
            "activation_4 (Activation)    (None, 50)                0         \n",
            "_________________________________________________________________\n",
            "dense_46 (Dense)             (None, 50)                2550      \n",
            "_________________________________________________________________\n",
            "batch_normalization_5 (Batch (None, 50)                200       \n",
            "_________________________________________________________________\n",
            "activation_5 (Activation)    (None, 50)                0         \n",
            "_________________________________________________________________\n",
            "dense_47 (Dense)             (None, 50)                2550      \n",
            "_________________________________________________________________\n",
            "batch_normalization_6 (Batch (None, 50)                200       \n",
            "_________________________________________________________________\n",
            "activation_6 (Activation)    (None, 50)                0         \n",
            "_________________________________________________________________\n",
            "dense_48 (Dense)             (None, 50)                2550      \n",
            "_________________________________________________________________\n",
            "batch_normalization_7 (Batch (None, 50)                200       \n",
            "_________________________________________________________________\n",
            "activation_7 (Activation)    (None, 50)                0         \n",
            "_________________________________________________________________\n",
            "dense_49 (Dense)             (None, 10)                510       \n",
            "=================================================================\n",
            "Total params: 48,210\n",
            "Trainable params: 47,810\n",
            "Non-trainable params: 400\n",
            "_________________________________________________________________\n"
          ],
          "name": "stdout"
        }
      ]
    },
    {
      "cell_type": "code",
      "metadata": {
        "id": "CwpuiDOb_cfp"
      },
      "source": [
        "history = model.fit(X_train, y_train, validation_split=0.3, epochs=100, verbose=1)"
      ],
      "execution_count": null,
      "outputs": []
    },
    {
      "cell_type": "code",
      "metadata": {
        "colab": {
          "base_uri": "https://localhost:8080/",
          "height": 265
        },
        "id": "eB6CVppe_fSH",
        "outputId": "05529d4d-f527-4bc1-8121-aec9cb2e1936"
      },
      "source": [
        "plt.plot(history.history['accuracy'])\n",
        "plt.plot(history.history['val_accuracy'])\n",
        "plt.legend(['train', 'val'], loc='best')\n",
        "plt.show()"
      ],
      "execution_count": 74,
      "outputs": [
        {
          "output_type": "display_data",
          "data": {
            "image/png": "[encoded data removed]",
            "text/plain": [
              "<Figure size 432x288 with 1 Axes>"
            ]
          },
          "metadata": {
            "tags": [],
            "needs_background": "light"
          }
        }
      ]
    },
    {
      "cell_type": "code",
      "metadata": {
        "colab": {
          "base_uri": "https://localhost:8080/"
        },
        "id": "fwJng6dT_hQx",
        "outputId": "eb353fec-d99c-4cb2-b34f-0d39dbc09d61"
      },
      "source": [
        "result = model.evaluate(X_test, y_test)\n",
        "print('normalization rmsprop test accuracy : ', result[1])"
      ],
      "execution_count": 75,
      "outputs": [
        {
          "output_type": "stream",
          "text": [
            "313/313 [==============================] - 1s 2ms/step - loss: 0.6727 - accuracy: 0.8730\n",
            "normalization rmsprop test accuracy :  0.8730000257492065\n"
          ],
          "name": "stdout"
        }
      ]
    },
    {
      "cell_type": "markdown",
      "metadata": {
        "id": "C-yGGyoS_lty"
      },
      "source": [
        "### Dropout"
      ]
    },
    {
      "cell_type": "markdown",
      "metadata": {
        "id": "M_UKoYHJCiRB"
      },
      "source": [
        "- Adam"
      ]
    },
    {
      "cell_type": "code",
      "metadata": {
        "id": "EPr5RbAlCjI2"
      },
      "source": [
        "def dropout_get_adam_model() :\n",
        "\n",
        "    model = Sequential()\n",
        "    model.add(Dense(50, input_shape=(784,)))\n",
        "    model.add(Activation('sigmoid'))\n",
        "    model.add(Dropout(0.2))\n",
        "\n",
        "    model.add(Dense(50))\n",
        "    model.add(Activation('sigmoid'))\n",
        "    model.add(Dropout(0.2))\n",
        "\n",
        "    model.add(Dense(50))\n",
        "    model.add(Activation('sigmoid'))\n",
        "    model.add(Dropout(0.2))\n",
        "\n",
        "    model.add(Dense(50))\n",
        "    model.add(Activation('sigmoid'))\n",
        "    model.add(Dropout(0.2))\n",
        "\n",
        "    model.add(Dense(10, activation='softmax'))\n",
        "\n",
        "    optimizer = Adam(learning_rate=0.01)\n",
        "\n",
        "    model.compile(optimizer = optimizer,\n",
        "              loss      = 'sparse_categorical_crossentropy',\n",
        "              metrics   = ['accuracy'])\n",
        "\n",
        "    return model"
      ],
      "execution_count": 76,
      "outputs": []
    },
    {
      "cell_type": "code",
      "metadata": {
        "colab": {
          "base_uri": "https://localhost:8080/"
        },
        "id": "xg5XzvK2Csct",
        "outputId": "79fc100b-766d-4fc6-fb22-9ae47ee75ec5"
      },
      "source": [
        "model = dropout_get_adam_model()\n",
        "model.summary()"
      ],
      "execution_count": 77,
      "outputs": [
        {
          "output_type": "stream",
          "text": [
            "Model: \"sequential_10\"\n",
            "_________________________________________________________________\n",
            "Layer (type)                 Output Shape              Param #   \n",
            "=================================================================\n",
            "dense_50 (Dense)             (None, 50)                39250     \n",
            "_________________________________________________________________\n",
            "activation_8 (Activation)    (None, 50)                0         \n",
            "_________________________________________________________________\n",
            "dropout (Dropout)            (None, 50)                0         \n",
            "_________________________________________________________________\n",
            "dense_51 (Dense)             (None, 50)                2550      \n",
            "_________________________________________________________________\n",
            "activation_9 (Activation)    (None, 50)                0         \n",
            "_________________________________________________________________\n",
            "dropout_1 (Dropout)          (None, 50)                0         \n",
            "_________________________________________________________________\n",
            "dense_52 (Dense)             (None, 50)                2550      \n",
            "_________________________________________________________________\n",
            "activation_10 (Activation)   (None, 50)                0         \n",
            "_________________________________________________________________\n",
            "dropout_2 (Dropout)          (None, 50)                0         \n",
            "_________________________________________________________________\n",
            "dense_53 (Dense)             (None, 50)                2550      \n",
            "_________________________________________________________________\n",
            "activation_11 (Activation)   (None, 50)                0         \n",
            "_________________________________________________________________\n",
            "dropout_3 (Dropout)          (None, 50)                0         \n",
            "_________________________________________________________________\n",
            "dense_54 (Dense)             (None, 10)                510       \n",
            "=================================================================\n",
            "Total params: 47,410\n",
            "Trainable params: 47,410\n",
            "Non-trainable params: 0\n",
            "_________________________________________________________________\n"
          ],
          "name": "stdout"
        }
      ]
    },
    {
      "cell_type": "code",
      "metadata": {
        "id": "IoV18M79Cw92"
      },
      "source": [
        "history = model.fit(X_train, y_train, validation_split=0.3, epochs=100, verbose=1)"
      ],
      "execution_count": null,
      "outputs": []
    },
    {
      "cell_type": "code",
      "metadata": {
        "colab": {
          "base_uri": "https://localhost:8080/",
          "height": 265
        },
        "id": "htgJYHvwCy04",
        "outputId": "3d565ab6-b7dc-4835-8627-a48975f8408e"
      },
      "source": [
        "plt.plot(history.history['accuracy'])\n",
        "plt.plot(history.history['val_accuracy'])\n",
        "plt.legend(['train', 'val'], loc='best')\n",
        "plt.show()"
      ],
      "execution_count": 79,
      "outputs": [
        {
          "output_type": "display_data",
          "data": {
            "image/png": "[encoded data removed]",
            "text/plain": [
              "<Figure size 432x288 with 1 Axes>"
            ]
          },
          "metadata": {
            "tags": [],
            "needs_background": "light"
          }
        }
      ]
    },
    {
      "cell_type": "code",
      "metadata": {
        "colab": {
          "base_uri": "https://localhost:8080/"
        },
        "id": "MDx5PbC1C3AL",
        "outputId": "4c075d22-8530-4a41-fa45-bef556374d00"
      },
      "source": [
        "result = model.evaluate(X_test, y_test)\n",
        "print('dropout adam test accuracy : ', result[1])"
      ],
      "execution_count": 80,
      "outputs": [
        {
          "output_type": "stream",
          "text": [
            "313/313 [==============================] - 1s 2ms/step - loss: 1.9111 - accuracy: 0.1954\n",
            "dropout adam test accuracy :  0.19539999961853027\n"
          ],
          "name": "stdout"
        }
      ]
    },
    {
      "cell_type": "markdown",
      "metadata": {
        "id": "RR9GOQwcC9pf"
      },
      "source": [
        "- Rmsprop"
      ]
    },
    {
      "cell_type": "code",
      "metadata": {
        "id": "UqigaKqODAvy"
      },
      "source": [
        "def dropout_get_rmsprop_model() :\n",
        "\n",
        "    model = Sequential()\n",
        "    model.add(Dense(50, input_shape=(784,)))\n",
        "    model.add(Activation('sigmoid'))\n",
        "    model.add(Dropout(0.2))\n",
        "\n",
        "    model.add(Dense(50))\n",
        "    model.add(Activation('sigmoid'))\n",
        "    model.add(Dropout(0.2))\n",
        "\n",
        "    model.add(Dense(50))\n",
        "    model.add(Activation('sigmoid'))\n",
        "    model.add(Dropout(0.2))\n",
        "\n",
        "    model.add(Dense(50))\n",
        "    model.add(Activation('sigmoid'))\n",
        "    model.add(Dropout(0.2))\n",
        "\n",
        "    model.add(Dense(10, activation='softmax'))\n",
        "\n",
        "    optimizer = RMSprop(learning_rate=0.01)\n",
        "\n",
        "    model.compile(optimizer = optimizer,\n",
        "              loss      = 'sparse_categorical_crossentropy',\n",
        "              metrics   = ['accuracy'])\n",
        "\n",
        "    return model"
      ],
      "execution_count": 100,
      "outputs": []
    },
    {
      "cell_type": "code",
      "metadata": {
        "colab": {
          "base_uri": "https://localhost:8080/"
        },
        "id": "LCb3SEGtDNID",
        "outputId": "65603fca-de86-44ad-d90c-cf6e6c165d12"
      },
      "source": [
        "model = dropout_get_rmsprop_model()\n",
        "model.summary()"
      ],
      "execution_count": 101,
      "outputs": [
        {
          "output_type": "stream",
          "text": [
            "Model: \"sequential_15\"\n",
            "_________________________________________________________________\n",
            "Layer (type)                 Output Shape              Param #   \n",
            "=================================================================\n",
            "dense_75 (Dense)             (None, 50)                39250     \n",
            "_________________________________________________________________\n",
            "activation_28 (Activation)   (None, 50)                0         \n",
            "_________________________________________________________________\n",
            "dropout_20 (Dropout)         (None, 50)                0         \n",
            "_________________________________________________________________\n",
            "dense_76 (Dense)             (None, 50)                2550      \n",
            "_________________________________________________________________\n",
            "activation_29 (Activation)   (None, 50)                0         \n",
            "_________________________________________________________________\n",
            "dropout_21 (Dropout)         (None, 50)                0         \n",
            "_________________________________________________________________\n",
            "dense_77 (Dense)             (None, 50)                2550      \n",
            "_________________________________________________________________\n",
            "activation_30 (Activation)   (None, 50)                0         \n",
            "_________________________________________________________________\n",
            "dropout_22 (Dropout)         (None, 50)                0         \n",
            "_________________________________________________________________\n",
            "dense_78 (Dense)             (None, 50)                2550      \n",
            "_________________________________________________________________\n",
            "activation_31 (Activation)   (None, 50)                0         \n",
            "_________________________________________________________________\n",
            "dropout_23 (Dropout)         (None, 50)                0         \n",
            "_________________________________________________________________\n",
            "dense_79 (Dense)             (None, 10)                510       \n",
            "=================================================================\n",
            "Total params: 47,410\n",
            "Trainable params: 47,410\n",
            "Non-trainable params: 0\n",
            "_________________________________________________________________\n"
          ],
          "name": "stdout"
        }
      ]
    },
    {
      "cell_type": "code",
      "metadata": {
        "id": "smOjcOdCDTan"
      },
      "source": [
        "history = model.fit(X_train, y_train, validation_split=0.3, epochs=100, verbose=1)"
      ],
      "execution_count": null,
      "outputs": []
    },
    {
      "cell_type": "code",
      "metadata": {
        "colab": {
          "base_uri": "https://localhost:8080/",
          "height": 269
        },
        "id": "tXirUUVdE2fh",
        "outputId": "a862767b-d8df-4754-930d-3ee7f2d814b4"
      },
      "source": [
        "plt.plot(history.history['accuracy'])\n",
        "plt.plot(history.history['val_accuracy'])\n",
        "plt.legend(['train', 'val'], loc='best')\n",
        "plt.show()"
      ],
      "execution_count": 103,
      "outputs": [
        {
          "output_type": "display_data",
          "data": {
            "image/png": "[encoded data removed]",
            "text/plain": [
              "<Figure size 432x288 with 1 Axes>"
            ]
          },
          "metadata": {
            "tags": [],
            "needs_background": "light"
          }
        }
      ]
    },
    {
      "cell_type": "code",
      "metadata": {
        "colab": {
          "base_uri": "https://localhost:8080/"
        },
        "id": "PTztzVkxDd81",
        "outputId": "17b9c407-b6f7-4af9-c605-11cd306b25d7"
      },
      "source": [
        "result = model.evaluate(X_test, y_test)\n",
        "print('dropout rmsprop test accuracy : ', result[1])"
      ],
      "execution_count": 104,
      "outputs": [
        {
          "output_type": "stream",
          "text": [
            "313/313 [==============================] - 1s 2ms/step - loss: 1.6056 - accuracy: 0.3733\n",
            "dropout rmsprop test accuracy :  0.3732999861240387\n"
          ],
          "name": "stdout"
        }
      ]
    },
    {
      "cell_type": "markdown",
      "metadata": {
        "id": "zPMYgBKKDfn8"
      },
      "source": [
        "### 배치정규화 + Dropout"
      ]
    },
    {
      "cell_type": "markdown",
      "metadata": {
        "id": "I92hTDoEETc8"
      },
      "source": [
        "- Adam"
      ]
    },
    {
      "cell_type": "code",
      "metadata": {
        "id": "mfKBaJDbEWJP"
      },
      "source": [
        "def dropout_batch_get_adam_model() :\n",
        "\n",
        "    model = Sequential()\n",
        "    model.add(Dense(50, input_shape=(784,)))\n",
        "    model.add(BatchNormalization())\n",
        "    model.add(Activation('sigmoid'))\n",
        "    model.add(Dropout(0.2))\n",
        "\n",
        "    model.add(Dense(50))\n",
        "    model.add(BatchNormalization())\n",
        "    model.add(Activation('sigmoid'))\n",
        "    model.add(Dropout(0.2))\n",
        "\n",
        "    model.add(Dense(50))\n",
        "    model.add(BatchNormalization())\n",
        "    model.add(Activation('sigmoid'))\n",
        "    model.add(Dropout(0.2))\n",
        "\n",
        "    model.add(Dense(50))\n",
        "    model.add(BatchNormalization())\n",
        "    model.add(Activation('sigmoid'))\n",
        "    model.add(Dropout(0.2))\n",
        "\n",
        "    model.add(Dense(10, activation='softmax'))\n",
        "\n",
        "    optimizer = Adam(learning_rate=0.01)\n",
        "\n",
        "    model.compile(optimizer = optimizer,\n",
        "              loss      = 'sparse_categorical_crossentropy',\n",
        "              metrics   = ['accuracy'])\n",
        "\n",
        "    return model"
      ],
      "execution_count": 95,
      "outputs": []
    },
    {
      "cell_type": "code",
      "metadata": {
        "colab": {
          "base_uri": "https://localhost:8080/"
        },
        "id": "0E3KRKM1EgF_",
        "outputId": "63e039d0-e621-4f5b-bc00-0afb5a05da31"
      },
      "source": [
        "model = dropout_batch_get_adam_model()\n",
        "model.summary()"
      ],
      "execution_count": 96,
      "outputs": [
        {
          "output_type": "stream",
          "text": [
            "Model: \"sequential_14\"\n",
            "_________________________________________________________________\n",
            "Layer (type)                 Output Shape              Param #   \n",
            "=================================================================\n",
            "dense_70 (Dense)             (None, 50)                39250     \n",
            "_________________________________________________________________\n",
            "batch_normalization_12 (Batc (None, 50)                200       \n",
            "_________________________________________________________________\n",
            "activation_24 (Activation)   (None, 50)                0         \n",
            "_________________________________________________________________\n",
            "dropout_16 (Dropout)         (None, 50)                0         \n",
            "_________________________________________________________________\n",
            "dense_71 (Dense)             (None, 50)                2550      \n",
            "_________________________________________________________________\n",
            "batch_normalization_13 (Batc (None, 50)                200       \n",
            "_________________________________________________________________\n",
            "activation_25 (Activation)   (None, 50)                0         \n",
            "_________________________________________________________________\n",
            "dropout_17 (Dropout)         (None, 50)                0         \n",
            "_________________________________________________________________\n",
            "dense_72 (Dense)             (None, 50)                2550      \n",
            "_________________________________________________________________\n",
            "batch_normalization_14 (Batc (None, 50)                200       \n",
            "_________________________________________________________________\n",
            "activation_26 (Activation)   (None, 50)                0         \n",
            "_________________________________________________________________\n",
            "dropout_18 (Dropout)         (None, 50)                0         \n",
            "_________________________________________________________________\n",
            "dense_73 (Dense)             (None, 50)                2550      \n",
            "_________________________________________________________________\n",
            "batch_normalization_15 (Batc (None, 50)                200       \n",
            "_________________________________________________________________\n",
            "activation_27 (Activation)   (None, 50)                0         \n",
            "_________________________________________________________________\n",
            "dropout_19 (Dropout)         (None, 50)                0         \n",
            "_________________________________________________________________\n",
            "dense_74 (Dense)             (None, 10)                510       \n",
            "=================================================================\n",
            "Total params: 48,210\n",
            "Trainable params: 47,810\n",
            "Non-trainable params: 400\n",
            "_________________________________________________________________\n"
          ],
          "name": "stdout"
        }
      ]
    },
    {
      "cell_type": "code",
      "metadata": {
        "id": "-K6iURWaErTh"
      },
      "source": [
        "history = model.fit(X_train, y_train, validation_split=0.3, epochs=100, verbose=1)"
      ],
      "execution_count": null,
      "outputs": []
    },
    {
      "cell_type": "code",
      "metadata": {
        "colab": {
          "base_uri": "https://localhost:8080/",
          "height": 0
        },
        "id": "3Pvpo4dbEtV7",
        "outputId": "7a85bee2-0281-4840-a2ba-2ac7b4227a09"
      },
      "source": [
        "plt.plot(history.history['accuracy'])\n",
        "plt.plot(history.history['val_accuracy'])\n",
        "plt.legend(['train', 'val'], loc='best')\n",
        "plt.show()"
      ],
      "execution_count": 98,
      "outputs": [
        {
          "output_type": "display_data",
          "data": {
            "image/png": "[encoded data removed]",
            "text/plain": [
              "<Figure size 432x288 with 1 Axes>"
            ]
          },
          "metadata": {
            "tags": [],
            "needs_background": "light"
          }
        }
      ]
    },
    {
      "cell_type": "code",
      "metadata": {
        "colab": {
          "base_uri": "https://localhost:8080/"
        },
        "id": "8U2w6cySGJz3",
        "outputId": "412d10a7-f0ef-4e35-97c1-171db05dcfe7"
      },
      "source": [
        "result = model.evaluate(X_test, y_test)\n",
        "print('dropout batch adam test accuracy : ', result[1])"
      ],
      "execution_count": 99,
      "outputs": [
        {
          "output_type": "stream",
          "text": [
            "313/313 [==============================] - 1s 2ms/step - loss: 0.4136 - accuracy: 0.8618\n",
            "dropout batch adam test accuracy :  0.8618000149726868\n"
          ],
          "name": "stdout"
        }
      ]
    },
    {
      "cell_type": "markdown",
      "metadata": {
        "id": "eg9FLVI4GX6c"
      },
      "source": [
        "- Rmsprop"
      ]
    },
    {
      "cell_type": "code",
      "metadata": {
        "id": "Pgwy3zHFG62w"
      },
      "source": [
        "def dropout_batch_get_rmsprop_model() :\n",
        "\n",
        "    model = Sequential()\n",
        "    model.add(Dense(50, input_shape=(784,)))\n",
        "    model.add(BatchNormalization())\n",
        "    model.add(Activation('sigmoid'))\n",
        "    model.add(Dropout(0.2))\n",
        "\n",
        "    model.add(Dense(50))\n",
        "    model.add(BatchNormalization())\n",
        "    model.add(Activation('sigmoid'))\n",
        "    model.add(Dropout(0.2))\n",
        "\n",
        "    model.add(Dense(50))\n",
        "    model.add(BatchNormalization())\n",
        "    model.add(Activation('sigmoid'))\n",
        "    model.add(Dropout(0.2))\n",
        "\n",
        "    model.add(Dense(50))\n",
        "    model.add(BatchNormalization())\n",
        "    model.add(Activation('sigmoid'))\n",
        "    model.add(Dropout(0.2))\n",
        "\n",
        "    model.add(Dense(10, activation='softmax'))\n",
        "\n",
        "    optimizer = RMSprop(learning_rate=0.01)\n",
        "\n",
        "    model.compile(optimizer = optimizer,\n",
        "              loss      = 'sparse_categorical_crossentropy',\n",
        "              metrics   = ['accuracy'])\n",
        "\n",
        "    return model"
      ],
      "execution_count": 105,
      "outputs": []
    },
    {
      "cell_type": "code",
      "metadata": {
        "colab": {
          "base_uri": "https://localhost:8080/"
        },
        "id": "vBCO-e1JH54j",
        "outputId": "fcbccea8-ae43-449e-a698-322b620f2ba2"
      },
      "source": [
        "model = dropout_batch_get_rmsprop_model()\n",
        "model.summary()"
      ],
      "execution_count": 106,
      "outputs": [
        {
          "output_type": "stream",
          "text": [
            "Model: \"sequential_16\"\n",
            "_________________________________________________________________\n",
            "Layer (type)                 Output Shape              Param #   \n",
            "=================================================================\n",
            "dense_80 (Dense)             (None, 50)                39250     \n",
            "_________________________________________________________________\n",
            "batch_normalization_16 (Batc (None, 50)                200       \n",
            "_________________________________________________________________\n",
            "activation_32 (Activation)   (None, 50)                0         \n",
            "_________________________________________________________________\n",
            "dropout_24 (Dropout)         (None, 50)                0         \n",
            "_________________________________________________________________\n",
            "dense_81 (Dense)             (None, 50)                2550      \n",
            "_________________________________________________________________\n",
            "batch_normalization_17 (Batc (None, 50)                200       \n",
            "_________________________________________________________________\n",
            "activation_33 (Activation)   (None, 50)                0         \n",
            "_________________________________________________________________\n",
            "dropout_25 (Dropout)         (None, 50)                0         \n",
            "_________________________________________________________________\n",
            "dense_82 (Dense)             (None, 50)                2550      \n",
            "_________________________________________________________________\n",
            "batch_normalization_18 (Batc (None, 50)                200       \n",
            "_________________________________________________________________\n",
            "activation_34 (Activation)   (None, 50)                0         \n",
            "_________________________________________________________________\n",
            "dropout_26 (Dropout)         (None, 50)                0         \n",
            "_________________________________________________________________\n",
            "dense_83 (Dense)             (None, 50)                2550      \n",
            "_________________________________________________________________\n",
            "batch_normalization_19 (Batc (None, 50)                200       \n",
            "_________________________________________________________________\n",
            "activation_35 (Activation)   (None, 50)                0         \n",
            "_________________________________________________________________\n",
            "dropout_27 (Dropout)         (None, 50)                0         \n",
            "_________________________________________________________________\n",
            "dense_84 (Dense)             (None, 10)                510       \n",
            "=================================================================\n",
            "Total params: 48,210\n",
            "Trainable params: 47,810\n",
            "Non-trainable params: 400\n",
            "_________________________________________________________________\n"
          ],
          "name": "stdout"
        }
      ]
    },
    {
      "cell_type": "code",
      "metadata": {
        "id": "foTi8nifH9U1"
      },
      "source": [
        "history = model.fit(X_train, y_train, validation_split=0.3, epochs=100, verbose=1)"
      ],
      "execution_count": null,
      "outputs": []
    },
    {
      "cell_type": "code",
      "metadata": {
        "colab": {
          "base_uri": "https://localhost:8080/",
          "height": 0
        },
        "id": "nY4EZTEwH_hc",
        "outputId": "c318bea9-d278-4a9d-f05b-10cd85af6da9"
      },
      "source": [
        "plt.plot(history.history['accuracy'])\n",
        "plt.plot(history.history['val_accuracy'])\n",
        "plt.legend(['train', 'val'], loc='best')\n",
        "plt.show()"
      ],
      "execution_count": 108,
      "outputs": [
        {
          "output_type": "display_data",
          "data": {
            "image/png": "[encoded data removed]",
            "text/plain": [
              "<Figure size 432x288 with 1 Axes>"
            ]
          },
          "metadata": {
            "tags": [],
            "needs_background": "light"
          }
        }
      ]
    },
    {
      "cell_type": "code",
      "metadata": {
        "colab": {
          "base_uri": "https://localhost:8080/"
        },
        "id": "PXZxwLc2IBaQ",
        "outputId": "445b53d0-3c8e-40fc-cbf3-7e566d8ef20c"
      },
      "source": [
        "result = model.evaluate(X_test, y_test)\n",
        "print('dropout batch rmsprop test accuracy : ', result[1])"
      ],
      "execution_count": 109,
      "outputs": [
        {
          "output_type": "stream",
          "text": [
            "313/313 [==============================] - 1s 2ms/step - loss: 0.4102 - accuracy: 0.8623\n",
            "dropout batch rmsprop test accuracy :  0.8622999787330627\n"
          ],
          "name": "stdout"
        }
      ]
    },
    {
      "cell_type": "markdown",
      "metadata": {
        "id": "cxvmjaTOIFQr"
      },
      "source": [
        "### Early stopping"
      ]
    },
    {
      "cell_type": "markdown",
      "metadata": {
        "id": "2Z4W3zj8JMQB"
      },
      "source": [
        "- Adam"
      ]
    },
    {
      "cell_type": "code",
      "metadata": {
        "id": "6NxFu3GFJeVJ"
      },
      "source": [
        "def dropout_early_get_adam_model() :\n",
        "\n",
        "    model = Sequential()\n",
        "    model.add(Dense(50, input_shape=(784,)))\n",
        "    model.add(Activation('sigmoid'))\n",
        "    model.add(Dropout(0.2))\n",
        "\n",
        "    model.add(Dense(50))\n",
        "    model.add(Activation('sigmoid'))\n",
        "    model.add(Dropout(0.2))\n",
        "\n",
        "    model.add(Dense(50))\n",
        "    model.add(Activation('sigmoid'))\n",
        "    model.add(Dropout(0.2))\n",
        "\n",
        "    model.add(Dense(50))\n",
        "    model.add(Activation('sigmoid'))\n",
        "    model.add(Dropout(0.2))\n",
        "\n",
        "    model.add(Dense(10, activation='softmax'))\n",
        "\n",
        "    optimizer = Adam(learning_rate=0.01)\n",
        "\n",
        "    model.compile(optimizer = optimizer,\n",
        "              loss      = 'sparse_categorical_crossentropy',\n",
        "              metrics   = ['accuracy'])\n",
        "\n",
        "    return model"
      ],
      "execution_count": 110,
      "outputs": []
    },
    {
      "cell_type": "code",
      "metadata": {
        "colab": {
          "base_uri": "https://localhost:8080/"
        },
        "id": "Iuby0h5uJgeM",
        "outputId": "884fe6df-531a-46e9-b4a0-07dcd28cb4dd"
      },
      "source": [
        "model = dropout_early_get_adam_model()\n",
        "model.summary()"
      ],
      "execution_count": 111,
      "outputs": [
        {
          "output_type": "stream",
          "text": [
            "Model: \"sequential_17\"\n",
            "_________________________________________________________________\n",
            "Layer (type)                 Output Shape              Param #   \n",
            "=================================================================\n",
            "dense_85 (Dense)             (None, 50)                39250     \n",
            "_________________________________________________________________\n",
            "activation_36 (Activation)   (None, 50)                0         \n",
            "_________________________________________________________________\n",
            "dropout_28 (Dropout)         (None, 50)                0         \n",
            "_________________________________________________________________\n",
            "dense_86 (Dense)             (None, 50)                2550      \n",
            "_________________________________________________________________\n",
            "activation_37 (Activation)   (None, 50)                0         \n",
            "_________________________________________________________________\n",
            "dropout_29 (Dropout)         (None, 50)                0         \n",
            "_________________________________________________________________\n",
            "dense_87 (Dense)             (None, 50)                2550      \n",
            "_________________________________________________________________\n",
            "activation_38 (Activation)   (None, 50)                0         \n",
            "_________________________________________________________________\n",
            "dropout_30 (Dropout)         (None, 50)                0         \n",
            "_________________________________________________________________\n",
            "dense_88 (Dense)             (None, 50)                2550      \n",
            "_________________________________________________________________\n",
            "activation_39 (Activation)   (None, 50)                0         \n",
            "_________________________________________________________________\n",
            "dropout_31 (Dropout)         (None, 50)                0         \n",
            "_________________________________________________________________\n",
            "dense_89 (Dense)             (None, 10)                510       \n",
            "=================================================================\n",
            "Total params: 47,410\n",
            "Trainable params: 47,410\n",
            "Non-trainable params: 0\n",
            "_________________________________________________________________\n"
          ],
          "name": "stdout"
        }
      ]
    },
    {
      "cell_type": "code",
      "metadata": {
        "id": "ZR3FRgGqJlZL"
      },
      "source": [
        "callbacks = [EarlyStopping(monitor='val_accuracy', patience=3)]\n",
        "history = model.fit(X_train, y_train, validation_split=0.3, epochs=100, verbose=1, callbacks=callbacks)"
      ],
      "execution_count": null,
      "outputs": []
    },
    {
      "cell_type": "code",
      "metadata": {
        "colab": {
          "base_uri": "https://localhost:8080/",
          "height": 0
        },
        "id": "G-I2LPZ7J8aP",
        "outputId": "6faf03cb-70c7-4094-c4a9-016e4b06a600"
      },
      "source": [
        "plt.plot(history.history['accuracy'])\n",
        "plt.plot(history.history['val_accuracy'])\n",
        "plt.legend(['train', 'val'], loc='best')\n",
        "plt.show()"
      ],
      "execution_count": 113,
      "outputs": [
        {
          "output_type": "display_data",
          "data": {
            "image/png": "[encoded data removed]",
            "text/plain": [
              "<Figure size 432x288 with 1 Axes>"
            ]
          },
          "metadata": {
            "tags": [],
            "needs_background": "light"
          }
        }
      ]
    },
    {
      "cell_type": "code",
      "metadata": {
        "colab": {
          "base_uri": "https://localhost:8080/"
        },
        "id": "WyVBjC9nJ-GM",
        "outputId": "66428be6-af1b-43e7-8fda-a1bd3f8cea2a"
      },
      "source": [
        "result = model.evaluate(X_test, y_test)\n",
        "print('dropout early adam test accuracy : ', result[1])"
      ],
      "execution_count": 114,
      "outputs": [
        {
          "output_type": "stream",
          "text": [
            "313/313 [==============================] - 1s 2ms/step - loss: 1.7440 - accuracy: 0.2172\n",
            "dropout early adam test accuracy :  0.21719999611377716\n"
          ],
          "name": "stdout"
        }
      ]
    },
    {
      "cell_type": "markdown",
      "metadata": {
        "id": "FExTw9HjJoN-"
      },
      "source": [
        "- Rmsprop"
      ]
    },
    {
      "cell_type": "code",
      "metadata": {
        "id": "cPmu9epVJtZt"
      },
      "source": [
        "def dropout_early_get_rmsprop_model() :\n",
        "\n",
        "    model = Sequential()\n",
        "    model.add(Dense(50, input_shape=(784,)))\n",
        "    model.add(Activation('sigmoid'))\n",
        "    model.add(Dropout(0.2))\n",
        "\n",
        "    model.add(Dense(50))\n",
        "    model.add(Activation('sigmoid'))\n",
        "    model.add(Dropout(0.2))\n",
        "\n",
        "    model.add(Dense(50))\n",
        "    model.add(Activation('sigmoid'))\n",
        "    model.add(Dropout(0.2))\n",
        "\n",
        "    model.add(Dense(50))\n",
        "    model.add(Activation('sigmoid'))\n",
        "    model.add(Dropout(0.2))\n",
        "\n",
        "    model.add(Dense(10, activation='softmax'))\n",
        "\n",
        "    optimizer = RMSprop(learning_rate=0.01)\n",
        "\n",
        "    model.compile(optimizer = optimizer,\n",
        "              loss      = 'sparse_categorical_crossentropy',\n",
        "              metrics   = ['accuracy'])\n",
        "\n",
        "    return model"
      ],
      "execution_count": 116,
      "outputs": []
    },
    {
      "cell_type": "code",
      "metadata": {
        "colab": {
          "base_uri": "https://localhost:8080/"
        },
        "id": "6Sxdvfo7KcEc",
        "outputId": "b4635964-6cbd-43fd-b9e3-a719765e54ed"
      },
      "source": [
        "model = dropout_early_get_rmsprop_model()\n",
        "model.summary()"
      ],
      "execution_count": 117,
      "outputs": [
        {
          "output_type": "stream",
          "text": [
            "Model: \"sequential_18\"\n",
            "_________________________________________________________________\n",
            "Layer (type)                 Output Shape              Param #   \n",
            "=================================================================\n",
            "dense_90 (Dense)             (None, 50)                39250     \n",
            "_________________________________________________________________\n",
            "activation_40 (Activation)   (None, 50)                0         \n",
            "_________________________________________________________________\n",
            "dropout_32 (Dropout)         (None, 50)                0         \n",
            "_________________________________________________________________\n",
            "dense_91 (Dense)             (None, 50)                2550      \n",
            "_________________________________________________________________\n",
            "activation_41 (Activation)   (None, 50)                0         \n",
            "_________________________________________________________________\n",
            "dropout_33 (Dropout)         (None, 50)                0         \n",
            "_________________________________________________________________\n",
            "dense_92 (Dense)             (None, 50)                2550      \n",
            "_________________________________________________________________\n",
            "activation_42 (Activation)   (None, 50)                0         \n",
            "_________________________________________________________________\n",
            "dropout_34 (Dropout)         (None, 50)                0         \n",
            "_________________________________________________________________\n",
            "dense_93 (Dense)             (None, 50)                2550      \n",
            "_________________________________________________________________\n",
            "activation_43 (Activation)   (None, 50)                0         \n",
            "_________________________________________________________________\n",
            "dropout_35 (Dropout)         (None, 50)                0         \n",
            "_________________________________________________________________\n",
            "dense_94 (Dense)             (None, 10)                510       \n",
            "=================================================================\n",
            "Total params: 47,410\n",
            "Trainable params: 47,410\n",
            "Non-trainable params: 0\n",
            "_________________________________________________________________\n"
          ],
          "name": "stdout"
        }
      ]
    },
    {
      "cell_type": "code",
      "metadata": {
        "id": "SnIRtNBaKja-"
      },
      "source": [
        "callbacks = [EarlyStopping(monitor='val_accuracy', patience=3)]\n",
        "history = model.fit(X_train, y_train, validation_split=0.3, epochs=100, verbose=1, callbacks=callbacks)"
      ],
      "execution_count": null,
      "outputs": []
    },
    {
      "cell_type": "code",
      "metadata": {
        "colab": {
          "base_uri": "https://localhost:8080/",
          "height": 0
        },
        "id": "9sYyM-IJKoIZ",
        "outputId": "3243b86d-f96c-4cc1-a320-1865485d0aa6"
      },
      "source": [
        "plt.plot(history.history['accuracy'])\n",
        "plt.plot(history.history['val_accuracy'])\n",
        "plt.legend(['train', 'val'], loc='best')\n",
        "plt.show()"
      ],
      "execution_count": 119,
      "outputs": [
        {
          "output_type": "display_data",
          "data": {
            "image/png": "[encoded data removed]",
            "text/plain": [
              "<Figure size 432x288 with 1 Axes>"
            ]
          },
          "metadata": {
            "tags": [],
            "needs_background": "light"
          }
        }
      ]
    },
    {
      "cell_type": "code",
      "metadata": {
        "colab": {
          "base_uri": "https://localhost:8080/"
        },
        "id": "qpeZ7F2vKuyt",
        "outputId": "4f39cb40-dd26-4828-d9b9-19c5dba18d89"
      },
      "source": [
        "result = model.evaluate(X_test, y_test)\n",
        "print('dropout early rmsprop test accuracy : ', result[1])"
      ],
      "execution_count": 120,
      "outputs": [
        {
          "output_type": "stream",
          "text": [
            "313/313 [==============================] - 1s 2ms/step - loss: 1.2624 - accuracy: 0.4282\n",
            "dropout early rmsprop test accuracy :  0.42820000648498535\n"
          ],
          "name": "stdout"
        }
      ]
    },
    {
      "cell_type": "markdown",
      "metadata": {
        "id": "UIlhgewIKx1s"
      },
      "source": [
        "### Ensemble"
      ]
    },
    {
      "cell_type": "code",
      "metadata": {
        "id": "_LMMovC9K4uL"
      },
      "source": [
        "def improve_get_adam_model() :\n",
        "\n",
        "    model = Sequential()\n",
        "    model.add(Dense(50, activation='sigmoid',input_shape=(784,) ,kernel_initializer='he_normal'))\n",
        "\n",
        "    model.add(Dense(50, activation='sigmoid',kernel_initializer='he_normal'))\n",
        "    model.add(Dense(50 ,activation='sigmoid',kernel_initializer='he_normal'))\n",
        "    model.add(Dense(50 ,activation='sigmoid',kernel_initializer='he_normal'))\n",
        "\n",
        "    model.add(Dense(10 ,activation='softmax'))\n",
        "\n",
        "    optimizer = Adam(learning_rate=0.01)\n",
        "\n",
        "    model.compile(optimizer = optimizer,\n",
        "              loss      = 'sparse_categorical_crossentropy',\n",
        "              metrics   = ['accuracy'])\n",
        "\n",
        "    return model"
      ],
      "execution_count": 131,
      "outputs": []
    },
    {
      "cell_type": "code",
      "metadata": {
        "colab": {
          "base_uri": "https://localhost:8080/"
        },
        "id": "rCU5WukmNE1V",
        "outputId": "65d5c181-21a0-4b7b-edeb-b83e5fbda928"
      },
      "source": [
        "model = improve_get_adam_model()\n",
        "model.summary()"
      ],
      "execution_count": 132,
      "outputs": [
        {
          "output_type": "stream",
          "text": [
            "Model: \"sequential_24\"\n",
            "_________________________________________________________________\n",
            "Layer (type)                 Output Shape              Param #   \n",
            "=================================================================\n",
            "dense_120 (Dense)            (None, 50)                39250     \n",
            "_________________________________________________________________\n",
            "dense_121 (Dense)            (None, 50)                2550      \n",
            "_________________________________________________________________\n",
            "dense_122 (Dense)            (None, 50)                2550      \n",
            "_________________________________________________________________\n",
            "dense_123 (Dense)            (None, 50)                2550      \n",
            "_________________________________________________________________\n",
            "dense_124 (Dense)            (None, 10)                510       \n",
            "=================================================================\n",
            "Total params: 47,410\n",
            "Trainable params: 47,410\n",
            "Non-trainable params: 0\n",
            "_________________________________________________________________\n"
          ],
          "name": "stdout"
        }
      ]
    },
    {
      "cell_type": "code",
      "metadata": {
        "id": "fUqTSuKmLpul"
      },
      "source": [
        "model01 = KerasClassifier(build_fn=get_model, epochs=100, verbose=0)\n",
        "model02 = KerasClassifier(build_fn=get_model, epochs=100, verbose=0)\n",
        "model03 = KerasClassifier(build_fn=get_model, epochs=100, verbose=0)\n",
        "\n",
        "model01._estimator_type = 'classifier'\n",
        "model02._estimator_type = 'classifier'\n",
        "model03._estimator_type = 'classifier'"
      ],
      "execution_count": 133,
      "outputs": []
    },
    {
      "cell_type": "code",
      "metadata": {
        "id": "qymy7ogCL888"
      },
      "source": [
        "ensemble_model = VotingClassifier(estimators=[('model01', model01), ('model02', model02), ('model03', model03)], voting='soft')\n",
        "ensemble_model.fit(X_train, y_train)\n",
        "y_pred = ensemble_model.predict(X_test)\n",
        "\n",
        "print('improve get adam esemble test accuracy : ', accuracy_score(y_pred, y_test))"
      ],
      "execution_count": null,
      "outputs": []
    },
    {
      "cell_type": "code",
      "metadata": {
        "id": "G29MITFNMrE5"
      },
      "source": [
        ""
      ],
      "execution_count": null,
      "outputs": []
    }
  ]
}