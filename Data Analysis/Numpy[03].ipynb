{
 "cells": [
  {
   "cell_type": "markdown",
   "metadata": {},
   "source": [
    "### 기술통계함수(descriptive statistics)\n",
    "- count\n",
    "- mean, average\n",
    "- variance\n",
    "- standard deviation\n",
    "- maximum\n",
    "- minimum\n",
    "- median\n",
    "- quartile\n",
    "\n",
    "- np.random.rand() : 0~1사이의 균일한 분포 값을 리턴하는 함수\n",
    "- np.random.randn() : 정규분포\n",
    "- np.random.randint() : 정수의 난수를 리턴하는 함수"
   ]
  },
  {
   "cell_type": "code",
   "execution_count": 1,
   "metadata": {},
   "outputs": [],
   "source": [
    "import numpy as np"
   ]
  },
  {
   "cell_type": "code",
   "execution_count": 9,
   "metadata": {},
   "outputs": [],
   "source": [
    "x = np.array([18, 5, 10, 23, 19, -8, 10, 0, 0, 5, 2, 15, 8, 2, 5, 4, 15, -1, 4, 7, -24, 7, 9, -6, 23, -13])"
   ]
  },
  {
   "cell_type": "code",
   "execution_count": 14,
   "metadata": {},
   "outputs": [
    {
     "name": "stdout",
     "output_type": "stream",
     "text": [
      "26\n",
      "5.346153846153846\n",
      "109.76479289940828\n",
      "10.476869422657145\n",
      "23\n",
      "-24\n",
      "5.0\n",
      "-24.0\n",
      "0.5\n",
      "10.0\n",
      "23.0\n"
     ]
    }
   ],
   "source": [
    "print(len(x))\n",
    "print(np.mean(x))\n",
    "print(np.var(x)) # 분산\n",
    "print(np.std(x)) # 표준편차\n",
    "print(np.max(x))\n",
    "print(np.min(x))\n",
    "print(np.median(x)) # 중위수\n",
    "print(np.percentile(x, 0)) # 4분위수의 최솟값\n",
    "print(np.percentile(x,25)) # 1사분위 수\n",
    "print(np.percentile(x,75)) # 3사분위 수\n",
    "print(np.percentile(x,100)) # 4분위수의 최댓값"
   ]
  },
  {
   "cell_type": "markdown",
   "metadata": {},
   "source": [
    "- random 서브패키지에서 난수를 발생시키는 함수"
   ]
  },
  {
   "cell_type": "code",
   "execution_count": 16,
   "metadata": {},
   "outputs": [],
   "source": [
    "# seed번호는 마음대로\n",
    "np.random.seed(0)"
   ]
  },
  {
   "cell_type": "code",
   "execution_count": 17,
   "metadata": {},
   "outputs": [
    {
     "data": {
      "text/plain": [
       "array([0.5488135 , 0.71518937, 0.60276338, 0.54488318, 0.4236548 ])"
      ]
     },
     "execution_count": 17,
     "metadata": {},
     "output_type": "execute_result"
    }
   ],
   "source": [
    "# 0~1사이의 랜덤한 난수\n",
    "np.random.rand(5)"
   ]
  },
  {
   "cell_type": "code",
   "execution_count": 18,
   "metadata": {},
   "outputs": [
    {
     "data": {
      "text/plain": [
       "array([0.5488135 , 0.71518937, 0.60276338, 0.54488318, 0.4236548 ])"
      ]
     },
     "execution_count": 18,
     "metadata": {},
     "output_type": "execute_result"
    }
   ],
   "source": [
    "# seed설정을 했기때문에 같은 난수가 나옴(0번째 seed에 정의된 난수)\n",
    "np.random.seed(0)\n",
    "np.random.rand(5)"
   ]
  },
  {
   "cell_type": "markdown",
   "metadata": {},
   "source": [
    "### 데이터 샘플링\n",
    "-  choice(ary, size, replace(복원/비복원추출), p(확률))"
   ]
  },
  {
   "cell_type": "code",
   "execution_count": 20,
   "metadata": {},
   "outputs": [
    {
     "data": {
      "text/plain": [
       "array([2, 4, 0, 0, 4])"
      ]
     },
     "execution_count": 20,
     "metadata": {},
     "output_type": "execute_result"
    }
   ],
   "source": [
    "# range=5 size=5 복원추출(나온수가 또 나옴)\n",
    "np.random.choice(5, 5, replace=True)"
   ]
  },
  {
   "cell_type": "code",
   "execution_count": 21,
   "metadata": {},
   "outputs": [
    {
     "data": {
      "text/plain": [
       "array([0, 3, 4, 1, 2])"
      ]
     },
     "execution_count": 21,
     "metadata": {},
     "output_type": "execute_result"
    }
   ],
   "source": [
    "# range=5 size=5 비복원추출(나온수가 또 나오지 않음)\n",
    "np.random.choice(5, 5, replace=False)"
   ]
  },
  {
   "cell_type": "code",
   "execution_count": 22,
   "metadata": {},
   "outputs": [
    {
     "data": {
      "text/plain": [
       "array([0, 1, 1, 0, 1, 4, 3, 0, 3, 0])"
      ]
     },
     "execution_count": 22,
     "metadata": {},
     "output_type": "execute_result"
    }
   ],
   "source": [
    "# range한 수보다 size가 클때는 복원추출을 해야함\n",
    "np.random.choice(5, 10, replace=True)"
   ]
  },
  {
   "cell_type": "code",
   "execution_count": 23,
   "metadata": {},
   "outputs": [
    {
     "data": {
      "text/plain": [
       "array([ 1.49407907, -0.20515826,  0.3130677 , -0.85409574, -2.55298982,\n",
       "        0.6536186 ,  0.8644362 , -0.74216502,  2.26975462, -1.45436567])"
      ]
     },
     "execution_count": 23,
     "metadata": {},
     "output_type": "execute_result"
    }
   ],
   "source": [
    "# 정규분포\n",
    "np.random.randn(10)"
   ]
  },
  {
   "cell_type": "code",
   "execution_count": 24,
   "metadata": {},
   "outputs": [],
   "source": [
    "# 데이터 시각화\n",
    "import matplotlib.pyplot as plt"
   ]
  },
  {
   "cell_type": "code",
   "execution_count": 25,
   "metadata": {},
   "outputs": [
    {
     "data": {
      "text/plain": [
       "array([[ 0.04575852, -0.18718385,  1.53277921,  1.46935877,  0.15494743],\n",
       "       [ 0.37816252, -0.88778575, -1.98079647, -0.34791215,  0.15634897],\n",
       "       [ 1.23029068,  1.20237985, -0.38732682, -0.30230275, -1.04855297]])"
      ]
     },
     "execution_count": 25,
     "metadata": {},
     "output_type": "execute_result"
    }
   ],
   "source": [
    "datasets = np.random.randn(3,5)\n",
    "datasets"
   ]
  },
  {
   "cell_type": "code",
   "execution_count": 26,
   "metadata": {},
   "outputs": [
    {
     "data": {
      "image/png": "[encoded data removed]",
      "text/plain": [
       "<Figure size 432x288 with 1 Axes>"
      ]
     },
     "metadata": {
      "needs_background": "light"
     },
     "output_type": "display_data"
    }
   ],
   "source": [
    "plt.hist(datasets)\n",
    "plt.show()"
   ]
  },
  {
   "cell_type": "markdown",
   "metadata": {},
   "source": [
    "- randint(low, high, size)"
   ]
  },
  {
   "cell_type": "code",
   "execution_count": null,
   "metadata": {},
   "outputs": [],
   "source": [
    "# row와 size만 입력할 경우 row이하의 수만 리턴\n",
    "np.random.randint(10, size=10)"
   ]
  },
  {
   "cell_type": "code",
   "execution_count": 27,
   "metadata": {},
   "outputs": [
    {
     "data": {
      "text/plain": [
       "array([[19, 14, 14, 16, 14],\n",
       "       [14, 13, 14, 14, 18],\n",
       "       [14, 13, 17, 15, 15]])"
      ]
     },
     "execution_count": 27,
     "metadata": {},
     "output_type": "execute_result"
    }
   ],
   "source": [
    "np.random.randint(10, 20, size=(3,5))"
   ]
  },
  {
   "cell_type": "markdown",
   "metadata": {},
   "source": [
    "- np.unique()"
   ]
  },
  {
   "cell_type": "code",
   "execution_count": 29,
   "metadata": {},
   "outputs": [
    {
     "data": {
      "text/plain": [
       "array([14, 16, 19])"
      ]
     },
     "execution_count": 29,
     "metadata": {},
     "output_type": "execute_result"
    }
   ],
   "source": [
    "# 중복된 값을 제외히고 리턴\n",
    "np.unique([19, 14, 14, 16, 14])"
   ]
  },
  {
   "cell_type": "code",
   "execution_count": 30,
   "metadata": {},
   "outputs": [
    {
     "data": {
      "text/plain": [
       "array(['a', 'b', 'b', 'c', 'a', 'c', 'c'], dtype='<U1')"
      ]
     },
     "execution_count": 30,
     "metadata": {},
     "output_type": "execute_result"
    }
   ],
   "source": [
    "ary_unique = np.array(['a', 'b', 'b', 'c', 'a', 'c', 'c'])\n",
    "ary_unique"
   ]
  },
  {
   "cell_type": "code",
   "execution_count": 33,
   "metadata": {},
   "outputs": [
    {
     "name": "stdout",
     "output_type": "stream",
     "text": [
      "['a' 'b' 'c']\n",
      "[2 2 3]\n"
     ]
    }
   ],
   "source": [
    "# 중복되는 값을 count해서 리턴\n",
    "(value, cnt) = np.unique(ary_unique, return_counts=True)\n",
    "print(value)\n",
    "print(cnt)"
   ]
  },
  {
   "cell_type": "markdown",
   "metadata": {},
   "source": [
    "- Q1. 동전을 10번 던져 앞면(숫자 1)과 뒷면(숫자 0)이 나오는 가상 실험을 파이썬으로 작성한다.\n",
    "- Q2. 주사위를 100번 던져서 나오는 숫자의 평균을 구하라.\n",
    "- Q3. 가격이 10,000원인 주식이 있다. \n",
    "이 주식의 일간 수익률(%)은 기댓값이 0%이고 표준편차가 1%인 표준 정규 분포를 따른다고 하자. \n",
    "250일 동안의 주가를 무작위로 생성하라."
   ]
  },
  {
   "cell_type": "code",
   "execution_count": 36,
   "metadata": {},
   "outputs": [
    {
     "data": {
      "text/plain": [
       "array([0, 0, 1, 1, 1, 0, 1, 1, 1, 1])"
      ]
     },
     "execution_count": 36,
     "metadata": {},
     "output_type": "execute_result"
    }
   ],
   "source": [
    "# Q1\n",
    "coin = np.random.choice(2, 10, replace=True)\n",
    "coin"
   ]
  },
  {
   "cell_type": "code",
   "execution_count": 39,
   "metadata": {},
   "outputs": [
    {
     "name": "stdout",
     "output_type": "stream",
     "text": [
      "[6 1 4 1 5 1 3 5 1 3 5 3 6 6 1 1 1 6 0 3 0 4 1 4 5 0 3 6 2 1 4 4 4 0 0 2 5\n",
      " 0 6 3 3 4 6 1 4 3 3 3 4 2 1 2 2 1 3 3 4 4 2 1 1 0 0 2 4 3 5 6 3 2 1 0 4 1\n",
      " 4 4 2 0 0 5 3 1 5 5 1 5 6 0 6 4 3 5 3 4 3 6 4 3 0 5]\n",
      "2.91\n"
     ]
    }
   ],
   "source": [
    "# Q2\n",
    "dice = np.random.choice(7, 100, replace=True)\n",
    "print(dice)\n",
    "print(np.mean(dice))"
   ]
  },
  {
   "cell_type": "code",
   "execution_count": 51,
   "metadata": {},
   "outputs": [
    {
     "data": {
      "text/plain": [
       "array([ 9898.19041059, 10011.55832725,  9892.15019734, 10033.34257135,\n",
       "       10094.03339944, 10026.26386079, 10067.68496937,  9823.19813904,\n",
       "        9762.04116536,  9913.80466998,  9837.11519081,  9991.47573911,\n",
       "        9964.21057763,  9984.14178688,  9980.30179878,  9985.92589266,\n",
       "       10146.53011978,  9951.65496177, 10092.16995681, 10111.7422699 ,\n",
       "        9960.70287979, 10059.37854205,  9887.08790009, 10146.13523436,\n",
       "       10016.60432905, 10041.85077728, 10147.91180618, 10158.41291719,\n",
       "       10054.54075417, 10110.74983254, 10207.56944036, 10059.59692622,\n",
       "        9999.69978814,  9967.07134385,  9854.08021803, 10174.90602911,\n",
       "        9835.89228002,  9893.57128565, 10070.55462473, 10079.81718945,\n",
       "       10011.74460684,  9959.77740924,  9972.54533099, 10041.29832327,\n",
       "        9827.12924087,  9785.51784075,  9829.03634924, 10064.57187332,\n",
       "       10023.90693699,  9947.87067528,  9891.85656213,  9893.56687633,\n",
       "        9964.73975553, 10033.96720183,  9989.41669267,  9943.19309253,\n",
       "       10115.14036313, 10039.39365164, 10098.04792925,  9813.89917489,\n",
       "        9792.83265266, 10105.00607678, 10058.57459536,  9928.94073802,\n",
       "        9771.92466357, 10109.92304566, 10178.15771019, 10067.27703338,\n",
       "       10044.11893221, 10056.52391756, 10005.135819  ,  9969.25614854,\n",
       "        9984.46891982, 10040.89297211,  9989.80997304,  9929.51627419,\n",
       "       10061.37418437,  9986.82924822, 10179.10225454, 10066.13279301,\n",
       "       10090.27357048,  9812.45224074, 10127.53283402, 10070.74426049,\n",
       "        9932.06156364, 10053.46207379, 10013.04255926,  9963.07707655,\n",
       "       10179.46972669,  9900.01742092,  9942.71822586, 10038.19986845,\n",
       "       10064.04327466,  9915.48184059,  9832.58919029, 10009.35416267,\n",
       "       10047.65788311,  9884.46907849, 10090.79802999,  9919.44972232,\n",
       "        9875.75782304,  9870.02034783,  9958.84073748,  9890.33577586,\n",
       "        9943.69692498, 10084.97621378,  9919.45582872, 10078.25763571,\n",
       "        9896.89488251,  9892.43592452, 10028.29611652, 10057.01249249,\n",
       "       10042.60656627,  9896.20300349, 10102.66047601,  9989.51989647,\n",
       "        9955.88273622, 10009.66358386, 10005.11266708, 10010.90140611,\n",
       "        9900.26609975,  9938.65409005,  9996.59338398, 10086.65253263,\n",
       "       10035.04372439, 10161.83449333,  9734.64980271,  9988.92222851,\n",
       "        9990.57919137, 10149.6966164 , 10078.75156928,  9999.52159646,\n",
       "        9814.99481981,  9963.72817649,  9975.8594088 , 10048.53827557,\n",
       "        9934.43387045,  9902.41111702,  9878.83912255, 10018.12937901,\n",
       "       10036.66837938,  9980.51949468, 10134.38466439,  9915.14145064,\n",
       "        9959.4732874 , 10148.97272673, 10103.86143777, 10032.85997748,\n",
       "       10167.37856016, 10161.12540937,  9972.81651094,  9914.76755286,\n",
       "       10023.01688348, 10075.17978133, 10076.60413691, 10019.04572568,\n",
       "       10035.05549983,  9968.89220901, 10109.43599502, 10050.40136388,\n",
       "        9988.98797611,  9982.04590585, 10161.16918444,  9963.39537385,\n",
       "        9999.21223796,  9983.51183098,  9844.71992913, 10001.48147258,\n",
       "        9897.5182444 , 10051.77747892,  9864.22717128, 10016.60851869,\n",
       "       10096.79100841,  9865.90879948, 10087.80070957,  9998.97927994,\n",
       "        9803.87796524, 10150.18783085, 10222.25484629,  9934.56334419,\n",
       "        9955.64806654, 10124.14452925,  9942.48598926,  9877.6419303 ,\n",
       "       10036.9747057 , 10029.8166875 ,  9980.31985095, 10105.95514748,\n",
       "        9968.90188266,  9996.55141066, 10011.58496059, 10100.80263424,\n",
       "        9996.21117279,  9948.34860786,  9933.45816963,  9888.29939108,\n",
       "        9991.30306197,  9848.39346842, 10061.12112804, 10064.34798528,\n",
       "       10032.78018418,  9992.16866014,  9984.04366605, 10028.72145032,\n",
       "        9993.90579775, 10127.01404473,  9977.58432487,  9974.00654914,\n",
       "        9821.25675567, 10052.27048128, 10063.39205887,  9921.18130699,\n",
       "        9916.67067769, 10070.63740187, 10007.81709689, 10030.2225205 ,\n",
       "        9957.77897614, 10067.39463926, 10045.65027   , 10053.38835842,\n",
       "        9979.14667716, 10015.24165209, 10046.03491474,  9880.91286579,\n",
       "       10138.57776962, 10061.31001825, 10146.64049835,  9949.68236716,\n",
       "       10041.57996795, 10058.95153386, 10083.02258656,  9833.91332032,\n",
       "       10031.75791827,  9996.4932926 ,  9906.97775948, 10041.88551229,\n",
       "        9943.13699828,  9911.25243147,  9957.49563733, 10059.6604505 ,\n",
       "        9913.93751126,  9900.39382624, 10250.59850762, 10014.46968699,\n",
       "        9893.6210208 , 10007.0606551 ,  9957.18838108,  9984.27574182,\n",
       "        9871.8400049 , 10086.18241698])"
      ]
     },
     "execution_count": 51,
     "metadata": {},
     "output_type": "execute_result"
    }
   ],
   "source": [
    "# Q3\n",
    "price = 10000 \n",
    "stock = price + price * np.random.randn(250) / 100\n",
    "stock"
   ]
  },
  {
   "cell_type": "code",
   "execution_count": null,
   "metadata": {},
   "outputs": [],
   "source": []
  },
  {
   "cell_type": "code",
   "execution_count": null,
   "metadata": {},
   "outputs": [],
   "source": []
  },
  {
   "cell_type": "code",
   "execution_count": null,
   "metadata": {},
   "outputs": [],
   "source": []
  }
 ],
 "metadata": {
  "kernelspec": {
   "display_name": "Python 3",
   "language": "python",
   "name": "python3"
  },
  "language_info": {
   "codemirror_mode": {
    "name": "ipython",
    "version": 3
   },
   "file_extension": ".py",
   "mimetype": "text/x-python",
   "name": "python",
   "nbconvert_exporter": "python",
   "pygments_lexer": "ipython3",
   "version": "3.8.5"
  }
 },
 "nbformat": 4,
 "nbformat_minor": 4
}
