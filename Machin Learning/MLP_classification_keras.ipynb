{
  "nbformat": 4,
  "nbformat_minor": 0,
  "metadata": {
    "colab": {
      "name": "MLP_classification_keras.ipynb",
      "provenance": [],
      "toc_visible": true,
      "authorship_tag": "ABX9TyMNMXTDo8+6wNy9cbPbJPmp",
      "include_colab_link": true
    },
    "kernelspec": {
      "name": "python3",
      "display_name": "Python 3"
    },
    "language_info": {
      "name": "python"
    },
    "accelerator": "GPU"
  },
  "cells": [
    {
      "cell_type": "markdown",
      "metadata": {
        "id": "view-in-github",
        "colab_type": "text"
      },
      "source": [
        "<a href=\"https://colab.research.google.com/github/dhdmsdud/TIL/blob/master/MLP_classification_keras.ipynb\" target=\"_parent\"><img src=\"https://colab.research.google.com/assets/colab-badge.svg\" alt=\"Open In Colab\"/></a>"
      ]
    },
    {
      "cell_type": "code",
      "metadata": {
        "id": "dSeCGd_27Ir-"
      },
      "source": [
        "from tensorflow.keras.datasets   import boston_housing\n",
        "from tensorflow.keras.models     import Sequential, Model\n",
        "from tensorflow.keras.layers     import Activation, Dense\n",
        "from tensorflow.keras.optimizers import SGD, Adam\n",
        "from tensorflow.keras.utils      import plot_model\n",
        "\n",
        "\n",
        "from sklearn.model_selection     import train_test_split, KFold\n",
        "from sklearn.preprocessing   import LabelEncoder , OneHotEncoder , StandardScaler , MinMaxScaler , Binarizer \n",
        "from sklearn.datasets            import load_breast_cancer \n",
        "\n",
        "import numpy  as np\n",
        "import pandas as pd\n",
        "\n",
        "\n",
        "import matplotlib.pyplot as plt\n",
        "import seaborn as sns"
      ],
      "execution_count": 33,
      "outputs": []
    },
    {
      "cell_type": "code",
      "metadata": {
        "colab": {
          "base_uri": "https://localhost:8080/"
        },
        "id": "QrkEPuzV7eDQ",
        "outputId": "c639ba28-fd08-4ace-e6f9-667107a26a4d"
      },
      "source": [
        "raw_data = load_breast_cancer()\n",
        "type(raw_data)"
      ],
      "execution_count": 2,
      "outputs": [
        {
          "output_type": "execute_result",
          "data": {
            "text/plain": [
              "sklearn.utils.Bunch"
            ]
          },
          "metadata": {
            "tags": []
          },
          "execution_count": 2
        }
      ]
    },
    {
      "cell_type": "code",
      "metadata": {
        "colab": {
          "base_uri": "https://localhost:8080/"
        },
        "id": "eY4HKkyh79GS",
        "outputId": "8390f7b3-4723-4518-dc81-96314ad46639"
      },
      "source": [
        "raw_data.keys()"
      ],
      "execution_count": 3,
      "outputs": [
        {
          "output_type": "execute_result",
          "data": {
            "text/plain": [
              "dict_keys(['data', 'target', 'target_names', 'DESCR', 'feature_names', 'filename'])"
            ]
          },
          "metadata": {
            "tags": []
          },
          "execution_count": 3
        }
      ]
    },
    {
      "cell_type": "code",
      "metadata": {
        "colab": {
          "base_uri": "https://localhost:8080/"
        },
        "id": "rKHcDOeX8Czz",
        "outputId": "d3ee162a-3e65-4c09-aa36-c47677ac00b2"
      },
      "source": [
        "# 이진분류\n",
        "raw_data.target"
      ],
      "execution_count": 4,
      "outputs": [
        {
          "output_type": "execute_result",
          "data": {
            "text/plain": [
              "array([0, 0, 0, 0, 0, 0, 0, 0, 0, 0, 0, 0, 0, 0, 0, 0, 0, 0, 0, 1, 1, 1,\n",
              "       0, 0, 0, 0, 0, 0, 0, 0, 0, 0, 0, 0, 0, 0, 0, 1, 0, 0, 0, 0, 0, 0,\n",
              "       0, 0, 1, 0, 1, 1, 1, 1, 1, 0, 0, 1, 0, 0, 1, 1, 1, 1, 0, 1, 0, 0,\n",
              "       1, 1, 1, 1, 0, 1, 0, 0, 1, 0, 1, 0, 0, 1, 1, 1, 0, 0, 1, 0, 0, 0,\n",
              "       1, 1, 1, 0, 1, 1, 0, 0, 1, 1, 1, 0, 0, 1, 1, 1, 1, 0, 1, 1, 0, 1,\n",
              "       1, 1, 1, 1, 1, 1, 1, 0, 0, 0, 1, 0, 0, 1, 1, 1, 0, 0, 1, 0, 1, 0,\n",
              "       0, 1, 0, 0, 1, 1, 0, 1, 1, 0, 1, 1, 1, 1, 0, 1, 1, 1, 1, 1, 1, 1,\n",
              "       1, 1, 0, 1, 1, 1, 1, 0, 0, 1, 0, 1, 1, 0, 0, 1, 1, 0, 0, 1, 1, 1,\n",
              "       1, 0, 1, 1, 0, 0, 0, 1, 0, 1, 0, 1, 1, 1, 0, 1, 1, 0, 0, 1, 0, 0,\n",
              "       0, 0, 1, 0, 0, 0, 1, 0, 1, 0, 1, 1, 0, 1, 0, 0, 0, 0, 1, 1, 0, 0,\n",
              "       1, 1, 1, 0, 1, 1, 1, 1, 1, 0, 0, 1, 1, 0, 1, 1, 0, 0, 1, 0, 1, 1,\n",
              "       1, 1, 0, 1, 1, 1, 1, 1, 0, 1, 0, 0, 0, 0, 0, 0, 0, 0, 0, 0, 0, 0,\n",
              "       0, 0, 1, 1, 1, 1, 1, 1, 0, 1, 0, 1, 1, 0, 1, 1, 0, 1, 0, 0, 1, 1,\n",
              "       1, 1, 1, 1, 1, 1, 1, 1, 1, 1, 1, 0, 1, 1, 0, 1, 0, 1, 1, 1, 1, 1,\n",
              "       1, 1, 1, 1, 1, 1, 1, 1, 1, 0, 1, 1, 1, 0, 1, 0, 1, 1, 1, 1, 0, 0,\n",
              "       0, 1, 1, 1, 1, 0, 1, 0, 1, 0, 1, 1, 1, 0, 1, 1, 1, 1, 1, 1, 1, 0,\n",
              "       0, 0, 1, 1, 1, 1, 1, 1, 1, 1, 1, 1, 1, 0, 0, 1, 0, 0, 0, 1, 0, 0,\n",
              "       1, 1, 1, 1, 1, 0, 1, 1, 1, 1, 1, 0, 1, 1, 1, 0, 1, 1, 0, 0, 1, 1,\n",
              "       1, 1, 1, 1, 0, 1, 1, 1, 1, 1, 1, 1, 0, 1, 1, 1, 1, 1, 0, 1, 1, 0,\n",
              "       1, 1, 1, 1, 1, 1, 1, 1, 1, 1, 1, 1, 0, 1, 0, 0, 1, 0, 1, 1, 1, 1,\n",
              "       1, 0, 1, 1, 0, 1, 0, 1, 1, 0, 1, 0, 1, 1, 1, 1, 1, 1, 1, 1, 0, 0,\n",
              "       1, 1, 1, 1, 1, 1, 0, 1, 1, 1, 1, 1, 1, 1, 1, 1, 1, 0, 1, 1, 1, 1,\n",
              "       1, 1, 1, 0, 1, 0, 1, 1, 0, 1, 1, 1, 1, 1, 0, 0, 1, 0, 1, 0, 1, 1,\n",
              "       1, 1, 1, 0, 1, 1, 0, 1, 0, 1, 0, 0, 1, 1, 1, 0, 1, 1, 1, 1, 1, 1,\n",
              "       1, 1, 1, 1, 1, 0, 1, 0, 0, 1, 1, 1, 1, 1, 1, 1, 1, 1, 1, 1, 1, 1,\n",
              "       1, 1, 1, 1, 1, 1, 1, 1, 1, 1, 1, 1, 0, 0, 0, 0, 0, 0, 1])"
            ]
          },
          "metadata": {
            "tags": []
          },
          "execution_count": 4
        }
      ]
    },
    {
      "cell_type": "code",
      "metadata": {
        "colab": {
          "base_uri": "https://localhost:8080/"
        },
        "id": "tMV9cfZX8KTk",
        "outputId": "4cd14589-4b77-4190-e13d-79a403bd85b8"
      },
      "source": [
        "raw_data.data"
      ],
      "execution_count": 5,
      "outputs": [
        {
          "output_type": "execute_result",
          "data": {
            "text/plain": [
              "array([[1.799e+01, 1.038e+01, 1.228e+02, ..., 2.654e-01, 4.601e-01,\n",
              "        1.189e-01],\n",
              "       [2.057e+01, 1.777e+01, 1.329e+02, ..., 1.860e-01, 2.750e-01,\n",
              "        8.902e-02],\n",
              "       [1.969e+01, 2.125e+01, 1.300e+02, ..., 2.430e-01, 3.613e-01,\n",
              "        8.758e-02],\n",
              "       ...,\n",
              "       [1.660e+01, 2.808e+01, 1.083e+02, ..., 1.418e-01, 2.218e-01,\n",
              "        7.820e-02],\n",
              "       [2.060e+01, 2.933e+01, 1.401e+02, ..., 2.650e-01, 4.087e-01,\n",
              "        1.240e-01],\n",
              "       [7.760e+00, 2.454e+01, 4.792e+01, ..., 0.000e+00, 2.871e-01,\n",
              "        7.039e-02]])"
            ]
          },
          "metadata": {
            "tags": []
          },
          "execution_count": 5
        }
      ]
    },
    {
      "cell_type": "code",
      "metadata": {
        "id": "RtB2yrcy8QQk"
      },
      "source": [
        "X_train, X_test, y_train, y_test = train_test_split(raw_data.data, raw_data.target, test_size=0.2, random_state=100)"
      ],
      "execution_count": 6,
      "outputs": []
    },
    {
      "cell_type": "code",
      "metadata": {
        "colab": {
          "base_uri": "https://localhost:8080/"
        },
        "id": "4V7w6JbE9Lkn",
        "outputId": "a83d176b-0af6-4600-d484-5a2e7de5e763"
      },
      "source": [
        "X_train.shape, X_test.shape, y_train.shape, y_test.shape"
      ],
      "execution_count": 7,
      "outputs": [
        {
          "output_type": "execute_result",
          "data": {
            "text/plain": [
              "((455, 30), (114, 30), (455,), (114,))"
            ]
          },
          "metadata": {
            "tags": []
          },
          "execution_count": 7
        }
      ]
    },
    {
      "cell_type": "code",
      "metadata": {
        "colab": {
          "base_uri": "https://localhost:8080/"
        },
        "id": "DtKaT50P9UoZ",
        "outputId": "125ba6d0-134a-4e29-eace-30dbd3ace071"
      },
      "source": [
        "X_train[0]"
      ],
      "execution_count": 8,
      "outputs": [
        {
          "output_type": "execute_result",
          "data": {
            "text/plain": [
              "array([1.305e+01, 1.931e+01, 8.261e+01, 5.272e+02, 8.060e-02, 3.789e-02,\n",
              "       6.920e-04, 4.167e-03, 1.819e-01, 5.501e-02, 4.040e-01, 1.214e+00,\n",
              "       2.595e+00, 3.296e+01, 7.491e-03, 8.593e-03, 6.920e-04, 4.167e-03,\n",
              "       2.190e-02, 2.990e-03, 1.423e+01, 2.225e+01, 9.024e+01, 6.241e+02,\n",
              "       1.021e-01, 6.191e-02, 1.845e-03, 1.111e-02, 2.439e-01, 6.289e-02])"
            ]
          },
          "metadata": {
            "tags": []
          },
          "execution_count": 8
        }
      ]
    },
    {
      "cell_type": "code",
      "metadata": {
        "id": "UPPEg3KM9Y8l"
      },
      "source": [
        "model = Sequential()\n",
        "\n",
        "model.add(Dense(30, input_shape=(30, ), activation='sigmoid'))\n",
        "\n",
        "model.add(Dense(10, activation='sigmoid'))\n",
        "model.add(Dense(10, activation='sigmoid'))\n",
        "model.add(Dense(10, activation='sigmoid'))\n",
        "\n",
        "model.add(Dense(1, activation='sigmoid'))"
      ],
      "execution_count": 21,
      "outputs": []
    },
    {
      "cell_type": "code",
      "metadata": {
        "id": "2mIq7mVFTk3z"
      },
      "source": [
        "model.compile(loss='binary_crossentropy', \n",
        "              optimizer=SGD(learning_rate=0.01), \n",
        "              metrics=['accuracy'])"
      ],
      "execution_count": 22,
      "outputs": []
    },
    {
      "cell_type": "code",
      "metadata": {
        "id": "087HDMJlUSt5"
      },
      "source": [
        "model.fit(X_train, y_train , batch_size = 50 , epochs = 200 , validation_data=(X_test, y_test), verbose = 1 )"
      ],
      "execution_count": null,
      "outputs": []
    },
    {
      "cell_type": "code",
      "metadata": {
        "colab": {
          "base_uri": "https://localhost:8080/"
        },
        "id": "uOxk2a2iUYtI",
        "outputId": "9f6d44c2-4dc0-4e2c-8dfc-b55a664bc6cc"
      },
      "source": [
        "result = model.evaluate(X_test, y_test)"
      ],
      "execution_count": 24,
      "outputs": [
        {
          "output_type": "stream",
          "text": [
            "4/4 [==============================] - 0s 3ms/step - loss: 0.6944 - accuracy: 0.5702\n"
          ],
          "name": "stdout"
        }
      ]
    },
    {
      "cell_type": "code",
      "metadata": {
        "id": "gdWNCUEUV8rv"
      },
      "source": [
        ""
      ],
      "execution_count": null,
      "outputs": []
    },
    {
      "cell_type": "markdown",
      "metadata": {
        "id": "HeofAAzSXUrZ"
      },
      "source": [
        "### 교차검증으로 테스트\n",
        "- K-Fold"
      ]
    },
    {
      "cell_type": "code",
      "metadata": {
        "id": "FAvBmKyCXXpP"
      },
      "source": [
        "def get_model() :\n",
        "  model.add( Dense(30 , input_shape=(30 , )))\n",
        "  model.add( Activation('sigmoid'))\n",
        "\n",
        "  model.add( Dense(10 , activation='sigmoid'))\n",
        "  model.add( Dense(10 , activation='sigmoid'))\n",
        "  model.add( Dense(10 , activation='sigmoid'))\n",
        "\n",
        "  model.add( Dense(1  , activation='sigmoid'))  \n",
        "  return model \n",
        "\n",
        "fold = KFold(n_splits = 6 )\n",
        "\n",
        "acc_list = []\n",
        "for train_idx , val_idx in fold.split(X_train) :\n",
        "  # print(train_idx , val_idx)\n",
        "  x_train_fold , x_val_fold = X_train[train_idx] , X_train[val_idx]\n",
        "  y_train_fold , y_val_fold = y_train[train_idx] , y_train[val_idx] \n",
        "  \n",
        "  model = get_model()\n",
        "  model.fit(x_train_fold , y_train_fold , epochs = 10 , validation_data = (x_val_fold, y_val_fold))\n",
        "  \n",
        "\n",
        "  _, acc = model.evaluate(X_test , y_test)\n",
        "  acc_list.append(acc)\n",
        "\n",
        "print(np.mean(acc_list))\n"
      ],
      "execution_count": null,
      "outputs": []
    },
    {
      "cell_type": "code",
      "metadata": {
        "id": "n6430uV9dAVg"
      },
      "source": [
        ""
      ],
      "execution_count": 27,
      "outputs": []
    },
    {
      "cell_type": "markdown",
      "metadata": {
        "id": "vj-F7PxKuoRr"
      },
      "source": [
        "### sns.load_dataset('iris')"
      ]
    },
    {
      "cell_type": "code",
      "metadata": {
        "id": "3AhBN-JVs-Rg"
      },
      "source": [
        "# LabelEncoder\n",
        "# train_test_split\n",
        "# model activation=relu , output(softmax)\n",
        "\n",
        "# optimizer = Adam , loss = categorical_crossentropy , acc\n",
        "# compile\n",
        "# history = fit\n",
        "\n",
        "# loss , val_loss , acc , val_acc 시각화"
      ],
      "execution_count": null,
      "outputs": []
    },
    {
      "cell_type": "code",
      "metadata": {
        "id": "fgBkQS1fuaCp"
      },
      "source": [
        "iris = sns.load_dataset(\"iris\")\n",
        "sns.pairplot(iris, hue=\"species\", palette=\"husl\")"
      ],
      "execution_count": null,
      "outputs": []
    },
    {
      "cell_type": "code",
      "metadata": {
        "colab": {
          "base_uri": "https://localhost:8080/"
        },
        "id": "VtKMV4Oguv0M",
        "outputId": "1e93e628-cef6-4517-af43-aa790062578c"
      },
      "source": [
        "# type(iris)\n",
        "# iris.head()\n",
        "iris['species'].unique()"
      ],
      "execution_count": 31,
      "outputs": [
        {
          "output_type": "execute_result",
          "data": {
            "text/plain": [
              "array(['setosa', 'versicolor', 'virginica'], dtype=object)"
            ]
          },
          "metadata": {
            "tags": []
          },
          "execution_count": 31
        }
      ]
    },
    {
      "cell_type": "code",
      "metadata": {
        "id": "eMMrVFjQu04O"
      },
      "source": [
        "X = iris.iloc[:,0:4].values\n",
        "y = iris.iloc[:,4].values\n",
        "\n",
        "encoder =  LabelEncoder()\n",
        "encoder_y = encoder.fit_transform(y)\n",
        "Y = pd.get_dummies(encoder_y).values\n",
        "Y"
      ],
      "execution_count": null,
      "outputs": []
    },
    {
      "cell_type": "code",
      "metadata": {
        "colab": {
          "base_uri": "https://localhost:8080/"
        },
        "id": "5kG4M4Xcu_5s",
        "outputId": "65e256e4-c0c5-4632-d90b-e0578e22bf27"
      },
      "source": [
        "X_train, X_test, y_train, y_test = train_test_split(X, Y, \n",
        "                                                    test_size=0.2, \n",
        "                                                    random_state=1) \n",
        "X_train.shape, y_train.shape, X_test.shape,  y_test.shape"
      ],
      "execution_count": 40,
      "outputs": [
        {
          "output_type": "execute_result",
          "data": {
            "text/plain": [
              "((120, 4), (120, 3), (30, 4), (30, 3))"
            ]
          },
          "metadata": {
            "tags": []
          },
          "execution_count": 40
        }
      ]
    },
    {
      "cell_type": "code",
      "metadata": {
        "colab": {
          "base_uri": "https://localhost:8080/"
        },
        "id": "FkB-yjnRvc5f",
        "outputId": "51a0c529-44a8-4c1c-9391-1a823edc5209"
      },
      "source": [
        "model = Sequential()\n",
        "\n",
        "model.add(Dense(64,input_shape=(4,),activation='relu'))\n",
        "model.add(Dense(64,activation='relu'))\n",
        "model.add(Dense(3,activation='softmax'))\n",
        "\n",
        "model.compile(loss='categorical_crossentropy', \n",
        "              optimizer='Adam', \n",
        "              metrics=['accuracy'])\n",
        "\n",
        "model.summary()"
      ],
      "execution_count": 41,
      "outputs": [
        {
          "output_type": "stream",
          "text": [
            "Model: \"sequential_6\"\n",
            "_________________________________________________________________\n",
            "Layer (type)                 Output Shape              Param #   \n",
            "=================================================================\n",
            "dense_85 (Dense)             (None, 64)                320       \n",
            "_________________________________________________________________\n",
            "dense_86 (Dense)             (None, 64)                4160      \n",
            "_________________________________________________________________\n",
            "dense_87 (Dense)             (None, 3)                 195       \n",
            "=================================================================\n",
            "Total params: 4,675\n",
            "Trainable params: 4,675\n",
            "Non-trainable params: 0\n",
            "_________________________________________________________________\n"
          ],
          "name": "stdout"
        }
      ]
    },
    {
      "cell_type": "code",
      "metadata": {
        "colab": {
          "base_uri": "https://localhost:8080/"
        },
        "id": "oMJXv26NvrMF",
        "outputId": "6e509af2-8a4f-4094-b0ae-bba8c667d51b"
      },
      "source": [
        "history = model.fit(X_train, y_train, epochs = 100 , validation_data=(X_test, y_test), verbose = 1 )"
      ],
      "execution_count": 42,
      "outputs": [
        {
          "output_type": "stream",
          "text": [
            "Epoch 1/100\n",
            "4/4 [==============================] - 0s 53ms/step - loss: 1.1523 - accuracy: 0.3950 - val_loss: 1.0968 - val_accuracy: 0.2000\n",
            "Epoch 2/100\n",
            "4/4 [==============================] - 0s 12ms/step - loss: 1.0114 - accuracy: 0.3492 - val_loss: 0.9775 - val_accuracy: 0.5667\n",
            "Epoch 3/100\n",
            "4/4 [==============================] - 0s 12ms/step - loss: 0.9053 - accuracy: 0.6715 - val_loss: 0.9238 - val_accuracy: 0.5667\n",
            "Epoch 4/100\n",
            "4/4 [==============================] - 0s 13ms/step - loss: 0.8493 - accuracy: 0.6610 - val_loss: 0.8859 - val_accuracy: 0.5667\n",
            "Epoch 5/100\n",
            "4/4 [==============================] - 0s 13ms/step - loss: 0.7913 - accuracy: 0.6913 - val_loss: 0.8449 - val_accuracy: 0.5667\n",
            "Epoch 6/100\n",
            "4/4 [==============================] - 0s 12ms/step - loss: 0.7598 - accuracy: 0.6704 - val_loss: 0.7843 - val_accuracy: 0.5667\n",
            "Epoch 7/100\n",
            "4/4 [==============================] - 0s 12ms/step - loss: 0.7070 - accuracy: 0.6777 - val_loss: 0.7327 - val_accuracy: 0.5667\n",
            "Epoch 8/100\n",
            "4/4 [==============================] - 0s 12ms/step - loss: 0.6325 - accuracy: 0.7352 - val_loss: 0.6917 - val_accuracy: 0.6000\n",
            "Epoch 9/100\n",
            "4/4 [==============================] - 0s 13ms/step - loss: 0.6109 - accuracy: 0.7860 - val_loss: 0.6491 - val_accuracy: 0.6667\n",
            "Epoch 10/100\n",
            "4/4 [==============================] - 0s 12ms/step - loss: 0.5908 - accuracy: 0.8133 - val_loss: 0.6186 - val_accuracy: 0.6667\n",
            "Epoch 11/100\n",
            "4/4 [==============================] - 0s 12ms/step - loss: 0.5521 - accuracy: 0.8469 - val_loss: 0.5925 - val_accuracy: 0.6667\n",
            "Epoch 12/100\n",
            "4/4 [==============================] - 0s 12ms/step - loss: 0.5292 - accuracy: 0.8333 - val_loss: 0.5728 - val_accuracy: 0.6667\n",
            "Epoch 13/100\n",
            "4/4 [==============================] - 0s 12ms/step - loss: 0.4852 - accuracy: 0.8365 - val_loss: 0.5425 - val_accuracy: 0.6667\n",
            "Epoch 14/100\n",
            "4/4 [==============================] - 0s 11ms/step - loss: 0.4830 - accuracy: 0.8715 - val_loss: 0.4984 - val_accuracy: 0.8000\n",
            "Epoch 15/100\n",
            "4/4 [==============================] - 0s 12ms/step - loss: 0.4590 - accuracy: 0.9087 - val_loss: 0.4841 - val_accuracy: 0.8000\n",
            "Epoch 16/100\n",
            "4/4 [==============================] - 0s 12ms/step - loss: 0.4030 - accuracy: 0.9215 - val_loss: 0.4829 - val_accuracy: 0.7333\n",
            "Epoch 17/100\n",
            "4/4 [==============================] - 0s 11ms/step - loss: 0.3956 - accuracy: 0.9167 - val_loss: 0.4449 - val_accuracy: 0.8000\n",
            "Epoch 18/100\n",
            "4/4 [==============================] - 0s 13ms/step - loss: 0.3935 - accuracy: 0.9175 - val_loss: 0.4135 - val_accuracy: 0.9333\n",
            "Epoch 19/100\n",
            "4/4 [==============================] - 0s 12ms/step - loss: 0.3553 - accuracy: 0.9773 - val_loss: 0.4116 - val_accuracy: 0.8667\n",
            "Epoch 20/100\n",
            "4/4 [==============================] - 0s 12ms/step - loss: 0.3312 - accuracy: 0.9446 - val_loss: 0.3968 - val_accuracy: 0.8667\n",
            "Epoch 21/100\n",
            "4/4 [==============================] - 0s 15ms/step - loss: 0.3272 - accuracy: 0.9531 - val_loss: 0.3825 - val_accuracy: 0.9000\n",
            "Epoch 22/100\n",
            "4/4 [==============================] - 0s 12ms/step - loss: 0.3050 - accuracy: 0.9900 - val_loss: 0.3670 - val_accuracy: 0.9000\n",
            "Epoch 23/100\n",
            "4/4 [==============================] - 0s 12ms/step - loss: 0.2971 - accuracy: 0.9806 - val_loss: 0.3447 - val_accuracy: 0.9333\n",
            "Epoch 24/100\n",
            "4/4 [==============================] - 0s 13ms/step - loss: 0.2710 - accuracy: 0.9848 - val_loss: 0.3343 - val_accuracy: 0.9333\n",
            "Epoch 25/100\n",
            "4/4 [==============================] - 0s 12ms/step - loss: 0.2478 - accuracy: 0.9827 - val_loss: 0.3233 - val_accuracy: 0.9333\n",
            "Epoch 26/100\n",
            "4/4 [==============================] - 0s 13ms/step - loss: 0.2575 - accuracy: 0.9765 - val_loss: 0.3112 - val_accuracy: 0.9333\n",
            "Epoch 27/100\n",
            "4/4 [==============================] - 0s 13ms/step - loss: 0.2391 - accuracy: 0.9848 - val_loss: 0.3039 - val_accuracy: 0.9333\n",
            "Epoch 28/100\n",
            "4/4 [==============================] - 0s 12ms/step - loss: 0.2488 - accuracy: 0.9798 - val_loss: 0.2810 - val_accuracy: 0.9667\n",
            "Epoch 29/100\n",
            "4/4 [==============================] - 0s 14ms/step - loss: 0.2337 - accuracy: 0.9881 - val_loss: 0.2826 - val_accuracy: 0.9333\n",
            "Epoch 30/100\n",
            "4/4 [==============================] - 0s 12ms/step - loss: 0.2132 - accuracy: 0.9775 - val_loss: 0.2837 - val_accuracy: 0.9333\n",
            "Epoch 31/100\n",
            "4/4 [==============================] - 0s 12ms/step - loss: 0.2232 - accuracy: 0.9681 - val_loss: 0.2608 - val_accuracy: 0.9333\n",
            "Epoch 32/100\n",
            "4/4 [==============================] - 0s 13ms/step - loss: 0.2066 - accuracy: 0.9596 - val_loss: 0.2506 - val_accuracy: 0.9667\n",
            "Epoch 33/100\n",
            "4/4 [==============================] - 0s 13ms/step - loss: 0.1831 - accuracy: 0.9733 - val_loss: 0.2541 - val_accuracy: 0.9333\n",
            "Epoch 34/100\n",
            "4/4 [==============================] - 0s 13ms/step - loss: 0.1846 - accuracy: 0.9775 - val_loss: 0.2383 - val_accuracy: 0.9333\n",
            "Epoch 35/100\n",
            "4/4 [==============================] - 0s 14ms/step - loss: 0.1773 - accuracy: 0.9860 - val_loss: 0.2297 - val_accuracy: 0.9667\n",
            "Epoch 36/100\n",
            "4/4 [==============================] - 0s 12ms/step - loss: 0.1763 - accuracy: 0.9767 - val_loss: 0.2345 - val_accuracy: 0.9333\n",
            "Epoch 37/100\n",
            "4/4 [==============================] - 0s 14ms/step - loss: 0.1636 - accuracy: 0.9733 - val_loss: 0.2250 - val_accuracy: 0.9333\n",
            "Epoch 38/100\n",
            "4/4 [==============================] - 0s 12ms/step - loss: 0.1696 - accuracy: 0.9658 - val_loss: 0.2072 - val_accuracy: 0.9667\n",
            "Epoch 39/100\n",
            "4/4 [==============================] - 0s 12ms/step - loss: 0.1585 - accuracy: 0.9765 - val_loss: 0.2226 - val_accuracy: 0.9333\n",
            "Epoch 40/100\n",
            "4/4 [==============================] - 0s 12ms/step - loss: 0.1543 - accuracy: 0.9765 - val_loss: 0.2015 - val_accuracy: 0.9667\n",
            "Epoch 41/100\n",
            "4/4 [==============================] - 0s 12ms/step - loss: 0.1287 - accuracy: 0.9913 - val_loss: 0.1899 - val_accuracy: 0.9667\n",
            "Epoch 42/100\n",
            "4/4 [==============================] - 0s 12ms/step - loss: 0.1326 - accuracy: 0.9679 - val_loss: 0.1873 - val_accuracy: 0.9667\n",
            "Epoch 43/100\n",
            "4/4 [==============================] - 0s 13ms/step - loss: 0.1292 - accuracy: 0.9829 - val_loss: 0.1878 - val_accuracy: 0.9667\n",
            "Epoch 44/100\n",
            "4/4 [==============================] - 0s 11ms/step - loss: 0.1516 - accuracy: 0.9713 - val_loss: 0.1849 - val_accuracy: 0.9667\n",
            "Epoch 45/100\n",
            "4/4 [==============================] - 0s 12ms/step - loss: 0.1416 - accuracy: 0.9619 - val_loss: 0.1756 - val_accuracy: 0.9667\n",
            "Epoch 46/100\n",
            "4/4 [==============================] - 0s 12ms/step - loss: 0.1331 - accuracy: 0.9679 - val_loss: 0.1727 - val_accuracy: 0.9667\n",
            "Epoch 47/100\n",
            "4/4 [==============================] - 0s 12ms/step - loss: 0.1324 - accuracy: 0.9798 - val_loss: 0.1880 - val_accuracy: 0.9333\n",
            "Epoch 48/100\n",
            "4/4 [==============================] - 0s 14ms/step - loss: 0.1250 - accuracy: 0.9765 - val_loss: 0.1671 - val_accuracy: 0.9667\n",
            "Epoch 49/100\n",
            "4/4 [==============================] - 0s 16ms/step - loss: 0.1134 - accuracy: 0.9881 - val_loss: 0.1573 - val_accuracy: 0.9667\n",
            "Epoch 50/100\n",
            "4/4 [==============================] - 0s 15ms/step - loss: 0.1490 - accuracy: 0.9471 - val_loss: 0.1554 - val_accuracy: 0.9667\n",
            "Epoch 51/100\n",
            "4/4 [==============================] - 0s 12ms/step - loss: 0.1159 - accuracy: 0.9679 - val_loss: 0.1657 - val_accuracy: 0.9667\n",
            "Epoch 52/100\n",
            "4/4 [==============================] - 0s 12ms/step - loss: 0.1236 - accuracy: 0.9585 - val_loss: 0.1512 - val_accuracy: 0.9667\n",
            "Epoch 53/100\n",
            "4/4 [==============================] - 0s 12ms/step - loss: 0.1171 - accuracy: 0.9650 - val_loss: 0.1547 - val_accuracy: 0.9667\n",
            "Epoch 54/100\n",
            "4/4 [==============================] - 0s 12ms/step - loss: 0.1172 - accuracy: 0.9713 - val_loss: 0.1564 - val_accuracy: 0.9667\n",
            "Epoch 55/100\n",
            "4/4 [==============================] - 0s 12ms/step - loss: 0.0827 - accuracy: 0.9785 - val_loss: 0.1496 - val_accuracy: 0.9667\n",
            "Epoch 56/100\n",
            "4/4 [==============================] - 0s 12ms/step - loss: 0.1194 - accuracy: 0.9679 - val_loss: 0.1339 - val_accuracy: 1.0000\n",
            "Epoch 57/100\n",
            "4/4 [==============================] - 0s 13ms/step - loss: 0.1165 - accuracy: 0.9585 - val_loss: 0.1617 - val_accuracy: 0.9333\n",
            "Epoch 58/100\n",
            "4/4 [==============================] - 0s 16ms/step - loss: 0.1194 - accuracy: 0.9733 - val_loss: 0.1461 - val_accuracy: 0.9667\n",
            "Epoch 59/100\n",
            "4/4 [==============================] - 0s 13ms/step - loss: 0.1032 - accuracy: 0.9765 - val_loss: 0.1301 - val_accuracy: 0.9667\n",
            "Epoch 60/100\n",
            "4/4 [==============================] - 0s 13ms/step - loss: 0.0925 - accuracy: 0.9804 - val_loss: 0.1277 - val_accuracy: 0.9667\n",
            "Epoch 61/100\n",
            "4/4 [==============================] - 0s 13ms/step - loss: 0.0852 - accuracy: 0.9881 - val_loss: 0.1476 - val_accuracy: 0.9667\n",
            "Epoch 62/100\n",
            "4/4 [==============================] - 0s 14ms/step - loss: 0.0849 - accuracy: 0.9848 - val_loss: 0.1452 - val_accuracy: 0.9667\n",
            "Epoch 63/100\n",
            "4/4 [==============================] - 0s 12ms/step - loss: 0.0898 - accuracy: 0.9742 - val_loss: 0.1199 - val_accuracy: 1.0000\n",
            "Epoch 64/100\n",
            "4/4 [==============================] - 0s 13ms/step - loss: 0.0949 - accuracy: 0.9710 - val_loss: 0.1234 - val_accuracy: 0.9667\n",
            "Epoch 65/100\n",
            "4/4 [==============================] - 0s 14ms/step - loss: 0.0822 - accuracy: 0.9879 - val_loss: 0.1417 - val_accuracy: 0.9667\n",
            "Epoch 66/100\n",
            "4/4 [==============================] - 0s 12ms/step - loss: 0.0943 - accuracy: 0.9765 - val_loss: 0.1182 - val_accuracy: 0.9667\n",
            "Epoch 67/100\n",
            "4/4 [==============================] - 0s 13ms/step - loss: 0.0852 - accuracy: 0.9627 - val_loss: 0.1140 - val_accuracy: 1.0000\n",
            "Epoch 68/100\n",
            "4/4 [==============================] - 0s 12ms/step - loss: 0.1043 - accuracy: 0.9627 - val_loss: 0.1261 - val_accuracy: 0.9667\n",
            "Epoch 69/100\n",
            "4/4 [==============================] - 0s 12ms/step - loss: 0.0915 - accuracy: 0.9806 - val_loss: 0.1269 - val_accuracy: 0.9667\n",
            "Epoch 70/100\n",
            "4/4 [==============================] - 0s 14ms/step - loss: 0.0950 - accuracy: 0.9765 - val_loss: 0.1109 - val_accuracy: 1.0000\n",
            "Epoch 71/100\n",
            "4/4 [==============================] - 0s 13ms/step - loss: 0.0983 - accuracy: 0.9565 - val_loss: 0.1166 - val_accuracy: 0.9667\n",
            "Epoch 72/100\n",
            "4/4 [==============================] - 0s 13ms/step - loss: 0.0919 - accuracy: 0.9765 - val_loss: 0.1274 - val_accuracy: 0.9667\n",
            "Epoch 73/100\n",
            "4/4 [==============================] - 0s 16ms/step - loss: 0.1206 - accuracy: 0.9556 - val_loss: 0.1074 - val_accuracy: 1.0000\n",
            "Epoch 74/100\n",
            "4/4 [==============================] - 0s 13ms/step - loss: 0.1024 - accuracy: 0.9565 - val_loss: 0.1066 - val_accuracy: 1.0000\n",
            "Epoch 75/100\n",
            "4/4 [==============================] - 0s 13ms/step - loss: 0.0797 - accuracy: 0.9775 - val_loss: 0.1156 - val_accuracy: 0.9667\n",
            "Epoch 76/100\n",
            "4/4 [==============================] - 0s 13ms/step - loss: 0.0958 - accuracy: 0.9767 - val_loss: 0.1111 - val_accuracy: 0.9667\n",
            "Epoch 77/100\n",
            "4/4 [==============================] - 0s 14ms/step - loss: 0.0873 - accuracy: 0.9679 - val_loss: 0.1072 - val_accuracy: 0.9667\n",
            "Epoch 78/100\n",
            "4/4 [==============================] - 0s 12ms/step - loss: 0.0788 - accuracy: 0.9860 - val_loss: 0.1071 - val_accuracy: 0.9667\n",
            "Epoch 79/100\n",
            "4/4 [==============================] - 0s 13ms/step - loss: 0.1009 - accuracy: 0.9767 - val_loss: 0.1025 - val_accuracy: 1.0000\n",
            "Epoch 80/100\n",
            "4/4 [==============================] - 0s 14ms/step - loss: 0.0772 - accuracy: 0.9690 - val_loss: 0.1018 - val_accuracy: 0.9667\n",
            "Epoch 81/100\n",
            "4/4 [==============================] - 0s 16ms/step - loss: 0.0980 - accuracy: 0.9417 - val_loss: 0.1129 - val_accuracy: 0.9667\n",
            "Epoch 82/100\n",
            "4/4 [==============================] - 0s 13ms/step - loss: 0.0879 - accuracy: 0.9765 - val_loss: 0.1065 - val_accuracy: 0.9667\n",
            "Epoch 83/100\n",
            "4/4 [==============================] - 0s 13ms/step - loss: 0.0698 - accuracy: 0.9913 - val_loss: 0.0980 - val_accuracy: 1.0000\n",
            "Epoch 84/100\n",
            "4/4 [==============================] - 0s 14ms/step - loss: 0.0904 - accuracy: 0.9533 - val_loss: 0.0940 - val_accuracy: 1.0000\n",
            "Epoch 85/100\n",
            "4/4 [==============================] - 0s 13ms/step - loss: 0.0763 - accuracy: 0.9710 - val_loss: 0.1023 - val_accuracy: 0.9667\n",
            "Epoch 86/100\n",
            "4/4 [==============================] - 0s 14ms/step - loss: 0.0743 - accuracy: 0.9827 - val_loss: 0.1061 - val_accuracy: 0.9667\n",
            "Epoch 87/100\n",
            "4/4 [==============================] - 0s 12ms/step - loss: 0.0732 - accuracy: 0.9731 - val_loss: 0.0921 - val_accuracy: 1.0000\n",
            "Epoch 88/100\n",
            "4/4 [==============================] - 0s 12ms/step - loss: 0.0779 - accuracy: 0.9658 - val_loss: 0.0905 - val_accuracy: 1.0000\n",
            "Epoch 89/100\n",
            "4/4 [==============================] - 0s 13ms/step - loss: 0.0726 - accuracy: 0.9762 - val_loss: 0.1031 - val_accuracy: 0.9667\n",
            "Epoch 90/100\n",
            "4/4 [==============================] - 0s 14ms/step - loss: 0.0709 - accuracy: 0.9819 - val_loss: 0.0955 - val_accuracy: 0.9667\n",
            "Epoch 91/100\n",
            "4/4 [==============================] - 0s 13ms/step - loss: 0.0969 - accuracy: 0.9596 - val_loss: 0.0901 - val_accuracy: 1.0000\n",
            "Epoch 92/100\n",
            "4/4 [==============================] - 0s 14ms/step - loss: 0.0925 - accuracy: 0.9671 - val_loss: 0.1029 - val_accuracy: 0.9667\n",
            "Epoch 93/100\n",
            "4/4 [==============================] - 0s 13ms/step - loss: 0.0792 - accuracy: 0.9713 - val_loss: 0.0945 - val_accuracy: 0.9667\n",
            "Epoch 94/100\n",
            "4/4 [==============================] - 0s 13ms/step - loss: 0.0999 - accuracy: 0.9565 - val_loss: 0.0914 - val_accuracy: 0.9667\n",
            "Epoch 95/100\n",
            "4/4 [==============================] - 0s 12ms/step - loss: 0.0755 - accuracy: 0.9829 - val_loss: 0.0923 - val_accuracy: 0.9667\n",
            "Epoch 96/100\n",
            "4/4 [==============================] - 0s 13ms/step - loss: 0.0736 - accuracy: 0.9775 - val_loss: 0.0952 - val_accuracy: 0.9667\n",
            "Epoch 97/100\n",
            "4/4 [==============================] - 0s 13ms/step - loss: 0.0876 - accuracy: 0.9798 - val_loss: 0.0885 - val_accuracy: 1.0000\n",
            "Epoch 98/100\n",
            "4/4 [==============================] - 0s 12ms/step - loss: 0.0697 - accuracy: 0.9892 - val_loss: 0.0867 - val_accuracy: 1.0000\n",
            "Epoch 99/100\n",
            "4/4 [==============================] - 0s 12ms/step - loss: 0.0678 - accuracy: 0.9752 - val_loss: 0.0850 - val_accuracy: 1.0000\n",
            "Epoch 100/100\n",
            "4/4 [==============================] - 0s 12ms/step - loss: 0.0801 - accuracy: 0.9648 - val_loss: 0.0862 - val_accuracy: 1.0000\n"
          ],
          "name": "stdout"
        }
      ]
    },
    {
      "cell_type": "code",
      "metadata": {
        "colab": {
          "base_uri": "https://localhost:8080/",
          "height": 483
        },
        "id": "pL4TXlRmwCov",
        "outputId": "068b99a7-c700-402a-f085-725378ab9d51"
      },
      "source": [
        "plt.figure(figsize=(12,8))\n",
        "plt.plot(history.history['loss'])\n",
        "plt.plot(history.history['val_loss'])\n",
        "plt.plot(history.history['accuracy'])\n",
        "plt.plot(history.history['val_accuracy'])\n",
        "plt.legend(['loss','val_loss', 'accuracy','val_accuracy'])\n",
        "plt.grid()\n",
        "plt.show()"
      ],
      "execution_count": 43,
      "outputs": [
        {
          "output_type": "display_data",
          "data": {
            "image/png": "[encoded data removed]",
            "text/plain": [
              "<Figure size 864x576 with 1 Axes>"
            ]
          },
          "metadata": {
            "tags": [],
            "needs_background": "light"
          }
        }
      ]
    },
    {
      "cell_type": "code",
      "metadata": {
        "colab": {
          "base_uri": "https://localhost:8080/"
        },
        "id": "21C2pgvZwFc3",
        "outputId": "b499ff8c-f2e5-40d2-a007-423b6632d6fc"
      },
      "source": [
        "result = model.evaluate(X_test , y_test) \n",
        "print(model.metrics_names)\n",
        "print('loss' , result[0])\n",
        "print('acc' , result[1])\n"
      ],
      "execution_count": 45,
      "outputs": [
        {
          "output_type": "stream",
          "text": [
            "1/1 [==============================] - 0s 17ms/step - loss: 0.0862 - accuracy: 1.0000\n",
            "['loss', 'accuracy']\n",
            "loss 0.08624251186847687\n",
            "acc 1.0\n"
          ],
          "name": "stdout"
        }
      ]
    },
    {
      "cell_type": "code",
      "metadata": {
        "id": "1vK93jUpw2m0"
      },
      "source": [
        ""
      ],
      "execution_count": null,
      "outputs": []
    }
  ]
}