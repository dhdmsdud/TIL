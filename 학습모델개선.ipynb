{
  "nbformat": 4,
  "nbformat_minor": 0,
  "metadata": {
    "colab": {
      "name": "학습모델개선.ipynb",
      "provenance": [],
      "authorship_tag": "ABX9TyNiHPhA6a/InXUQAmwkCS+x",
      "include_colab_link": true
    },
    "kernelspec": {
      "name": "python3",
      "display_name": "Python 3"
    },
    "language_info": {
      "name": "python"
    },
    "accelerator": "GPU"
  },
  "cells": [
    {
      "cell_type": "markdown",
      "metadata": {
        "id": "view-in-github",
        "colab_type": "text"
      },
      "source": [
        "<a href=\"https://colab.research.google.com/github/dhdmsdud/TIL/blob/master/%ED%95%99%EC%8A%B5%EB%AA%A8%EB%8D%B8%EA%B0%9C%EC%84%A0.ipynb\" target=\"_parent\"><img src=\"https://colab.research.google.com/assets/colab-badge.svg\" alt=\"Open In Colab\"/></a>"
      ]
    },
    {
      "cell_type": "code",
      "metadata": {
        "id": "DiwGSn9ClQl7"
      },
      "source": [
        "from tensorflow.keras.datasets   import boston_housing\n",
        "from tensorflow.keras.models     import Sequential \n",
        "from tensorflow.keras.layers     import Activation , Dense, BatchNormalization, Dropout\n",
        "from tensorflow.keras.optimizers import SGD , Adam\n",
        "from tensorflow.keras.utils      import plot_model, to_categorical \n",
        "from tensorflow.keras.callbacks  import EarlyStopping, ModelCheckpoint\n",
        "\n",
        "\n",
        "from sklearn.model_selection     import train_test_split\n",
        "from sklearn.preprocessing       import StandardScaler , MinMaxScaler , LabelEncoder\n",
        "from sklearn.datasets            import load_breast_cancer\n",
        "from sklearn.model_selection     import KFold\n",
        "\n",
        "\n",
        "import matplotlib.pyplot as plt\n",
        "\n",
        "import pandas  as pd\n",
        "import numpy   as np\n",
        "import seaborn as sns"
      ],
      "execution_count": 57,
      "outputs": []
    },
    {
      "cell_type": "markdown",
      "metadata": {
        "id": "4xD_iFIkng8-"
      },
      "source": [
        "- Weight initialization\n",
        "- Activation function\n",
        "- Optimizer"
      ]
    },
    {
      "cell_type": "code",
      "metadata": {
        "id": "w6Gbqfkqn2um"
      },
      "source": [
        "from tensorflow.keras.datasets.mnist import load_data"
      ],
      "execution_count": 2,
      "outputs": []
    },
    {
      "cell_type": "code",
      "metadata": {
        "colab": {
          "base_uri": "https://localhost:8080/"
        },
        "id": "ccvJ1Aqfneu2",
        "outputId": "e3c184d9-8263-41d5-cbb6-7c9799810cca"
      },
      "source": [
        "(X_train, y_train), (X_test, y_test) = load_data()\n",
        "X_train.shape, y_train.shape,X_test.shape, y_test.shape"
      ],
      "execution_count": 3,
      "outputs": [
        {
          "output_type": "stream",
          "text": [
            "Downloading data from https://storage.googleapis.com/tensorflow/tf-keras-datasets/mnist.npz\n",
            "11493376/11490434 [==============================] - 0s 0us/step\n"
          ],
          "name": "stdout"
        },
        {
          "output_type": "execute_result",
          "data": {
            "text/plain": [
              "((60000, 28, 28), (60000,), (10000, 28, 28), (10000,))"
            ]
          },
          "metadata": {
            "tags": []
          },
          "execution_count": 3
        }
      ]
    },
    {
      "cell_type": "code",
      "metadata": {
        "colab": {
          "base_uri": "https://localhost:8080/"
        },
        "id": "SsrH1hX3rslX",
        "outputId": "f1642037-c4e8-45c6-a508-35b89bd400dc"
      },
      "source": [
        "X_train[0].shape"
      ],
      "execution_count": 4,
      "outputs": [
        {
          "output_type": "execute_result",
          "data": {
            "text/plain": [
              "(28, 28)"
            ]
          },
          "metadata": {
            "tags": []
          },
          "execution_count": 4
        }
      ]
    },
    {
      "cell_type": "code",
      "metadata": {
        "colab": {
          "base_uri": "https://localhost:8080/",
          "height": 282
        },
        "id": "NJzago3dpkym",
        "outputId": "f75c6de8-1003-4ee8-cd40-48a9094b7d39"
      },
      "source": [
        "plt.imshow(X_train[0])\n",
        "print('target -->', y_train[0])"
      ],
      "execution_count": 5,
      "outputs": [
        {
          "output_type": "stream",
          "text": [
            "target --> 5\n"
          ],
          "name": "stdout"
        },
        {
          "output_type": "display_data",
          "data": {
            "image/png": "[encoded data removed]",
            "text/plain": [
              "<Figure size 432x288 with 1 Axes>"
            ]
          },
          "metadata": {
            "tags": [],
            "needs_background": "light"
          }
        }
      ]
    },
    {
      "cell_type": "code",
      "metadata": {
        "id": "VE5C9a5Ip4uM"
      },
      "source": [
        "# 1차원으로 reshape\n",
        "X_train = X_train.reshape(60000, 28*28)\n",
        "X_test  = X_test.reshape(10000, 784)"
      ],
      "execution_count": 6,
      "outputs": []
    },
    {
      "cell_type": "code",
      "metadata": {
        "colab": {
          "base_uri": "https://localhost:8080/"
        },
        "id": "CxbNrlIhrcki",
        "outputId": "43b67e62-3c23-434d-faf8-dfe8bb0f9624"
      },
      "source": [
        "X_train[0].shape"
      ],
      "execution_count": 7,
      "outputs": [
        {
          "output_type": "execute_result",
          "data": {
            "text/plain": [
              "(784,)"
            ]
          },
          "metadata": {
            "tags": []
          },
          "execution_count": 7
        }
      ]
    },
    {
      "cell_type": "code",
      "metadata": {
        "id": "MJKRj_aUriQc"
      },
      "source": [
        "y_train = to_categorical(y_train, 10)\n",
        "y_test = to_categorical(y_test, 10)"
      ],
      "execution_count": 8,
      "outputs": []
    },
    {
      "cell_type": "code",
      "metadata": {
        "colab": {
          "base_uri": "https://localhost:8080/"
        },
        "id": "PeyDtUOdsBrW",
        "outputId": "c51aca23-de81-412f-9b72-73f9e4d88949"
      },
      "source": [
        "y_train[0]"
      ],
      "execution_count": 9,
      "outputs": [
        {
          "output_type": "execute_result",
          "data": {
            "text/plain": [
              "array([0., 0., 0., 0., 0., 1., 0., 0., 0., 0.], dtype=float32)"
            ]
          },
          "metadata": {
            "tags": []
          },
          "execution_count": 9
        }
      ]
    },
    {
      "cell_type": "code",
      "metadata": {
        "id": "cApDWQ3euBmp"
      },
      "source": [
        "X_train, _, y_train, _ = train_test_split(X_train, y_train, test_size=0.7, random_state=100)"
      ],
      "execution_count": 10,
      "outputs": []
    },
    {
      "cell_type": "code",
      "metadata": {
        "colab": {
          "base_uri": "https://localhost:8080/"
        },
        "id": "oSwpKIxDuroT",
        "outputId": "d1118acb-3426-498f-e15b-237112a4b622"
      },
      "source": [
        "X_train.shape, y_train.shape, X_test.shape, y_test.shape"
      ],
      "execution_count": 11,
      "outputs": [
        {
          "output_type": "execute_result",
          "data": {
            "text/plain": [
              "((18000, 784), (18000, 10), (10000, 784), (10000, 10))"
            ]
          },
          "metadata": {
            "tags": []
          },
          "execution_count": 11
        }
      ]
    },
    {
      "cell_type": "code",
      "metadata": {
        "id": "yd1qguG0uulK"
      },
      "source": [
        "def get_model() :\n",
        "\n",
        "    model = Sequential()\n",
        "    model.add(Dense(50, activation='sigmoid',input_shape=(784,)))\n",
        "\n",
        "    model.add(Dense(50, activation='sigmoid'))\n",
        "    model.add(Dense(50 ,activation='sigmoid'))\n",
        "    model.add(Dense(50 ,activation='sigmoid'))\n",
        "\n",
        "    model.add(Dense(10 ,activation='softmax'))\n",
        "\n",
        "    return model"
      ],
      "execution_count": 12,
      "outputs": []
    },
    {
      "cell_type": "code",
      "metadata": {
        "id": "hdKUYd9dzbrQ"
      },
      "source": [
        "model = get_model()\n",
        "\n",
        "optimizer = SGD(learning_rate=0.01)\n",
        "\n",
        "model.compile(optimizer = optimizer,\n",
        "              loss      = 'categorical_crossentropy',\n",
        "              metrics   = ['accuracy'])"
      ],
      "execution_count": 13,
      "outputs": []
    },
    {
      "cell_type": "code",
      "metadata": {
        "id": "eSpQjoB6zshh"
      },
      "source": [
        "model.summary()"
      ],
      "execution_count": null,
      "outputs": []
    },
    {
      "cell_type": "code",
      "metadata": {
        "id": "Mt69EvlWz4sb"
      },
      "source": [
        "history = model.fit(X_train, y_train, batch_size=256, validation_split=0.3, epochs=100, verbose=1)"
      ],
      "execution_count": null,
      "outputs": []
    },
    {
      "cell_type": "code",
      "metadata": {
        "colab": {
          "base_uri": "https://localhost:8080/"
        },
        "id": "4P-1JHRt1Jom",
        "outputId": "04ed44c2-a3ea-4397-8052-76dfbff1d9cc"
      },
      "source": [
        "history.history.keys()"
      ],
      "execution_count": 16,
      "outputs": [
        {
          "output_type": "execute_result",
          "data": {
            "text/plain": [
              "dict_keys(['loss', 'accuracy', 'val_loss', 'val_accuracy'])"
            ]
          },
          "metadata": {
            "tags": []
          },
          "execution_count": 16
        }
      ]
    },
    {
      "cell_type": "code",
      "metadata": {
        "colab": {
          "base_uri": "https://localhost:8080/",
          "height": 265
        },
        "id": "SH43Ipbp1dKW",
        "outputId": "33cb17c2-b335-41d5-8fde-42f675a4b483"
      },
      "source": [
        "plt.plot(history.history['accuracy'])\n",
        "plt.plot(history.history['val_accuracy'])\n",
        "plt.legend(['train', 'val'], loc='best')\n",
        "plt.show()"
      ],
      "execution_count": 17,
      "outputs": [
        {
          "output_type": "display_data",
          "data": {
            "image/png": "[encoded data removed]",
            "text/plain": [
              "<Figure size 432x288 with 1 Axes>"
            ]
          },
          "metadata": {
            "tags": [],
            "needs_background": "light"
          }
        }
      ]
    },
    {
      "cell_type": "code",
      "metadata": {
        "colab": {
          "base_uri": "https://localhost:8080/"
        },
        "id": "PwSktXXk1yPp",
        "outputId": "87554d93-2cc0-4dee-ea2d-25d907de8824"
      },
      "source": [
        "result = model.evaluate(X_test, y_test)\n",
        "print('test accuracy', result[1])"
      ],
      "execution_count": 18,
      "outputs": [
        {
          "output_type": "stream",
          "text": [
            "313/313 [==============================] - 1s 2ms/step - loss: 2.2607 - accuracy: 0.1718\n",
            "test accuracy 0.17180000245571136\n"
          ],
          "name": "stdout"
        }
      ]
    },
    {
      "cell_type": "markdown",
      "metadata": {
        "id": "JiyaW6mw3K9z"
      },
      "source": [
        "### Resnet --> he_normal\n",
        "- 가중치를 초기화함"
      ]
    },
    {
      "cell_type": "code",
      "metadata": {
        "id": "fFs0mcAc2ILO"
      },
      "source": [
        "def improve_get_model() :\n",
        "\n",
        "    model = Sequential()\n",
        "    model.add(Dense(50, activation='sigmoid',input_shape=(784,) ,kernel_initializer='he_normal'))\n",
        "\n",
        "    model.add(Dense(50, activation='sigmoid',kernel_initializer='he_normal'))\n",
        "    model.add(Dense(50 ,activation='sigmoid',kernel_initializer='he_normal'))\n",
        "    model.add(Dense(50 ,activation='sigmoid',kernel_initializer='he_normal'))\n",
        "\n",
        "    model.add(Dense(10 ,activation='softmax'))\n",
        "\n",
        "    return model"
      ],
      "execution_count": 19,
      "outputs": []
    },
    {
      "cell_type": "code",
      "metadata": {
        "id": "yZTwxnAa3_RG"
      },
      "source": [
        "model = improve_get_model()\n",
        "\n",
        "optimizer = SGD(learning_rate=0.01)\n",
        "\n",
        "model.compile(optimizer = optimizer,\n",
        "              loss      = 'categorical_crossentropy',\n",
        "              metrics   = ['accuracy'])"
      ],
      "execution_count": 20,
      "outputs": []
    },
    {
      "cell_type": "code",
      "metadata": {
        "id": "P_7HWzFf4GKf"
      },
      "source": [
        "model.summary()"
      ],
      "execution_count": null,
      "outputs": []
    },
    {
      "cell_type": "code",
      "metadata": {
        "id": "t5X0_m6q4L21"
      },
      "source": [
        "history = model.fit(X_train, y_train, batch_size=256, validation_split=0.3, epochs=100, verbose=1)"
      ],
      "execution_count": null,
      "outputs": []
    },
    {
      "cell_type": "code",
      "metadata": {
        "colab": {
          "base_uri": "https://localhost:8080/",
          "height": 265
        },
        "id": "-qfG-kSy4Qvo",
        "outputId": "8a682888-7c9a-4cae-b66c-39bc37ef3fe3"
      },
      "source": [
        "plt.plot(history.history['accuracy'])\n",
        "plt.plot(history.history['val_accuracy'])\n",
        "plt.legend(['train', 'val'], loc='best')\n",
        "plt.show()"
      ],
      "execution_count": 23,
      "outputs": [
        {
          "output_type": "display_data",
          "data": {
            "image/png": "[encoded data removed]",
            "text/plain": [
              "<Figure size 432x288 with 1 Axes>"
            ]
          },
          "metadata": {
            "tags": [],
            "needs_background": "light"
          }
        }
      ]
    },
    {
      "cell_type": "code",
      "metadata": {
        "colab": {
          "base_uri": "https://localhost:8080/"
        },
        "id": "46avrcNF4cGa",
        "outputId": "30f4f72b-0bae-40d9-8bab-7e07b64a7b24"
      },
      "source": [
        "result = model.evaluate(X_test, y_test)\n",
        "print('test accuracy', result[1])"
      ],
      "execution_count": 24,
      "outputs": [
        {
          "output_type": "stream",
          "text": [
            "313/313 [==============================] - 1s 2ms/step - loss: 1.8967 - accuracy: 0.4093\n",
            "test accuracy 0.4092999994754791\n"
          ],
          "name": "stdout"
        }
      ]
    },
    {
      "cell_type": "markdown",
      "metadata": {
        "id": "iwuH1tbB6zRc"
      },
      "source": [
        "### relu"
      ]
    },
    {
      "cell_type": "code",
      "metadata": {
        "id": "HBqY0UEK4mIr"
      },
      "source": [
        "def improve_activation_get_model() :\n",
        "\n",
        "    model = Sequential()\n",
        "    model.add(Dense(50, activation='relu',input_shape=(784,)))\n",
        "\n",
        "    model.add(Dense(50, activation='relu'))\n",
        "    model.add(Dense(50 ,activation='relu'))\n",
        "    model.add(Dense(50 ,activation='relu'))\n",
        "\n",
        "    model.add(Dense(10 ,activation='softmax'))\n",
        "\n",
        "    return model"
      ],
      "execution_count": 25,
      "outputs": []
    },
    {
      "cell_type": "code",
      "metadata": {
        "id": "A4yDU3qg6kgL"
      },
      "source": [
        "model = improve_activation_get_model()\n",
        "\n",
        "optimizer = SGD(learning_rate=0.01)\n",
        "\n",
        "model.compile(optimizer = optimizer,\n",
        "              loss      = 'categorical_crossentropy',\n",
        "              metrics   = ['accuracy'])"
      ],
      "execution_count": 26,
      "outputs": []
    },
    {
      "cell_type": "code",
      "metadata": {
        "id": "OgO-CXLT6uXO"
      },
      "source": [
        "history = model.fit(X_train, y_train, batch_size=256, validation_split=0.3, epochs=100, verbose=1)"
      ],
      "execution_count": null,
      "outputs": []
    },
    {
      "cell_type": "code",
      "metadata": {
        "colab": {
          "base_uri": "https://localhost:8080/",
          "height": 265
        },
        "id": "RLTi3M1u6xmj",
        "outputId": "c610662c-e3ec-4783-b531-0962dcf26b0c"
      },
      "source": [
        "plt.plot(history.history['accuracy'])\n",
        "plt.plot(history.history['val_accuracy'])\n",
        "plt.legend(['train', 'val'], loc='best')\n",
        "plt.show()"
      ],
      "execution_count": 28,
      "outputs": [
        {
          "output_type": "display_data",
          "data": {
            "image/png": "[encoded data removed]",
            "text/plain": [
              "<Figure size 432x288 with 1 Axes>"
            ]
          },
          "metadata": {
            "tags": [],
            "needs_background": "light"
          }
        }
      ]
    },
    {
      "cell_type": "code",
      "metadata": {
        "colab": {
          "base_uri": "https://localhost:8080/"
        },
        "id": "8Li0_QV17L2j",
        "outputId": "3172b966-b390-4e5a-e5d3-755bbbd4491d"
      },
      "source": [
        "result = model.evaluate(X_test, y_test)\n",
        "print('test accuracy', result[1])"
      ],
      "execution_count": 29,
      "outputs": [
        {
          "output_type": "stream",
          "text": [
            "313/313 [==============================] - 1s 2ms/step - loss: 1.8124 - accuracy: 0.3107\n",
            "test accuracy 0.310699999332428\n"
          ],
          "name": "stdout"
        }
      ]
    },
    {
      "cell_type": "markdown",
      "metadata": {
        "id": "8l9unLMC7gVn"
      },
      "source": [
        "### Adam"
      ]
    },
    {
      "cell_type": "code",
      "metadata": {
        "id": "0VsYIo_e8e4-"
      },
      "source": [
        "def improve_optimizer_get_model() :\n",
        "\n",
        "    model = Sequential()\n",
        "    model.add(Dense(50, activation='sigmoid',input_shape=(784,)))\n",
        "\n",
        "    model.add(Dense(50, activation='sigmoid'))\n",
        "    model.add(Dense(50 ,activation='sigmoid'))\n",
        "    model.add(Dense(50 ,activation='sigmoid'))\n",
        "\n",
        "    model.add(Dense(10 ,activation='softmax'))\n",
        "\n",
        "    return model"
      ],
      "execution_count": 30,
      "outputs": []
    },
    {
      "cell_type": "code",
      "metadata": {
        "id": "NfFnkdxh8rki"
      },
      "source": [
        "model = improve_optimizer_get_model()\n",
        "\n",
        "optimizer = Adam(learning_rate=0.01)\n",
        "\n",
        "model.compile(optimizer = optimizer,\n",
        "              loss      = 'categorical_crossentropy',\n",
        "              metrics   = ['accuracy'])"
      ],
      "execution_count": 31,
      "outputs": []
    },
    {
      "cell_type": "code",
      "metadata": {
        "id": "0Daau24A85kz"
      },
      "source": [
        "history = model.fit(X_train, y_train, batch_size=256, validation_split=0.3, epochs=100, verbose=1)"
      ],
      "execution_count": null,
      "outputs": []
    },
    {
      "cell_type": "code",
      "metadata": {
        "colab": {
          "base_uri": "https://localhost:8080/",
          "height": 265
        },
        "id": "R4bUedrX9BKA",
        "outputId": "1efac68d-5c3c-44cb-9e55-2d9ddbc2576a"
      },
      "source": [
        "plt.plot(history.history['accuracy'])\n",
        "plt.plot(history.history['val_accuracy'])\n",
        "plt.legend(['train', 'val'], loc='best')\n",
        "plt.show()"
      ],
      "execution_count": 33,
      "outputs": [
        {
          "output_type": "display_data",
          "data": {
            "image/png": "[encoded data removed]",
            "text/plain": [
              "<Figure size 432x288 with 1 Axes>"
            ]
          },
          "metadata": {
            "tags": [],
            "needs_background": "light"
          }
        }
      ]
    },
    {
      "cell_type": "code",
      "metadata": {
        "colab": {
          "base_uri": "https://localhost:8080/"
        },
        "id": "RiONqm7T9HRR",
        "outputId": "e0b046ea-d0ef-4701-b113-3e28de1592d2"
      },
      "source": [
        "result = model.evaluate(X_test, y_test)\n",
        "print('test accuracy', result[1])"
      ],
      "execution_count": 34,
      "outputs": [
        {
          "output_type": "stream",
          "text": [
            "313/313 [==============================] - 1s 2ms/step - loss: 0.4876 - accuracy: 0.8398\n",
            "test accuracy 0.8398000001907349\n"
          ],
          "name": "stdout"
        }
      ]
    },
    {
      "cell_type": "markdown",
      "metadata": {
        "id": "SCVPrAZk9KwS"
      },
      "source": [
        "### 배치 정규화\n",
        "- 평균 : 0, 분산 : 1인 정규화를 통해 학습이 잘 알어나도록 도와주는 방식\n",
        "- 각 피쳐마다 배치정규화 진행"
      ]
    },
    {
      "cell_type": "code",
      "metadata": {
        "id": "NEjw3QynCwlP"
      },
      "source": [
        "def normalization_get_model() :\n",
        "\n",
        "    model = Sequential()\n",
        "    model.add(Dense(50, input_shape=(784,)))\n",
        "    model.add(BatchNormalization())\n",
        "    model.add(Activation('sigmoid'))\n",
        "\n",
        "    model.add(Dense(50))\n",
        "    model.add(BatchNormalization())\n",
        "    model.add(Activation('sigmoid'))\n",
        "\n",
        "    model.add(Dense(50))\n",
        "    model.add(BatchNormalization())\n",
        "    model.add(Activation('sigmoid'))\n",
        "\n",
        "    model.add(Dense(50))\n",
        "    model.add(BatchNormalization())\n",
        "    model.add(Activation('sigmoid'))\n",
        "\n",
        "    model.add(Dense(10, activation='softmax'))\n",
        "\n",
        "    optimizer = Adam(learning_rate=0.01)\n",
        "\n",
        "    model.compile(optimizer = optimizer,\n",
        "              loss      = 'categorical_crossentropy',\n",
        "              metrics   = ['accuracy'])\n",
        "\n",
        "    return model"
      ],
      "execution_count": 43,
      "outputs": []
    },
    {
      "cell_type": "code",
      "metadata": {
        "id": "fHj4xbl0D8TR"
      },
      "source": [
        "model = normalization_get_model()\n",
        "model.summary()"
      ],
      "execution_count": null,
      "outputs": []
    },
    {
      "cell_type": "code",
      "metadata": {
        "id": "ilWKC-J_EIta"
      },
      "source": [
        "history = model.fit(X_train, y_train, validation_split=0.3, epochs=100, verbose=1)"
      ],
      "execution_count": null,
      "outputs": []
    },
    {
      "cell_type": "code",
      "metadata": {
        "colab": {
          "base_uri": "https://localhost:8080/"
        },
        "id": "CrM1DR3iEQmM",
        "outputId": "00f66f9c-c16b-4733-b637-7722819493ff"
      },
      "source": [
        "result = model.evaluate(X_test, y_test)\n",
        "print('test accuracy', result[1])"
      ],
      "execution_count": 46,
      "outputs": [
        {
          "output_type": "stream",
          "text": [
            "313/313 [==============================] - 1s 2ms/step - loss: 0.2271 - accuracy: 0.9618\n",
            "test accuracy 0.9617999792098999\n"
          ],
          "name": "stdout"
        }
      ]
    },
    {
      "cell_type": "markdown",
      "metadata": {
        "id": "KL_KOzwkFRxF"
      },
      "source": [
        "### dropout, earlystopping"
      ]
    },
    {
      "cell_type": "code",
      "metadata": {
        "id": "pGd9srqkF-KD"
      },
      "source": [
        "def dropout_get_model() :\n",
        "\n",
        "    model = Sequential()\n",
        "    model.add(Dense(50, input_shape=(784,)))\n",
        "    model.add(Activation('sigmoid'))\n",
        "    model.add(Dropout(0.2))\n",
        "\n",
        "    model.add(Dense(50))\n",
        "    model.add(Activation('sigmoid'))\n",
        "    model.add(Dropout(0.2))\n",
        "\n",
        "    model.add(Dense(50))\n",
        "    model.add(Activation('sigmoid'))\n",
        "    model.add(Dropout(0.2))\n",
        "\n",
        "    model.add(Dense(50))\n",
        "    model.add(Activation('sigmoid'))\n",
        "    model.add(Dropout(0.2))\n",
        "\n",
        "    model.add(Dense(10, activation='softmax'))\n",
        "\n",
        "    optimizer = Adam(learning_rate=0.01)\n",
        "\n",
        "    model.compile(optimizer = optimizer,\n",
        "              loss      = 'categorical_crossentropy',\n",
        "              metrics   = ['accuracy'])\n",
        "\n",
        "    return model"
      ],
      "execution_count": 49,
      "outputs": []
    },
    {
      "cell_type": "code",
      "metadata": {
        "id": "XMD7Izr4HDtP"
      },
      "source": [
        "model = dropout_get_model()"
      ],
      "execution_count": 50,
      "outputs": []
    },
    {
      "cell_type": "code",
      "metadata": {
        "id": "Fh_gl4L3HLsu"
      },
      "source": [
        "history = model.fit(X_train, y_train, validation_split=0.3, epochs=100, verbose=1)"
      ],
      "execution_count": null,
      "outputs": []
    },
    {
      "cell_type": "code",
      "metadata": {
        "colab": {
          "base_uri": "https://localhost:8080/"
        },
        "id": "8CqHONGEHPDA",
        "outputId": "26e51a18-d333-4787-97a8-6d2af2299b69"
      },
      "source": [
        "result = model.evaluate(X_test, y_test)\n",
        "print('test accuracy', result[1])"
      ],
      "execution_count": 52,
      "outputs": [
        {
          "output_type": "stream",
          "text": [
            "313/313 [==============================] - 1s 2ms/step - loss: 0.9537 - accuracy: 0.6742\n",
            "test accuracy 0.6741999983787537\n"
          ],
          "name": "stdout"
        }
      ]
    },
    {
      "cell_type": "code",
      "metadata": {
        "id": "rn_TfoenH1gd"
      },
      "source": [
        "def dropout_batch_get_model() :\n",
        "\n",
        "    model = Sequential()\n",
        "    model.add(Dense(50, input_shape=(784,)))\n",
        "    model.add(BatchNormalization())\n",
        "    model.add(Activation('sigmoid'))\n",
        "    model.add(Dropout(0.2))\n",
        "\n",
        "    model.add(Dense(50))\n",
        "    model.add(BatchNormalization())\n",
        "    model.add(Activation('sigmoid'))\n",
        "    model.add(Dropout(0.2))\n",
        "\n",
        "    model.add(Dense(50))\n",
        "    model.add(BatchNormalization())\n",
        "    model.add(Activation('sigmoid'))\n",
        "    model.add(Dropout(0.2))\n",
        "\n",
        "    model.add(Dense(50))\n",
        "    model.add(BatchNormalization())\n",
        "    model.add(Activation('sigmoid'))\n",
        "    model.add(Dropout(0.2))\n",
        "\n",
        "    model.add(Dense(10, activation='softmax'))\n",
        "\n",
        "    optimizer = Adam(learning_rate=0.01)\n",
        "\n",
        "    model.compile(optimizer = optimizer,\n",
        "              loss      = 'categorical_crossentropy',\n",
        "              metrics   = ['accuracy'])\n",
        "\n",
        "    return model"
      ],
      "execution_count": 53,
      "outputs": []
    },
    {
      "cell_type": "code",
      "metadata": {
        "id": "kWQd8p2bIUkh"
      },
      "source": [
        "model = dropout_batch_get_model()"
      ],
      "execution_count": 54,
      "outputs": []
    },
    {
      "cell_type": "code",
      "metadata": {
        "id": "LQY31MvlIYPz"
      },
      "source": [
        "history = model.fit(X_train, y_train, validation_split=0.3, epochs=100, verbose=1)"
      ],
      "execution_count": null,
      "outputs": []
    },
    {
      "cell_type": "code",
      "metadata": {
        "colab": {
          "base_uri": "https://localhost:8080/"
        },
        "id": "cLWHOEqhIZx_",
        "outputId": "e3f85126-4fbe-4503-da67-60eb0900a417"
      },
      "source": [
        "result = model.evaluate(X_test, y_test)\n",
        "print('test accuracy', result[1])"
      ],
      "execution_count": 56,
      "outputs": [
        {
          "output_type": "stream",
          "text": [
            "313/313 [==============================] - 1s 2ms/step - loss: 0.1704 - accuracy: 0.9576\n",
            "test accuracy 0.9575999975204468\n"
          ],
          "name": "stdout"
        }
      ]
    },
    {
      "cell_type": "code",
      "metadata": {
        "id": "YGda4e9xJNO-"
      },
      "source": [
        "def dropout_early_get_model() :\n",
        "\n",
        "    model = Sequential()\n",
        "    model.add(Dense(50, input_shape=(784,)))\n",
        "    model.add(Activation('sigmoid'))\n",
        "    model.add(Dropout(0.2))\n",
        "\n",
        "    model.add(Dense(50))\n",
        "    model.add(Activation('sigmoid'))\n",
        "    model.add(Dropout(0.2))\n",
        "\n",
        "    model.add(Dense(50))\n",
        "    model.add(Activation('sigmoid'))\n",
        "    model.add(Dropout(0.2))\n",
        "\n",
        "    model.add(Dense(50))\n",
        "    model.add(Activation('sigmoid'))\n",
        "    model.add(Dropout(0.2))\n",
        "\n",
        "    model.add(Dense(10, activation='softmax'))\n",
        "\n",
        "    optimizer = Adam(learning_rate=0.01)\n",
        "\n",
        "    model.compile(optimizer = optimizer,\n",
        "              loss      = 'categorical_crossentropy',\n",
        "              metrics   = ['accuracy'])\n",
        "\n",
        "    return model"
      ],
      "execution_count": 59,
      "outputs": []
    },
    {
      "cell_type": "code",
      "metadata": {
        "id": "8M4z3BG5J4kI"
      },
      "source": [
        "model = dropout_early_get_model()"
      ],
      "execution_count": 60,
      "outputs": []
    },
    {
      "cell_type": "code",
      "metadata": {
        "colab": {
          "base_uri": "https://localhost:8080/"
        },
        "id": "aOcIM_NJJ-1-",
        "outputId": "26a3736c-e98e-4839-c708-b032babaa739"
      },
      "source": [
        "callbacks = [EarlyStopping(monitor='val_accuracy', patience=3)]\n",
        "history = model.fit(X_train, y_train, validation_split=0.3, epochs=100, verbose=1, callbacks=callbacks)"
      ],
      "execution_count": 61,
      "outputs": [
        {
          "output_type": "stream",
          "text": [
            "Epoch 1/100\n",
            "394/394 [==============================] - 2s 4ms/step - loss: 2.2327 - accuracy: 0.1438 - val_loss: 1.7956 - val_accuracy: 0.2772\n",
            "Epoch 2/100\n",
            "394/394 [==============================] - 1s 3ms/step - loss: 1.8951 - accuracy: 0.2641 - val_loss: 1.8245 - val_accuracy: 0.2844\n",
            "Epoch 3/100\n",
            "394/394 [==============================] - 1s 3ms/step - loss: 1.8698 - accuracy: 0.2630 - val_loss: 1.6517 - val_accuracy: 0.3444\n",
            "Epoch 4/100\n",
            "394/394 [==============================] - 1s 3ms/step - loss: 1.7256 - accuracy: 0.3035 - val_loss: 1.4799 - val_accuracy: 0.4426\n",
            "Epoch 5/100\n",
            "394/394 [==============================] - 1s 3ms/step - loss: 1.7179 - accuracy: 0.3577 - val_loss: 1.5147 - val_accuracy: 0.4444\n",
            "Epoch 6/100\n",
            "394/394 [==============================] - 1s 3ms/step - loss: 1.7452 - accuracy: 0.3527 - val_loss: 1.6728 - val_accuracy: 0.3883\n",
            "Epoch 7/100\n",
            "394/394 [==============================] - 1s 3ms/step - loss: 1.8994 - accuracy: 0.3007 - val_loss: 1.5252 - val_accuracy: 0.4331\n",
            "Epoch 8/100\n",
            "394/394 [==============================] - 1s 3ms/step - loss: 1.7447 - accuracy: 0.3485 - val_loss: 1.5051 - val_accuracy: 0.4137\n"
          ],
          "name": "stdout"
        }
      ]
    },
    {
      "cell_type": "code",
      "metadata": {
        "id": "9AkgRZOWKRxP"
      },
      "source": [
        ""
      ],
      "execution_count": 64,
      "outputs": []
    },
    {
      "cell_type": "code",
      "metadata": {
        "id": "gWUW0HHiKkDR"
      },
      "source": [
        ""
      ],
      "execution_count": null,
      "outputs": []
    }
  ]
}