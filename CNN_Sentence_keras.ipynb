{
  "nbformat": 4,
  "nbformat_minor": 0,
  "metadata": {
    "colab": {
      "name": "CNN_Sentence_keras.ipynb",
      "provenance": [],
      "authorship_tag": "ABX9TyMg2TlD9fmxglzZ5x0OmsTy",
      "include_colab_link": true
    },
    "kernelspec": {
      "name": "python3",
      "display_name": "Python 3"
    },
    "language_info": {
      "name": "python"
    },
    "accelerator": "GPU"
  },
  "cells": [
    {
      "cell_type": "markdown",
      "metadata": {
        "id": "view-in-github",
        "colab_type": "text"
      },
      "source": [
        "<a href=\"https://colab.research.google.com/github/dhdmsdud/TIL/blob/master/CNN_Sentence_keras.ipynb\" target=\"_parent\"><img src=\"https://colab.research.google.com/assets/colab-badge.svg\" alt=\"Open In Colab\"/></a>"
      ]
    },
    {
      "cell_type": "markdown",
      "metadata": {
        "id": "eYmU2NFg6iAO"
      },
      "source": [
        "### CNN을 이용한 문장분류(classification)\n",
        "- 각 단어가 행으로, 행의 길이는 제일 긴 단어의 길이로 맞추고 나머지는 0으로 채움"
      ]
    },
    {
      "cell_type": "code",
      "metadata": {
        "id": "1DfVLoE28afl"
      },
      "source": [
        "from tensorflow.keras.models                 import Sequential, Model\n",
        "from tensorflow.keras.layers                 import Activation , Dense , BatchNormalization , Dropout ,Flatten, Embedding, Reshape, Conv1D, Conv2D, MaxPooling1D, MaxPooling2D , AveragePooling1D, AveragePooling2D , GlobalMaxPooling2D , ZeroPadding2D , Input, concatenate\n",
        "from tensorflow.keras.optimizers             import SGD , Adam , RMSprop\n",
        "from tensorflow.keras.utils                  import plot_model , to_categorical\n",
        "from tensorflow.keras.callbacks              import EarlyStopping , ModelCheckpoint\n",
        "from tensorflow.keras.wrappers.scikit_learn  import KerasClassifier\n",
        "from tensorflow.keras.preprocessing.sequence import pad_sequences\n",
        "\n",
        "\n",
        "from sklearn.model_selection     import train_test_split\n",
        "from sklearn.preprocessing       import StandardScaler , MinMaxScaler , LabelEncoder\n",
        "from sklearn.model_selection     import KFold\n",
        "from sklearn.ensemble            import VotingClassifier\n",
        "from sklearn.metrics             import accuracy_score\n",
        "\n",
        "\n",
        "import matplotlib.pyplot as plt\n",
        "import pandas            as pd\n",
        "import numpy             as np\n",
        "import seaborn           as sns\n",
        "\n",
        "\n",
        "# dataset\n",
        "from tensorflow.keras.datasets                 import imdb\n",
        "# from tensorflow.keras.datasets               import cifar10 , mnist\n",
        "# from tensorflow.keras.datasets.mnist         import load_data\n",
        "# from tensorflow.keras.datasets.fashion_mnist import load_data\n",
        "# from sklearn.datasets                        import load_breast_cancer\n",
        "# from sklearn.datasets                        import load_digits\n",
        "\n"
      ],
      "execution_count": 42,
      "outputs": []
    },
    {
      "cell_type": "code",
      "metadata": {
        "colab": {
          "base_uri": "https://localhost:8080/"
        },
        "id": "fU6aYmOI_FuC",
        "outputId": "f2e7cfab-805a-4f00-a045-5a766a39a8f6"
      },
      "source": [
        "# 빈도수가 높은 데이터들만 \n",
        "(X_train, y_train), (X_test, y_test) = imdb.load_data(num_words=3000)"
      ],
      "execution_count": 6,
      "outputs": [
        {
          "output_type": "stream",
          "text": [
            "<string>:6: VisibleDeprecationWarning: Creating an ndarray from ragged nested sequences (which is a list-or-tuple of lists-or-tuples-or ndarrays with different lengths or shapes) is deprecated. If you meant to do this, you must specify 'dtype=object' when creating the ndarray\n",
            "/usr/local/lib/python3.7/dist-packages/tensorflow/python/keras/datasets/imdb.py:159: VisibleDeprecationWarning: Creating an ndarray from ragged nested sequences (which is a list-or-tuple of lists-or-tuples-or ndarrays with different lengths or shapes) is deprecated. If you meant to do this, you must specify 'dtype=object' when creating the ndarray\n",
            "  x_train, y_train = np.array(xs[:idx]), np.array(labels[:idx])\n",
            "/usr/local/lib/python3.7/dist-packages/tensorflow/python/keras/datasets/imdb.py:160: VisibleDeprecationWarning: Creating an ndarray from ragged nested sequences (which is a list-or-tuple of lists-or-tuples-or ndarrays with different lengths or shapes) is deprecated. If you meant to do this, you must specify 'dtype=object' when creating the ndarray\n",
            "  x_test, y_test = np.array(xs[idx:]), np.array(labels[idx:])\n"
          ],
          "name": "stderr"
        }
      ]
    },
    {
      "cell_type": "code",
      "metadata": {
        "id": "uoKVCU30_v_S"
      },
      "source": [
        "X_train[0] # 문장\n",
        "y_train[0] # 긍정 or 부정"
      ],
      "execution_count": null,
      "outputs": []
    },
    {
      "cell_type": "code",
      "metadata": {
        "id": "ne7QRwU0_0F9"
      },
      "source": [
        "# 문장의 최대 길이는 300이고, 300이 안되는 문장들은 0으로 채움\n",
        "X_train = pad_sequences(X_train, maxlen=300)\n",
        "X_test  = pad_sequences(X_test, maxlen=300)"
      ],
      "execution_count": 9,
      "outputs": []
    },
    {
      "cell_type": "code",
      "metadata": {
        "colab": {
          "base_uri": "https://localhost:8080/"
        },
        "id": "qmZP-unMBWdz",
        "outputId": "481e2657-4649-4b48-98fd-3fecec4baf9d"
      },
      "source": [
        "X_test.shape, X_train.shape, y_train.shape, y_test.shape"
      ],
      "execution_count": 11,
      "outputs": [
        {
          "output_type": "execute_result",
          "data": {
            "text/plain": [
              "((25000, 300), (25000, 300), (25000,), (25000,))"
            ]
          },
          "metadata": {
            "tags": []
          },
          "execution_count": 11
        }
      ]
    },
    {
      "cell_type": "code",
      "metadata": {
        "id": "PQM9Gu8MBZj2"
      },
      "source": [
        "# Conv1D\n",
        "\n",
        "def sentence_cnn_1d() :\n",
        "    model = Sequential()\n",
        "\n",
        "    # feature extraction\n",
        "    model.add(Embedding(input_dim=3000, output_dim=100, input_length=300))\n",
        "    model.add(Conv1D(filters=50, kernel_size=5, strides=1, padding='valid'))\n",
        "    model.add(MaxPooling1D(2, padding='valid'))\n",
        "    model.add(Flatten())\n",
        "\n",
        "    # classification\n",
        "    model.add(Dense(10))\n",
        "    model.add(Activation('relu'))\n",
        "\n",
        "    # output\n",
        "    model.add(Dense(1))\n",
        "    model.add(Activation('sigmoid')) # <--이진분류, 확률:softmax\n",
        "\n",
        "    # compile\n",
        "    adam = Adam(lr = 0.001)\n",
        "    model.compile(loss='binary_crossentropy', optimizer=adam, metrics=['accuracy'])\n",
        "\n",
        "    return model"
      ],
      "execution_count": 22,
      "outputs": []
    },
    {
      "cell_type": "code",
      "metadata": {
        "id": "gb6SU_pkIlTO"
      },
      "source": [
        "model = sentence_cnn_1d()"
      ],
      "execution_count": 23,
      "outputs": []
    },
    {
      "cell_type": "code",
      "metadata": {
        "colab": {
          "base_uri": "https://localhost:8080/"
        },
        "id": "P59L410WKOJN",
        "outputId": "d0727656-b846-43a7-d0ee-1e041dd88109"
      },
      "source": [
        "history = model.fit(X_train, y_train, batch_size=50, validation_split=0.2, epochs=100, verbose=1)"
      ],
      "execution_count": 24,
      "outputs": [
        {
          "output_type": "stream",
          "text": [
            "400/400 [==============================] - 5s 12ms/step - loss: 3.7705e-06 - accuracy: 1.0000 - val_loss: 1.4274 - val_accuracy: 0.8522\n",
            "Epoch 87/100\n",
            "400/400 [==============================] - 5s 13ms/step - loss: 3.0670e-06 - accuracy: 1.0000 - val_loss: 1.4469 - val_accuracy: 0.8522\n",
            "Epoch 88/100\n",
            "400/400 [==============================] - 5s 13ms/step - loss: 2.4291e-06 - accuracy: 1.0000 - val_loss: 1.4668 - val_accuracy: 0.8520\n",
            "Epoch 89/100\n",
            "400/400 [==============================] - 5s 13ms/step - loss: 1.9442e-06 - accuracy: 1.0000 - val_loss: 1.4863 - val_accuracy: 0.8518\n",
            "Epoch 90/100\n",
            "400/400 [==============================] - 5s 12ms/step - loss: 1.5262e-06 - accuracy: 1.0000 - val_loss: 1.5048 - val_accuracy: 0.8520\n",
            "Epoch 91/100\n",
            "400/400 [==============================] - 5s 12ms/step - loss: 1.2698e-06 - accuracy: 1.0000 - val_loss: 1.5246 - val_accuracy: 0.8518\n",
            "Epoch 92/100\n",
            "400/400 [==============================] - 5s 12ms/step - loss: 9.6925e-07 - accuracy: 1.0000 - val_loss: 1.5435 - val_accuracy: 0.8522\n",
            "Epoch 93/100\n",
            "400/400 [==============================] - 5s 12ms/step - loss: 7.9643e-07 - accuracy: 1.0000 - val_loss: 1.5609 - val_accuracy: 0.8520\n",
            "Epoch 94/100\n",
            "400/400 [==============================] - 5s 12ms/step - loss: 6.6108e-07 - accuracy: 1.0000 - val_loss: 1.5789 - val_accuracy: 0.8516\n",
            "Epoch 95/100\n",
            "400/400 [==============================] - 5s 13ms/step - loss: 5.2430e-07 - accuracy: 1.0000 - val_loss: 1.5960 - val_accuracy: 0.8514\n",
            "Epoch 96/100\n",
            "400/400 [==============================] - 5s 12ms/step - loss: 4.1564e-07 - accuracy: 1.0000 - val_loss: 1.6132 - val_accuracy: 0.8516\n",
            "Epoch 97/100\n",
            "400/400 [==============================] - 5s 13ms/step - loss: 3.4818e-07 - accuracy: 1.0000 - val_loss: 1.6310 - val_accuracy: 0.8520\n",
            "Epoch 98/100\n",
            "400/400 [==============================] - 5s 13ms/step - loss: 2.7919e-07 - accuracy: 1.0000 - val_loss: 1.6465 - val_accuracy: 0.8520\n",
            "Epoch 99/100\n",
            "400/400 [==============================] - 5s 13ms/step - loss: 2.1865e-07 - accuracy: 1.0000 - val_loss: 1.6619 - val_accuracy: 0.8520\n",
            "Epoch 100/100\n",
            "400/400 [==============================] - 5s 13ms/step - loss: 1.9762e-07 - accuracy: 1.0000 - val_loss: 1.6766 - val_accuracy: 0.8518\n"
          ],
          "name": "stdout"
        }
      ]
    },
    {
      "cell_type": "code",
      "metadata": {
        "colab": {
          "base_uri": "https://localhost:8080/",
          "height": 265
        },
        "id": "jNdEcux8KT1N",
        "outputId": "2ab62325-fea2-4050-d123-2d56a5d19fe0"
      },
      "source": [
        "plt.plot(history.history['accuracy'])\n",
        "plt.plot(history.history['val_accuracy'])\n",
        "plt.legend(['training', 'validation'], loc='best')\n",
        "plt.show()"
      ],
      "execution_count": 25,
      "outputs": [
        {
          "output_type": "display_data",
          "data": {
            "image/png": "[encoded data removed]",
            "text/plain": [
              "<Figure size 432x288 with 1 Axes>"
            ]
          },
          "metadata": {
            "tags": [],
            "needs_background": "light"
          }
        }
      ]
    },
    {
      "cell_type": "code",
      "metadata": {
        "colab": {
          "base_uri": "https://localhost:8080/"
        },
        "id": "o835rA7jK9s5",
        "outputId": "b0cfa0e9-e1bb-4c8a-b13f-5f063bca1c0d"
      },
      "source": [
        "result = model.evaluate(X_test, y_test)\n",
        "print('Test accuracy : ', result[1])"
      ],
      "execution_count": 26,
      "outputs": [
        {
          "output_type": "stream",
          "text": [
            "782/782 [==============================] - 3s 4ms/step - loss: 1.6741 - accuracy: 0.8510\n",
            "Test accuracy :  0.8510000109672546\n"
          ],
          "name": "stdout"
        }
      ]
    },
    {
      "cell_type": "code",
      "metadata": {
        "id": "tYmCJts3LALG"
      },
      "source": [
        "# Conv2D\n",
        "\n",
        "def sentence_cnn_2d() :\n",
        "    model = Sequential()\n",
        "\n",
        "    # feature extraction\n",
        "    model.add(Embedding(input_dim=3000, output_dim=100, input_length=300))\n",
        "    model.add(Reshape((300, 100, 1), input_shape=(300, 100)))\n",
        "    model.add(Conv2D(filters=50, kernel_size=(5, 100), strides=(1, 1), padding='valid'))\n",
        "    model.add(GlobalMaxPooling2D()) # Global은 Flatten을 하지 않아도 됨\n",
        "\n",
        "    # classification\n",
        "    model.add(Dense(10))\n",
        "    model.add(Activation('relu'))\n",
        "    model.add(Dropout(0.3))\n",
        "\n",
        "    model.add(Dense(10))\n",
        "    model.add(Activation('relu'))\n",
        "    model.add(Dropout(0.3))\n",
        "\n",
        "    # output\n",
        "    model.add(Dense(1))\n",
        "    model.add(Activation('sigmoid')) # <--이진분류, 확률:softmax\n",
        "\n",
        "    # compile\n",
        "    adam = Adam(lr = 0.001)\n",
        "    model.compile(loss='binary_crossentropy', optimizer=adam, metrics=['accuracy'])\n",
        "\n",
        "    return model"
      ],
      "execution_count": 34,
      "outputs": []
    },
    {
      "cell_type": "code",
      "metadata": {
        "id": "fdnlPj2BPP_1"
      },
      "source": [
        "model = sentence_cnn_2d()\n",
        "history = model.fit(X_train, y_train, batch_size=50, validation_split=0.2, epochs=10, verbose=1)"
      ],
      "execution_count": null,
      "outputs": []
    },
    {
      "cell_type": "code",
      "metadata": {
        "colab": {
          "base_uri": "https://localhost:8080/",
          "height": 265
        },
        "id": "xFIS2DtBPhKp",
        "outputId": "09934c4a-489b-40e2-e25b-5c09bfcbfe2c"
      },
      "source": [
        "plt.plot(history.history['accuracy'])\n",
        "plt.plot(history.history['val_accuracy'])\n",
        "plt.legend(['training', 'validation'], loc='best')\n",
        "plt.show()"
      ],
      "execution_count": 36,
      "outputs": [
        {
          "output_type": "display_data",
          "data": {
            "image/png": "[encoded data removed]",
            "text/plain": [
              "<Figure size 432x288 with 1 Axes>"
            ]
          },
          "metadata": {
            "tags": [],
            "needs_background": "light"
          }
        }
      ]
    },
    {
      "cell_type": "code",
      "metadata": {
        "colab": {
          "base_uri": "https://localhost:8080/"
        },
        "id": "gXBvt7oAPw_F",
        "outputId": "8675ac79-30c8-40ba-913a-41a0bcfba990"
      },
      "source": [
        "result = model.evaluate(X_test, y_test)\n",
        "print('Test accuracy : ', result[1])"
      ],
      "execution_count": 37,
      "outputs": [
        {
          "output_type": "stream",
          "text": [
            "782/782 [==============================] - 7s 8ms/step - loss: 0.5552 - accuracy: 0.8676\n",
            "Test accuracy :  0.8676000237464905\n"
          ],
          "name": "stdout"
        }
      ]
    },
    {
      "cell_type": "markdown",
      "metadata": {
        "id": "nHdWo9L0Pyvt"
      },
      "source": [
        "### Dropout, Batch Normalization --> 안정화"
      ]
    },
    {
      "cell_type": "code",
      "metadata": {
        "colab": {
          "base_uri": "https://localhost:8080/",
          "height": 134
        },
        "id": "O3SA49adU62M",
        "outputId": "d52648d5-1ea7-4280-f44b-822c4b48dc7f"
      },
      "source": [
        "# Conv2D\n",
        "# 합성곱 연산을 적용하는 연산을 여러개 만들어서 성능개선\n",
        "\n",
        "def conv_ary() :\n",
        "    conv_layer_ary = []\n",
        "    inn = Input(shape=(300, 100, 1))\n",
        "    for \n",
        "        conv = Conv2D()\n",
        "        act  = Activation('relu')(conv)\n",
        "        pool = MaxPooling2D()(act)\n",
        "\n",
        "        conv_layer_ary.append(pool)\n",
        "\n",
        "    out = concatenate(conv_layer_ary)\n",
        "    model = Model(inputs = inn, outputs = out)\n",
        "    return model\n",
        "\n",
        "\n",
        "\n",
        "def improve_sentence_cnn_2d() :\n",
        "    model = Sequential()\n",
        "\n",
        "    # feature extraction\n",
        "    model.add(Embedding(input_dim=3000, output_dim=100, input_length=300))\n",
        "    model.add(Reshape((300, 100, 1), input_shape=(300, 100)))\n",
        "    model.add(Dropout(0.5))\n",
        "\n",
        "    model.add(conv_ary())\n",
        "\n",
        "    model.add(Flatten())\n",
        "\n",
        "    # classification\n",
        "    model.add(Dense(10))\n",
        "    model.add(BatchNormalization())\n",
        "    model.add(Activation('relu'))\n",
        "    model.add(Dropout(0.3))\n",
        "\n",
        "    model.add(Dense(10))\n",
        "    model.add(BatchNormalization)\n",
        "    model.add(Activation('relu'))\n",
        "    model.add(Dropout(0.3))\n",
        "\n",
        "    # output\n",
        "    model.add(Dense(1))\n",
        "    model.add(Activation('sigmoid')) # <--이진분류, 확률:softmax\n",
        "\n",
        "    # compile\n",
        "    adam = Adam(lr = 0.001)\n",
        "    model.compile(loss='binary_crossentropy', optimizer=adam, metrics=['accuracy'])\n",
        "\n",
        "    return model"
      ],
      "execution_count": 40,
      "outputs": [
        {
          "output_type": "error",
          "ename": "SyntaxError",
          "evalue": "ignored",
          "traceback": [
            "\u001b[0;36m  File \u001b[0;32m\"<ipython-input-40-9049d42910bf>\"\u001b[0;36m, line \u001b[0;32m6\u001b[0m\n\u001b[0;31m    for\u001b[0m\n\u001b[0m       ^\u001b[0m\n\u001b[0;31mSyntaxError\u001b[0m\u001b[0;31m:\u001b[0m invalid syntax\n"
          ]
        }
      ]
    },
    {
      "cell_type": "code",
      "metadata": {
        "id": "ES4yyY4ZWohS"
      },
      "source": [
        "model = improve_sentence_cnn_2d()\n",
        "model.summary()"
      ],
      "execution_count": null,
      "outputs": []
    },
    {
      "cell_type": "code",
      "metadata": {
        "id": "GPJQZD5GWuSg"
      },
      "source": [
        "callbacks = [EarlyStopping(monitor='val_accuracy', patience=3)]\n",
        "history   = model.fit(X_train, y_train, batch_size=50, validation_split=0.2, epochs=20, verbose=1, callbacks=callbacks)"
      ],
      "execution_count": null,
      "outputs": []
    },
    {
      "cell_type": "code",
      "metadata": {
        "id": "DcU8sB_SXLc8"
      },
      "source": [
        "plt.plot(history.history['accuracy'])\n",
        "plt.plot(history.history['val_accuracy'])\n",
        "plt.legend(['training', 'validation'], loc='best')\n",
        "plt.show()"
      ],
      "execution_count": null,
      "outputs": []
    },
    {
      "cell_type": "code",
      "metadata": {
        "id": "bCGKqXf3XNgR"
      },
      "source": [
        "result = model.evaluate(X_test, y_test)\n",
        "print('Test accuracy : ', result[1])"
      ],
      "execution_count": null,
      "outputs": []
    }
  ]
}