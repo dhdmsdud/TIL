{
 "cells": [
  {
   "cell_type": "markdown",
   "metadata": {},
   "source": [
    "### Crawling\n",
    "- crawling이 왜 필요한지\n",
    "- 페이지 처리방법\n",
    "- json scraping\n",
    "- conda install -c conda-forge selenium"
   ]
  },
  {
   "cell_type": "code",
   "execution_count": 20,
   "metadata": {},
   "outputs": [],
   "source": [
    "from urllib.request import urlopen\n",
    "from bs4 import BeautifulSoup\n",
    "from urllib.error import HTTPError\n",
    "from urllib.error import URLError\n",
    "from selenium import webdriver"
   ]
  },
  {
   "cell_type": "code",
   "execution_count": 37,
   "metadata": {},
   "outputs": [],
   "source": [
    "from bs4 import BeautifulSoup\n",
    "from urllib.request import urlopen\n",
    "from urllib.error   import HTTPError\n",
    "from urllib.request import URLError\n",
    "import numpy as np\n",
    "import pandas as pd"
   ]
  },
  {
   "cell_type": "code",
   "execution_count": 128,
   "metadata": {},
   "outputs": [
    {
     "data": {
      "text/plain": [
       "<selenium.webdriver.chrome.webdriver.WebDriver (session=\"e90bf375bfef1a91decd3512a9d02508\")>"
      ]
     },
     "execution_count": 128,
     "metadata": {},
     "output_type": "execute_result"
    }
   ],
   "source": [
    "path = '../driver/chromedriver.exe'\n",
    "driver = webdriver.Chrome(path)\n",
    "driver"
   ]
  },
  {
   "cell_type": "markdown",
   "metadata": {},
   "source": [
    "### 1. http://www.python.org"
   ]
  },
  {
   "cell_type": "code",
   "execution_count": 22,
   "metadata": {},
   "outputs": [],
   "source": [
    "driver.get('http://www.python.org')"
   ]
  },
  {
   "cell_type": "markdown",
   "metadata": {},
   "source": [
    "- find_element_*()\n",
    "- find_elements_*()\n",
    "\n",
    "- find_element_by_id() : 태그의 아이디 속성\n",
    "- find_element_by_name() : 태그의 이름 속성\n",
    "- find_element_by_css_selector() : 선택자\n",
    "- find_element_by_tag_name() : 태그의 이름"
   ]
  },
  {
   "cell_type": "code",
   "execution_count": 23,
   "metadata": {},
   "outputs": [
    {
     "data": {
      "text/plain": [
       "[<selenium.webdriver.remote.webelement.WebElement (session=\"7959a1aa9b64c765f9a60c1ae5229c05\", element=\"83c95a31-8b6e-4004-a05c-5fbccd9afa7f\")>,\n",
       " <selenium.webdriver.remote.webelement.WebElement (session=\"7959a1aa9b64c765f9a60c1ae5229c05\", element=\"343a8e9c-bbda-4964-99a7-8d41da6dfe6b\")>,\n",
       " <selenium.webdriver.remote.webelement.WebElement (session=\"7959a1aa9b64c765f9a60c1ae5229c05\", element=\"71601fd1-f499-4d0f-b742-affd2a5cd559\")>,\n",
       " <selenium.webdriver.remote.webelement.WebElement (session=\"7959a1aa9b64c765f9a60c1ae5229c05\", element=\"5d579b62-c263-40d9-a6d4-26412985797e\")>,\n",
       " <selenium.webdriver.remote.webelement.WebElement (session=\"7959a1aa9b64c765f9a60c1ae5229c05\", element=\"769c9c86-68f6-41ad-ba1b-d8d42c886ca0\")>,\n",
       " <selenium.webdriver.remote.webelement.WebElement (session=\"7959a1aa9b64c765f9a60c1ae5229c05\", element=\"23b25eeb-d5c6-4fe9-8cc9-ddd5d5eeb712\")>]"
      ]
     },
     "execution_count": 23,
     "metadata": {},
     "output_type": "execute_result"
    }
   ],
   "source": [
    "# id --> # / class --> .\n",
    "menus = driver.find_elements_by_css_selector('#top ul.menu li')\n",
    "menus"
   ]
  },
  {
   "cell_type": "code",
   "execution_count": 24,
   "metadata": {},
   "outputs": [
    {
     "data": {
      "text/plain": [
       "'Docs'"
      ]
     },
     "execution_count": 24,
     "metadata": {},
     "output_type": "execute_result"
    }
   ],
   "source": [
    "menus[2].text"
   ]
  },
  {
   "cell_type": "code",
   "execution_count": 25,
   "metadata": {},
   "outputs": [],
   "source": [
    "import time\n",
    "clickMenu = None\n",
    "\n",
    "for li in menus :\n",
    "    #print(li)\n",
    "    if li.text == 'Docs' :\n",
    "        clickMenu = li\n",
    "\n",
    "clickMenu.click()\n",
    "time.sleep(5)\n",
    "driver.close()"
   ]
  },
  {
   "cell_type": "markdown",
   "metadata": {},
   "source": [
    "### 2. https://datalab.naver.com/shoppingInsight/sCategory.naver"
   ]
  },
  {
   "cell_type": "code",
   "execution_count": 68,
   "metadata": {},
   "outputs": [],
   "source": [
    "# 데이터랩 패션의류 인기 검색어\n",
    "driver.get('https://datalab.naver.com/shoppingInsight/sCategory.naver')"
   ]
  },
  {
   "cell_type": "code",
   "execution_count": 69,
   "metadata": {},
   "outputs": [
    {
     "data": {
      "text/plain": [
       "[<selenium.webdriver.remote.webelement.WebElement (session=\"b798a2cd732a85023c02409840f908a5\", element=\"e8e8bb77-9fb8-4f83-902d-cb3237dd4cfd\")>]"
      ]
     },
     "execution_count": 69,
     "metadata": {},
     "output_type": "execute_result"
    }
   ],
   "source": [
    "ul_tag = driver.find_elements_by_css_selector('.rank_top1000_list')\n",
    "ul_tag"
   ]
  },
  {
   "cell_type": "code",
   "execution_count": 71,
   "metadata": {},
   "outputs": [
    {
     "ename": "AttributeError",
     "evalue": "'list' object has no attribute 'find_element_by_tag_name'",
     "output_type": "error",
     "traceback": [
      "\u001b[1;31m---------------------------------------------------------------------------\u001b[0m",
      "\u001b[1;31mAttributeError\u001b[0m                            Traceback (most recent call last)",
      "\u001b[1;32m<ipython-input-71-fad36f504930>\u001b[0m in \u001b[0;36m<module>\u001b[1;34m\u001b[0m\n\u001b[1;32m----> 1\u001b[1;33m \u001b[0mli_tags\u001b[0m \u001b[1;33m=\u001b[0m \u001b[0mul_tag\u001b[0m\u001b[1;33m.\u001b[0m\u001b[0mfind_element_by_tag_name\u001b[0m\u001b[1;33m(\u001b[0m\u001b[1;34m'li'\u001b[0m\u001b[1;33m)\u001b[0m\u001b[1;33m\u001b[0m\u001b[1;33m\u001b[0m\u001b[0m\n\u001b[0m\u001b[0;32m      2\u001b[0m \u001b[0mli_tags\u001b[0m\u001b[1;33m\u001b[0m\u001b[1;33m\u001b[0m\u001b[0m\n",
      "\u001b[1;31mAttributeError\u001b[0m: 'list' object has no attribute 'find_element_by_tag_name'"
     ]
    }
   ],
   "source": [
    "li_tags = ul_tag.find_elements_by_tag_name('li')\n",
    "li_tags"
   ]
  },
  {
   "cell_type": "code",
   "execution_count": 41,
   "metadata": {
    "scrolled": true
   },
   "outputs": [
    {
     "ename": "NameError",
     "evalue": "name 'li_tags' is not defined",
     "output_type": "error",
     "traceback": [
      "\u001b[1;31m---------------------------------------------------------------------------\u001b[0m",
      "\u001b[1;31mNameError\u001b[0m                                 Traceback (most recent call last)",
      "\u001b[1;32m<ipython-input-41-33b77c218d99>\u001b[0m in \u001b[0;36m<module>\u001b[1;34m\u001b[0m\n\u001b[1;32m----> 1\u001b[1;33m \u001b[1;32mfor\u001b[0m \u001b[0mli\u001b[0m \u001b[1;32min\u001b[0m \u001b[0mli_tags\u001b[0m \u001b[1;33m:\u001b[0m\u001b[1;33m\u001b[0m\u001b[1;33m\u001b[0m\u001b[0m\n\u001b[0m\u001b[0;32m      2\u001b[0m     \u001b[1;31m#print(li)\u001b[0m\u001b[1;33m\u001b[0m\u001b[1;33m\u001b[0m\u001b[1;33m\u001b[0m\u001b[0m\n\u001b[0;32m      3\u001b[0m     \u001b[1;31m#print(li.text)\u001b[0m\u001b[1;33m\u001b[0m\u001b[1;33m\u001b[0m\u001b[1;33m\u001b[0m\u001b[0m\n\u001b[0;32m      4\u001b[0m     \u001b[0mprint\u001b[0m\u001b[1;33m(\u001b[0m\u001b[0mli\u001b[0m\u001b[1;33m.\u001b[0m\u001b[0mtext\u001b[0m\u001b[1;33m.\u001b[0m\u001b[0msplit\u001b[0m\u001b[1;33m(\u001b[0m\u001b[1;34m'\\n'\u001b[0m\u001b[1;33m)\u001b[0m\u001b[1;33m)\u001b[0m\u001b[1;33m\u001b[0m\u001b[1;33m\u001b[0m\u001b[0m\n",
      "\u001b[1;31mNameError\u001b[0m: name 'li_tags' is not defined"
     ]
    }
   ],
   "source": [
    "for li in li_tags :\n",
    "    #print(li)\n",
    "    #print(li.text)\n",
    "    print(li.text.split('\\n'))"
   ]
  },
  {
   "cell_type": "markdown",
   "metadata": {},
   "source": [
    "### 3. https://auto.naver.com/car/mainList.nhn"
   ]
  },
  {
   "cell_type": "code",
   "execution_count": 121,
   "metadata": {},
   "outputs": [],
   "source": [
    "driver.get('https://auto.naver.com/car/mainList.nhn')"
   ]
  },
  {
   "cell_type": "markdown",
   "metadata": {},
   "source": [
    "- 네이버 자동차 제조사 전체 페이지 클릭"
   ]
  },
  {
   "cell_type": "code",
   "execution_count": 122,
   "metadata": {},
   "outputs": [],
   "source": [
    "# ex)01\n",
    "all = driver.find_elements_by_css_selector('.detail_more')"
   ]
  },
  {
   "cell_type": "code",
   "execution_count": 123,
   "metadata": {},
   "outputs": [],
   "source": [
    "import time\n",
    "clickMenu = None\n",
    "\n",
    "for li in all :\n",
    "    #print(li)\n",
    "    if li.text == '전체 제조사' :\n",
    "        clickMenu = li\n",
    "\n",
    "clickMenu.click()\n",
    "time.sleep(2)"
   ]
  },
  {
   "cell_type": "code",
   "execution_count": 96,
   "metadata": {
    "scrolled": true
   },
   "outputs": [],
   "source": [
    "# ex)02\n",
    "all = driver.find_element_by_css_selector('#container > div.spot_main > div.spot_aside > div.tit> a')\n",
    "all.click()"
   ]
  },
  {
   "cell_type": "markdown",
   "metadata": {},
   "source": [
    "- 전체 제조사의 1페이지 가져오기"
   ]
  },
  {
   "cell_type": "code",
   "execution_count": 124,
   "metadata": {
    "scrolled": true
   },
   "outputs": [
    {
     "data": {
      "text/plain": [
       "[<selenium.webdriver.remote.webelement.WebElement (session=\"bd2ef560e6136622a3fbef8fcde1669b\", element=\"16336544-0247-4a07-b358-f161f24bd69a\")>,\n",
       " <selenium.webdriver.remote.webelement.WebElement (session=\"bd2ef560e6136622a3fbef8fcde1669b\", element=\"ff5085c1-dfce-49e4-aed7-0f086eca31d1\")>,\n",
       " <selenium.webdriver.remote.webelement.WebElement (session=\"bd2ef560e6136622a3fbef8fcde1669b\", element=\"8fc0c110-bb46-4269-8455-89af10c68f8b\")>,\n",
       " <selenium.webdriver.remote.webelement.WebElement (session=\"bd2ef560e6136622a3fbef8fcde1669b\", element=\"9bb6aa83-3ece-495c-a5d9-72e5af3f7ff2\")>,\n",
       " <selenium.webdriver.remote.webelement.WebElement (session=\"bd2ef560e6136622a3fbef8fcde1669b\", element=\"bc849240-9198-4be4-b8df-ca503bdaf288\")>,\n",
       " <selenium.webdriver.remote.webelement.WebElement (session=\"bd2ef560e6136622a3fbef8fcde1669b\", element=\"b78b13ac-7559-492f-bd3b-28300f8136d2\")>,\n",
       " <selenium.webdriver.remote.webelement.WebElement (session=\"bd2ef560e6136622a3fbef8fcde1669b\", element=\"7ab0a89f-2462-49a9-9292-8f85aae44ba2\")>,\n",
       " <selenium.webdriver.remote.webelement.WebElement (session=\"bd2ef560e6136622a3fbef8fcde1669b\", element=\"dcbaeda1-bffe-4a97-850e-b685ec94bead\")>,\n",
       " <selenium.webdriver.remote.webelement.WebElement (session=\"bd2ef560e6136622a3fbef8fcde1669b\", element=\"c5264af5-490a-4faf-b7e7-00cb5f5f4fd7\")>,\n",
       " <selenium.webdriver.remote.webelement.WebElement (session=\"bd2ef560e6136622a3fbef8fcde1669b\", element=\"7cc8e6c8-08cf-451f-958c-5b3720447e07\")>,\n",
       " <selenium.webdriver.remote.webelement.WebElement (session=\"bd2ef560e6136622a3fbef8fcde1669b\", element=\"97459988-eb86-49df-9840-d4335e5bb430\")>,\n",
       " <selenium.webdriver.remote.webelement.WebElement (session=\"bd2ef560e6136622a3fbef8fcde1669b\", element=\"2256a748-d072-4c69-9a54-117643644546\")>,\n",
       " <selenium.webdriver.remote.webelement.WebElement (session=\"bd2ef560e6136622a3fbef8fcde1669b\", element=\"11df6c46-6bd5-4e50-a5a1-d033edabea83\")>,\n",
       " <selenium.webdriver.remote.webelement.WebElement (session=\"bd2ef560e6136622a3fbef8fcde1669b\", element=\"aee51850-4924-4e40-9153-2bb6a76a36ec\")>,\n",
       " <selenium.webdriver.remote.webelement.WebElement (session=\"bd2ef560e6136622a3fbef8fcde1669b\", element=\"1b09e54c-6cda-494e-91ae-9cce2d3e8f23\")>,\n",
       " <selenium.webdriver.remote.webelement.WebElement (session=\"bd2ef560e6136622a3fbef8fcde1669b\", element=\"01a0f020-2f73-433b-bbfc-23f26335e877\")>,\n",
       " <selenium.webdriver.remote.webelement.WebElement (session=\"bd2ef560e6136622a3fbef8fcde1669b\", element=\"e3cb1196-0cd7-4096-b172-a24a22b4d0ca\")>,\n",
       " <selenium.webdriver.remote.webelement.WebElement (session=\"bd2ef560e6136622a3fbef8fcde1669b\", element=\"88e9175b-c2ef-4d69-a917-60eb6c1538d0\")>,\n",
       " <selenium.webdriver.remote.webelement.WebElement (session=\"bd2ef560e6136622a3fbef8fcde1669b\", element=\"9e6b2a8e-f2da-4ee6-8a3d-98f91388e324\")>,\n",
       " <selenium.webdriver.remote.webelement.WebElement (session=\"bd2ef560e6136622a3fbef8fcde1669b\", element=\"5f1f386c-36b6-4bbc-8959-06cf17864a5f\")>,\n",
       " <selenium.webdriver.remote.webelement.WebElement (session=\"bd2ef560e6136622a3fbef8fcde1669b\", element=\"ccdf2805-7a20-4d59-ba6c-d39d911354c6\")>,\n",
       " <selenium.webdriver.remote.webelement.WebElement (session=\"bd2ef560e6136622a3fbef8fcde1669b\", element=\"84c49fff-cfac-4b08-9efb-64fdbb0c3eef\")>,\n",
       " <selenium.webdriver.remote.webelement.WebElement (session=\"bd2ef560e6136622a3fbef8fcde1669b\", element=\"e37eac60-ecd2-483b-b629-feb46c4c0ae1\")>,\n",
       " <selenium.webdriver.remote.webelement.WebElement (session=\"bd2ef560e6136622a3fbef8fcde1669b\", element=\"0d6a3d4e-c9a0-4913-beac-4911f9a16e95\")>,\n",
       " <selenium.webdriver.remote.webelement.WebElement (session=\"bd2ef560e6136622a3fbef8fcde1669b\", element=\"d37c020b-b0cb-4a1b-b01b-e3f69c171db5\")>,\n",
       " <selenium.webdriver.remote.webelement.WebElement (session=\"bd2ef560e6136622a3fbef8fcde1669b\", element=\"71037a0d-434d-4939-8836-78e5e612bdd8\")>,\n",
       " <selenium.webdriver.remote.webelement.WebElement (session=\"bd2ef560e6136622a3fbef8fcde1669b\", element=\"d5c364fc-1963-4b2d-a2a9-364aa730d3d8\")>,\n",
       " <selenium.webdriver.remote.webelement.WebElement (session=\"bd2ef560e6136622a3fbef8fcde1669b\", element=\"902faf0b-1be3-47b1-b0be-233a1a3ab391\")>,\n",
       " <selenium.webdriver.remote.webelement.WebElement (session=\"bd2ef560e6136622a3fbef8fcde1669b\", element=\"c941e425-754e-4f02-b7f5-10ed8995552d\")>,\n",
       " <selenium.webdriver.remote.webelement.WebElement (session=\"bd2ef560e6136622a3fbef8fcde1669b\", element=\"db01b6a1-035f-4d6d-992a-1ccedac0701b\")>,\n",
       " <selenium.webdriver.remote.webelement.WebElement (session=\"bd2ef560e6136622a3fbef8fcde1669b\", element=\"94873432-f0ce-4001-b0e2-62ab981e1dc0\")>,\n",
       " <selenium.webdriver.remote.webelement.WebElement (session=\"bd2ef560e6136622a3fbef8fcde1669b\", element=\"863fa9e7-affc-486f-9bd0-c26bfc3fba50\")>,\n",
       " <selenium.webdriver.remote.webelement.WebElement (session=\"bd2ef560e6136622a3fbef8fcde1669b\", element=\"288f62b1-6bf2-4494-b0b8-744ba301711a\")>,\n",
       " <selenium.webdriver.remote.webelement.WebElement (session=\"bd2ef560e6136622a3fbef8fcde1669b\", element=\"4cf56456-a9ac-4997-9b18-e0fc155b8573\")>,\n",
       " <selenium.webdriver.remote.webelement.WebElement (session=\"bd2ef560e6136622a3fbef8fcde1669b\", element=\"3b309672-fff3-4bf9-b858-6c83cced8ff9\")>,\n",
       " <selenium.webdriver.remote.webelement.WebElement (session=\"bd2ef560e6136622a3fbef8fcde1669b\", element=\"2e63835e-f740-45f6-a709-3a7429e16743\")>,\n",
       " <selenium.webdriver.remote.webelement.WebElement (session=\"bd2ef560e6136622a3fbef8fcde1669b\", element=\"86cb704c-798d-4e49-9418-120a59542799\")>,\n",
       " <selenium.webdriver.remote.webelement.WebElement (session=\"bd2ef560e6136622a3fbef8fcde1669b\", element=\"a21f4a7f-330b-4a44-9d78-430c7fd4c89a\")>,\n",
       " <selenium.webdriver.remote.webelement.WebElement (session=\"bd2ef560e6136622a3fbef8fcde1669b\", element=\"e3fa826a-7659-4a00-8c63-f4bf8e5f52a0\")>,\n",
       " <selenium.webdriver.remote.webelement.WebElement (session=\"bd2ef560e6136622a3fbef8fcde1669b\", element=\"467ac9ee-a693-411e-a0bd-5d39612314d3\")>,\n",
       " <selenium.webdriver.remote.webelement.WebElement (session=\"bd2ef560e6136622a3fbef8fcde1669b\", element=\"2265ffc5-fa6c-438e-87f0-6ef4ec2f81eb\")>,\n",
       " <selenium.webdriver.remote.webelement.WebElement (session=\"bd2ef560e6136622a3fbef8fcde1669b\", element=\"eb123808-2d4f-4b44-a52c-7eee3bfad2c9\")>,\n",
       " <selenium.webdriver.remote.webelement.WebElement (session=\"bd2ef560e6136622a3fbef8fcde1669b\", element=\"619aadf4-dce7-4ebe-a9cd-6976ffc310fa\")>,\n",
       " <selenium.webdriver.remote.webelement.WebElement (session=\"bd2ef560e6136622a3fbef8fcde1669b\", element=\"7448a8a9-351e-4808-b373-764307263381\")>,\n",
       " <selenium.webdriver.remote.webelement.WebElement (session=\"bd2ef560e6136622a3fbef8fcde1669b\", element=\"51cbcc8f-2073-417c-b18b-2556a8385c37\")>,\n",
       " <selenium.webdriver.remote.webelement.WebElement (session=\"bd2ef560e6136622a3fbef8fcde1669b\", element=\"0ac48723-b211-43f5-bd6e-4a06baf15ac4\")>,\n",
       " <selenium.webdriver.remote.webelement.WebElement (session=\"bd2ef560e6136622a3fbef8fcde1669b\", element=\"ce05a0a7-f027-4d1f-8e9e-1df33d73e23d\")>,\n",
       " <selenium.webdriver.remote.webelement.WebElement (session=\"bd2ef560e6136622a3fbef8fcde1669b\", element=\"b9834dfd-9e66-4378-a76c-f620ca43e798\")>,\n",
       " <selenium.webdriver.remote.webelement.WebElement (session=\"bd2ef560e6136622a3fbef8fcde1669b\", element=\"048bc7ab-3d02-4818-9a95-2c5a27b685d9\")>,\n",
       " <selenium.webdriver.remote.webelement.WebElement (session=\"bd2ef560e6136622a3fbef8fcde1669b\", element=\"2a8f5134-b3e7-4f09-b161-e4a4b950fa23\")>,\n",
       " <selenium.webdriver.remote.webelement.WebElement (session=\"bd2ef560e6136622a3fbef8fcde1669b\", element=\"b6b59051-d24a-443e-a1dc-e04b3bac665f\")>,\n",
       " <selenium.webdriver.remote.webelement.WebElement (session=\"bd2ef560e6136622a3fbef8fcde1669b\", element=\"2c3f6305-f6ed-4607-a211-f23f24df01b0\")>,\n",
       " <selenium.webdriver.remote.webelement.WebElement (session=\"bd2ef560e6136622a3fbef8fcde1669b\", element=\"096cf030-db43-40d0-824c-ea9da69882ef\")>,\n",
       " <selenium.webdriver.remote.webelement.WebElement (session=\"bd2ef560e6136622a3fbef8fcde1669b\", element=\"03be641a-a7aa-4170-9ccd-87e501d31ad5\")>,\n",
       " <selenium.webdriver.remote.webelement.WebElement (session=\"bd2ef560e6136622a3fbef8fcde1669b\", element=\"0e8cb175-8464-4b74-a13d-d2cdfae4ee65\")>,\n",
       " <selenium.webdriver.remote.webelement.WebElement (session=\"bd2ef560e6136622a3fbef8fcde1669b\", element=\"8541f27b-35a4-4591-b091-978420afdd1c\")>,\n",
       " <selenium.webdriver.remote.webelement.WebElement (session=\"bd2ef560e6136622a3fbef8fcde1669b\", element=\"58696339-619f-4065-8e2c-802d4b0119cb\")>,\n",
       " <selenium.webdriver.remote.webelement.WebElement (session=\"bd2ef560e6136622a3fbef8fcde1669b\", element=\"d9063e43-4e61-4222-89fe-995e9ce42152\")>,\n",
       " <selenium.webdriver.remote.webelement.WebElement (session=\"bd2ef560e6136622a3fbef8fcde1669b\", element=\"d8f4481b-2f0b-4ee8-9bb7-905f0bf872ce\")>,\n",
       " <selenium.webdriver.remote.webelement.WebElement (session=\"bd2ef560e6136622a3fbef8fcde1669b\", element=\"a7115a07-ddf1-4346-b187-a8acf8644c43\")>,\n",
       " <selenium.webdriver.remote.webelement.WebElement (session=\"bd2ef560e6136622a3fbef8fcde1669b\", element=\"8984aaa2-3105-448a-a964-63a5b1910e35\")>,\n",
       " <selenium.webdriver.remote.webelement.WebElement (session=\"bd2ef560e6136622a3fbef8fcde1669b\", element=\"33eaf6fc-8831-4b9f-8983-2729d2721291\")>,\n",
       " <selenium.webdriver.remote.webelement.WebElement (session=\"bd2ef560e6136622a3fbef8fcde1669b\", element=\"ce03c61b-4b6f-4034-8daf-fff0a88a06e4\")>,\n",
       " <selenium.webdriver.remote.webelement.WebElement (session=\"bd2ef560e6136622a3fbef8fcde1669b\", element=\"99a55492-da69-455b-9e73-7607949c7221\")>,\n",
       " <selenium.webdriver.remote.webelement.WebElement (session=\"bd2ef560e6136622a3fbef8fcde1669b\", element=\"8cd9ecb3-1b61-4323-b150-8c61246467e3\")>,\n",
       " <selenium.webdriver.remote.webelement.WebElement (session=\"bd2ef560e6136622a3fbef8fcde1669b\", element=\"1717d219-930a-4bfb-ad57-360e0aa312d1\")>,\n",
       " <selenium.webdriver.remote.webelement.WebElement (session=\"bd2ef560e6136622a3fbef8fcde1669b\", element=\"a2f70214-703b-4f43-84d6-a930949c3006\")>,\n",
       " <selenium.webdriver.remote.webelement.WebElement (session=\"bd2ef560e6136622a3fbef8fcde1669b\", element=\"72ce576b-3abf-476a-a26a-9767343507c3\")>,\n",
       " <selenium.webdriver.remote.webelement.WebElement (session=\"bd2ef560e6136622a3fbef8fcde1669b\", element=\"cf82fabf-aa3a-48e3-8484-3a5ce73c2905\")>,\n",
       " <selenium.webdriver.remote.webelement.WebElement (session=\"bd2ef560e6136622a3fbef8fcde1669b\", element=\"26e14773-b986-4f1c-84dd-0cb27ce42068\")>,\n",
       " <selenium.webdriver.remote.webelement.WebElement (session=\"bd2ef560e6136622a3fbef8fcde1669b\", element=\"838a23e1-cea9-4783-af9c-d7d9d0ee7963\")>,\n",
       " <selenium.webdriver.remote.webelement.WebElement (session=\"bd2ef560e6136622a3fbef8fcde1669b\", element=\"5267bf1d-2d90-4a6b-96b1-e2a8a9df7dfb\")>,\n",
       " <selenium.webdriver.remote.webelement.WebElement (session=\"bd2ef560e6136622a3fbef8fcde1669b\", element=\"acdb6a14-e9a0-4236-92a7-bb524041f705\")>,\n",
       " <selenium.webdriver.remote.webelement.WebElement (session=\"bd2ef560e6136622a3fbef8fcde1669b\", element=\"caf02f4d-9a3d-4436-824c-aa59b5d19da5\")>,\n",
       " <selenium.webdriver.remote.webelement.WebElement (session=\"bd2ef560e6136622a3fbef8fcde1669b\", element=\"e2a20ee8-8b41-4e94-b297-4bea95a76e1f\")>,\n",
       " <selenium.webdriver.remote.webelement.WebElement (session=\"bd2ef560e6136622a3fbef8fcde1669b\", element=\"b2a4e892-7664-4399-8c52-b5d230e77a57\")>,\n",
       " <selenium.webdriver.remote.webelement.WebElement (session=\"bd2ef560e6136622a3fbef8fcde1669b\", element=\"49f13c31-4af4-47aa-9c14-25977ecaefb8\")>,\n",
       " <selenium.webdriver.remote.webelement.WebElement (session=\"bd2ef560e6136622a3fbef8fcde1669b\", element=\"b6dde53b-762d-4409-96bf-98cff1de8c94\")>,\n",
       " <selenium.webdriver.remote.webelement.WebElement (session=\"bd2ef560e6136622a3fbef8fcde1669b\", element=\"18f23885-2809-44f3-a55e-0af5bf0bcd91\")>,\n",
       " <selenium.webdriver.remote.webelement.WebElement (session=\"bd2ef560e6136622a3fbef8fcde1669b\", element=\"2afd763f-195c-480a-89f9-a7d6df071d7b\")>,\n",
       " <selenium.webdriver.remote.webelement.WebElement (session=\"bd2ef560e6136622a3fbef8fcde1669b\", element=\"671d6aca-4b65-441a-a163-a27ec722a4ca\")>,\n",
       " <selenium.webdriver.remote.webelement.WebElement (session=\"bd2ef560e6136622a3fbef8fcde1669b\", element=\"97cb9377-5620-46fd-a177-99fa413d2756\")>,\n",
       " <selenium.webdriver.remote.webelement.WebElement (session=\"bd2ef560e6136622a3fbef8fcde1669b\", element=\"0483d23d-1d1b-49c2-871c-28c304206fd4\")>,\n",
       " <selenium.webdriver.remote.webelement.WebElement (session=\"bd2ef560e6136622a3fbef8fcde1669b\", element=\"cdd4f67a-8fe7-4808-857c-ef8610cf18ee\")>,\n",
       " <selenium.webdriver.remote.webelement.WebElement (session=\"bd2ef560e6136622a3fbef8fcde1669b\", element=\"f981fcc5-c67b-4c86-86a5-c20eb92df85d\")>,\n",
       " <selenium.webdriver.remote.webelement.WebElement (session=\"bd2ef560e6136622a3fbef8fcde1669b\", element=\"4fba0fbc-47c8-42ac-b59c-e24802911e4b\")>,\n",
       " <selenium.webdriver.remote.webelement.WebElement (session=\"bd2ef560e6136622a3fbef8fcde1669b\", element=\"b058b85d-3572-4a87-b93a-2fd0b9ed88a8\")>,\n",
       " <selenium.webdriver.remote.webelement.WebElement (session=\"bd2ef560e6136622a3fbef8fcde1669b\", element=\"e56160a0-889d-4553-b58f-2461d40c0fee\")>,\n",
       " <selenium.webdriver.remote.webelement.WebElement (session=\"bd2ef560e6136622a3fbef8fcde1669b\", element=\"4ab17484-1eae-4523-b36d-8b4d04c467ce\")>,\n",
       " <selenium.webdriver.remote.webelement.WebElement (session=\"bd2ef560e6136622a3fbef8fcde1669b\", element=\"e3c9b9f4-0fe1-41a3-95f8-51ef12f241c4\")>,\n",
       " <selenium.webdriver.remote.webelement.WebElement (session=\"bd2ef560e6136622a3fbef8fcde1669b\", element=\"df6c93bd-e57b-48f1-9eab-312683fd99b8\")>,\n",
       " <selenium.webdriver.remote.webelement.WebElement (session=\"bd2ef560e6136622a3fbef8fcde1669b\", element=\"8778ce1b-cc41-447b-a5e3-ba2ec369e047\")>,\n",
       " <selenium.webdriver.remote.webelement.WebElement (session=\"bd2ef560e6136622a3fbef8fcde1669b\", element=\"ccb587b0-3681-4b30-a7fb-bc05cf161495\")>,\n",
       " <selenium.webdriver.remote.webelement.WebElement (session=\"bd2ef560e6136622a3fbef8fcde1669b\", element=\"62d4c4b4-4606-4091-9700-2d2374c15127\")>,\n",
       " <selenium.webdriver.remote.webelement.WebElement (session=\"bd2ef560e6136622a3fbef8fcde1669b\", element=\"8857cca5-ccea-49f2-a06d-f07d4e7c00a4\")>,\n",
       " <selenium.webdriver.remote.webelement.WebElement (session=\"bd2ef560e6136622a3fbef8fcde1669b\", element=\"c07f87e9-ff5e-43c0-8ffd-0dda16b23f8f\")>,\n",
       " <selenium.webdriver.remote.webelement.WebElement (session=\"bd2ef560e6136622a3fbef8fcde1669b\", element=\"8dbd3948-f923-4562-9c72-42b537710880\")>,\n",
       " <selenium.webdriver.remote.webelement.WebElement (session=\"bd2ef560e6136622a3fbef8fcde1669b\", element=\"172fc538-ddde-4576-88e9-edfe0757a7f4\")>,\n",
       " <selenium.webdriver.remote.webelement.WebElement (session=\"bd2ef560e6136622a3fbef8fcde1669b\", element=\"0b04e79f-2a28-4506-b1e6-e86b42e9a131\")>,\n",
       " <selenium.webdriver.remote.webelement.WebElement (session=\"bd2ef560e6136622a3fbef8fcde1669b\", element=\"a32863d9-b411-4c7b-86fd-385184f2551f\")>,\n",
       " <selenium.webdriver.remote.webelement.WebElement (session=\"bd2ef560e6136622a3fbef8fcde1669b\", element=\"683cf55c-e1f9-43b4-8839-9642b2a3b3bb\")>,\n",
       " <selenium.webdriver.remote.webelement.WebElement (session=\"bd2ef560e6136622a3fbef8fcde1669b\", element=\"56363dc6-7411-4a98-a65a-2678ad3cabcf\")>,\n",
       " <selenium.webdriver.remote.webelement.WebElement (session=\"bd2ef560e6136622a3fbef8fcde1669b\", element=\"96b27732-4cac-4eb0-b9bf-524ca7da9d84\")>,\n",
       " <selenium.webdriver.remote.webelement.WebElement (session=\"bd2ef560e6136622a3fbef8fcde1669b\", element=\"57f771b4-d8c4-4a7d-a29b-2b147e92a663\")>,\n",
       " <selenium.webdriver.remote.webelement.WebElement (session=\"bd2ef560e6136622a3fbef8fcde1669b\", element=\"12d16de7-d916-4390-98ef-f6bf82912b1a\")>,\n",
       " <selenium.webdriver.remote.webelement.WebElement (session=\"bd2ef560e6136622a3fbef8fcde1669b\", element=\"16c22e6a-9f94-4abd-9585-37ea6f6caa2f\")>,\n",
       " <selenium.webdriver.remote.webelement.WebElement (session=\"bd2ef560e6136622a3fbef8fcde1669b\", element=\"715a2e6a-40ae-458e-b4ee-2d2f5c31552a\")>,\n",
       " <selenium.webdriver.remote.webelement.WebElement (session=\"bd2ef560e6136622a3fbef8fcde1669b\", element=\"45b3f298-478d-4abe-a58d-8eb8391008fd\")>,\n",
       " <selenium.webdriver.remote.webelement.WebElement (session=\"bd2ef560e6136622a3fbef8fcde1669b\", element=\"58efd180-63c8-4cd1-b7e1-23665ccda53d\")>,\n",
       " <selenium.webdriver.remote.webelement.WebElement (session=\"bd2ef560e6136622a3fbef8fcde1669b\", element=\"83871746-a068-42e6-992a-fae6d7d70d73\")>,\n",
       " <selenium.webdriver.remote.webelement.WebElement (session=\"bd2ef560e6136622a3fbef8fcde1669b\", element=\"51ebbc7d-7ecf-4ee8-a341-beadcbe5009b\")>,\n",
       " <selenium.webdriver.remote.webelement.WebElement (session=\"bd2ef560e6136622a3fbef8fcde1669b\", element=\"24fc7237-5a24-4798-8c48-4554deb0b1a0\")>,\n",
       " <selenium.webdriver.remote.webelement.WebElement (session=\"bd2ef560e6136622a3fbef8fcde1669b\", element=\"a71b4a3b-ad0b-4bc8-942a-f9f44bdb58e6\")>,\n",
       " <selenium.webdriver.remote.webelement.WebElement (session=\"bd2ef560e6136622a3fbef8fcde1669b\", element=\"d43dc9b3-545c-49d9-a0f0-f4d5c81bebbe\")>,\n",
       " <selenium.webdriver.remote.webelement.WebElement (session=\"bd2ef560e6136622a3fbef8fcde1669b\", element=\"2e0c5697-5871-4529-8cff-8787c4749dff\")>,\n",
       " <selenium.webdriver.remote.webelement.WebElement (session=\"bd2ef560e6136622a3fbef8fcde1669b\", element=\"315c863c-c974-4769-a885-b254928a85f6\")>,\n",
       " <selenium.webdriver.remote.webelement.WebElement (session=\"bd2ef560e6136622a3fbef8fcde1669b\", element=\"b0404113-fda9-4718-96da-d203503d222c\")>,\n",
       " <selenium.webdriver.remote.webelement.WebElement (session=\"bd2ef560e6136622a3fbef8fcde1669b\", element=\"28f18d36-90a1-45ab-b3bf-71b341803cef\")>,\n",
       " <selenium.webdriver.remote.webelement.WebElement (session=\"bd2ef560e6136622a3fbef8fcde1669b\", element=\"25cc7db1-0fc3-499a-bdb5-c4395536f5fb\")>,\n",
       " <selenium.webdriver.remote.webelement.WebElement (session=\"bd2ef560e6136622a3fbef8fcde1669b\", element=\"1a5d5492-8c5f-4696-a96e-6cdc80b5d3cd\")>,\n",
       " <selenium.webdriver.remote.webelement.WebElement (session=\"bd2ef560e6136622a3fbef8fcde1669b\", element=\"b4a4b3ee-d105-4dc2-b10f-62c1f26826bd\")>,\n",
       " <selenium.webdriver.remote.webelement.WebElement (session=\"bd2ef560e6136622a3fbef8fcde1669b\", element=\"879cc226-13c0-444e-a701-c11073299721\")>,\n",
       " <selenium.webdriver.remote.webelement.WebElement (session=\"bd2ef560e6136622a3fbef8fcde1669b\", element=\"ec851309-d53d-49d0-9f0e-e34eba6545a2\")>,\n",
       " <selenium.webdriver.remote.webelement.WebElement (session=\"bd2ef560e6136622a3fbef8fcde1669b\", element=\"4ed71e12-da85-453e-946b-82f595dd72d7\")>,\n",
       " <selenium.webdriver.remote.webelement.WebElement (session=\"bd2ef560e6136622a3fbef8fcde1669b\", element=\"802618fc-8c5b-41fd-b987-02e38682af9e\")>,\n",
       " <selenium.webdriver.remote.webelement.WebElement (session=\"bd2ef560e6136622a3fbef8fcde1669b\", element=\"2854d188-5b42-4baa-9361-8e18a634a306\")>,\n",
       " <selenium.webdriver.remote.webelement.WebElement (session=\"bd2ef560e6136622a3fbef8fcde1669b\", element=\"f893f7a9-b439-4789-9a17-6757880449bc\")>,\n",
       " <selenium.webdriver.remote.webelement.WebElement (session=\"bd2ef560e6136622a3fbef8fcde1669b\", element=\"b43bcffa-f145-4dde-9d0b-56184076a7a9\")>,\n",
       " <selenium.webdriver.remote.webelement.WebElement (session=\"bd2ef560e6136622a3fbef8fcde1669b\", element=\"c9a83554-2775-451a-b748-85e6f2d84fa2\")>,\n",
       " <selenium.webdriver.remote.webelement.WebElement (session=\"bd2ef560e6136622a3fbef8fcde1669b\", element=\"9001ec6c-5164-4487-b46d-4053fdfb2eb7\")>,\n",
       " <selenium.webdriver.remote.webelement.WebElement (session=\"bd2ef560e6136622a3fbef8fcde1669b\", element=\"b2edb4d3-6371-4afd-baf7-12cc6a80b1d3\")>,\n",
       " <selenium.webdriver.remote.webelement.WebElement (session=\"bd2ef560e6136622a3fbef8fcde1669b\", element=\"78e5dfb2-5f6e-477c-b021-463b1eae05d7\")>,\n",
       " <selenium.webdriver.remote.webelement.WebElement (session=\"bd2ef560e6136622a3fbef8fcde1669b\", element=\"dac84e78-34ef-43ee-943d-b4dd15d17cbf\")>,\n",
       " <selenium.webdriver.remote.webelement.WebElement (session=\"bd2ef560e6136622a3fbef8fcde1669b\", element=\"7daa1dcc-868e-46f5-a7ef-2ad4159893ab\")>,\n",
       " <selenium.webdriver.remote.webelement.WebElement (session=\"bd2ef560e6136622a3fbef8fcde1669b\", element=\"2ff748f2-6673-42ef-8409-d89d4c5a0534\")>,\n",
       " <selenium.webdriver.remote.webelement.WebElement (session=\"bd2ef560e6136622a3fbef8fcde1669b\", element=\"16a30de4-c51b-445a-8e88-03c4d35295a0\")>,\n",
       " <selenium.webdriver.remote.webelement.WebElement (session=\"bd2ef560e6136622a3fbef8fcde1669b\", element=\"5935c9af-a842-4066-8636-47ad294fd5cc\")>,\n",
       " <selenium.webdriver.remote.webelement.WebElement (session=\"bd2ef560e6136622a3fbef8fcde1669b\", element=\"73ca14ff-cca9-4d44-9f76-1cdc6943a11c\")>,\n",
       " <selenium.webdriver.remote.webelement.WebElement (session=\"bd2ef560e6136622a3fbef8fcde1669b\", element=\"8cfc163d-01e5-4424-8dfb-a41f66ec85da\")>,\n",
       " <selenium.webdriver.remote.webelement.WebElement (session=\"bd2ef560e6136622a3fbef8fcde1669b\", element=\"69c0f825-5466-44f5-a9c2-e1b504cd8d78\")>,\n",
       " <selenium.webdriver.remote.webelement.WebElement (session=\"bd2ef560e6136622a3fbef8fcde1669b\", element=\"007f200a-f2f9-49c3-a7b9-47e7ac092c51\")>]"
      ]
     },
     "execution_count": 124,
     "metadata": {},
     "output_type": "execute_result"
    }
   ],
   "source": [
    "# attrs : BS\n",
    "# get_attribute(src)\n",
    "# get_attribute('href')\n",
    "\n",
    "makers = driver.find_elements_by_css_selector('#_vendor_select_layer > div > div.maker_group > div.emblem_area > ul > li')\n",
    "makers"
   ]
  },
  {
   "cell_type": "code",
   "execution_count": 125,
   "metadata": {
    "scrolled": true
   },
   "outputs": [
    {
     "name": "stdout",
     "output_type": "stream",
     "text": [
      "현대\n",
      "https://imgauto-phinf.pstatic.net/20180529_88/auto_1527592677868AxMTJ_PNG/20180529201748_nbVe4EOk.png?type=f30_30\n",
      "https://auto.naver.com/company/main.nhn?mnfcoNo=16&importYn=N\n",
      "기아\n",
      "https://imgauto-phinf.pstatic.net/20210107_250/auto_16099798594392UWMl_PNG/20210107093730_Bmgw8HVj.png?type=f30_30\n",
      "https://auto.naver.com/company/main.nhn?mnfcoNo=12&importYn=N\n",
      "제네시스\n",
      "https://imgauto-phinf.pstatic.net/20210302_296/auto_1614669701772Y34jY_PNG/20210302162133_MyAzBxsu.png?type=f30_30\n",
      "https://auto.naver.com/company/main.nhn?mnfcoNo=61321&importYn=N\n",
      "르노삼성\n",
      "https://imgauto-phinf.pstatic.net/20170707_188/auto_14994089761732i2AM_PNG/20170707152934_4UQVPJ4f.png?type=f30_30\n",
      "https://auto.naver.com/company/main.nhn?mnfcoNo=15&importYn=N\n",
      "쌍용\n",
      "https://imgauto-phinf.pstatic.net/20170707_290/auto_14994089867715m7Kc_PNG/20170707152945_ov1NwuMf.png?type=f30_30\n",
      "https://auto.naver.com/company/main.nhn?mnfcoNo=13&importYn=N\n",
      "폭스바겐\n",
      "https://imgauto-phinf.pstatic.net/20200422_10/auto_15875288567367G6VE_PNG/20200422131406_lmRMWJht.png?type=f30_30\n",
      "https://auto.naver.com/company/main.nhn?mnfcoNo=20&importYn=Y\n",
      "벤츠\n",
      "https://imgauto-phinf.pstatic.net/20170707_151/auto_1499404806991Xuw2o_PNG/20170707142004_4ANaTv3h.png?type=f30_30\n",
      "https://auto.naver.com/company/main.nhn?mnfcoNo=21&importYn=Y\n",
      "BMW\n",
      "https://imgauto-phinf.pstatic.net/20200310_214/auto_1583815678479PKzIr_PNG/20200310134752_3hMT5CTc.png?type=f30_30\n",
      "https://auto.naver.com/company/main.nhn?mnfcoNo=23&importYn=Y\n",
      "아우디\n",
      "https://imgauto-phinf.pstatic.net/20170707_207/auto_1499404828979BICft_PNG/20170707142026_ovRGcdML.png?type=f30_30\n",
      "https://auto.naver.com/company/main.nhn?mnfcoNo=18&importYn=Y\n",
      "렉서스\n",
      "https://imgauto-phinf.pstatic.net/20170707_52/auto_14994086479909zBvg_PNG/20170707152405_Q81trl9v.png?type=f30_30\n",
      "https://auto.naver.com/company/main.nhn?mnfcoNo=22&importYn=Y\n",
      "토요타\n",
      "https://imgauto-phinf.pstatic.net/20210106_265/auto_16098924526573ov6n_PNG/20210106092042_1U9hpa8L.png?type=f30_30\n",
      "https://auto.naver.com/company/main.nhn?mnfcoNo=41&importYn=Y\n",
      "혼다\n",
      "https://imgauto-phinf.pstatic.net/20170707_163/auto_1499412516283v1k4a_PNG/20170707162834_NTGXoypb.png?type=f30_30\n",
      "https://auto.naver.com/company/main.nhn?mnfcoNo=31&importYn=Y\n",
      "볼보\n",
      "https://imgauto-phinf.pstatic.net/20170707_20/auto_1499407892646zwj3j_PNG/20170707151130_ECGx0tRI.png?type=f30_30\n",
      "https://auto.naver.com/company/main.nhn?mnfcoNo=24&importYn=Y\n",
      "미니\n",
      "https://imgauto-phinf.pstatic.net/20170718_248/auto_1500352107292eUlzC_PNG/20170718132824_jfupLnkX.png?type=f30_30\n",
      "https://auto.naver.com/company/main.nhn?mnfcoNo=6435&importYn=Y\n",
      "재규어\n",
      "https://imgauto-phinf.pstatic.net/20200210_83/auto_1581307501553E0yRR_PNG/20200210130456_nFc7LE10.png?type=f30_30\n",
      "https://auto.naver.com/company/main.nhn?mnfcoNo=25&importYn=Y\n",
      "랜드로버\n",
      "https://imgauto-phinf.pstatic.net/20170707_56/auto_1499407965482n6u8s_PNG/20170707151243_JgB80ept.png?type=f30_30\n",
      "https://auto.naver.com/company/main.nhn?mnfcoNo=39&importYn=Y\n",
      "포드\n",
      "https://imgauto-phinf.pstatic.net/20210105_233/auto_1609826474487Qo1XI_PNG/20210105150107_0owl8Al4.png?type=f30_30\n",
      "https://auto.naver.com/company/main.nhn?mnfcoNo=30&importYn=Y\n",
      "링컨\n",
      "https://imgauto-phinf.pstatic.net/20200210_259/auto_1581306902625KDGxC_PNG/20200210125456_MTfaDdcX.png?type=f30_30\n",
      "https://auto.naver.com/company/main.nhn?mnfcoNo=35&importYn=Y\n",
      "쉐보레\n",
      "https://imgauto-phinf.pstatic.net/20200210_175/auto_15813076774623FdaV_PNG/20200210130752_EvOsbnkP.png?type=f30_30\n",
      "https://auto.naver.com/company/main.nhn?mnfcoNo=48&importYn=Y\n",
      "캐딜락\n",
      "https://imgauto-phinf.pstatic.net/20200210_173/auto_1581307884356S76fk_PNG/20200210131119_926jfS5j.png?type=f30_30\n",
      "https://auto.naver.com/company/main.nhn?mnfcoNo=19&importYn=Y\n",
      "테슬라\n",
      "https://imgauto-phinf.pstatic.net/20200207_106/auto_1581062693327I8zB8_PNG/20200207170452_onbaYnni.png?type=f30_30\n",
      "https://auto.naver.com/company/main.nhn?mnfcoNo=29832&importYn=Y\n",
      "지프\n",
      "https://imgauto-phinf.pstatic.net/20210105_78/auto_1609827518081uIbLF_PNG/20210105151828_vhnCFC3o.png?type=f30_30\n",
      "https://auto.naver.com/company/main.nhn?mnfcoNo=40&importYn=Y\n",
      "르노\n",
      "https://imgauto-phinf.pstatic.net/20170707_144/auto_1499408879255Wd6hc_PNG/20170707152757_lWFu4xfw.png?type=f30_30\n",
      "https://auto.naver.com/company/main.nhn?mnfcoNo=3847&importYn=Y\n",
      "푸조\n",
      "https://imgauto-phinf.pstatic.net/20210226_26/auto_1614310028069dFaSb_PNG/20210226122657_FXxr6OOE.png?type=f30_30\n",
      "https://auto.naver.com/company/main.nhn?mnfcoNo=28&importYn=Y\n",
      "시트로엥\n",
      "https://imgauto-phinf.pstatic.net/20181108_18/auto_1541652035025xL7p3_PNG/20181108133955_yc5nqMrw.png?type=f30_30\n",
      "https://auto.naver.com/company/main.nhn?mnfcoNo=3848&importYn=Y\n",
      "DS\n",
      "https://imgauto-phinf.pstatic.net/20190107_113/auto_1546853570990Bvdb4_PNG/20190107182820_B7nzxr1b.png?type=f30_30\n",
      "https://auto.naver.com/company/main.nhn?mnfcoNo=128687&importYn=Y\n",
      "마세라티\n",
      "https://imgauto-phinf.pstatic.net/20200204_64/auto_15807923347514cszg_PNG/20200204135847_DtWGDHvi.png?type=f30_30\n",
      "https://auto.naver.com/company/main.nhn?mnfcoNo=3976&importYn=Y\n",
      "포르쉐\n",
      "https://imgauto-phinf.pstatic.net/20170707_204/auto_1499412493946IUcqn_PNG/20170707162812_UHBa49m6.png?type=f30_30\n",
      "https://auto.naver.com/company/main.nhn?mnfcoNo=3905&importYn=Y\n",
      "람보르기니\n",
      "https://imgauto-phinf.pstatic.net/20170707_125/auto_14994122235148asnx_PNG/20170707162341_CqMN8SjK.png?type=f30_30\n",
      "https://auto.naver.com/company/main.nhn?mnfcoNo=3814&importYn=Y\n",
      "페라리\n",
      "https://imgauto-phinf.pstatic.net/20170707_281/auto_1499408535368ecSNr_PNG/20170707152213_nyTypfsh.png?type=f30_30\n",
      "https://auto.naver.com/company/main.nhn?mnfcoNo=27&importYn=Y\n",
      "맥라렌\n",
      "https://imgauto-phinf.pstatic.net/20190926_229/auto_15694874534572Fs1o_PNG/20190926174407_RwH9JfF9.png?type=f30_30\n",
      "https://auto.naver.com/company/main.nhn?mnfcoNo=29978&importYn=Y\n",
      "부가티\n",
      "https://imgauto-phinf.pstatic.net/20170707_285/auto_1499408935383JGknW_PNG/20170707152853_4k680tvB.png?type=f30_30\n",
      "https://auto.naver.com/company/main.nhn?mnfcoNo=58745&importYn=Y\n",
      "애스턴마틴\n",
      "https://imgauto-phinf.pstatic.net/20170707_46/auto_1499408032205ouvHE_PNG/20170707151349_r4p7RZOj.png?type=f30_30\n",
      "https://auto.naver.com/company/main.nhn?mnfcoNo=3827&importYn=Y\n",
      "마이바흐\n",
      "https://imgauto-phinf.pstatic.net/20170707_277/auto_1499412250805hiM8q_PNG/20170707162409_mSzWlZ24.png?type=f30_30\n",
      "https://auto.naver.com/company/main.nhn?mnfcoNo=6434&importYn=Y\n",
      "롤스로이스\n",
      "https://imgauto-phinf.pstatic.net/20170707_262/auto_14994080191477VFT5_PNG/20170707151337_vgZPLDwZ.png?type=f30_30\n",
      "https://auto.naver.com/company/main.nhn?mnfcoNo=3824&importYn=Y\n",
      "벤틀리\n",
      "https://imgauto-phinf.pstatic.net/20170707_290/auto_1499408006740euBhj_PNG/20170707151324_gQBpIQqz.png?type=f30_30\n",
      "https://auto.naver.com/company/main.nhn?mnfcoNo=4129&importYn=Y\n",
      "닛산\n",
      "https://imgauto-phinf.pstatic.net/20210105_89/auto_1609825595273uqmlr_PNG/20210105144621_ezZp9kFk.png?type=f30_30\n",
      "https://auto.naver.com/company/main.nhn?mnfcoNo=33&importYn=Y\n",
      "로터스\n",
      "https://imgauto-phinf.pstatic.net/20170707_97/auto_1499408040746dxIos_PNG/20170707151359_E4SArp8Q.png?type=f30_30\n",
      "https://auto.naver.com/company/main.nhn?mnfcoNo=4040&importYn=Y\n",
      "마쯔다\n",
      "https://imgauto-phinf.pstatic.net/20170707_140/auto_14994122738541Fk5N_PNG/20170707162432_2Lw7mMJS.png?type=f30_30\n",
      "https://auto.naver.com/company/main.nhn?mnfcoNo=42&importYn=Y\n",
      "미쓰비시\n",
      "https://imgauto-phinf.pstatic.net/20200207_201/auto_1581062586549FXM8u_PNG/20200207170304_BOBWwF1a.png?type=f30_30\n",
      "https://auto.naver.com/company/main.nhn?mnfcoNo=37&importYn=Y\n",
      "복스홀\n",
      "https://imgauto-phinf.pstatic.net/20200821_129/auto_1597968282651s2erz_PNG/20200821090431_zWaArvD8.png?type=f30_30\n",
      "https://auto.naver.com/company/main.nhn?mnfcoNo=29989&importYn=Y\n",
      "뷰익\n",
      "https://imgauto-phinf.pstatic.net/20170707_147/auto_1499405021719vSD1c_PNG/20170707142339_e4H9pYvp.png?type=f30_30\n",
      "https://auto.naver.com/company/main.nhn?mnfcoNo=43&importYn=Y\n"
     ]
    }
   ],
   "source": [
    "for maker in makers :\n",
    "    brandname = maker.find_element_by_tag_name('span').text\n",
    "    #print(brandname)\n",
    "    if brandname != '' :\n",
    "        print(brandname.strip())\n",
    "        img = maker.find_element_by_tag_name('img').get_attribute('src')\n",
    "        print(img)\n",
    "        link = maker.find_element_by_tag_name('a').get_attribute('href')\n",
    "        print(link)"
   ]
  },
  {
   "cell_type": "markdown",
   "metadata": {},
   "source": [
    "- 전체 제조사의 모든 페이지 가져오기"
   ]
  },
  {
   "cell_type": "code",
   "execution_count": 126,
   "metadata": {},
   "outputs": [
    {
     "name": "stdout",
     "output_type": "stream",
     "text": [
      "True\n"
     ]
    }
   ],
   "source": [
    "# nextBtn\n",
    "\n",
    "nextBtn = driver.find_element_by_css_selector('#_vendor_select_layer > div > div.maker_group > div.rolling_btn > button.next')\n",
    "isFlag = nextBtn.is_enabled()\n",
    "print(isFlag)"
   ]
  },
  {
   "cell_type": "code",
   "execution_count": 127,
   "metadata": {},
   "outputs": [
    {
     "name": "stdout",
     "output_type": "stream",
     "text": [
      "현대\n",
      "https://imgauto-phinf.pstatic.net/20180529_88/auto_1527592677868AxMTJ_PNG/20180529201748_nbVe4EOk.png?type=f30_30\n",
      "https://auto.naver.com/company/main.nhn?mnfcoNo=16&importYn=N\n",
      "\n",
      "https://imgauto-phinf.pstatic.net/20210107_250/auto_16099798594392UWMl_PNG/20210107093730_Bmgw8HVj.png?type=f30_30\n",
      "https://auto.naver.com/company/main.nhn?mnfcoNo=12&importYn=N\n",
      "\n",
      "https://imgauto-phinf.pstatic.net/20210302_296/auto_1614669701772Y34jY_PNG/20210302162133_MyAzBxsu.png?type=f30_30\n",
      "https://auto.naver.com/company/main.nhn?mnfcoNo=61321&importYn=N\n",
      "\n",
      "https://imgauto-phinf.pstatic.net/20170707_188/auto_14994089761732i2AM_PNG/20170707152934_4UQVPJ4f.png?type=f30_30\n",
      "https://auto.naver.com/company/main.nhn?mnfcoNo=15&importYn=N\n",
      "\n",
      "https://imgauto-phinf.pstatic.net/20170707_290/auto_14994089867715m7Kc_PNG/20170707152945_ov1NwuMf.png?type=f30_30\n",
      "https://auto.naver.com/company/main.nhn?mnfcoNo=13&importYn=N\n",
      "\n",
      "https://imgauto-phinf.pstatic.net/20200422_10/auto_15875288567367G6VE_PNG/20200422131406_lmRMWJht.png?type=f30_30\n",
      "https://auto.naver.com/company/main.nhn?mnfcoNo=20&importYn=Y\n",
      "\n",
      "https://imgauto-phinf.pstatic.net/20170707_151/auto_1499404806991Xuw2o_PNG/20170707142004_4ANaTv3h.png?type=f30_30\n",
      "https://auto.naver.com/company/main.nhn?mnfcoNo=21&importYn=Y\n",
      "\n",
      "https://imgauto-phinf.pstatic.net/20200310_214/auto_1583815678479PKzIr_PNG/20200310134752_3hMT5CTc.png?type=f30_30\n",
      "https://auto.naver.com/company/main.nhn?mnfcoNo=23&importYn=Y\n",
      "\n",
      "https://imgauto-phinf.pstatic.net/20170707_207/auto_1499404828979BICft_PNG/20170707142026_ovRGcdML.png?type=f30_30\n",
      "https://auto.naver.com/company/main.nhn?mnfcoNo=18&importYn=Y\n",
      "\n",
      "https://imgauto-phinf.pstatic.net/20170707_52/auto_14994086479909zBvg_PNG/20170707152405_Q81trl9v.png?type=f30_30\n",
      "https://auto.naver.com/company/main.nhn?mnfcoNo=22&importYn=Y\n",
      "\n",
      "https://imgauto-phinf.pstatic.net/20210106_265/auto_16098924526573ov6n_PNG/20210106092042_1U9hpa8L.png?type=f30_30\n",
      "https://auto.naver.com/company/main.nhn?mnfcoNo=41&importYn=Y\n",
      "\n",
      "https://imgauto-phinf.pstatic.net/20170707_163/auto_1499412516283v1k4a_PNG/20170707162834_NTGXoypb.png?type=f30_30\n",
      "https://auto.naver.com/company/main.nhn?mnfcoNo=31&importYn=Y\n",
      "\n",
      "https://imgauto-phinf.pstatic.net/20170707_20/auto_1499407892646zwj3j_PNG/20170707151130_ECGx0tRI.png?type=f30_30\n",
      "https://auto.naver.com/company/main.nhn?mnfcoNo=24&importYn=Y\n",
      "\n",
      "https://imgauto-phinf.pstatic.net/20170718_248/auto_1500352107292eUlzC_PNG/20170718132824_jfupLnkX.png?type=f30_30\n",
      "https://auto.naver.com/company/main.nhn?mnfcoNo=6435&importYn=Y\n",
      "\n",
      "https://imgauto-phinf.pstatic.net/20200210_83/auto_1581307501553E0yRR_PNG/20200210130456_nFc7LE10.png?type=f30_30\n",
      "https://auto.naver.com/company/main.nhn?mnfcoNo=25&importYn=Y\n",
      "\n",
      "https://imgauto-phinf.pstatic.net/20170707_56/auto_1499407965482n6u8s_PNG/20170707151243_JgB80ept.png?type=f30_30\n",
      "https://auto.naver.com/company/main.nhn?mnfcoNo=39&importYn=Y\n",
      "\n",
      "https://imgauto-phinf.pstatic.net/20210105_233/auto_1609826474487Qo1XI_PNG/20210105150107_0owl8Al4.png?type=f30_30\n",
      "https://auto.naver.com/company/main.nhn?mnfcoNo=30&importYn=Y\n",
      "\n",
      "https://imgauto-phinf.pstatic.net/20200210_259/auto_1581306902625KDGxC_PNG/20200210125456_MTfaDdcX.png?type=f30_30\n",
      "https://auto.naver.com/company/main.nhn?mnfcoNo=35&importYn=Y\n",
      "\n",
      "https://imgauto-phinf.pstatic.net/20200210_175/auto_15813076774623FdaV_PNG/20200210130752_EvOsbnkP.png?type=f30_30\n",
      "https://auto.naver.com/company/main.nhn?mnfcoNo=48&importYn=Y\n",
      "\n",
      "https://imgauto-phinf.pstatic.net/20200210_173/auto_1581307884356S76fk_PNG/20200210131119_926jfS5j.png?type=f30_30\n",
      "https://auto.naver.com/company/main.nhn?mnfcoNo=19&importYn=Y\n",
      "\n",
      "https://imgauto-phinf.pstatic.net/20200207_106/auto_1581062693327I8zB8_PNG/20200207170452_onbaYnni.png?type=f30_30\n",
      "https://auto.naver.com/company/main.nhn?mnfcoNo=29832&importYn=Y\n",
      "\n",
      "https://imgauto-phinf.pstatic.net/20210105_78/auto_1609827518081uIbLF_PNG/20210105151828_vhnCFC3o.png?type=f30_30\n",
      "https://auto.naver.com/company/main.nhn?mnfcoNo=40&importYn=Y\n",
      "\n",
      "https://imgauto-phinf.pstatic.net/20170707_144/auto_1499408879255Wd6hc_PNG/20170707152757_lWFu4xfw.png?type=f30_30\n",
      "https://auto.naver.com/company/main.nhn?mnfcoNo=3847&importYn=Y\n",
      "\n",
      "https://imgauto-phinf.pstatic.net/20210226_26/auto_1614310028069dFaSb_PNG/20210226122657_FXxr6OOE.png?type=f30_30\n",
      "https://auto.naver.com/company/main.nhn?mnfcoNo=28&importYn=Y\n",
      "\n",
      "https://imgauto-phinf.pstatic.net/20181108_18/auto_1541652035025xL7p3_PNG/20181108133955_yc5nqMrw.png?type=f30_30\n",
      "https://auto.naver.com/company/main.nhn?mnfcoNo=3848&importYn=Y\n",
      "\n",
      "https://imgauto-phinf.pstatic.net/20190107_113/auto_1546853570990Bvdb4_PNG/20190107182820_B7nzxr1b.png?type=f30_30\n",
      "https://auto.naver.com/company/main.nhn?mnfcoNo=128687&importYn=Y\n",
      "\n",
      "https://imgauto-phinf.pstatic.net/20200204_64/auto_15807923347514cszg_PNG/20200204135847_DtWGDHvi.png?type=f30_30\n",
      "https://auto.naver.com/company/main.nhn?mnfcoNo=3976&importYn=Y\n",
      "\n",
      "https://imgauto-phinf.pstatic.net/20170707_204/auto_1499412493946IUcqn_PNG/20170707162812_UHBa49m6.png?type=f30_30\n",
      "https://auto.naver.com/company/main.nhn?mnfcoNo=3905&importYn=Y\n",
      "\n",
      "https://imgauto-phinf.pstatic.net/20170707_125/auto_14994122235148asnx_PNG/20170707162341_CqMN8SjK.png?type=f30_30\n",
      "https://auto.naver.com/company/main.nhn?mnfcoNo=3814&importYn=Y\n",
      "\n",
      "https://imgauto-phinf.pstatic.net/20170707_281/auto_1499408535368ecSNr_PNG/20170707152213_nyTypfsh.png?type=f30_30\n",
      "https://auto.naver.com/company/main.nhn?mnfcoNo=27&importYn=Y\n",
      "\n",
      "https://imgauto-phinf.pstatic.net/20190926_229/auto_15694874534572Fs1o_PNG/20190926174407_RwH9JfF9.png?type=f30_30\n",
      "https://auto.naver.com/company/main.nhn?mnfcoNo=29978&importYn=Y\n",
      "\n",
      "https://imgauto-phinf.pstatic.net/20170707_285/auto_1499408935383JGknW_PNG/20170707152853_4k680tvB.png?type=f30_30\n",
      "https://auto.naver.com/company/main.nhn?mnfcoNo=58745&importYn=Y\n",
      "\n",
      "https://imgauto-phinf.pstatic.net/20170707_46/auto_1499408032205ouvHE_PNG/20170707151349_r4p7RZOj.png?type=f30_30\n",
      "https://auto.naver.com/company/main.nhn?mnfcoNo=3827&importYn=Y\n",
      "\n",
      "https://imgauto-phinf.pstatic.net/20170707_277/auto_1499412250805hiM8q_PNG/20170707162409_mSzWlZ24.png?type=f30_30\n",
      "https://auto.naver.com/company/main.nhn?mnfcoNo=6434&importYn=Y\n",
      "\n",
      "https://imgauto-phinf.pstatic.net/20170707_262/auto_14994080191477VFT5_PNG/20170707151337_vgZPLDwZ.png?type=f30_30\n",
      "https://auto.naver.com/company/main.nhn?mnfcoNo=3824&importYn=Y\n",
      "\n",
      "https://imgauto-phinf.pstatic.net/20170707_290/auto_1499408006740euBhj_PNG/20170707151324_gQBpIQqz.png?type=f30_30\n",
      "https://auto.naver.com/company/main.nhn?mnfcoNo=4129&importYn=Y\n",
      "\n",
      "https://imgauto-phinf.pstatic.net/20210105_89/auto_1609825595273uqmlr_PNG/20210105144621_ezZp9kFk.png?type=f30_30\n",
      "https://auto.naver.com/company/main.nhn?mnfcoNo=33&importYn=Y\n",
      "\n",
      "https://imgauto-phinf.pstatic.net/20170707_97/auto_1499408040746dxIos_PNG/20170707151359_E4SArp8Q.png?type=f30_30\n",
      "https://auto.naver.com/company/main.nhn?mnfcoNo=4040&importYn=Y\n",
      "\n",
      "https://imgauto-phinf.pstatic.net/20170707_140/auto_14994122738541Fk5N_PNG/20170707162432_2Lw7mMJS.png?type=f30_30\n",
      "https://auto.naver.com/company/main.nhn?mnfcoNo=42&importYn=Y\n",
      "\n",
      "https://imgauto-phinf.pstatic.net/20200207_201/auto_1581062586549FXM8u_PNG/20200207170304_BOBWwF1a.png?type=f30_30\n",
      "https://auto.naver.com/company/main.nhn?mnfcoNo=37&importYn=Y\n",
      "\n",
      "https://imgauto-phinf.pstatic.net/20200821_129/auto_1597968282651s2erz_PNG/20200821090431_zWaArvD8.png?type=f30_30\n",
      "https://auto.naver.com/company/main.nhn?mnfcoNo=29989&importYn=Y\n",
      "\n",
      "https://imgauto-phinf.pstatic.net/20170707_147/auto_1499405021719vSD1c_PNG/20170707142339_e4H9pYvp.png?type=f30_30\n",
      "https://auto.naver.com/company/main.nhn?mnfcoNo=43&importYn=Y\n",
      "\n",
      "https://imgauto-phinf.pstatic.net/20170707_104/auto_1499408712743NKvWH_PNG/20170707152511_ryy1kewy.png?type=f30_30\n",
      "https://auto.naver.com/company/main.nhn?mnfcoNo=4216&importYn=Y\n",
      "\n",
      "https://imgauto-phinf.pstatic.net/20170707_104/auto_1499408712743NKvWH_PNG/20170707152511_ryy1kewy.png?type=f30_30\n",
      "https://auto.naver.com/company/main.nhn?mnfcoNo=4216&importYn=Y\n",
      "\n",
      "https://imgauto-phinf.pstatic.net/20200207_163/auto_15810627550811c9O0_PNG/20200207170554_u2ARHCzH.png?type=f30_30\n",
      "https://auto.naver.com/company/main.nhn?mnfcoNo=29984&importYn=Y\n",
      "\n",
      "https://imgauto-phinf.pstatic.net/20170707_11/auto_1499412387959bLCns_PNG/20170707162626_tK89GYDm.png?type=f30_30\n",
      "https://auto.naver.com/company/main.nhn?mnfcoNo=6436&importYn=Y\n"
     ]
    },
    {
     "name": "stdout",
     "output_type": "stream",
     "text": [
      "\n",
      "https://imgauto-phinf.pstatic.net/20170707_53/auto_1499408737373X0jWs_PNG/20170707152535_JntJMtf5.png?type=f30_30\n",
      "https://auto.naver.com/company/main.nhn?mnfcoNo=47&importYn=Y\n",
      "\n",
      "https://imgauto-phinf.pstatic.net/20200207_20/auto_1581062642483UKzQM_PNG/20200207170400_zM4G637d.png?type=f30_30\n",
      "https://auto.naver.com/company/main.nhn?mnfcoNo=45&importYn=Y\n",
      "\n",
      "https://imgauto-phinf.pstatic.net/20170707_150/auto_1499409123559KOzYn_PNG/20170707153201_QTep1YX5.png?type=f30_30\n",
      "https://auto.naver.com/company/main.nhn?mnfcoNo=3801&importYn=Y\n",
      "\n",
      "https://imgauto-phinf.pstatic.net/20170707_72/auto_1499412427706Bg9cs_PNG/20170707162706_q48366un.png?type=f30_30\n",
      "https://auto.naver.com/company/main.nhn?mnfcoNo=29970&importYn=Y\n",
      "\n",
      "https://imgauto-phinf.pstatic.net/20170707_284/auto_1499408560120UeF0n_PNG/20170707152238_x4VSc2sG.png?type=f30_30\n",
      "https://auto.naver.com/company/main.nhn?mnfcoNo=3999&importYn=Y\n",
      "\n",
      "https://imgauto-phinf.pstatic.net/20200207_266/auto_1581063148320nIs7s_PNG/20200207171226_NieCim6p.png?type=f30_30\n",
      "https://auto.naver.com/company/main.nhn?mnfcoNo=32&importYn=Y\n",
      "\n",
      "https://imgauto-phinf.pstatic.net/20170707_139/auto_1499404932486f2IVY_PNG/20170707142209_v15S9fSs.png?type=f30_30\n",
      "https://auto.naver.com/company/main.nhn?mnfcoNo=29391&importYn=Y\n",
      "\n",
      "https://imgauto-phinf.pstatic.net/20200210_95/auto_1581306674631SNMPJ_PNG/20200210125113_R4XO3cwu.png?type=f30_30\n",
      "https://auto.naver.com/company/main.nhn?mnfcoNo=34&importYn=Y\n",
      "\n",
      "https://imgauto-phinf.pstatic.net/20200208_258/auto_1581173119469UkwfB_PNG/20200208234517_BGkBiNBO.png?type=f30_30\n",
      "https://auto.naver.com/company/main.nhn?mnfcoNo=3840&importYn=Y\n",
      "\n",
      "https://imgauto-phinf.pstatic.net/20170707_102/auto_1499404969175Xt4tE_PNG/20170707142247_LMjIk1J9.png?type=f30_30\n",
      "https://auto.naver.com/company/main.nhn?mnfcoNo=26&importYn=Y\n",
      "\n",
      "https://imgauto-phinf.pstatic.net/20170707_123/auto_1499408573816xLBii_PNG/20170707152251_YZhObKPq.png?type=f30_30\n",
      "https://auto.naver.com/company/main.nhn?mnfcoNo=3806&importYn=Y\n",
      "\n",
      "https://imgauto-phinf.pstatic.net/20170707_25/auto_1499407659377incPJ_PNG/20170707150737_vzt0sswp.png?type=f30_30\n",
      "https://auto.naver.com/company/main.nhn?mnfcoNo=36&importYn=Y\n",
      "\n",
      "https://imgauto-phinf.pstatic.net/20170707_102/auto_1499408515665IoYW8_PNG/20170707152153_lT2taJjm.png?type=f30_30\n",
      "https://auto.naver.com/company/main.nhn?mnfcoNo=4029&importYn=Y\n",
      "\n",
      "https://imgauto-phinf.pstatic.net/20170707_87/auto_1499409036592sgrr4_PNG/20170707153024_cFwSSgXp.png?type=f30_30\n",
      "https://auto.naver.com/company/main.nhn?mnfcoNo=14&importYn=N\n",
      "\n",
      "https://imgauto-phinf.pstatic.net/20170707_34/auto_1499409073844BSOi5_PNG/20170707153111_zS5x8t26.png?type=f30_30\n",
      "https://auto.naver.com/company/main.nhn?mnfcoNo=3785&importYn=Y\n",
      "\n",
      "https://imgauto-phinf.pstatic.net/20170707_145/auto_14994081868771CjUP_PNG/20170707151624_0ll1rGdd.png?type=f30_30\n",
      "https://auto.naver.com/company/main.nhn?mnfcoNo=60005&importYn=Y\n",
      "\n",
      "https://imgauto-phinf.pstatic.net/20200221_156/auto_1582269327003zeu6J_PNG/20200221161520_hAspAqiG.png?type=f30_30\n",
      "https://auto.naver.com/company/main.nhn?mnfcoNo=130511&importYn=Y\n",
      "\n",
      "https://imgauto-phinf.pstatic.net/20170707_217/auto_1499407860297jPlVx_PNG/20170707151058_g6AySSnH.png?type=f30_30\n",
      "https://auto.naver.com/company/main.nhn?mnfcoNo=29611&importYn=Y\n",
      "\n",
      "https://imgauto-phinf.pstatic.net/20191015_121/auto_1571113942694yscFv_PNG/20191015133051_08UeK0y5.png?type=f30_30\n",
      "https://auto.naver.com/company/main.nhn?mnfcoNo=133879&importYn=Y\n",
      "\n",
      "https://imgauto-phinf.pstatic.net/20170707_136/auto_1499404895918stvJX_PNG/20170707142134_UnVNmOpp.png?type=f30_30\n",
      "https://auto.naver.com/company/main.nhn?mnfcoNo=29981&importYn=Y\n",
      "\n",
      "https://imgauto-phinf.pstatic.net/20191210_236/auto_15759571204243pMHG_PNG/20191210145154_NhwFWaoj.png?type=f30_30\n",
      "https://auto.naver.com/company/main.nhn?mnfcoNo=124773&importYn=N\n",
      "\n",
      "https://imgauto-phinf.pstatic.net/20170707_259/auto_1499408490287wjnJT_PNG/20170707152128_cdRaC8Hv.png?type=f30_30\n",
      "https://auto.naver.com/company/main.nhn?mnfcoNo=61803&importYn=Y\n",
      "\n",
      "https://imgauto-phinf.pstatic.net/20200210_105/auto_15813228750495qUsB_PNG/20200210172110_KNyIgytv.png?type=f30_30\n",
      "https://auto.naver.com/company/main.nhn?mnfcoNo=137057&importYn=Y\n",
      "\n",
      "https://imgauto-phinf.pstatic.net/20170707_278/auto_1499409390581ih8Ux_PNG/20170707153628_29h29Juu.png?type=f30_30\n",
      "https://auto.naver.com/company/main.nhn?mnfcoNo=52403&importYn=Y\n",
      "\n",
      "https://imgauto-phinf.pstatic.net/20170707_126/auto_1499409049125MmfI6_PNG/20170707153046_XIwvROpo.png?type=f30_30\n",
      "https://auto.naver.com/company/main.nhn?mnfcoNo=53301&importYn=N\n",
      "\n",
      "https://imgauto-phinf.pstatic.net/20170707_262/auto_1499412122760yPNng_PNG/20170707162159_VucVLh3A.png?type=f30_30\n",
      "https://auto.naver.com/company/main.nhn?mnfcoNo=60307&importYn=Y\n",
      "\n",
      "https://imgauto-phinf.pstatic.net/20170707_184/auto_14994094318289evvG_PNG/20170707153709_NNvc9JqZ.png?type=f30_30\n",
      "https://auto.naver.com/company/main.nhn?mnfcoNo=54155&importYn=Y\n",
      "\n",
      "https://imgauto-phinf.pstatic.net/20200210_67/auto_1581307292040nlaFe_PNG/20200210130127_4DLUwYq7.png?type=f30_30\n",
      "https://auto.naver.com/company/main.nhn?mnfcoNo=121227&importYn=Y\n",
      "\n",
      "https://imgauto-phinf.pstatic.net/20170707_20/auto_1499408818108xNPO1_PNG/20170707152655_zUq7kRTi.png?type=f30_30\n",
      "https://auto.naver.com/company/main.nhn?mnfcoNo=29972&importYn=Y\n",
      "\n",
      "https://imgauto-phinf.pstatic.net/20170707_136/auto_1499412181497NFM0N_PNG/20170707162259_xFu5fJ2b.png?type=f30_30\n",
      "https://auto.naver.com/company/main.nhn?mnfcoNo=47943&importYn=Y\n",
      "\n",
      "https://imgauto-phinf.pstatic.net/20170707_247/auto_14994087703157QSFA_PNG/20170707152608_zhwkXiDy.png?type=f30_30\n",
      "https://auto.naver.com/company/main.nhn?mnfcoNo=59315&importYn=Y\n",
      "\n",
      "https://imgauto-phinf.pstatic.net/20210105_277/auto_1609827398528yEWd8_PNG/20210105151631_ymLlexSR.png?type=f30_30\n",
      "https://auto.naver.com/company/main.nhn?mnfcoNo=4188&importYn=Y\n",
      "\n",
      "https://imgauto-phinf.pstatic.net/20180115_79/auto_1515992936257HdgOO_PNG/20180115140756_FF47C8Fz.png?type=f30_30\n",
      "https://auto.naver.com/company/main.nhn?mnfcoNo=123175&importYn=N\n",
      "\n",
      "https://imgauto-phinf.pstatic.net/20170707_173/auto_1499409329500eXpKA_PNG/20170707153527_mT1ZRk2W.png?type=f30_30\n",
      "https://auto.naver.com/company/main.nhn?mnfcoNo=53987&importYn=Y\n",
      "\n",
      "https://imgauto-phinf.pstatic.net/20200207_13/auto_1581062071323CFRWD_PNG/20200207165426_pwEs6dqJ.png?type=f30_30\n",
      "https://auto.naver.com/company/main.nhn?mnfcoNo=121261&importYn=Y\n",
      "\n",
      "https://imgauto-phinf.pstatic.net/20170707_103/auto_14994078109468oio4_PNG/20170707151007_1SxxnbDM.png?type=f30_30\n",
      "https://auto.naver.com/company/main.nhn?mnfcoNo=56237&importYn=Y\n",
      "\n",
      "https://imgauto-phinf.pstatic.net/20170707_284/auto_1499412213684oeybM_PNG/20170707162331_zEYA1l6B.png?type=f30_30\n",
      "https://auto.naver.com/company/main.nhn?mnfcoNo=29975&importYn=Y\n",
      "\n",
      "https://imgauto-phinf.pstatic.net/20200207_18/auto_15810820933670zvR8_PNG/20200207222811_07OYz9qa.png?type=f30_30\n",
      "https://auto.naver.com/company/main.nhn?mnfcoNo=64245&importYn=Y\n",
      "\n",
      "https://imgauto-phinf.pstatic.net/20170831_269/auto_1504156295058lcqIu_PNG/20170831141108_1340zNJM.png?type=f30_30\n",
      "https://auto.naver.com/company/main.nhn?mnfcoNo=120951&importYn=Y\n",
      "\n",
      "https://imgauto-phinf.pstatic.net/20200207_198/auto_1581082216671z9LYw_PNG/20200207223015_ST3Q21EG.png?type=f30_30\n",
      "https://auto.naver.com/company/main.nhn?mnfcoNo=58801&importYn=Y\n",
      "\n",
      "https://imgauto-phinf.pstatic.net/20200207_198/auto_1581082216671z9LYw_PNG/20200207223015_ST3Q21EG.png?type=f30_30\n",
      "https://auto.naver.com/company/main.nhn?mnfcoNo=58801&importYn=Y\n",
      "\n",
      "https://imgauto-phinf.pstatic.net/20200312_130/auto_1583985867996twYPj_PNG/20200312130422_dJr47S7m.png?type=f30_30\n",
      "https://auto.naver.com/company/main.nhn?mnfcoNo=29985&importYn=Y\n",
      "\n",
      "https://imgauto-phinf.pstatic.net/20170707_278/auto_1499407767513qTUh8_PNG/20170707150925_HkonkERy.png?type=f30_30\n",
      "https://auto.naver.com/company/main.nhn?mnfcoNo=68685&importYn=Y\n",
      "\n",
      "https://imgauto-phinf.pstatic.net/20200214_45/auto_1581662472808bbu6I_PNG/20200214154056_NmDVDpS1.png?type=f30_30\n",
      "https://auto.naver.com/company/main.nhn?mnfcoNo=137215&importYn=Y\n",
      "\n",
      "https://imgauto-phinf.pstatic.net/20181207_216/auto_1544164747830l97hA_PNG/20181207153647_fY4SlFv8.png?type=f30_30\n",
      "https://auto.naver.com/company/main.nhn?mnfcoNo=128425&importYn=Y\n",
      "\n",
      "https://imgauto-phinf.pstatic.net/20200209_278/auto_1581249022448r3n1E_PNG/20200209205006_ynXI1Nh6.png?type=f30_30\n",
      "https://auto.naver.com/company/main.nhn?mnfcoNo=68379&importYn=Y\n",
      "\n",
      "https://imgauto-phinf.pstatic.net/20170707_263/auto_1499412238171gGBOt_PNG/20170707162356_bBOVNdQr.png?type=f30_30\n",
      "https://auto.naver.com/company/main.nhn?mnfcoNo=40077&importYn=Y\n",
      "\n",
      "https://imgauto-phinf.pstatic.net/20191121_297/auto_1574308680552c6zfL_PNG/20191121125758_6rcj9qlJ.png?type=f30_30\n",
      "https://auto.naver.com/company/main.nhn?mnfcoNo=68723&importYn=Y\n"
     ]
    },
    {
     "name": "stdout",
     "output_type": "stream",
     "text": [
      "\n",
      "https://imgauto-phinf.pstatic.net/20201123_230/auto_16060951075607XfsI_PNG/20201123103114_usoMoOke.png?type=f30_30\n",
      "https://auto.naver.com/company/main.nhn?mnfcoNo=142361&importYn=N\n",
      "\n",
      "https://imgauto-phinf.pstatic.net/20170707_147/auto_14994122638154gTdf_PNG/20170707162422_U0aBgPib.png?type=f30_30\n",
      "https://auto.naver.com/company/main.nhn?mnfcoNo=53655&importYn=Y\n",
      "\n",
      "https://imgauto-phinf.pstatic.net/20170707_254/auto_14994092090669QVOe_PNG/20170707153326_FHFsm6IC.png?type=f30_30\n",
      "https://auto.naver.com/company/main.nhn?mnfcoNo=29977&importYn=Y\n",
      "\n",
      "https://imgauto-phinf.pstatic.net/20170707_241/auto_1499404977610t00DP_PNG/20170707142255_B8NGbV0Z.png?type=f30_30\n",
      "https://auto.naver.com/company/main.nhn?mnfcoNo=44&importYn=Y\n",
      "\n",
      "https://imgauto-phinf.pstatic.net/20170707_300/auto_1499408478876tNryq_PNG/20170707152116_iWrNEnI9.png?type=f30_30\n",
      "https://auto.naver.com/company/main.nhn?mnfcoNo=29979&importYn=Y\n",
      "\n",
      "https://imgauto-phinf.pstatic.net/20200210_96/auto_1581314081266Cnkmu_PNG/20200210145439_yICsWt0E.png?type=f30_30\n",
      "https://auto.naver.com/company/main.nhn?mnfcoNo=50851&importYn=Y\n",
      "\n",
      "https://imgauto-phinf.pstatic.net/20170707_208/auto_1499408784547bOY03_PNG/20170707152619_tSg7f29y.png?type=f30_30\n",
      "https://auto.naver.com/company/main.nhn?mnfcoNo=30042&importYn=Y\n",
      "\n",
      "https://imgauto-phinf.pstatic.net/20200210_128/auto_1581308277567kECML_PNG/20200210131753_N42CAcjC.png?type=f30_30\n",
      "https://auto.naver.com/company/main.nhn?mnfcoNo=55877&importYn=Y\n",
      "\n",
      "https://imgauto-phinf.pstatic.net/20200207_281/auto_1581061657698LIroH_PNG/20200207164734_ftVkkxra.png?type=f30_30\n",
      "https://auto.naver.com/company/main.nhn?mnfcoNo=133923&importYn=Y\n",
      "\n",
      "https://imgauto-phinf.pstatic.net/20170707_259/auto_1499409319931Wzd1y_PNG/20170707153518_As5AXS3O.png?type=f30_30\n",
      "https://auto.naver.com/company/main.nhn?mnfcoNo=58887&importYn=Y\n",
      "\n",
      "https://imgauto-phinf.pstatic.net/20180411_60/auto_1523430450978ODcne_PNG/20180411160617_YV0ErKZJ.png?type=f30_30\n",
      "https://auto.naver.com/company/main.nhn?mnfcoNo=124709&importYn=Y\n",
      "\n",
      "https://imgauto-phinf.pstatic.net/20191029_66/auto_15723090139964eX49_PNG/20191029093004_Q5go4Ym6.png?type=f30_30\n",
      "https://auto.naver.com/company/main.nhn?mnfcoNo=134383&importYn=Y\n",
      "\n",
      "https://imgauto-phinf.pstatic.net/20170707_278/auto_1499412355131I11Su_PNG/20170707162553_KjlhrdTz.png?type=f30_30\n",
      "https://auto.naver.com/company/main.nhn?mnfcoNo=67995&importYn=Y\n",
      "\n",
      "https://imgauto-phinf.pstatic.net/20170707_206/auto_14994079093786h64f_PNG/20170707151147_LW68pfwx.png?type=f30_30\n",
      "https://auto.naver.com/company/main.nhn?mnfcoNo=29&importYn=Y\n",
      "\n",
      "https://imgauto-phinf.pstatic.net/20200210_192/auto_15813080566119WWqJ_PNG/20200210131415_alQOF3Z1.png?type=f30_30\n",
      "https://auto.naver.com/company/main.nhn?mnfcoNo=29982&importYn=Y\n",
      "\n",
      "https://imgauto-phinf.pstatic.net/20200210_231/auto_1581308022985FVq5P_PNG/20200210131341_xtnvGtat.png?type=f30_30\n",
      "https://auto.naver.com/company/main.nhn?mnfcoNo=46&importYn=Y\n",
      "\n",
      "https://imgauto-phinf.pstatic.net/20170707_139/auto_1499412378772VBuxw_PNG/20170707162616_i28urvPw.png?type=f30_30\n",
      "https://auto.naver.com/company/main.nhn?mnfcoNo=30040&importYn=Y\n",
      "\n",
      "https://imgauto-phinf.pstatic.net/20171117_6/auto_15108944213012sqek_PNG/20171117135337_okhoX9yu.png?type=f30_30\n",
      "https://auto.naver.com/company/main.nhn?mnfcoNo=29987&importYn=Y\n",
      "\n",
      "https://imgauto-phinf.pstatic.net/20210215_215/auto_1613355243080bYu7b_PNG/20210215111354_luSuSHxK.png?type=f30_30\n",
      "https://auto.naver.com/company/main.nhn?mnfcoNo=4057&importYn=N\n",
      "\n",
      "https://imgauto-phinf.pstatic.net/20170707_90/auto_1499409373521LXDcm_PNG/20170707153611_FnqvTDwz.png?type=f30_30\n",
      "https://auto.naver.com/company/main.nhn?mnfcoNo=54257&importYn=Y\n",
      "\n",
      "https://imgauto-phinf.pstatic.net/20200207_219/auto_1581061907075C3A9D_PNG/20200207165144_B2uiQdnu.png?type=f30_30\n",
      "https://auto.naver.com/company/main.nhn?mnfcoNo=135009&importYn=Y\n",
      "\n",
      "https://imgauto-phinf.pstatic.net/20170707_152/auto_1499404907190011zV_PNG/20170707142144_sZXlSGzG.png?type=f30_30\n",
      "https://auto.naver.com/company/main.nhn?mnfcoNo=29971&importYn=Y\n",
      "\n",
      "https://imgauto-phinf.pstatic.net/20200207_75/auto_15810622219719PsSv_PNG/20200207165656_n8G3TrSE.png?type=f30_30\n",
      "https://auto.naver.com/company/main.nhn?mnfcoNo=133877&importYn=Y\n",
      "\n",
      "https://imgauto-phinf.pstatic.net/20170707_86/auto_14994078796102jgdw_PNG/20170707151117_n3C9UdnT.png?type=f30_30\n",
      "https://auto.naver.com/company/main.nhn?mnfcoNo=55563&importYn=Y\n",
      "\n",
      "https://imgauto-phinf.pstatic.net/20200207_187/auto_1581082403368QwPlF_PNG/20200207223317_jkneS4lC.png?type=f30_30\n",
      "https://auto.naver.com/company/main.nhn?mnfcoNo=53657&importYn=Y\n",
      "\n",
      "https://imgauto-phinf.pstatic.net/20200207_53/auto_1581061534878IUMU2_PNG/20200207164530_tSFvxXxA.png?type=f30_30\n",
      "https://auto.naver.com/company/main.nhn?mnfcoNo=54157&importYn=Y\n",
      "\n",
      "https://imgauto-phinf.pstatic.net/20170707_171/auto_1499407850262MO9EF_PNG/20170707151047_o3L0uC3I.png?type=f30_30\n",
      "https://auto.naver.com/company/main.nhn?mnfcoNo=68661&importYn=Y\n",
      "\n",
      "https://imgauto-phinf.pstatic.net/20170707_281/auto_1499408795036YUKA0_PNG/20170707152632_M70yu1HH.png?type=f30_30\n",
      "https://auto.naver.com/company/main.nhn?mnfcoNo=29974&importYn=Y\n",
      "\n",
      "https://imgauto-phinf.pstatic.net/20170707_185/auto_1499412472207SHb04_PNG/20170707162750_FYueOIIh.png?type=f30_30\n",
      "https://auto.naver.com/company/main.nhn?mnfcoNo=19376&importYn=Y\n",
      "\n",
      "https://imgauto-phinf.pstatic.net/20170707_40/auto_1499408122405isThH_PNG/20170707151517_mKpxBHbh.png?type=f30_30\n",
      "https://auto.naver.com/company/main.nhn?mnfcoNo=61293&importYn=Y\n",
      "\n",
      "https://imgauto-phinf.pstatic.net/20170707_172/auto_1499407733495f9h1v_PNG/20170707150852_81y9Zbd2.png?type=f30_30\n",
      "https://auto.naver.com/company/main.nhn?mnfcoNo=29973&importYn=Y\n",
      "\n",
      "https://imgauto-phinf.pstatic.net/20170707_168/auto_14994048865712vBdd_PNG/20170707142124_1ZCHfhGr.png?type=f30_30\n",
      "https://auto.naver.com/company/main.nhn?mnfcoNo=18001&importYn=Y\n",
      "\n",
      "https://imgauto-phinf.pstatic.net/20200506_109/auto_1588724884664zxm0D_PNG/20200506092756_ZmDUrrQ5.png?type=f30_30\n",
      "https://auto.naver.com/company/main.nhn?mnfcoNo=138293&importYn=N\n",
      "\n",
      "https://imgauto-phinf.pstatic.net/20170707_203/auto_1499408172479pfXCm_PNG/20170707151609_5SLg7Ccm.png?type=f30_30\n",
      "https://auto.naver.com/company/main.nhn?mnfcoNo=49801&importYn=Y\n",
      "\n",
      "https://imgauto-phinf.pstatic.net/20200207_89/auto_1581062298298mDf5R_PNG/20200207165816_cpg005iI.png?type=f30_30\n",
      "https://auto.naver.com/company/main.nhn?mnfcoNo=55571&importYn=Y\n",
      "쿠오로스\n",
      "https://imgauto-phinf.pstatic.net/20200207_89/auto_1581062298298mDf5R_PNG/20200207165816_cpg005iI.png?type=f30_30\n",
      "https://auto.naver.com/company/main.nhn?mnfcoNo=55571&importYn=Y\n",
      "쿠프라\n",
      "https://imgauto-phinf.pstatic.net/20200716_253/auto_1594870288409Helod_PNG/20200716123120_lCLHGuIn.png?type=f30_30\n",
      "https://auto.naver.com/company/main.nhn?mnfcoNo=140349&importYn=Y\n",
      "타타\n",
      "https://imgauto-phinf.pstatic.net/20170707_165/auto_1499409219972GfEf7_PNG/20170707153337_ypgNVkjS.png?type=f30_30\n",
      "https://auto.naver.com/company/main.nhn?mnfcoNo=29988&importYn=Y\n",
      "파나르 르바소\n",
      "https://imgauto-phinf.pstatic.net/20170707_255/auto_1499408906940EhbHM_PNG/20170707152824_opUWeC4x.png?type=f30_30\n",
      "https://auto.naver.com/company/main.nhn?mnfcoNo=68669&importYn=Y\n",
      "패러데이 퓨처\n",
      "https://imgauto-phinf.pstatic.net/20200210_248/auto_15813089075977HJf1_PNG/20200210132826_i8membdE.png?type=f30_30\n",
      "https://auto.naver.com/company/main.nhn?mnfcoNo=68693&importYn=Y\n",
      "페로두아\n",
      "https://imgauto-phinf.pstatic.net/20200207_136/auto_1581062359494tIpCT_PNG/20200207165918_VjTRqeiZ.png?type=f30_30\n",
      "https://auto.naver.com/company/main.nhn?mnfcoNo=50823&importYn=Y\n",
      "포톤\n",
      "https://imgauto-phinf.pstatic.net/20200208_16/auto_1581173456036UXIlA_PNG/20200208235052_JEAGtGDd.png?type=f30_30\n",
      "https://auto.naver.com/company/main.nhn?mnfcoNo=60645&importYn=Y\n",
      "폴스타\n",
      "https://imgauto-phinf.pstatic.net/20200207_201/auto_1581061763900rF5JS_PNG/20200207164920_zr8qFFvD.png?type=f30_30\n",
      "https://auto.naver.com/company/main.nhn?mnfcoNo=129857&importYn=Y\n",
      "피닌파리나\n",
      "https://imgauto-phinf.pstatic.net/20200210_208/auto_1581308667478aNBMh_PNG/20200210132422_yEAMEysy.png?type=f30_30\n",
      "https://auto.naver.com/company/main.nhn?mnfcoNo=126821&importYn=Y\n",
      "허머\n",
      "https://imgauto-phinf.pstatic.net/20170707_94/auto_14994050320266mg45_PNG/20170707142350_qLeEljDY.png?type=f30_30\n",
      "https://auto.naver.com/company/main.nhn?mnfcoNo=3990&importYn=Y\n",
      "헤네시\n",
      "https://imgauto-phinf.pstatic.net/20170707_169/auto_1499407754688i03C0_PNG/20170707150913_Df3Tadx3.png?type=f30_30\n",
      "https://auto.naver.com/company/main.nhn?mnfcoNo=30039&importYn=Y\n",
      "홍치\n"
     ]
    },
    {
     "name": "stdout",
     "output_type": "stream",
     "text": [
      "https://imgauto-phinf.pstatic.net/20200208_292/auto_1581173567722Hvd35_PNG/20200208235243_SYFzO73h.png?type=f30_30\n",
      "https://auto.naver.com/company/main.nhn?mnfcoNo=63395&importYn=Y\n"
     ]
    }
   ],
   "source": [
    "# ex)01\n",
    "\n",
    "if isFlag == True :\n",
    "    for maker in makers :\n",
    "        brandname = maker.find_element_by_tag_name('span').text\n",
    "        print(brandname)\n",
    "        img = maker.find_element_by_tag_name('img').get_attribute('src')\n",
    "        print(img)\n",
    "        link = maker.find_element_by_tag_name('a').get_attribute('href')\n",
    "        print(link)\n",
    "        nextBtn.click()"
   ]
  },
  {
   "cell_type": "markdown",
   "metadata": {},
   "source": [
    "- mongoDB에 저장"
   ]
  },
  {
   "cell_type": "code",
   "execution_count": 104,
   "metadata": {},
   "outputs": [],
   "source": [
    "import pymongo as mongo\n",
    "\n",
    "conn = mongo.MongoClient()"
   ]
  },
  {
   "cell_type": "code",
   "execution_count": 105,
   "metadata": {},
   "outputs": [
    {
     "name": "stdout",
     "output_type": "stream",
     "text": [
      "Database(MongoClient(host=['localhost:27017'], document_class=dict, tz_aware=False, connect=True), 'carDB')\n"
     ]
    }
   ],
   "source": [
    "# create DB\n",
    "carDB = conn.carDB\n",
    "print(carDB)"
   ]
  },
  {
   "cell_type": "code",
   "execution_count": 106,
   "metadata": {},
   "outputs": [
    {
     "name": "stdout",
     "output_type": "stream",
     "text": [
      "Collection(Database(MongoClient(host=['localhost:27017'], document_class=dict, tz_aware=False, connect=True), 'carDB'), 'car')\n"
     ]
    }
   ],
   "source": [
    "# create collection\n",
    "carCollection = carDB['car']\n",
    "print(carCollection)"
   ]
  },
  {
   "cell_type": "code",
   "execution_count": 113,
   "metadata": {},
   "outputs": [
    {
     "data": {
      "text/plain": [
       "<pymongo.results.InsertManyResult at 0x24c47dd2100>"
      ]
     },
     "execution_count": 113,
     "metadata": {},
     "output_type": "execute_result"
    }
   ],
   "source": [
    "# insert collection\n",
    "carCollection.insert_many(car_data)"
   ]
  },
  {
   "cell_type": "code",
   "execution_count": 114,
   "metadata": {},
   "outputs": [
    {
     "data": {
      "text/plain": [
       "{'_id': ObjectId('6049a1972f450196a4bf45b7'),\n",
       " 'brand': '쿠오로스',\n",
       " 'img': 'https://imgauto-phinf.pstatic.net/20200207_89/auto_1581062298298mDf5R_PNG/20200207165816_cpg005iI.png?type=f30_30',\n",
       " 'link': 'https://auto.naver.com/company/main.nhn?mnfcoNo=55571&importYn=Y'}"
      ]
     },
     "execution_count": 114,
     "metadata": {},
     "output_type": "execute_result"
    }
   ],
   "source": [
    "# find document\n",
    "carCollection.find_one()"
   ]
  },
  {
   "cell_type": "markdown",
   "metadata": {},
   "source": [
    "### xpath\n",
    "- 절대경로를 이용한 노드 탐색\n",
    "- 노드선택(nodename, /, //, ., .., @(속성))\n",
    "- <div name='test'>\n",
    "- driver.find_element_by_xpath('//div[@name]') : 현재노드에서 name이란 속성\n",
    "- * : 매칭되는 모든 요소\n",
    "- @* : 매칭되는 모든 속성의 노드"
   ]
  },
  {
   "cell_type": "markdown",
   "metadata": {},
   "source": [
    "### 4. http://deal.11st.co.kr/html/nc/deal/main.html"
   ]
  },
  {
   "cell_type": "code",
   "execution_count": 129,
   "metadata": {},
   "outputs": [],
   "source": [
    "driver.get('http://deal.11st.co.kr/html/nc/deal/main.html')"
   ]
  },
  {
   "cell_type": "code",
   "execution_count": 137,
   "metadata": {
    "scrolled": true
   },
   "outputs": [
    {
     "data": {
      "text/plain": [
       "30"
      ]
     },
     "execution_count": 137,
     "metadata": {},
     "output_type": "execute_result"
    }
   ],
   "source": [
    "lis = driver.find_elements_by_css_selector('#emergencyPrd > div > ul > li')\n",
    "len(lis)"
   ]
  },
  {
   "cell_type": "code",
   "execution_count": 142,
   "metadata": {
    "scrolled": true
   },
   "outputs": [
    {
     "name": "stdout",
     "output_type": "stream",
     "text": [
      "[상담완료고객 스벅 커피쿠폰증정]아라봄 신차 장기렌터카 무보증 0원 비교견적/수입차전차종/국산차전차종/BMW/더뉴그랜져/팰리세이드/아반떼\n",
      "239,000\n",
      "[마니커F&G]바사삭치킨한마리 500g(2봉) + 바사삭순살치킨 400g/옛날통닭/너겟/통다리\n",
      "19,900\n",
      "시디즈 베스트셀러 탭/링고/아이블/T25/T40/T50\n",
      "149,900\n",
      "[프롬비기닝]~55% 3만원할인+1천원! 신상&인기업댓! 봄코디는 비기닝! 자켓/셔츠/팬츠/가디건/원피스\n",
      "16,200\n",
      "[25%쿠폰][헤지스/닥스ACC 외] 시즌 BEST 단독 특가 행사! 가방/지갑/잡화 모음전\n",
      "31,200\n",
      "삼성전자 그랑데 AI 올인원컨트롤 건조기+세탁기 세트 DV16T9720SW+WF21T9500KW\n",
      "2,079,000\n",
      "아우라 건조기용 드라이시트120매x2개+증정20매\n",
      "30,900\n",
      "[빈폴키즈][20%+5%더블쿠폰+무배] 신상의류 & 신학기 가방 득템찬스\n",
      "29,000\n",
      "[\"15+5%쿠폰\"]\n",
      "125,910\n",
      "[앤디애플]봄신상 BEST 모음/봄코디룩/등원룩/아동복/유아복/티셔츠/상하복/원피스/레깅스/스커트/점퍼\n",
      "8,800\n",
      "[풀무원] 월간 핫도그(올바른/모짜렐라/탱글뽀득/체다모짜)+[증] 하인즈케첩460g\n",
      "23,310\n",
      "[17%혜택+추가+상품권] 삼성 갤럭시워치3 41mm 45mm 블루투스 스마트워치 모음\n",
      "429,000\n",
      "[15%+10%+T11%] 아모레퍼시픽 놓칠수 없는 기회! 라네즈/아이오페/한율/마몽드 BEST 전국민세일~50%\n",
      "21,000\n",
      "코카콜라[본사직영] 코크제로 캔 355ml 24개\n",
      "18,310\n",
      "[60%쿠폰+22%T][슈나이더]봄맞이 남녀 인기패션 아이템 아우터 티셔츠 팬츠 바지 자켓 베스트 맨투맨\n",
      "11,800\n",
      "[15%+15%쿠폰][크록스본사]크록스 시즌 오픈! 신상 입고 십일절 최대 67%\n",
      "19,360\n",
      "[슈마커]30%+11%,아디다스/푸마 신상 슬라이드 운동화 뮬 백팩\n",
      "17,000\n",
      "갤럭시 탭 A7 64G\n",
      "214,000\n",
      "[에이블루] 커블체어 자세교정 좌식의자 2+1 EVENT\n",
      "46,900\n",
      "[조르지오 아르마니] 디자이너 리프트 파운데이션 세트 (+립 마에스트로 정품+컨실러 미니어처+기프트백)\n",
      "74,460\n",
      "[ALL STANDARD] ECO 무라벨 생수 2L / 500ML\n",
      "3,300\n",
      "[10%+33%+복수할인] 허니삭스 봄신상 페이크삭스/무지/캐릭터 패션양말 시즌 세일\n",
      "8,900\n",
      "[최종구매가362,400원] 삼성 오디세이 G5 C32G54T QHD 144Hz 1ms 게이밍모니터\n",
      "419,000\n",
      "[20%+10%]질레트 16입/10입 대용량 면도날+캠핑의자or면도기&미니거치대외 특별증정\n",
      "65,000\n",
      "[20%+10%]헤드앤숄더 BEST 대용량 모음전\n",
      "15,250\n",
      "3월 신데렐라 땡처리 아디다스 스니커즈 외 나이키 스포츠양말 인기 에어맥스 운동화 런닝화 신발\n",
      "10,000\n",
      "100%국산자재 참조은 KF94 마스크 화이트 블랙 소형 대형 100매- 식약처인증 미세먼지 어린이\n",
      "27,800\n",
      "[일룸] 링키 or 링키 스마트 책상 + 시디즈 링고 의자 / 정면 각도 조절 초등 학생 책상 의자 포함 세트\n",
      "319,000\n",
      "노스페이스 남녀 SS 신상&이월 베스트 의류모음 등산 자켓/반팔티/후드/팬츠/쇼츠 외\n",
      "20,000\n",
      "[선물하기 109.9만원+김치쿠폰증정] 21년형 딤채 스탠드 김치냉장고 SDT33EFRZDT (330L/3룸) 공식판매점\n",
      "1,129,000\n"
     ]
    }
   ],
   "source": [
    "for li in lis :\n",
    "    title = li.find_element_by_css_selector('div > a > div.prd_info > p > span.fs_16')\n",
    "    price = li.find_element_by_css_selector('div > a > div.prd_info > div > span.price_detail > strong')\n",
    "    print(title.text)\n",
    "    print(price.get_attribute('innerHTML'))"
   ]
  },
  {
   "cell_type": "code",
   "execution_count": 143,
   "metadata": {},
   "outputs": [
    {
     "data": {
      "text/plain": [
       "30"
      ]
     },
     "execution_count": 143,
     "metadata": {},
     "output_type": "execute_result"
    }
   ],
   "source": [
    "lis = driver.find_elements_by_xpath('//*[@id=\"emergencyPrd\"]/div/ul/li')\n",
    "len(lis)"
   ]
  },
  {
   "cell_type": "code",
   "execution_count": 149,
   "metadata": {},
   "outputs": [
    {
     "name": "stdout",
     "output_type": "stream",
     "text": [
      "[상담완료고객 스벅 커피쿠폰증정]아라봄 신차 장기렌터카 무보증 0원 비교견적/수입차전차종/국산차전차종/BMW/더뉴그랜져/팰리세이드/아반떼\n",
      "239,000\n",
      "[마니커F&G]바사삭치킨한마리 500g(2봉) + 바사삭순살치킨 400g/옛날통닭/너겟/통다리\n",
      "19,900\n"
     ]
    }
   ],
   "source": [
    "lis = driver.find_elements_by_xpath('//*[@id=\"emergencyPrd\"]/div/ul/li[position() <= 2]')\n",
    "\n",
    "for li in lis :\n",
    "    title = li.find_element_by_xpath('div/a/div[3]/p/span[2]')\n",
    "    price = li.find_element_by_xpath('div/a/div[3]/div/span/strong')\n",
    "    print(title.text)\n",
    "    print(price.text)"
   ]
  },
  {
   "cell_type": "markdown",
   "metadata": {},
   "source": [
    "### page 처리"
   ]
  },
  {
   "cell_type": "code",
   "execution_count": null,
   "metadata": {},
   "outputs": [],
   "source": []
  }
 ],
 "metadata": {
  "kernelspec": {
   "display_name": "Python 3",
   "language": "python",
   "name": "python3"
  },
  "language_info": {
   "codemirror_mode": {
    "name": "ipython",
    "version": 3
   },
   "file_extension": ".py",
   "mimetype": "text/x-python",
   "name": "python",
   "nbconvert_exporter": "python",
   "pygments_lexer": "ipython3",
   "version": "3.8.5"
  }
 },
 "nbformat": 4,
 "nbformat_minor": 4
}
